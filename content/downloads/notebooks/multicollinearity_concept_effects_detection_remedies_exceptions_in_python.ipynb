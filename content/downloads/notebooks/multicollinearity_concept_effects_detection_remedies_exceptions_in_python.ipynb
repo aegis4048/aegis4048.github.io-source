{
 "cells": [
  {
   "cell_type": "markdown",
   "metadata": {},
   "source": [
    "> In statistics, **multicollinearity** (also collinearity) is a phenomenon in which one predictor variable in a multiple regression model can be linearly predicted from the others with a substantial degree of accuracy. In this situation the coefficient estimates of the multiple regression may change erratically in response to small changes in the model or the data. Multicollinearity does not reduce the predictive power or reliability of the model as a whole, at least within the sample data set; it only affects calculations regarding individual predictors. That is, a multivariate regression model with collinear predictors can indicate how well the entire bundle of predictors predicts the outcome variable, but it may not give valid results about any individual predictor, or about which predictors are redundant with respect to others. - From <a href=\"https://en.wikipedia.org/wiki/Multicollinearity\" target=\"_blank\">Wikipedia</a>\n",
    "\n",
    "\n",
    "Data scientists love linear regression due to its high model interpretability. Unlike other complex machine learning models (ex: K-nearest neighbor, random forest, or neural net), the interpretation of model parameters is straightforward. Assume a linear regression model defined by  <span style=\"font-size: 90% !important\">$y = 110 x_1 + 50 x_2$</span>. Then, increasing <span style=\"font-size: 90% !important\">$x_1$</span> by 2 will increase <span style=\"font-size: 90% !important\">$y$</span> by 220, and increasing <span style=\"font-size: 90% !important\">$x_2$</span> by 3 will increase y by 150. However, it turns out to be not that simple under multicollinearity. \n",
    "\n",
    "Sometimes the values or signs (+/-) of linear regression coefficients have special meanings. This is the case when a linear regression model is based on a physics model. For illustration, I show <a href=\"#eq-1\">eq (1)</a>, the material balance equation (MBE) used in petroleum engineering to calculate the amount of oil and gas trapped in a geologic hydrocarbon reservoir (source: Eq 14. from this <a href=\"https://petrowiki.org/Material_balance_in_oil_reservoirs\" target=\"_blank\">petrowiki page</a>). \n",
    "\n",
    "<div id=\"eq-1\" style=\"font-size: 1rem;\">\n",
    "$$ F = G_{fgi}x_{1} + N_{foi}x_{2} + W_e \\tag{1}$$\n",
    "</div>\n",
    "\n",
    "<div class=\"eq-terms\">\n",
    "    <div class=\"row eq-terms-where\">where</div>\n",
    "    <div class=\"row\">\n",
    "        <div class=\"col-3\">$F$</div>\n",
    "        <div class=\"col-9\">: <i>\"Dependent Variable\"</i> total net fluid withdrawal or production</div>\n",
    "    </div>\n",
    "    <div class=\"row\">\n",
    "        <div class=\"col-3\">$x_{1}$</div>\n",
    "        <div class=\"col-9\">: <i>\"Independent Variable\"</i> composite gas expansivity</div>\n",
    "    </div>\n",
    "    <div class=\"row\">\n",
    "        <div class=\"col-3\">$x_{2}$</div>\n",
    "        <div class=\"col-9\">: <i>\"Independent Variable\"</i> composite oil expansivity</div>\n",
    "    </div>  \n",
    "    <div class=\"row\">\n",
    "        <div class=\"col-3\">$G_{fgi}$</div>\n",
    "        <div class=\"col-9\">: <i>\"Regression Coefficient\"</i> initial free gas</div>\n",
    "    </div>\n",
    "    <div class=\"row\">\n",
    "        <div class=\"col-3\">$N_{foi}$</div>\n",
    "        <div class=\"col-9\">: <i>\"Regression Coefficient\"</i> initial free oil</div>\n",
    "    </div>\n",
    "    <div class=\"row\">\n",
    "        <div class=\"col-3\">$W_{e}$</div>\n",
    "        <div class=\"col-9\">: <i>\"Intercept\"</i> cumulative water influx</div>\n",
    "    </div>\n",
    "</div>\n",
    "\n",
    "The individual value of the regression coefficients in <a href=\"#eq-1\">eq (1)</a> is important, because oil <span style=\"font-size: 90% !important\">$N_{foi}$</span> is more expensive than gas <span style=\"font-size: 90% !important\">$G_{fgi}$</span> in the market. Oil & gas companies make decisions about where to drill the next well based on economic projections made from the values of <span style=\"font-size: 90% !important\">$N_{foi}$</span> and <span style=\"font-size: 90% !important\">$G_{fgi}$</span>. However, sometimes the values of <span style=\"font-size: 90% !important\">$N_{foi}$</span> and <span style=\"font-size: 90% !important\">$G_{fgi}$</span> solved with a multiple linear regression model are unreliable due to multicollinearity. I numerically demonstrate this effect in <i>Section 4.1: Model instability with sampling</i> <a href=\"#\">below</a>.\n",
    "\n",
    "This post attempts to help your understanding of multicollinearity and introduce solutions in Python. All sections come with Python code snippets. "
   ]
  },
  {
   "cell_type": "markdown",
   "metadata": {},
   "source": [
    "<div id=\"toc_container\">\n",
    "    <p class=\"toc_title\">Contents</p>\n",
    "    <ul class=\"toc_list\">\n",
    "        <li><a href=\"#Sample data description\"><span class=\"toc_label\">0</span>Sample data description</a></li>\n",
    "        <li><a href=\"#Key takeaways\"><span class=\"toc_label\">1</span>Key takeaways</a></li>\n",
    "        <li><a href=\"#Concept\"><span class=\"toc_label\">2</span>Concept</a></li>\n",
    "        <li><a href=\"#Effects\"><span class=\"toc_label\">3</span>Effects</a></li>\n",
    "        <ul>\n",
    "            <li><a href=\"#Model instability with sampling\"><span class=\"toc_label\">3.1</span>Model instability with sampling</a></li>\n",
    "            <li><a href=\"#Overestimated standard errors\"><span class=\"toc_label\">3.2</span>Overestimated standard errors</a></li>\n",
    "            <li><a href=\"#Model instability with feature selection\"><span class=\"toc_label\">3.3</span>Model instability with feature selection</a></li>\n",
    "            <li><a href=\"#Value of regression coefficient is not equivalent to feature importance\"><span class=\"toc_label\">Notes:</span>Value of regression coefficient is not equivalent to feature importance</a></li>\n",
    "        </ul>\n",
    "        <li><a href=\"#Detection\"><span class=\"toc_label\">4</span>Detection</a></li>\n",
    "        <ul>\n",
    "            <li><a href=\"#Correlation matrix\"><span class=\"toc_label\">4.1</span>Correlation matrix</a></li>\n",
    "            <li><a href=\"#VIF score\"><span class=\"toc_label\">4.2</span>VIF score</a></li>\n",
    "            <li><a href=\"#Computing VIF score with statsmodel\"><span class=\"toc_label\">Pythonic Tip:</span>Computing VIF score with statsmodel</a></li>\n",
    "        </ul>\n",
    "        <li><a href=\"#Remedies\"><span class=\"toc_label\">5</span>Remedies</a></li>\n",
    "        <ul>\n",
    "            <li><a href=\"#Removal\"><span class=\"toc_label\">5.1</span>Removal</a></li>\n",
    "            <li><a href=\"#Principle component regression\"><span class=\"toc_label\">5.2</span>Principle component regression</a></li>\n",
    "            <li><a href=\"#Mean centering\"><span class=\"toc_label\">5.3</span>Mean centering</a></li>\n",
    "            <li><a href=\"#Mean centering\"><span class=\"toc_label\">5.4</span>Increase sample size</a></li>\n",
    "        </ul>\n",
    "        <li><a href=\"#Excuses for ignoring multicollinearity\"><span class=\"toc_label\">6</span>Exceptions</a></li>\n",
    "    </ul>\n",
    "</div>\n",
    "\n",
    "Width of confidence interval and sample size"
   ]
  },
  {
   "cell_type": "markdown",
   "metadata": {},
   "source": [
    "<div id=\"Sample data description\"></div>\n",
    "\n",
    "## 0. Sample data description\n",
    "\n",
    "We will generate synthetic linear data sets throughout this post. Note that I chose not to use real-life data, because it is difficult to demonstrate the instability of regression coefficients under multicollinearity; we do not know the <i>true</i> values of regression coefficients. With synthetic data, however, we can control the true values of regression coefficients and the degree of collinearity with <a href=\"#algorithm-1\">Algorithm 1</a>. \n",
    "\n",
    "Assume that we want to generate collinear data with three features described by the linear model:  <span style=\"font-size: 90% !important\">$y = 2 x_1 + 4 x_2 + 10 x_3$</span>. We can set the true values of regression coefficients with <code>true_coefs</code>:"
   ]
  },
  {
   "cell_type": "code",
   "execution_count": 1,
   "metadata": {},
   "outputs": [],
   "source": [
    "true_coefs = [2, 4, 10]               # true values of regression coefficiens"
   ]
  },
  {
   "cell_type": "markdown",
   "metadata": {},
   "source": [
    "<div style=\"margin-top: -20px\"></div>\n",
    "\n",
    "We can also control the degree of collinearity. If we want high collinearity, fill the diagonal elemens with <code>1</code>, and fill the non-diagonal elements of the positive semi-definite covariance matrix <code>cov</code> with values close to <code>1</code>:"
   ]
  },
  {
   "cell_type": "code",
   "execution_count": 23,
   "metadata": {},
   "outputs": [],
   "source": [
    "correlation = 0.95                    # HIGH COLLINEARITY\n",
    "cov = np.full((len(true_coefs), len(true_coefs)), correlation)\n",
    "np.fill_diagonal(cov, 1)"
   ]
  },
  {
   "cell_type": "code",
   "execution_count": 24,
   "metadata": {},
   "outputs": [
    {
     "data": {
      "text/plain": [
       "array([[1.  , 0.95, 0.95],\n",
       "       [0.95, 1.  , 0.95],\n",
       "       [0.95, 0.95, 1.  ]])"
      ]
     },
     "execution_count": 24,
     "metadata": {},
     "output_type": "execute_result"
    }
   ],
   "source": [
    "cov"
   ]
  },
  {
   "cell_type": "markdown",
   "metadata": {},
   "source": [
    "<div style=\"margin-top: -20px\"></div>\n",
    "\n",
    "If low collinearity is desired, fill the non-diagonal elements of <code>cov</code> with values close to 0:"
   ]
  },
  {
   "cell_type": "code",
   "execution_count": 25,
   "metadata": {},
   "outputs": [],
   "source": [
    "correlation = 0.01                    # LOW COLLINEARITY\n",
    "cov = np.full((len(true_coefs), len(true_coefs)), correlation)\n",
    "np.fill_diagonal(cov, 1)"
   ]
  },
  {
   "cell_type": "code",
   "execution_count": 26,
   "metadata": {},
   "outputs": [
    {
     "data": {
      "text/plain": [
       "array([[1.  , 0.01, 0.01],\n",
       "       [0.01, 1.  , 0.01],\n",
       "       [0.01, 0.01, 1.  ]])"
      ]
     },
     "execution_count": 26,
     "metadata": {},
     "output_type": "execute_result"
    }
   ],
   "source": [
    "cov"
   ]
  },
  {
   "cell_type": "markdown",
   "metadata": {},
   "source": [
    "<div style=\"margin-top: -20px\"></div>\n",
    "\n",
    "We generate collinear independent variables (features) with <a href=\"https://docs.scipy.org/doc/numpy-1.15.1/reference/generated/numpy.random.multivariate_normal.html\" target=\"_blank\">np.random.multivariate_normal</a>. The function takes <code>cov</code> as one of the argument, which makes it easy to generate collinear features. The below code snippet generates highly collinear data set of <code>n = 100</code> sampled from a linear model <span style=\"font-size: 90% !important\">$y = 2 x_1 + 4 x_2 + 10 x_3 + 2$</span> with Gaussian noise.\n",
    "\n",
    "<p id=\"algorithm-1\"><u>Algorithm 1: Random generation of highly collinear data</u></p>"
   ]
  },
  {
   "cell_type": "code",
   "execution_count": 2,
   "metadata": {},
   "outputs": [],
   "source": [
    "import numpy as np\n",
    "\n",
    "# settings \n",
    "n = 100                               # sample size\n",
    "true_coefs = [2, 4, 10]               # linear regression coefficients, 3 features\n",
    "true_intercept = 2                    # y-intercept\n",
    "feature_means = [5, 1, 12]            # means of gaussian features. This is not important\n",
    "correlation = 0.01                    # degree of collinearity (LOW)\n",
    "\n",
    "# positive semi-definite covariance matrix. \n",
    "cov = np.full((len(true_coefs), len(true_coefs)), correlation)\n",
    "np.fill_diagonal(cov, 1)\n",
    "\n",
    "# random generation of 3D gaussian collinear features. 100 x 3 numpy array\n",
    "X = np.random.multivariate_normal(mean=feature_means, cov=cov, size=n)\n",
    "\n",
    "# generate gaussian white noise. mean = 0, standard deviation = 2. 100 x 1 numpy array\n",
    "gaussian_noise = np.random.normal(loc=0, scale=2, size=n)\n",
    "\n",
    "# make the outcome. 100 x 1 numpy array\n",
    "y = true_intercept + true_coefs[0] * X[:, 0] + true_coefs[1] * X[:, 1] + true_coefs[2] * X[:, 2] + gaussian_noise"
   ]
  },
  {
   "cell_type": "markdown",
   "metadata": {},
   "source": [
    "<div id=\"Key takeaways\"></div>\n",
    "\n",
    "## 1. Key takeaways\n",
    "\n",
    "<div class=\"highlights\" id=\"key1\">\n",
    "    <div class=\"highlights-title\">1. Confidence interval quantifies uncertainty of statistical estimation</div>\n",
    "    <div class=\"highlights-content\">Confidence interval qunatifies the uncertainty related to a statistical estimation to mitigate the issue of <a href=\"#population_vs_samples\">Population vs. Samples</a>. It is always expressed in a range like — $\\text{C.I.}: \\quad \\bar{x} \\pm 3.43$ or $-51.4 < \\bar{x} < -43.2$</div>\n",
    "</div>\n",
    "\n",
    "<div class=\"highlights\" id=\"key2\">\n",
    "    <div class=\"highlights-title\">2. Confidence interval is the basis of parametric hypothesis tests</div>\n",
    "    <div class=\"highlights-content\">Confidence interval is the basis of parametric hypothesis tests. For example, <a href=\"https://www.investopedia.com/terms/t/t-test.asp\" target=\"_blank\">t-test</a> computes its p-value using the <a href=\"#conf_int_of_diff_in_mean\">confidence interval of difference in mean</a>. When samples follow a normal distribution, and therefore their centeral tendency can be described by their means, t-test can be used to conclude if two distributions are significantly different from each other. \n",
    "    </div>\n",
    "</div>"
   ]
  },
  {
   "cell_type": "markdown",
   "metadata": {},
   "source": [
    "<div id=\"Concept\"></div>\n",
    "\n",
    "## 2. Concept\n",
    "\n",
    "<a href=\"https://en.wikipedia.org/wiki/Multicollinearity\" target=\"_blank\">Wikipedia</a> has a good & concise definition of collinearity and multicollinearity. \n",
    "\n",
    "**Collinearity** is a linear association between two explanatory variables. Two variables are perfectly collinear if there is an exact linear relationship between them. For example, <span style=\"font-size: 90% !important\">$X_1$</span> and <span style=\"font-size: 90% !important\">$X_2$</span> are perfectly collinear if there exist parameters <span style=\"font-size: 90% !important\">$\\lambda_0$</span> and <span style=\"font-size: 90% !important\">$\\lambda_1$</span> such that, for all observations <span style=\"font-size: 90% !important\">$i$</span>, we have:\n",
    "\n",
    "<div id=\"eq-2\" style=\"font-size: 1rem;\">\n",
    "$$ X_{2i} = \\lambda_0 + \\lambda_1 X_{1i} \\tag{2}$$\n",
    "</div>\n",
    "\n",
    "**Multicollinearity** refers to a situation in which two or more explanatory variables in a multiple regression model are linearly related. A feature does not have to be directly linearly related to a response variable, if it affects an another feature that is linearly related to the response variable. For example in <a href=\"#fig-1\">figure (1-C)</a>, we see that although <span style=\"font-size: 90% !important\">$X_2$</span> is not related to <span style=\"font-size: 90% !important\">$Y$</span>, <span style=\"font-size: 90% !important\">$X_2$</span> is related to <span style=\"font-size: 90% !important\">$X_1$</span>, which in turn affects <span style=\"font-size: 90% !important\">$Y$</span>.\n",
    "\n",
    "<a href=\"eq-2\">Eq (2)</a> shows the case of perfect collinearity, in which the correlation between <span style=\"font-size: 90% !important\">$X_1$</span> and <span style=\"font-size: 90% !important\">$X_2$</span> is equal to 1 or -1. In practice, we rarely face perfect multicollinearity in a data set. More commonly, the issue of multicollinearity arises when there is an approximate linear relationship among two or more independent variables. For example in <a href=\"#fig-1\">figure (1-B)</a>, we see that most of the variability of the Venn diagram can be explained by just <span style=\"font-size: 90% !important\">$X_1$</span> and <span style=\"font-size: 90% !important\">$Y$</span>, and that we don't really need <span style=\"font-size: 90% !important\">$X_2$</span>, due to the high degree of multicollinearity between <span style=\"font-size: 90% !important\">$X_1$</span> and <span style=\"font-size: 90% !important\">$X_2$</span>, represented by the area of overlap (yellow color).\n",
    "\n",
    "<div id=\"fig-1\" class=\"row give-margin-inline-big-plot mobile_responsive_plot_full_width\" style=\"margin-top: 15px;\">\n",
    "    <div class=\"col\"><img src=\"jupyter_images/multicollinearity_venn_diagram.png\"></div>\n",
    "    <div class=\"col-12\"><p class=\"image-description\">Figure 1: Multicollinearity Venn diagram. Yellow regions represent the degree of multicollinearity between the independent variables <span style=\"font-size: 90% !important\">$X_1$</span> and <span style=\"font-size: 90% !important\">$X_2$</span></p></div>\n",
    "</div>"
   ]
  },
  {
   "cell_type": "markdown",
   "metadata": {},
   "source": [
    "<div><hr></div>\n",
    "\n",
    "Let's try to understand multicollinearity in greater detail with thought experiments. Consider the following two scenarios.\n",
    "\n",
    "**Scenario 1**\n",
    "\n",
    "As a microbiologist, you want to fix the number of bacteria A growing in a petri dish to be <span style=\"font-size: 90% !important\">$Y = 10,000$</span>. The number of bacteria A is a function of temperature and the amount of toxic chemical, described by the following linear model:\n",
    "\n",
    "<div id=\"eq-3\" style=\"font-size: 1rem;\">\n",
    "$$ Y = \\beta_1 \\cdot \\text{temperature} - \\beta_2 \\cdot \\text{toxic chemical} + \\beta_0 \\tag{3}$$\n",
    "</div>\n",
    "\n",
    "Based on this linear model, you can make an informed decision about how to manipulate the features (temperature and the amount of toxic chemicals) to control the number of bacteria in the petri dish. \n",
    "\n",
    "With <a href=\"eq-3\">eq (3)</a>, you have full control of the number of bacteria, because the impact of each features is understood by their respective regression coefficients (<span style=\"font-size: 90% !important\">$\\beta_1$</span> for temperature, and <span style=\"font-size: 90% !important\">$\\beta_2$</span> for toxic chemicals), and the features are independent (no multicollinearity). In the other words, temperature does not affect the amount of toxic chemicals, and vice versa."
   ]
  },
  {
   "cell_type": "markdown",
   "metadata": {},
   "source": [
    "**Scenario 2**\n",
    "\n",
    "Now, let’s assume a scenario in which the features are not independent from each other. You are growing bacteria A and bacteria B together in the same petri dish, and want to fix the number of bacteria A to be <span style=\"font-size: 90% !important\">$Y = 10,000$</span>. The following information is known:\n",
    "\n",
    "<ol class=\"rounded-list\" style=\"margin-bottom: 40px !important; margin-top: 40px! important;\">\n",
    "    <li><p>Bacteria B preys on bacteria A.</p></li>\n",
    "    <li><p>Temperature increases the number of the both bacteria groups.</p></li>\n",
    "    <li><p>Each bacteria group emits different amount of methane. Methane traps heat, and increases temperature.</p></li>\n",
    "    <li><p>Toxic chemical negatively affects bacteria A. The impact of the toxic chemical on bacteria B is unknown.</p></li>\n",
    "</ol>\n",
    "\n",
    "The number of bacteria A is a function of temperature, the amount of toxic chemical, and the number of bacteria B, described by the following linear model:\n",
    "\n",
    "<div id=\"eq-4\" style=\"font-size: 1rem;\">\n",
    "$$ Y = \\beta_1 \\cdot \\text{temperature} - \\beta_2 \\cdot \\text{toxic chemical} -\\beta_3 \\cdot \\text{bacteria B} + \\beta_0 \\tag{4}$$\n",
    "</div>\n",
    "\n",
    "It is difficult to make an informed decision about how to manipulate the features to get the target number <span style=\"font-size: 90% !important\">$Y = 10,000$</span>, because the features are correlated with one another. For example, increased temperature results in increased number of bacteria A, but it also results in increased number of bacteria B which in turn decreases the number of bacteria A. On the other hand, increasing the number of bacteria B decreases the number of bacteria A, but it affects the total amount of methane emitted, which in turn affects temperature. \n",
    "\n",
    "Furthermore, we do not understand the net impact of the toxic chemical, since its relationship with the number of bacteria B is unknown. This blackbox relationship among features is quite common in real-life applications, which makes it difficult to understand the impact of individual regression coefficients on the response variable."
   ]
  },
  {
   "cell_type": "markdown",
   "metadata": {},
   "source": [
    "<div><hr></div>\n",
    "\n",
    "The situation in which features are correlated with one another is called multicollinearity. Under multicollinearity, the impact of individual regression coefficients on a response variable is obfuscated, and the values of the individual regression coefficiens are unreliable. I demonstrate the effects of multicollinearity in Python in <i>Section 4: Effects</i> <a href=\"#\">below</a>.\n",
    "\n",
    "<div class=\"highlights red-theme\" id=\"prediction-power-warning\">\n",
    "    <div class=\"highlights-title red-theme\">WARNING!</div>\n",
    "    <div class=\"highlights-content red-theme\"><b>Multicollinearity does not reduce the predictive power or reliability of the model as a whole.</b> That is, a multiple regression model with collinear features can indicate how well the entire bundle of features predicts the response variable, but it may not give valid results for individual features in which the features are somewhat redundant with each other. Multicollinearity is an issue only for problems in which the values of regression coefficients have special meanings. If predicting the response varialbe is your only interest, you can safely ignore multicollinearity. I discuss more situations in which you can ignore multicollinearity <a href=\"#\">below</a>.\n",
    "    </div>\n",
    "</div>"
   ]
  },
  {
   "cell_type": "markdown",
   "metadata": {},
   "source": [
    "<div id=\"Effects\"></div>\n",
    "\n",
    "## 3. Effects\n",
    "\n",
    "This section discusses & demonstrates the effects of multicollinearity in Python.\n",
    "\n",
    "<ol class=\"rounded-list\" style=\"margin-top: 20px! important;\">\n",
    "    <li><p><a href=\"#Model instability with sampling\">Model instability with sampling</a></p></li>\n",
    "    <li><p><a href=\"#Overestimated standard errors\">Overestimated standard errors</a></p></li>\n",
    "    <li><p><a href=\"#Model instability with feature selection\">Model instability with feature selection</a></p></li>\n",
    "</ol>"
   ]
  },
  {
   "cell_type": "markdown",
   "metadata": {},
   "source": [
    "<div id=\"Model instability with sampling\"></div>\n",
    "\n",
    "### 3.1. Model instability with sampling\n",
    "\n",
    "Under multicollinearity, the regression coefficients of features change erratically in response to small changes in the sample data. Assume that you trained the following linear regression model with your current data set:\n",
    "    \n",
    "<div id=\"eq-5\" style=\"font-size: 1rem;\">\n",
    "$$ y = 11.7 x_1 - 0.47 x_2 + 540 \\tag{5}$$\n",
    "</div>\n",
    "\n",
    "You obtain a few additional samples and re-train your regression model. This time, you observe drastic change in the values of the individual regression coefficient:\n",
    "\n",
    "<div id=\"eq-6\" style=\"font-size: 1rem;\">\n",
    "$$ y = 14.1 x_1 + 0.74 x_2 + 231 \\tag{6}$$\n",
    "</div>\n",
    "\n",
    "The change was so drastic that the sign of the coefficient for <span style=\"font-size: 90% !important\">$x_2$</span> changed from negative (-) to positive (+). This is unacceptable if you wish to know whether a particular feature negatively or positively affects a response variable by the sign of its coefficient. I show how multicollinearity causes such instability in regression coefficients with sampling through a Python simulation. \n",
    "\n",
    "For the simulation, we fit many multiple linear regression models with 2 features and an intercept. We generate synthetic data set with the procedures described in <i>Section 0. Sample data description</i> <a href=\"#Sample data description\">above</a>, for both low and high multicollinearity populations. We set <code>true_coefs = [13, 0.5]</code> and <code>true_intercept = 2</code>, and add Gaussian noise to the model. For each model, we use <code>n = 100</code> data points to fit coefficients and an intercept. We fit <code>m = 2000</code> different models. This essentially mimicks drawing samples from a population described by the true model   <span style=\"font-size: 90% !important\">$y = 13 x_1 + 0.5 x_2 + 2$</span> with Gaussian noise. This is a type of <a href=\"https://aegis4048.github.io/comprehensive_confidence_intervals_for_python_developers#monte-carlo\" target=\"_blank\">Monte-Carlo method</a>, in which the simulation relies on repeated generation of random numbers to investigate some characteristic of a statistic which is hard to derive analytically.\n",
    "\n",
    "The result is shown in <a href=\"#fig-2\">figure (2)</a>. Note that the population with low multicollinearity forms a tight circular cluster of regression coefficiens around the true coefficient values <code>true_coefs = [13, 0.5]</code>, whereas the population with high multicollinearity shows greater variance, represented by its wider elliptical cluster. You can see that the values of coefficient for <span style=\"font-size: 90% !important\">$x_2$</span> ranges between -1.5 to 2. This explains the sign change of the regression coefficient for <span style=\"font-size: 90% !important\">$x_2$</span> between <a href=\"#eq-5\">eq (5)</a> and <a href=\"#eq-6\">eq (6)</a>.\n",
    "\n",
    "<div id=\"fig-2\" class=\"row give-margin-inline-big-plot mobile_responsive_plot_full_width\" style=\"margin-top: 15px;\">\n",
    "    <div class=\"col\"><img src=\"jupyter_images/multicollinearity_sampling_instability.png\"></div>\n",
    "    <div class=\"col-12\"><p class=\"image-description\">Figure 2: Model instability due to multicollinearity</p></div>\n",
    "</div>"
   ]
  },
  {
   "cell_type": "markdown",
   "metadata": {},
   "source": [
    "<div class=\"solution_panel closed\">\n",
    "    <div class=\"solution_title\">\n",
    "        <p class=\"solution_title_string\">Source Code For Figure (2)</p>\n",
    "        <ul class=\"nav navbar-right panel_toolbox\">\n",
    "            <li><a class=\"collapse-link\"><i class=\"fa fa-chevron-down\"></i></a></li>\n",
    "        </ul>\n",
    "    <div class=\"clearfix\"></div>\n",
    "    </div>\n",
    "    <div class=\"solution_content\">\n",
    "        <pre>\n",
    "            <code class=\"language-python\">\n",
    "                import numpy as np\n",
    "                from sklearn import linear_model\n",
    "                import matplotlib.pyplot as plt\n",
    "\n",
    "                def generate_collinear_data(cov, n=10, true_coefs=[0, 0], true_intercept=0, feature_means=[0, 0, 0], loc=0, scale=1):\n",
    "\n",
    "                    # random generation of 3D gaussian collinear features.\n",
    "                    X = np.random.multivariate_normal(mean=feature_means, cov=cov, size=n)\n",
    "\n",
    "                    # generate gaussian white noise.\n",
    "                    gaussian_noise = np.random.normal(loc=loc, scale=scale, size=n)\n",
    "\n",
    "                    # make the outcome.\n",
    "                    y = true_intercept + gaussian_noise\n",
    "                    for i in range(len(true_coefs)):\n",
    "                        y += true_coefs[i] * X[:, i]\n",
    "\n",
    "                    return X, y\n",
    "\n",
    "                # settings\n",
    "                m = 2000                                 # number of simulations\n",
    "                correlation_lo = 0.01                    # degree of collinearity (LOW)\n",
    "                correlation_hi = 0.98                    # degree of collinearity (HIGH)\n",
    "\n",
    "                kwargs = {\n",
    "                    'n': 100,                            # sample size\n",
    "                    'true_coefs': [13, 0.5],             # linear regression coefficients, 2 features\n",
    "                    'true_intercept': 2,                 # y-intercept\n",
    "                    'feature_means': [0, 0],             # means multivariate normal distribution. This is not important\n",
    "                    'loc': 0,                            # mean of gaussian noise\n",
    "                    'scale': 1                           # standard deviation of gaussian noise\n",
    "                }\n",
    "\n",
    "                # high collinearity covariance matrix\n",
    "                cov_hi = np.full((len(kwargs['true_coefs']), len(kwargs['true_coefs'])), correlation_hi)\n",
    "                np.fill_diagonal(cov_hi, 1)\n",
    "\n",
    "                # low collinearity covariance matrix\n",
    "                cov_lo = np.full((len(kwargs['true_coefs']), len(kwargs['true_coefs'])), correlation_lo)\n",
    "                np.fill_diagonal(cov_lo, 1)\n",
    "\n",
    "                # simulation\n",
    "                model_hi_col_coefs = []\n",
    "                model_lo_col_coefs = []\n",
    "                for i in range(m):\n",
    "\n",
    "                    X_hi, y_hi = generate_collinear_data(cov_hi, **kwargs)\n",
    "                    ols_hi = linear_model.LinearRegression()\n",
    "                    model_hi = ols_hi.fit(X_hi, y_hi)\n",
    "                    model_hi_col_coefs.append(model_hi.coef_)\n",
    "\n",
    "                    X_lo, y_lo = generate_collinear_data(cov_lo, **kwargs)\n",
    "                    ols_lo = linear_model.LinearRegression()\n",
    "                    model_lo = ols_lo.fit(X_lo, y_lo)\n",
    "                    model_lo_col_coefs.append(model_lo.coef_)\n",
    "\n",
    "                # list to numpy array conversion\n",
    "                model_hi_col_coefs = np.array(model_hi_col_coefs)\n",
    "                model_lo_col_coefs = np.array(model_lo_col_coefs)\n",
    "\n",
    "                # plotting\n",
    "                plt.style.use('default')\n",
    "                plt.style.use('ggplot')\n",
    "\n",
    "                fig, ax = plt.subplots(figsize=(8, 4.5))\n",
    "\n",
    "                ax.scatter(model_hi_col_coefs[:, 0], model_hi_col_coefs[:, 1], s=10, label='High multicollinearity',\n",
    "                           edgecolor='red', facecolor='firebrick', alpha=0.7)\n",
    "                ax.scatter(model_lo_col_coefs[:, 0], model_lo_col_coefs[:, 1], s=10, label='Low multicollinearity',\n",
    "                           edgecolor='dimgrey', facecolor='k', alpha=0.7)\n",
    "\n",
    "                ax.set_xlim(10.5, 15.5)\n",
    "                ax.set_ylim(-2, 3)\n",
    "                ax.set_xlabel('$x_1$ coefficient values', fontsize=16)\n",
    "                ax.set_ylabel('$x_2$ coefficient values', fontsize=16)\n",
    "                ax.set_title('Model instability due to multicollinearity', fontsize=20)\n",
    "                ax.legend(facecolor='white', fontsize=11)\n",
    "                ax.text(0.2, 0.1, 'aegis4048.github.io', fontsize=13, ha='center', va='center',\n",
    "                         transform=ax.transAxes, color='grey', alpha=0.5)\n",
    "\n",
    "                fig.tight_layout()\n",
    "            </code>\n",
    "        </pre>\n",
    "    </div>\n",
    "</div>"
   ]
  },
  {
   "cell_type": "markdown",
   "metadata": {},
   "source": [
    "The above scatter plot shows the effect of multicollinearity for linear models with two features. How does multicollinearity affect regression coefficients when there are more than two features? In <a href=\"fig-3\">figure (3)</a>, I simulated 10,000 linear models with five features and an intercept: <code>'true_coefs': [13, 0.5, 5, -1, -24]</code>, and <code>'true_intercept': 2</code>. Similar to <a href=\"fig-2\">figure (2)</a>, linear models trained from low multicollinearity population showed narrower range of coefficients than those of high multicollinearity population. Note that multicollinearity does not affect the range of intercepts.\n",
    "\n",
    "<div id=\"fig-3\" class=\"row\" style=\"margin-top: 15px;\">\n",
    "    <div class=\"col\"><img src=\"jupyter_images/multicollinearity_range_of_coefficients_low_vs_high.png\"></div>\n",
    "    <div class=\"col-12\"><p class=\"image-description\">Figure 3: Model instability due to multicollinearity, 5 features.</p></div>\n",
    "</div>"
   ]
  },
  {
   "cell_type": "markdown",
   "metadata": {},
   "source": [
    "<div class=\"solution_panel closed\">\n",
    "    <div class=\"solution_title\">\n",
    "        <p class=\"solution_title_string\">Source Code For Figure (3)</p>\n",
    "        <ul class=\"nav navbar-right panel_toolbox\">\n",
    "            <li><a class=\"collapse-link\"><i class=\"fa fa-chevron-down\"></i></a></li>\n",
    "        </ul>\n",
    "    <div class=\"clearfix\"></div>\n",
    "    </div>\n",
    "    <div class=\"solution_content\">\n",
    "        <pre>\n",
    "            <code class=\"language-python\">\n",
    "                import numpy as np\n",
    "                import statsmodels.api as sm\n",
    "                import matplotlib.pyplot as plt\n",
    "\n",
    "                def generate_collinear_data(cov, n=10, true_coefs=[0, 0], true_intercept=0, feature_means=[0, 0, 0], loc=0, scale=1):\n",
    "\n",
    "                    # random generation of 3D gaussian collinear features.\n",
    "                    X = np.random.multivariate_normal(mean=feature_means, cov=cov, size=n)\n",
    "\n",
    "                    # generate gaussian white noise.\n",
    "                    gaussian_noise = np.random.normal(loc=loc, scale=scale, size=n)\n",
    "\n",
    "                    # make the outcome.\n",
    "                    y = true_intercept + gaussian_noise\n",
    "                    for i in range(len(true_coefs)):\n",
    "                        y += true_coefs[i] * X[:, i]\n",
    "\n",
    "                    return X, y\n",
    "\n",
    "                # settings\n",
    "                m = 10000                                   # number of simulations\n",
    "                correlation_lo = 0.01                       # degree of collinearity (LOW)\n",
    "                correlation_hi = 0.98                       # degree of collinearity (HIGH)\n",
    "\n",
    "                kwargs = {\n",
    "                    'n': 100,                               # sample size\n",
    "                    'true_coefs': [13, 0.5, 5, -1, -24],    # linear regression coefficients, 2 features\n",
    "                    'true_intercept': 2,                    # y-intercept\n",
    "                    'feature_means': [0, 0, 0, 0, 0],       # means multivariate normal distribution. This is not important\n",
    "                    'loc': 0,                               # mean of gaussian noise\n",
    "                    'scale': 1                              # standard deviation of gaussian noise\n",
    "                }\n",
    "\n",
    "                # high collinearity covariance matrix\n",
    "                cov_hi = np.full((len(kwargs['true_coefs']), len(kwargs['true_coefs'])), correlation_hi)\n",
    "                np.fill_diagonal(cov_hi, 1)\n",
    "\n",
    "                # low collinearity covariance matrix\n",
    "                cov_lo = np.full((len(kwargs['true_coefs']), len(kwargs['true_coefs'])), correlation_lo)\n",
    "                np.fill_diagonal(cov_lo, 1)\n",
    "\n",
    "                # simulation\n",
    "                hi_col_params = []\n",
    "                lo_col_params = []\n",
    "                for i in range(m):\n",
    "\n",
    "                    # high collinearity data\n",
    "                    X_hi, y_hi = generate_collinear_data(cov_hi, **kwargs)\n",
    "                    X_st_hi = sm.add_constant(X_hi)\n",
    "                    model_hi = sm.OLS(y_hi, X_st_hi).fit()\n",
    "                    hi_col_params.append(model_hi.params)                       \n",
    "\n",
    "                    # low collinearity data\n",
    "                    X_lo, y_lo = generate_collinear_data(cov_lo, **kwargs)\n",
    "                    X_st_lo = sm.add_constant(X_lo)\n",
    "                    model_lo = sm.OLS(y_lo, X_st_lo).fit()\n",
    "                    lo_col_params.append(model_lo.params)                               \n",
    "\n",
    "                # list to numpy conversion\n",
    "                hi_col_params = np.asarray(hi_col_params)\n",
    "                lo_col_params = np.asarray(lo_col_params)\n",
    "\n",
    "                # plotting\n",
    "                def styling(ax):\n",
    "                    #ax.set_title('Convergence of 95% Bootstrap C.I. with increasing Monte-Carlo iterations', fontsize=15)\n",
    "                    #ax.set_ylabel('Sample mean', fontsize=15)\n",
    "                    #ax.set_xlabel('# of bootstrap samples (Monte-Carlo iterations)', fontsize=15)\n",
    "                    ax.set_facecolor('#eeeeee')\n",
    "                    ax.grid(True, linestyle='--', color='#acacac')\n",
    "                    ax.tick_params(color='grey')\n",
    "                    _ = [spine.set_edgecolor('grey') for spine in ax.spines.values()]\n",
    "                    ax.text(0.5, 0.1, 'aegis4048.github.io', fontsize=12, ha='center', va='center',\n",
    "                            transform=ax.transAxes, color='grey', alpha=0.5)\n",
    "                    ax.set_xticklabels(['High', 'Low'], fontsize=15)\n",
    "\n",
    "                boxplot_styling = {\n",
    "                    'sym': '',\n",
    "                    'whis': [2.5, 97.5],\n",
    "                    'showfliers': False,\n",
    "                    'boxprops': dict(linewidth=2.0, color='#4e98c3'),\n",
    "                    'whiskerprops': dict(linewidth=2.0, color='#4e98c3', linestyle='--'), \n",
    "                    'vert': True,\n",
    "                    'capprops': dict(linewidth=2.0, color='k'),\n",
    "                    'medianprops': dict(linewidth=2.0, color='#ad203e'),\n",
    "                    'widths': (0.4, 0.4)\n",
    "                }\n",
    "\n",
    "                labels = ['Intercept', '$X_1$', '$X_2$', '$X_3$', '$X_4$', '$X_5$']\n",
    "\n",
    "                fig, axes = plt.subplots(1, len(labels), figsize=(16, 6))\n",
    "\n",
    "                for i, (ax, label) in enumerate(zip(axes, labels)):\n",
    "                    ax.boxplot([list(hi_col_params[:, i]), list(lo_col_params[:, i])], **boxplot_styling)\n",
    "                    styling(ax)\n",
    "                    ax.set_title(label, fontsize=20, y=-0.2)\n",
    "\n",
    "                fig.tight_layout(rect=[0, 0.05, 1, 0.91])\n",
    "                fig.suptitle('Range of coefficients with low & high multicollinearity - 10,000 simulations', fontsize=25);\n",
    "            </code>\n",
    "        </pre>\n",
    "    </div>\n",
    "</div>"
   ]
  },
  {
   "cell_type": "markdown",
   "metadata": {},
   "source": [
    "<div id=\"Overestimated standard errors\"></div>\n",
    "\n",
    "### 3.2. Overestimated standard errors\n",
    "\n",
    "(Notes: As of 12/19/2019, there is a version conflict between Scipy and Statsmodel. You need Scipy version 1.2 or below to use Statsmodel. Refer to this <a href=\"https://stackoverflow.com/questions/56283294/importerror-cannot-import-name-factorial\" target=\"_blank\">stackoverflow thread.</a>)\n",
    "\n",
    "In this section, I demonstrate the the unreliability of linear regression analysis report due to multicollinearity by comparing the analytical solutions of the report, and the actual parameter values obtained with numerical simulations.\n",
    "\n",
    "Throughout your study of multiple linear regression, you have probably encountered the linear regression analysis report that looks like <a href=\"#fig-4\">figure (4)</a>, which is generated with <a href=\"https://www.statsmodels.org/stable/regression.html\" target=\"_blank\">statsmodels</a> Python library (the figure is generated with the same simulation settings of <a href=\"#fig-3\">figure (3)</a>'s high multicollinearity data). The problem is that multicollinearity makes this report unreliable, especially with the standard errors of the individual regression coefficients. Note that this is not the problem of statsmodels library, but the inherent statistical problem caused by multicollinearity. Problems with standard errors sequentially cause problems with the t-statistic <code>t</code>, p-value <code>P>|t|</code>, and 95% confidence interval <code>[0.025   0.975]</code> of the regression coefficients. This is because standard error is used to compute a confidence interval, and confidence interval is closely related to hypothesis testing, which involves t-statistic and p-value (if you are curious about the relationship between confidence interval and hypothesis testing, check <i>Section 4.2: Confidence interval of difference in mean</i> of my <a href=\"https://aegis4048.github.io/comprehensive_confidence_intervals_for_python_developers#4.2.-Confidence-interval-of-difference-in-mean\" target=\"_blank\">previous post</a>). \n",
    "\n",
    "Note that the overestimated standard errors affect the significance test and confidence intervals of coefficients, but do not affect the coefficients themselves. However, recall that the coefficients are already unstable due to multicollinearity, as explained in <i>Section 3.1: Model instability with sampling</i> <a href=\"#Model instability with sampling\">above</a>. So now you have two sources of pain; not only you can't trust the values of the coefficient themselves, but also their significance test results and confidence intervals. \n",
    "\n",
    "<div id=\"fig-4\" class=\"row give-margin-inline-big-plot mobile_responsive_plot_full_width\" style=\"margin-top: 15px;\">\n",
    "    <div class=\"col\"><img src=\"jupyter_images/multicollinearity_statsmodel_report_unreliable.png\"></div>\n",
    "    <div class=\"col-12\"><p class=\"image-description\">Figure 4: Linear regression analysis becomes unreliable with multicollinearity.</p></div>\n",
    "</div>"
   ]
  },
  {
   "cell_type": "markdown",
   "metadata": {},
   "source": [
    "<div class=\"solution_panel closed\">\n",
    "    <div class=\"solution_title\">\n",
    "        <p class=\"solution_title_string\">Source Code For Figure (4)</p>\n",
    "        <ul class=\"nav navbar-right panel_toolbox\">\n",
    "            <li><a class=\"collapse-link\"><i class=\"fa fa-chevron-down\"></i></a></li>\n",
    "        </ul>\n",
    "    <div class=\"clearfix\"></div>\n",
    "    </div>\n",
    "    <div class=\"solution_content\">\n",
    "        <pre>\n",
    "            <code class=\"language-python\">\n",
    "                import numpy as np\n",
    "                import statsmodels.api as sm\n",
    "                import matplotlib.pyplot as plt\n",
    "\n",
    "                def generate_collinear_data(cov, n=10, true_coefs=[0, 0], true_intercept=0, feature_means=[0, 0, 0], loc=0, scale=1):\n",
    "\n",
    "                    # random generation of 3D gaussian collinear features.\n",
    "                    X = np.random.multivariate_normal(mean=feature_means, cov=cov, size=n)\n",
    "\n",
    "                    # generate gaussian white noise.\n",
    "                    gaussian_noise = np.random.normal(loc=loc, scale=scale, size=n)\n",
    "\n",
    "                    # make the outcome.\n",
    "                    y = true_intercept + gaussian_noise\n",
    "                    for i in range(len(true_coefs)):\n",
    "                        y += true_coefs[i] * X[:, i]\n",
    "\n",
    "                    return X, y\n",
    "\n",
    "                # settings\n",
    "                m = 10000                                   # number of simulations\n",
    "                correlation_hi = 0.98                       # degree of collinearity (HIGH)\n",
    "\n",
    "                kwargs = {\n",
    "                    'n': 100,                               # sample size\n",
    "                    'true_coefs': [13, 0.5, 5, -1, -24],    # linear regression coefficients, 2 features\n",
    "                    'true_intercept': 2,                    # y-intercept\n",
    "                    'feature_means': [0, 0, 0, 0, 0],       # means multivariate normal distribution. This is not important\n",
    "                    'loc': 0,                               # mean of gaussian noise\n",
    "                    'scale': 1                              # standard deviation of gaussian noise\n",
    "                }\n",
    "\n",
    "                # high collinearity covariance matrix\n",
    "                cov_hi = np.full((len(kwargs['true_coefs']), len(kwargs['true_coefs'])), correlation_hi)\n",
    "                np.fill_diagonal(cov_hi, 1)\n",
    "\n",
    "                X, y = generate_collinear_data(cov_hi, **kwargs)\n",
    "                X_st = sm.add_constant(X)\n",
    "                model = sm.OLS(y, X_st).fit()                     \n",
    "\n",
    "                print(model.summary())\n",
    "            </code>\n",
    "        </pre>\n",
    "    </div>\n",
    "</div>"
   ]
  },
  {
   "cell_type": "markdown",
   "metadata": {},
   "source": [
    "Let's try to understand this with numerical simulations. The idea of using numerical simulations is based on the Law of Large Numbers (LLM): the result of performing the same experiment a large number of times will converge to a single value. That is, we should be able to obtain the true confidence interval of the linear regression coefficients for high multicollinearity data. Recall that this is impossible with analytical solutions reported by linear regression analysis result shown in <a href=\"#fig-4\">figure (4)</a> due to multicollinearity. \n",
    "\n",
    "I generated 100,000 high multicollinearity data sets with the procedures described in <i>Section 0. Sample data description</i> <a href=\"#Sample data description\">above</a>, with five features and an intercept: <code>'true_coefs': [13, 0.5, 5, -1, -24]</code>, and <code>'true_intercept': 2</code>. Then, I trained 100,000 different linear models. In <a href=\"#fig-5\">figure (5)</a>, we observe that the 50th percentiles of the analytical C.I. are always off from the true value, where as those of the numerical C.I. correctly guess the true value. These offsets are consistent with the effects of multicollinearity I discussed in <i>Section 3.1: Model instability with sampling</i> <a href=\"#Model instability with sampling\">above</a>.\n",
    "\n",
    "According to LLM, we know that the C.I. of numerical solution must be true, and that anything not consistent with the numerical C.I. is wrong. In <a href=\"#fig-6\">figure (6)</a>, we observe that the widths of the analytical C.I. are wider than those of the numerical C.I. This is because multicollinearity increases the analytically computed standard errors, which in turn increases the widths of the C.I. But to be fair, the issues with the overestimated standard error is not that big of a deal; it only adds a small problem, on the top of the big problem, which is the actual offset of the coefficients. Furthermore, sometimes the analytical C.I. of high multicollinearity data is narrower than its true confidence interval, which is the case for the feature $X_1$. While it is <i>generally</i> the case that multicollinearity widens the confidence interval, its not always the case.\n",
    "\n",
    "<div id=\"fig-5\" class=\"row\" style=\"margin-top: 15px;\">\n",
    "    <div class=\"col\"><img src=\"jupyter_images/multicollinearity_std_err_errorbar.png\"></div>\n",
    "    <div class=\"col-12\"><p class=\"image-description\">Figure 5: Unstable model parameters due to high multicollinearity</p></div>\n",
    "</div>\n",
    "\n",
    "<div id=\"fig-6\" class=\"row\" style=\"margin-top: 15px;\">\n",
    "    <div class=\"col\"><img src=\"jupyter_images/multicollinearity_std_err_barchart.png\"></div>\n",
    "    <div class=\"col-12\"><p class=\"image-description\">Figure 6: Overestimated confidence intervals due to high multicollinearity</p></div>\n",
    "</div>"
   ]
  },
  {
   "cell_type": "markdown",
   "metadata": {},
   "source": [
    "<div class=\"solution_panel closed\">\n",
    "    <div class=\"solution_title\">\n",
    "        <p class=\"solution_title_string\">Source Code For Figure (5) and (6)</p>\n",
    "        <ul class=\"nav navbar-right panel_toolbox\">\n",
    "            <li><a class=\"collapse-link\"><i class=\"fa fa-chevron-down\"></i></a></li>\n",
    "        </ul>\n",
    "    <div class=\"clearfix\"></div>\n",
    "    </div>\n",
    "    <div class=\"solution_content\">\n",
    "        <pre>\n",
    "            <code class=\"language-python\">\n",
    "                import numpy as np\n",
    "                import statsmodels.api as sm\n",
    "                import matplotlib.pyplot as plt\n",
    "\n",
    "                def generate_collinear_data(cov, n=10, true_coefs=[0, 0], true_intercept=0, feature_means=[0, 0, 0], loc=0, scale=1):\n",
    "\n",
    "                    # random generation of 3D gaussian collinear features.\n",
    "                    X = np.random.multivariate_normal(mean=feature_means, cov=cov, size=n)\n",
    "\n",
    "                    # generate gaussian white noise.\n",
    "                    gaussian_noise = np.random.normal(loc=loc, scale=scale, size=n)\n",
    "\n",
    "                    # make the outcome.\n",
    "                    y = true_intercept + gaussian_noise\n",
    "                    for i in range(len(true_coefs)):\n",
    "                        y += true_coefs[i] * X[:, i]\n",
    "\n",
    "                    return X, y\n",
    "\n",
    "                # simulation settings\n",
    "                m = 100000                                 # number of simulations. WARNING!!! Large m makes execution time very long\n",
    "                correlation = 0.98                          # degree of collinearity (HIGH)\n",
    "                kwargs = {\n",
    "                    'n': 50,                                # sample size\n",
    "                    'true_coefs': [13, 0.5, 5, -1, -24],    # linear regression coefficients, 2 features\n",
    "                    'true_intercept': 2,                    # y-intercept\n",
    "                    'feature_means': [0, 0, 0, 0, 0],       # means multivariate normal distribution. This is not important\n",
    "                    'loc': 0,                               # mean of gaussian noise\n",
    "                    'scale': 1                              # standard deviation of gaussian noise\n",
    "                }\n",
    "\n",
    "                # high collinearity covariance matrix\n",
    "                cov = np.full((len(kwargs['true_coefs']), len(kwargs['true_coefs'])), correlation)\n",
    "                np.fill_diagonal(cov, 1)\n",
    "\n",
    "                ######################################### numerical solution ################################################\n",
    "\n",
    "                params = []\n",
    "                for i in range(m):\n",
    "                    X, y = generate_collinear_data(cov, **kwargs)         # generate high collinearity data\n",
    "                    X_st = sm.add_constant(X)\n",
    "                    model = sm.OLS(y, X_st).fit()\n",
    "                    params.append(model.params)\n",
    "\n",
    "                params = np.asarray(params)                               # list to numpy conversion\n",
    "\n",
    "                numerical_means = np.mean(params, axis=0)                 # solution\n",
    "                numerical_lo = np.percentile(params, 2.5, axis=0)         # lower bound of 95% confidence interval\n",
    "                numerical_hi = np.percentile(params, 97.5, axis=0)        # upper bound of 95% confidence interval\n",
    "                numerical_width = abs(numerical_hi - numerical_lo)        # width of confidence interval\n",
    "\n",
    "                ######################################### analytical solution ###############################################\n",
    "\n",
    "                X, y = generate_collinear_data(cov, **kwargs)   # generate high collinearity data\n",
    "                X_st = sm.add_constant(X)\n",
    "                model = sm.OLS(y, X_st).fit()\n",
    "\n",
    "                analytical_means = model.params                           # solution\n",
    "                analytical_lo = model.conf_int(alpha=0.05)[:, 0]          # lower bound of 95% confidence interval\n",
    "                analytical_hi = model.conf_int(alpha=0.05)[:, 1]          # upper bound of 95% confidence interval\n",
    "                analytical_width = abs(analytical_hi - analytical_lo)     # width of confidence interval\n",
    "\n",
    "                ######################################### Plotting:  Error bars ##############################################\n",
    "\n",
    "                def styling(ax, label):\n",
    "                    ax.set_xlabel(label, fontsize=25)\n",
    "                    ax.set_facecolor('#eeeeee')\n",
    "                    ax.grid(True, linestyle='--', color='#acacac', axis='y')\n",
    "                    ax.tick_params(color='grey')\n",
    "                    ax.set_xticklabels([])\n",
    "                    ax.set_xlim(0, 2)\n",
    "                    _ = [spine.set_edgecolor('grey') for spine in ax.spines.values()]\n",
    "                    ax.text(0.5, 0.1, 'aegis4048.github.io', fontsize=12, ha='center', va='center',\n",
    "                            transform=ax.transAxes, color='grey', alpha=0.5)\n",
    "\n",
    "                labels = ['Intercept', '$X_1$', '$X_2$', '$X_3$', '$X_4$', '$X_5$']\n",
    "                true_params = [kwargs['true_intercept']] + kwargs['true_coefs']\n",
    "                x = np.array([1, 2])\n",
    "\n",
    "                fig, axes = plt.subplots(1, len(labels), figsize=(16, 6))\n",
    "\n",
    "                for i, (ax, label, true_param) in enumerate(zip(axes, labels, true_params)):\n",
    "                    yerr_numerical = [[abs(numerical_lo[i] - numerical_means[i])], [abs(numerical_hi[i] - numerical_means[i])]]\n",
    "                    yerr_analytical = [[abs(analytical_lo[i] - analytical_means[i])], [abs(analytical_hi[i] - analytical_means[i])]]\n",
    "\n",
    "                    ax.errorbar(1 - 0.25, numerical_means[i], yerr=yerr_numerical,\n",
    "                               fmt='o', label='95% numerical C.I.', color='k', markersize=8, capsize=8, elinewidth=2.5, markeredgewidth=2.5)\n",
    "                    ax.errorbar(1 + 0.25, analytical_means[i], yerr=yerr_analytical,\n",
    "                               fmt='o', label='95% analytical C.I.', color='grey', markersize=8, capsize=8, elinewidth=2.5, markeredgewidth=2.5)\n",
    "                    ax.axhline(true_param, linestyle='-.', color='#ad203e', label='True value')\n",
    "                    styling(ax, label)\n",
    "\n",
    "                axes[0].set_ylabel('Range of 95% C.I.', fontsize=30)\n",
    "\n",
    "                fig.legend(*ax.get_legend_handles_labels(), loc='lower center', ncol=3, borderaxespad=0.7, fontsize=17)\n",
    "\n",
    "                fig.suptitle('Effect of overestimated standard errors - %.f simulations' % m, fontsize=25);\n",
    "                fig.tight_layout(rect=[0, 0.10, 1, 0.9])\n",
    "                \n",
    "                ######################################### Plotting:  Bar chart ###############################################\n",
    "\n",
    "                x = np.array([i for i in range(len(analytical_width))])\n",
    "\n",
    "                fig, ax = plt.subplots(figsize=(16, 6))\n",
    "\n",
    "                ax.bar(x - 0.15, numerical_width, align='center', alpha=0.75, width=0.28, color='k', label='Numerical Sol.')\n",
    "                ax.bar(x + 0.15, analytical_width, align='center', width=0.28, color='grey', label='Analytical Sol.')\n",
    "\n",
    "                ax.text(0.1, 0.65, 'aegis4048.github.io', fontsize=17, ha='center', va='center', \n",
    "                        transform=ax.transAxes, color='grey', alpha=0.5)\n",
    "                ax.set_ylabel('Width of 95% C.I.', fontsize=30)\n",
    "                ax.legend(fontsize=17, loc='upper left')\n",
    "                ax.set_xticks(x)\n",
    "                ax.set_xticklabels([str(label) for label in labels], fontsize=25)\n",
    "                ax.set_facecolor('#eeeeee')\n",
    "                ax.grid(True, linestyle='--', color='#acacac', axis='y')\n",
    "                ax.tick_params(color='grey')\n",
    "                _ = [spine.set_edgecolor('grey') for spine in ax.spines.values()]\n",
    "\n",
    "                fig.tight_layout()\n",
    "            </code>\n",
    "        </pre>\n",
    "    </div>\n",
    "</div>"
   ]
  },
  {
   "cell_type": "markdown",
   "metadata": {},
   "source": [
    "<div class=\"highlights red-theme\" id=\"prediction-power-warning\">\n",
    "    <div class=\"highlights-title red-theme\">WARNING!</div>\n",
    "    <div class=\"highlights-content red-theme\">When training real-life models, you don't have an access to the numerical solutions as in <a href=\"#fig-5\">figure (5)</a> and <a href=\"#fig-6\">figure (6)</a>, because you only have one sample. This means that you have to rely on linear regression analysis report like <a href=\"#fig-5\">figure (4)</a>, which is unreliable under multicollinearity. This is why you need remedial procedures, which I discuss in <i>Section 5: Remedies</i> <a href=\"#Remedies\">below</a>.\n",
    "    </div>\n",
    "</div>"
   ]
  },
  {
   "cell_type": "markdown",
   "metadata": {},
   "source": [
    "<div id=\"Model instability with feature selection\"></div>\n",
    "\n",
    "### 3.3. Model instability with feature selection"
   ]
  },
  {
   "cell_type": "code",
   "execution_count": null,
   "metadata": {},
   "outputs": [],
   "source": []
  },
  {
   "cell_type": "code",
   "execution_count": null,
   "metadata": {},
   "outputs": [],
   "source": []
  },
  {
   "cell_type": "markdown",
   "metadata": {},
   "source": [
    "\n",
    "1. Introduction\n",
    "    - Nfoi + Gfgi example, standard error is important (possibly estimating OOIP + OGIP after PCA treament?)\n",
    "    - Note that this multicollinearity does not degrade the prediction power of a model\n",
    "            \n",
    "2. Key Takeaways\n",
    "    - Multicollinearity occurs when (can be described by ...)\n",
    "    - Multicollinearity makes the values of individual regression coefficients are unreliable\n",
    "        * It can cause change in the signs as well as in the magnitudes from one sample to another sample. If you concluded that feature x1 has a positive impact on a response variable y because the regression coefficient of x1 is positive, this might be wrong. I show this here and here. \n",
    "    - Multicollinearity does not affect the prediction power on a response variable (bundle)\n",
    "    - Use VIF to detect and remove collinear features (if VIF > 10, its problematic)\n",
    "    - Sometimes multicollinearity can be safely ignored (https://statisticalhorizons.com/multicollinearity)\n",
    "    - Multicollinearity among independent variables will result in less reliable statistical inferences.\n",
    "    \n",
    "3. Concept\n",
    "    - Thought experiment\n",
    "    \n",
    "4. Causes\n",
    "    - Generally occurs when features are highly correlated\n",
    "    - Incorrect dummy variable encoding\n",
    "    - Repetition of the same feature (different units)\n",
    "    - A feature computed from other features is in the data set.\n",
    "    \n",
    "5. Effects    \n",
    "    - (This makes interpretation unreliable)\n",
    "    - Model Instability with sampling\n",
    "        * Python simulation, 2D plot\n",
    "    - Model instability with feature selection\n",
    "        * Same screenshot used in previous post\n",
    "    - Overestimated standard errors\n",
    "        * 95% conf int Box plots for each regression coefficients, paired with sampling vs regression analysis\n",
    "    - Notes: Value of regression coefficient is not feature importance\n",
    "    - (Perhaps significance test)\n",
    "\n",
    "6. Detection\n",
    "    - Correlation matrix\n",
    "    - VIF score\n",
    "        * A Caution Regarding Rules of Thumb for Variance Inflation Factors\n",
    "        * https://link.springer.com/article/10.1007/s11135-006-9018-6\n",
    "    \n",
    "7. Remedies\n",
    "    - Removal (VIF score + correlation matrix) (If that features is necessary, tough luck)\n",
    "    - Principle Component Regression\n",
    "        * PCA is generally used when the aim is to retrieve a latent unmeasured variable or set of variables proxied by measured manifestation variables: for example, economic openness is not directly measured but there are indicators for it such as trade volume, trade tariffs, exchange policy, etc. So pca is implemented in order to assess a synthetic variable for the Economic openness. You will have to find a “meaning” for your principal components based on the coordinates of the original variables relative to each component\n",
    "        * Warning: Interpretation of principle components. Do it only if you really understand what PCA does. \n",
    "    - Mean centering\n",
    "        * Do not standardize, by Jim\n",
    "        * Notes: STD dividing for non-normal distributions\n",
    "        * https://statisticsbyjim.com/regression/standardize-variables-regression/\n",
    "        \n",
    "8. Excuses to ignore multicollinearity (or Pitfalls)"
   ]
  },
  {
   "cell_type": "code",
   "execution_count": 79,
   "metadata": {},
   "outputs": [],
   "source": [
    "import numpy as np\n",
    "import matplotlib.pyplot as plt\n",
    "from sklearn import linear_model\n",
    "import statsmodels.api as sm"
   ]
  },
  {
   "cell_type": "code",
   "execution_count": 122,
   "metadata": {},
   "outputs": [],
   "source": [
    "features = ['a1', 'a2']\n",
    "true_coefs = [2, 4]\n",
    "true_intercept = 1\n",
    "n = 100"
   ]
  },
  {
   "cell_type": "code",
   "execution_count": 182,
   "metadata": {
    "scrolled": false
   },
   "outputs": [],
   "source": [
    "correlation = 0\n",
    "\n",
    "cov = [[1, correlation], \n",
    "       [correlation, 1]]\n",
    "\n",
    "model_coefs_low = []\n",
    "for i in range(100):\n",
    "    \n",
    "    # random generation of 2D collinear gaussian multivariate distribution with covariance matrix\n",
    "    X = np.random.multivariate_normal(mean=[2, 4], cov=cov, size=n)\n",
    "    \n",
    "    # generate gaussian white noise\n",
    "    gaussian_noise = np.random.normal(loc=0, scale=1, size=n)\n",
    "    \n",
    "    # make the outcome\n",
    "    y = true_intercept + true_coefs[0] * X[:, 0] + true_coefs[1] * X[:, 1] + gaussian_noise\n",
    "    \n",
    "    # fit linear model\n",
    "    ols = linear_model.LinearRegression()\n",
    "    model = ols.fit(X, y)\n",
    "    model_coefs_low.append(model.coef_)\n",
    "    \n",
    "model_coefs_low = np.array(model_coefs_low)"
   ]
  },
  {
   "cell_type": "code",
   "execution_count": 184,
   "metadata": {},
   "outputs": [
    {
     "data": {
      "text/html": [
       "<div>\n",
       "<style scoped>\n",
       "    .dataframe tbody tr th:only-of-type {\n",
       "        vertical-align: middle;\n",
       "    }\n",
       "\n",
       "    .dataframe tbody tr th {\n",
       "        vertical-align: top;\n",
       "    }\n",
       "\n",
       "    .dataframe thead th {\n",
       "        text-align: right;\n",
       "    }\n",
       "</style>\n",
       "<table border=\"1\" class=\"dataframe\">\n",
       "  <thead>\n",
       "    <tr style=\"text-align: right;\">\n",
       "      <th></th>\n",
       "      <th>Features</th>\n",
       "      <th>VIF</th>\n",
       "    </tr>\n",
       "  </thead>\n",
       "  <tbody>\n",
       "    <tr>\n",
       "      <th>0</th>\n",
       "      <td>a1</td>\n",
       "      <td>3.893106</td>\n",
       "    </tr>\n",
       "    <tr>\n",
       "      <th>1</th>\n",
       "      <td>a2</td>\n",
       "      <td>3.893106</td>\n",
       "    </tr>\n",
       "  </tbody>\n",
       "</table>\n",
       "</div>"
      ],
      "text/plain": [
       "  Features       VIF\n",
       "0       a1  3.893106\n",
       "1       a2  3.893106"
      ]
     },
     "execution_count": 184,
     "metadata": {},
     "output_type": "execute_result"
    }
   ],
   "source": [
    "from statsmodels.stats.outliers_influence import variance_inflation_factor\n",
    "import pandas as pd\n",
    "\n",
    "features = ['a1', 'a2']\n",
    "\n",
    "vif = pd.DataFrame()\n",
    "vif['Features'] = features\n",
    "vif['VIF'] = np.array([variance_inflation_factor(X, i) for i in range(len(features))])\n",
    "\n",
    "vif"
   ]
  },
  {
   "cell_type": "code",
   "execution_count": 185,
   "metadata": {},
   "outputs": [
    {
     "name": "stdout",
     "output_type": "stream",
     "text": [
      "                            OLS Regression Results                            \n",
      "==============================================================================\n",
      "Dep. Variable:                      y   R-squared:                       0.946\n",
      "Model:                            OLS   Adj. R-squared:                  0.945\n",
      "Method:                 Least Squares   F-statistic:                     851.7\n",
      "Date:                Fri, 29 Nov 2019   Prob (F-statistic):           2.97e-62\n",
      "Time:                        21:12:33   Log-Likelihood:                -140.88\n",
      "No. Observations:                 100   AIC:                             287.8\n",
      "Df Residuals:                      97   BIC:                             295.6\n",
      "Df Model:                           2                                         \n",
      "Covariance Type:            nonrobust                                         \n",
      "==============================================================================\n",
      "                 coef    std err          t      P>|t|      [0.025      0.975]\n",
      "------------------------------------------------------------------------------\n",
      "const          1.3984      0.488      2.868      0.005       0.431       2.366\n",
      "x1             2.0366      0.102     19.961      0.000       1.834       2.239\n",
      "x2             3.8715      0.107     36.209      0.000       3.659       4.084\n",
      "==============================================================================\n",
      "Omnibus:                        1.813   Durbin-Watson:                   1.528\n",
      "Prob(Omnibus):                  0.404   Jarque-Bera (JB):                1.409\n",
      "Skew:                           0.284   Prob(JB):                        0.494\n",
      "Kurtosis:                       3.122   Cond. No.                         23.3\n",
      "==============================================================================\n",
      "\n",
      "Warnings:\n",
      "[1] Standard Errors assume that the covariance matrix of the errors is correctly specified.\n"
     ]
    }
   ],
   "source": [
    "X_st = sm.add_constant(X)\n",
    "model = sm.OLS(y, X_st).fit()\n",
    "predictions = model.predict(X_st)\n",
    "print(model.summary())"
   ]
  },
  {
   "cell_type": "code",
   "execution_count": 168,
   "metadata": {},
   "outputs": [
    {
     "data": {
      "text/html": [
       "<div>\n",
       "<style scoped>\n",
       "    .dataframe tbody tr th:only-of-type {\n",
       "        vertical-align: middle;\n",
       "    }\n",
       "\n",
       "    .dataframe tbody tr th {\n",
       "        vertical-align: top;\n",
       "    }\n",
       "\n",
       "    .dataframe thead th {\n",
       "        text-align: right;\n",
       "    }\n",
       "</style>\n",
       "<table border=\"1\" class=\"dataframe\">\n",
       "  <thead>\n",
       "    <tr style=\"text-align: right;\">\n",
       "      <th></th>\n",
       "      <th>Features</th>\n",
       "      <th>VIF</th>\n",
       "    </tr>\n",
       "  </thead>\n",
       "  <tbody>\n",
       "    <tr>\n",
       "      <th>0</th>\n",
       "      <td>a1</td>\n",
       "      <td>18.710929</td>\n",
       "    </tr>\n",
       "    <tr>\n",
       "      <th>1</th>\n",
       "      <td>a2</td>\n",
       "      <td>18.710929</td>\n",
       "    </tr>\n",
       "  </tbody>\n",
       "</table>\n",
       "</div>"
      ],
      "text/plain": [
       "  Features        VIF\n",
       "0       a1  18.710929\n",
       "1       a2  18.710929"
      ]
     },
     "execution_count": 168,
     "metadata": {},
     "output_type": "execute_result"
    }
   ],
   "source": [
    "from statsmodels.stats.outliers_influence import variance_inflation_factor\n",
    "import pandas as pd\n",
    "\n",
    "features = ['a1', 'a2']\n",
    "\n",
    "vif = pd.DataFrame()\n",
    "vif['Features'] = features\n",
    "vif['VIF'] = np.array([variance_inflation_factor(X, i) for i in range(len(features))])\n",
    "\n",
    "vif"
   ]
  },
  {
   "cell_type": "code",
   "execution_count": 169,
   "metadata": {},
   "outputs": [],
   "source": [
    "correlation = 0.99\n",
    "\n",
    "# construct 2D positive-semidefinite covariance matrix\n",
    "cov = [[1, correlation], \n",
    "       [correlation, 1]]\n",
    "\n",
    "model_coefs_high = []\n",
    "for i in range(100):\n",
    "    \n",
    "    # random generation of 2D collinear gaussian multivariate distribution with covariance matrix\n",
    "    X = np.random.multivariate_normal(mean=[2, 4], cov=cov, size=n)\n",
    "    \n",
    "    # generate gaussian white noise\n",
    "    gaussian_noise = np.random.normal(loc=0, scale=1, size=n)\n",
    "    \n",
    "    # make the outcome\n",
    "    y = true_intercept + true_coefs[0] * X[:, 0] + true_coefs[1] * X[:, 1] + gaussian_noise\n",
    "    \n",
    "    # fit linear model\n",
    "    ols = linear_model.LinearRegression()\n",
    "    model = ols.fit(X, y)\n",
    "    model_coefs_high.append(model.coef_)\n",
    "    \n",
    "model_coefs_high = np.array(model_coefs_high)"
   ]
  },
  {
   "cell_type": "code",
   "execution_count": 170,
   "metadata": {},
   "outputs": [
    {
     "data": {
      "text/html": [
       "<div>\n",
       "<style scoped>\n",
       "    .dataframe tbody tr th:only-of-type {\n",
       "        vertical-align: middle;\n",
       "    }\n",
       "\n",
       "    .dataframe tbody tr th {\n",
       "        vertical-align: top;\n",
       "    }\n",
       "\n",
       "    .dataframe thead th {\n",
       "        text-align: right;\n",
       "    }\n",
       "</style>\n",
       "<table border=\"1\" class=\"dataframe\">\n",
       "  <thead>\n",
       "    <tr style=\"text-align: right;\">\n",
       "      <th></th>\n",
       "      <th>Features</th>\n",
       "      <th>VIF</th>\n",
       "    </tr>\n",
       "  </thead>\n",
       "  <tbody>\n",
       "    <tr>\n",
       "      <th>0</th>\n",
       "      <td>a1</td>\n",
       "      <td>28.032218</td>\n",
       "    </tr>\n",
       "    <tr>\n",
       "      <th>1</th>\n",
       "      <td>a2</td>\n",
       "      <td>28.032218</td>\n",
       "    </tr>\n",
       "  </tbody>\n",
       "</table>\n",
       "</div>"
      ],
      "text/plain": [
       "  Features        VIF\n",
       "0       a1  28.032218\n",
       "1       a2  28.032218"
      ]
     },
     "execution_count": 170,
     "metadata": {},
     "output_type": "execute_result"
    }
   ],
   "source": [
    "from statsmodels.stats.outliers_influence import variance_inflation_factor\n",
    "import pandas as pd\n",
    "\n",
    "vif = pd.DataFrame()\n",
    "vif['Features'] = features\n",
    "vif['VIF'] = np.array([variance_inflation_factor(X, i) for i in range(len(features))])\n",
    "\n",
    "vif"
   ]
  },
  {
   "cell_type": "code",
   "execution_count": 171,
   "metadata": {},
   "outputs": [
    {
     "name": "stdout",
     "output_type": "stream",
     "text": [
      "                            OLS Regression Results                            \n",
      "==============================================================================\n",
      "Dep. Variable:                      y   R-squared:                       0.961\n",
      "Model:                            OLS   Adj. R-squared:                  0.961\n",
      "Method:                 Least Squares   F-statistic:                     1207.\n",
      "Date:                Fri, 29 Nov 2019   Prob (F-statistic):           2.96e-69\n",
      "Time:                        21:11:33   Log-Likelihood:                -143.14\n",
      "No. Observations:                 100   AIC:                             292.3\n",
      "Df Residuals:                      97   BIC:                             300.1\n",
      "Df Model:                           2                                         \n",
      "Covariance Type:            nonrobust                                         \n",
      "==============================================================================\n",
      "                 coef    std err          t      P>|t|      [0.025      0.975]\n",
      "------------------------------------------------------------------------------\n",
      "const          1.9978      1.587      1.259      0.211      -1.152       5.148\n",
      "x1             2.8843      0.736      3.920      0.000       1.424       4.345\n",
      "x2             3.2722      0.752      4.348      0.000       1.779       4.766\n",
      "==============================================================================\n",
      "Omnibus:                        0.247   Durbin-Watson:                   2.229\n",
      "Prob(Omnibus):                  0.884   Jarque-Bera (JB):                0.427\n",
      "Skew:                           0.023   Prob(JB):                        0.808\n",
      "Kurtosis:                       2.683   Cond. No.                         88.3\n",
      "==============================================================================\n",
      "\n",
      "Warnings:\n",
      "[1] Standard Errors assume that the covariance matrix of the errors is correctly specified.\n"
     ]
    }
   ],
   "source": [
    "X_st = sm.add_constant(X)\n",
    "model = sm.OLS(y, X_st).fit()\n",
    "predictions = model.predict(X_st)\n",
    "print(model.summary())"
   ]
  },
  {
   "cell_type": "code",
   "execution_count": 172,
   "metadata": {},
   "outputs": [
    {
     "data": {
      "text/plain": [
       "Text(0, 0.5, 'a2')"
      ]
     },
     "execution_count": 172,
     "metadata": {},
     "output_type": "execute_result"
    },
    {
     "data": {
      "image/png": "[encoded data removed]",
      "text/plain": [
       "<Figure size 432x288 with 1 Axes>"
      ]
     },
     "metadata": {},
     "output_type": "display_data"
    }
   ],
   "source": [
    "fig, ax = plt.subplots()\n",
    "\n",
    "ax.scatter(model_coefs_low[:, 0], model_coefs_low[:, 1], label='Low')\n",
    "ax.scatter(model_coefs_high[:, 0], model_coefs_high[:, 1], label='High')\n",
    "ax.legend()\n",
    "ax.set_xlabel('a1', fontsize=20)\n",
    "ax.set_ylabel('a2', fontsize=20)"
   ]
  },
  {
   "cell_type": "code",
   "execution_count": 91,
   "metadata": {},
   "outputs": [],
   "source": [
    "import pandas as pd\n",
    "import numpy as np\n",
    "import matplotlib.pyplot as plt\n",
    "from sklearn import linear_model\n",
    "from sklearn.decomposition import PCA\n",
    "from sklearn.preprocessing import StandardScaler\n",
    "from statsmodels.stats.outliers_influence import variance_inflation_factor\n",
    "import statsmodels.api as sm"
   ]
  },
  {
   "cell_type": "markdown",
   "metadata": {},
   "source": [
    "# Original"
   ]
  },
  {
   "cell_type": "code",
   "execution_count": 92,
   "metadata": {},
   "outputs": [],
   "source": [
    "features = ['a1', 'a2']\n",
    "true_coefs = [10, 15]\n",
    "true_intercept = 2\n",
    "n = 100"
   ]
  },
  {
   "cell_type": "code",
   "execution_count": 121,
   "metadata": {},
   "outputs": [],
   "source": [
    "correlation = 0.99\n",
    "\n",
    "# construct 2D positive-semidefinite covariance matrix\n",
    "cov = [[1, correlation], \n",
    "       [correlation, 1]]\n",
    "\n",
    "model_coefs_orig = []\n",
    "for i in range(100):\n",
    "    \n",
    "    # random generation of 2D collinear gaussian multivariate distribution with covariance matrix\n",
    "    X = np.random.multivariate_normal(mean=[2, 4], cov=cov, size=n)\n",
    "    \n",
    "    # generate gaussian white noise\n",
    "    gaussian_noise = np.random.normal(loc=0, scale=1, size=n)\n",
    "    \n",
    "    # make the outcome\n",
    "    y = true_intercept + true_coefs[0] * X[:, 0] + true_coefs[1] * X[:, 1] + gaussian_noise\n",
    "    \n",
    "    # fit linear model\n",
    "    ols = linear_model.LinearRegression()\n",
    "    model = ols.fit(X, y)\n",
    "    model_coefs_orig.append(model.coef_)\n",
    "    \n",
    "model_coefs_orig = np.array(model_coefs_orig)"
   ]
  },
  {
   "cell_type": "code",
   "execution_count": 122,
   "metadata": {},
   "outputs": [
    {
     "data": {
      "text/html": [
       "<div>\n",
       "<style scoped>\n",
       "    .dataframe tbody tr th:only-of-type {\n",
       "        vertical-align: middle;\n",
       "    }\n",
       "\n",
       "    .dataframe tbody tr th {\n",
       "        vertical-align: top;\n",
       "    }\n",
       "\n",
       "    .dataframe thead th {\n",
       "        text-align: right;\n",
       "    }\n",
       "</style>\n",
       "<table border=\"1\" class=\"dataframe\">\n",
       "  <thead>\n",
       "    <tr style=\"text-align: right;\">\n",
       "      <th></th>\n",
       "      <th>Features</th>\n",
       "      <th>VIF</th>\n",
       "    </tr>\n",
       "  </thead>\n",
       "  <tbody>\n",
       "    <tr>\n",
       "      <th>0</th>\n",
       "      <td>a1</td>\n",
       "      <td>19.583652</td>\n",
       "    </tr>\n",
       "    <tr>\n",
       "      <th>1</th>\n",
       "      <td>a2</td>\n",
       "      <td>19.583652</td>\n",
       "    </tr>\n",
       "  </tbody>\n",
       "</table>\n",
       "</div>"
      ],
      "text/plain": [
       "  Features        VIF\n",
       "0       a1  19.583652\n",
       "1       a2  19.583652"
      ]
     },
     "execution_count": 122,
     "metadata": {},
     "output_type": "execute_result"
    }
   ],
   "source": [
    "from statsmodels.stats.outliers_influence import variance_inflation_factor\n",
    "import pandas as pd\n",
    "\n",
    "vif = pd.DataFrame()\n",
    "vif['Features'] = features\n",
    "vif['VIF'] = np.array([variance_inflation_factor(X, i) for i in range(len(features))])\n",
    "\n",
    "vif"
   ]
  },
  {
   "cell_type": "code",
   "execution_count": 123,
   "metadata": {},
   "outputs": [
    {
     "name": "stdout",
     "output_type": "stream",
     "text": [
      "                            OLS Regression Results                            \n",
      "==============================================================================\n",
      "Dep. Variable:                      y   R-squared:                       0.998\n",
      "Model:                            OLS   Adj. R-squared:                  0.998\n",
      "Method:                 Least Squares   F-statistic:                 3.036e+04\n",
      "Date:                Fri, 29 Nov 2019   Prob (F-statistic):          2.17e-136\n",
      "Time:                        21:58:41   Log-Likelihood:                -139.20\n",
      "No. Observations:                 100   AIC:                             284.4\n",
      "Df Residuals:                      97   BIC:                             292.2\n",
      "Df Model:                           2                                         \n",
      "Covariance Type:            nonrobust                                         \n",
      "==============================================================================\n",
      "                 coef    std err          t      P>|t|      [0.025      0.975]\n",
      "------------------------------------------------------------------------------\n",
      "const          2.9605      1.506      1.966      0.052      -0.029       5.950\n",
      "x1            10.5327      0.737     14.283      0.000       9.069      11.996\n",
      "x2            14.5136      0.742     19.568      0.000      13.042      15.986\n",
      "==============================================================================\n",
      "Omnibus:                        0.174   Durbin-Watson:                   1.964\n",
      "Prob(Omnibus):                  0.917   Jarque-Bera (JB):                0.355\n",
      "Skew:                           0.031   Prob(JB):                        0.837\n",
      "Kurtosis:                       2.715   Cond. No.                         86.1\n",
      "==============================================================================\n",
      "\n",
      "Warnings:\n",
      "[1] Standard Errors assume that the covariance matrix of the errors is correctly specified.\n"
     ]
    }
   ],
   "source": [
    "X_st = sm.add_constant(X)\n",
    "sm_model = sm.OLS(y, X_st).fit()\n",
    "predictions = sm_model.predict(X_st)\n",
    "print(sm_model.summary())"
   ]
  },
  {
   "cell_type": "code",
   "execution_count": 124,
   "metadata": {},
   "outputs": [
    {
     "name": "stdout",
     "output_type": "stream",
     "text": [
      "a1 = [8.86  11.52]\n",
      "a2 = [13.52  16.08]\n"
     ]
    }
   ],
   "source": [
    "print('a1 = [%.2f' % np.percentile(model_coefs_orig[:, 0], 2.5), ' %.2f]' % np.percentile(model_coefs_orig[:, 0], 97.5))\n",
    "print('a2 = [%.2f' % np.percentile(model_coefs_orig[:, 1], 2.5), ' %.2f]' % np.percentile(model_coefs_orig[:, 1], 97.5))"
   ]
  },
  {
   "cell_type": "markdown",
   "metadata": {},
   "source": [
    "# PCA"
   ]
  },
  {
   "cell_type": "code",
   "execution_count": 125,
   "metadata": {},
   "outputs": [],
   "source": [
    "import pandas as pd\n",
    "import numpy as np\n",
    "import matplotlib.pyplot as plt\n",
    "from sklearn import linear_model\n",
    "from sklearn.decomposition import PCA\n",
    "from sklearn.preprocessing import StandardScaler\n",
    "from statsmodels.stats.outliers_influence import variance_inflation_factor\n",
    "import statsmodels.api as sm"
   ]
  },
  {
   "cell_type": "code",
   "execution_count": 126,
   "metadata": {},
   "outputs": [],
   "source": [
    "features = ['a1', 'a2']\n",
    "true_coefs = [10, 15]\n",
    "true_intercept = 2\n",
    "n = 100"
   ]
  },
  {
   "cell_type": "code",
   "execution_count": 127,
   "metadata": {},
   "outputs": [],
   "source": [
    "correlation = 0.95\n",
    "\n",
    "# construct 2D positive-semidefinite covariance matrix\n",
    "cov = [[1, correlation], \n",
    "       [correlation, 1]]\n",
    "\n",
    "model_coefs_pca = []\n",
    "for i in range(100):\n",
    "    \n",
    "    # random generation of 2D collinear gaussian multivariate distribution with covariance matrix\n",
    "    X = np.random.multivariate_normal(mean=[2, 4], cov=cov, size=n)\n",
    "    \n",
    "    scalar = StandardScaler()\n",
    "    X = scalar.fit_transform(X)\n",
    "\n",
    "    # PCA\n",
    "    pca = PCA(n_components=len(features))\n",
    "    X = pca.fit_transform(X)\n",
    "    \n",
    "    # generate gaussian white noise\n",
    "    gaussian_noise = np.random.normal(loc=0, scale=1, size=n)\n",
    "    \n",
    "    # make the outcome\n",
    "    y = true_intercept + true_coefs[0] * X[:, 0] + true_coefs[1] * X[:, 1] + gaussian_noise\n",
    "    \n",
    "    # fit linear model\n",
    "    ols = linear_model.LinearRegression()\n",
    "    model = ols.fit(X, y)\n",
    "    model_coefs_pca.append(model.coef_)\n",
    "    \n",
    "model_coefs_pca = np.array(model_coefs_pca)"
   ]
  },
  {
   "cell_type": "code",
   "execution_count": 128,
   "metadata": {
    "scrolled": true
   },
   "outputs": [
    {
     "data": {
      "text/html": [
       "<div>\n",
       "<style scoped>\n",
       "    .dataframe tbody tr th:only-of-type {\n",
       "        vertical-align: middle;\n",
       "    }\n",
       "\n",
       "    .dataframe tbody tr th {\n",
       "        vertical-align: top;\n",
       "    }\n",
       "\n",
       "    .dataframe thead th {\n",
       "        text-align: right;\n",
       "    }\n",
       "</style>\n",
       "<table border=\"1\" class=\"dataframe\">\n",
       "  <thead>\n",
       "    <tr style=\"text-align: right;\">\n",
       "      <th></th>\n",
       "      <th>Features</th>\n",
       "      <th>VIF</th>\n",
       "    </tr>\n",
       "  </thead>\n",
       "  <tbody>\n",
       "    <tr>\n",
       "      <th>0</th>\n",
       "      <td>a1</td>\n",
       "      <td>1.0</td>\n",
       "    </tr>\n",
       "    <tr>\n",
       "      <th>1</th>\n",
       "      <td>a2</td>\n",
       "      <td>1.0</td>\n",
       "    </tr>\n",
       "  </tbody>\n",
       "</table>\n",
       "</div>"
      ],
      "text/plain": [
       "  Features  VIF\n",
       "0       a1  1.0\n",
       "1       a2  1.0"
      ]
     },
     "execution_count": 128,
     "metadata": {},
     "output_type": "execute_result"
    }
   ],
   "source": [
    "from statsmodels.stats.outliers_influence import variance_inflation_factor\n",
    "import pandas as pd\n",
    "\n",
    "vif = pd.DataFrame()\n",
    "vif['Features'] = features\n",
    "vif['VIF'] = np.array([variance_inflation_factor(X, i) for i in range(len(features))])\n",
    "\n",
    "vif"
   ]
  },
  {
   "cell_type": "code",
   "execution_count": 129,
   "metadata": {},
   "outputs": [
    {
     "name": "stdout",
     "output_type": "stream",
     "text": [
      "                            OLS Regression Results                            \n",
      "==============================================================================\n",
      "Dep. Variable:                      y   R-squared:                       0.994\n",
      "Model:                            OLS   Adj. R-squared:                  0.994\n",
      "Method:                 Least Squares   F-statistic:                     8396.\n",
      "Date:                Fri, 29 Nov 2019   Prob (F-statistic):          2.09e-109\n",
      "Time:                        21:58:47   Log-Likelihood:                -150.29\n",
      "No. Observations:                 100   AIC:                             306.6\n",
      "Df Residuals:                      97   BIC:                             314.4\n",
      "Df Model:                           2                                         \n",
      "Covariance Type:            nonrobust                                         \n",
      "==============================================================================\n",
      "                 coef    std err          t      P>|t|      [0.025      0.975]\n",
      "------------------------------------------------------------------------------\n",
      "const          2.0979      0.110     18.999      0.000       1.879       2.317\n",
      "x1            10.0127      0.079    126.914      0.000       9.856      10.169\n",
      "x2            14.2822      0.546     26.166      0.000      13.199      15.366\n",
      "==============================================================================\n",
      "Omnibus:                        7.355   Durbin-Watson:                   1.705\n",
      "Prob(Omnibus):                  0.025   Jarque-Bera (JB):                4.696\n",
      "Skew:                           0.369   Prob(JB):                       0.0956\n",
      "Kurtosis:                       2.237   Cond. No.                         6.92\n",
      "==============================================================================\n",
      "\n",
      "Warnings:\n",
      "[1] Standard Errors assume that the covariance matrix of the errors is correctly specified.\n"
     ]
    }
   ],
   "source": [
    "X_st = sm.add_constant(X)\n",
    "sm_model = sm.OLS(y, X_st).fit()\n",
    "predictions = sm_model.predict(X_st)\n",
    "print(sm_model.summary())"
   ]
  },
  {
   "cell_type": "code",
   "execution_count": 130,
   "metadata": {},
   "outputs": [
    {
     "name": "stdout",
     "output_type": "stream",
     "text": [
      "a1 = [9.84  10.13]\n",
      "a2 = [14.01  15.98]\n"
     ]
    }
   ],
   "source": [
    "print('a1 = [%.2f' % np.percentile(model_coefs_pca[:, 0], 2.5), ' %.2f]' % np.percentile(model_coefs_pca[:, 0], 97.5))\n",
    "print('a2 = [%.2f' % np.percentile(model_coefs_pca[:, 1], 2.5), ' %.2f]' % np.percentile(model_coefs_pca[:, 1], 97.5))"
   ]
  },
  {
   "cell_type": "markdown",
   "metadata": {},
   "source": [
    "# Centering"
   ]
  },
  {
   "cell_type": "code",
   "execution_count": 131,
   "metadata": {},
   "outputs": [],
   "source": [
    "import pandas as pd\n",
    "import numpy as np\n",
    "import matplotlib.pyplot as plt\n",
    "from sklearn import linear_model\n",
    "from sklearn.decomposition import PCA\n",
    "from sklearn.preprocessing import StandardScaler\n",
    "from statsmodels.stats.outliers_influence import variance_inflation_factor\n",
    "import statsmodels.api as sm"
   ]
  },
  {
   "cell_type": "code",
   "execution_count": 132,
   "metadata": {},
   "outputs": [],
   "source": [
    "features = ['a1', 'a2']\n",
    "true_coefs = [10, 15]\n",
    "true_intercept = 2\n",
    "n = 100"
   ]
  },
  {
   "cell_type": "code",
   "execution_count": 133,
   "metadata": {},
   "outputs": [],
   "source": [
    "correlation = 0.95\n",
    "\n",
    "# construct 2D positive-semidefinite covariance matrix\n",
    "cov = [[1, correlation], \n",
    "       [correlation, 1]]\n",
    "\n",
    "model_coefs_center = []\n",
    "for i in range(100):\n",
    "    \n",
    "    # random generation of 2D collinear gaussian multivariate distribution with covariance matrix\n",
    "    X = np.random.multivariate_normal(mean=[2, 4], cov=cov, size=n)\n",
    "    \n",
    "    scalar = StandardScaler(with_std=False)\n",
    "    X = scalar.fit_transform(X)\n",
    "    \n",
    "    # generate gaussian white noise\n",
    "    gaussian_noise = np.random.normal(loc=0, scale=1, size=n)\n",
    "    \n",
    "    # make the outcome\n",
    "    y = true_intercept + true_coefs[0] * X[:, 0] + true_coefs[1] * X[:, 1] + gaussian_noise\n",
    "    \n",
    "    # fit linear model\n",
    "    ols = linear_model.LinearRegression()\n",
    "    model = ols.fit(X, y)\n",
    "    model_coefs_center.append(model.coef_)\n",
    "    \n",
    "model_coefs_center = np.array(model_coefs_center)"
   ]
  },
  {
   "cell_type": "code",
   "execution_count": 134,
   "metadata": {},
   "outputs": [
    {
     "data": {
      "text/html": [
       "<div>\n",
       "<style scoped>\n",
       "    .dataframe tbody tr th:only-of-type {\n",
       "        vertical-align: middle;\n",
       "    }\n",
       "\n",
       "    .dataframe tbody tr th {\n",
       "        vertical-align: top;\n",
       "    }\n",
       "\n",
       "    .dataframe thead th {\n",
       "        text-align: right;\n",
       "    }\n",
       "</style>\n",
       "<table border=\"1\" class=\"dataframe\">\n",
       "  <thead>\n",
       "    <tr style=\"text-align: right;\">\n",
       "      <th></th>\n",
       "      <th>Features</th>\n",
       "      <th>VIF</th>\n",
       "    </tr>\n",
       "  </thead>\n",
       "  <tbody>\n",
       "    <tr>\n",
       "      <th>0</th>\n",
       "      <td>a1</td>\n",
       "      <td>11.76716</td>\n",
       "    </tr>\n",
       "    <tr>\n",
       "      <th>1</th>\n",
       "      <td>a2</td>\n",
       "      <td>11.76716</td>\n",
       "    </tr>\n",
       "  </tbody>\n",
       "</table>\n",
       "</div>"
      ],
      "text/plain": [
       "  Features       VIF\n",
       "0       a1  11.76716\n",
       "1       a2  11.76716"
      ]
     },
     "execution_count": 134,
     "metadata": {},
     "output_type": "execute_result"
    }
   ],
   "source": [
    "from statsmodels.stats.outliers_influence import variance_inflation_factor\n",
    "import pandas as pd\n",
    "\n",
    "vif = pd.DataFrame()\n",
    "vif['Features'] = features\n",
    "vif['VIF'] = np.array([variance_inflation_factor(X, i) for i in range(len(features))])\n",
    "\n",
    "vif"
   ]
  },
  {
   "cell_type": "code",
   "execution_count": 135,
   "metadata": {},
   "outputs": [
    {
     "name": "stdout",
     "output_type": "stream",
     "text": [
      "                            OLS Regression Results                            \n",
      "==============================================================================\n",
      "Dep. Variable:                      y   R-squared:                       0.999\n",
      "Model:                            OLS   Adj. R-squared:                  0.999\n",
      "Method:                 Least Squares   F-statistic:                 3.898e+04\n",
      "Date:                Fri, 29 Nov 2019   Prob (F-statistic):          1.20e-141\n",
      "Time:                        21:59:00   Log-Likelihood:                -134.28\n",
      "No. Observations:                 100   AIC:                             274.6\n",
      "Df Residuals:                      97   BIC:                             282.4\n",
      "Df Model:                           2                                         \n",
      "Covariance Type:            nonrobust                                         \n",
      "==============================================================================\n",
      "                 coef    std err          t      P>|t|      [0.025      0.975]\n",
      "------------------------------------------------------------------------------\n",
      "const          2.1242      0.094     22.575      0.000       1.937       2.311\n",
      "x1             9.6760      0.301     32.136      0.000       9.078      10.274\n",
      "x2            15.1599      0.303     50.111      0.000      14.559      15.760\n",
      "==============================================================================\n",
      "Omnibus:                        1.070   Durbin-Watson:                   2.045\n",
      "Prob(Omnibus):                  0.586   Jarque-Bera (JB):                1.056\n",
      "Skew:                          -0.110   Prob(JB):                        0.590\n",
      "Kurtosis:                       2.547   Cond. No.                         6.71\n",
      "==============================================================================\n",
      "\n",
      "Warnings:\n",
      "[1] Standard Errors assume that the covariance matrix of the errors is correctly specified.\n"
     ]
    }
   ],
   "source": [
    "X_st = sm.add_constant(X)\n",
    "sm_model = sm.OLS(y, X_st).fit()\n",
    "predictions = sm_model.predict(X_st)\n",
    "print(sm_model.summary())"
   ]
  },
  {
   "cell_type": "code",
   "execution_count": 137,
   "metadata": {},
   "outputs": [
    {
     "name": "stdout",
     "output_type": "stream",
     "text": [
      "a1 = [9.37  10.76]\n",
      "a2 = [14.29  15.65]\n"
     ]
    }
   ],
   "source": [
    "print('a1 = [%.2f' % np.percentile(model_coefs_center[:, 0], 2.5), ' %.2f]' % np.percentile(model_coefs_center[:, 0], 97.5))\n",
    "print('a2 = [%.2f' % np.percentile(model_coefs_center[:, 1], 2.5), ' %.2f]' % np.percentile(model_coefs_center[:, 1], 97.5))"
   ]
  },
  {
   "cell_type": "code",
   "execution_count": 136,
   "metadata": {},
   "outputs": [
    {
     "data": {
      "text/plain": [
       "Text(0, 0.5, 'a2')"
      ]
     },
     "execution_count": 136,
     "metadata": {},
     "output_type": "execute_result"
    },
    {
     "data": {
      "image/png": "[encoded data removed]",
      "text/plain": [
       "<Figure size 432x288 with 1 Axes>"
      ]
     },
     "metadata": {},
     "output_type": "display_data"
    }
   ],
   "source": [
    "fig, ax = plt.subplots()\n",
    "\n",
    "ax.scatter(model_coefs_orig[:, 0], model_coefs_orig[:, 1], label='orig')\n",
    "ax.scatter(model_coefs_pca[:, 0], model_coefs_pca[:, 1], label='pca')\n",
    "ax.scatter(model_coefs_center[:, 0], model_coefs_center[:, 1], label='center')\n",
    "ax.legend()\n",
    "ax.set_xlabel('a1', fontsize=20)\n",
    "ax.set_ylabel('a2', fontsize=20)"
   ]
  },
  {
   "cell_type": "markdown",
   "metadata": {},
   "source": [
    "# 3 features"
   ]
  },
  {
   "cell_type": "markdown",
   "metadata": {},
   "source": [
    "# original"
   ]
  },
  {
   "cell_type": "code",
   "execution_count": 151,
   "metadata": {},
   "outputs": [],
   "source": [
    "import pandas as pd\n",
    "import numpy as np\n",
    "import matplotlib.pyplot as plt\n",
    "from sklearn import linear_model\n",
    "from sklearn.decomposition import PCA\n",
    "from sklearn.preprocessing import StandardScaler\n",
    "from statsmodels.stats.outliers_influence import variance_inflation_factor\n",
    "import statsmodels.api as sm"
   ]
  },
  {
   "cell_type": "code",
   "execution_count": 152,
   "metadata": {},
   "outputs": [],
   "source": [
    "features = ['a1', 'a2', 'a3']\n",
    "true_coefs = [2, 4, 10]\n",
    "true_intercept = 2\n",
    "n = 100"
   ]
  },
  {
   "cell_type": "code",
   "execution_count": 159,
   "metadata": {},
   "outputs": [],
   "source": [
    "# construct 2D positive-semidefinite covariance matrix\n",
    "cov = [[1, 0.95, 0.93], \n",
    "       [0.95, 1, 0.95],\n",
    "       [0.93, 0.95, 1]]\n",
    "\n",
    "model_coefs_orig = []\n",
    "for i in range(100):\n",
    "    \n",
    "    # random generation of 2D collinear gaussian multivariate distribution with covariance matrix\n",
    "    X = np.random.multivariate_normal(mean=[2, 4, 10], cov=cov, size=n)\n",
    "\n",
    "    # generate gaussian white noise\n",
    "    gaussian_noise = np.random.normal(loc=0, scale=2, size=n)\n",
    "    \n",
    "    # make the outcome\n",
    "    y = true_intercept + true_coefs[0] * X[:, 0] + true_coefs[1] * X[:, 1] + true_coefs[2] * X[:, 2] + gaussian_noise\n",
    "    \n",
    "    # fit linear model\n",
    "    ols = linear_model.LinearRegression()\n",
    "    model = ols.fit(X, y)\n",
    "    model_coefs_orig.append(model.coef_)\n",
    "    \n",
    "model_coefs_orig = np.array(model_coefs_orig)"
   ]
  },
  {
   "cell_type": "code",
   "execution_count": 160,
   "metadata": {},
   "outputs": [
    {
     "data": {
      "text/html": [
       "<div>\n",
       "<style scoped>\n",
       "    .dataframe tbody tr th:only-of-type {\n",
       "        vertical-align: middle;\n",
       "    }\n",
       "\n",
       "    .dataframe tbody tr th {\n",
       "        vertical-align: top;\n",
       "    }\n",
       "\n",
       "    .dataframe thead th {\n",
       "        text-align: right;\n",
       "    }\n",
       "</style>\n",
       "<table border=\"1\" class=\"dataframe\">\n",
       "  <thead>\n",
       "    <tr style=\"text-align: right;\">\n",
       "      <th></th>\n",
       "      <th>Features</th>\n",
       "      <th>VIF</th>\n",
       "    </tr>\n",
       "  </thead>\n",
       "  <tbody>\n",
       "    <tr>\n",
       "      <th>0</th>\n",
       "      <td>a1</td>\n",
       "      <td>41.566893</td>\n",
       "    </tr>\n",
       "    <tr>\n",
       "      <th>1</th>\n",
       "      <td>a2</td>\n",
       "      <td>246.401621</td>\n",
       "    </tr>\n",
       "    <tr>\n",
       "      <th>2</th>\n",
       "      <td>a3</td>\n",
       "      <td>113.336348</td>\n",
       "    </tr>\n",
       "  </tbody>\n",
       "</table>\n",
       "</div>"
      ],
      "text/plain": [
       "  Features         VIF\n",
       "0       a1   41.566893\n",
       "1       a2  246.401621\n",
       "2       a3  113.336348"
      ]
     },
     "execution_count": 160,
     "metadata": {},
     "output_type": "execute_result"
    }
   ],
   "source": [
    "from statsmodels.stats.outliers_influence import variance_inflation_factor\n",
    "import pandas as pd\n",
    "\n",
    "vif = pd.DataFrame()\n",
    "vif['Features'] = features\n",
    "vif['VIF'] = np.array([variance_inflation_factor(X, i) for i in range(len(features))])\n",
    "\n",
    "vif"
   ]
  },
  {
   "cell_type": "code",
   "execution_count": 161,
   "metadata": {},
   "outputs": [
    {
     "name": "stdout",
     "output_type": "stream",
     "text": [
      "                            OLS Regression Results                            \n",
      "==============================================================================\n",
      "Dep. Variable:                      y   R-squared:                       0.976\n",
      "Model:                            OLS   Adj. R-squared:                  0.975\n",
      "Method:                 Least Squares   F-statistic:                     1298.\n",
      "Date:                Fri, 29 Nov 2019   Prob (F-statistic):           1.54e-77\n",
      "Time:                        22:03:37   Log-Likelihood:                -214.78\n",
      "No. Observations:                 100   AIC:                             437.6\n",
      "Df Residuals:                      96   BIC:                             448.0\n",
      "Df Model:                           3                                         \n",
      "Covariance Type:            nonrobust                                         \n",
      "==============================================================================\n",
      "                 coef    std err          t      P>|t|      [0.025      0.975]\n",
      "------------------------------------------------------------------------------\n",
      "const          3.2692      4.590      0.712      0.478      -5.843      12.381\n",
      "x1             1.1353      0.687      1.653      0.102      -0.228       2.499\n",
      "x2             4.8426      0.849      5.705      0.000       3.158       6.528\n",
      "x3             9.7335      0.655     14.870      0.000       8.434      11.033\n",
      "==============================================================================\n",
      "Omnibus:                        6.239   Durbin-Watson:                   1.681\n",
      "Prob(Omnibus):                  0.044   Jarque-Bera (JB):                6.881\n",
      "Skew:                           0.357   Prob(JB):                       0.0320\n",
      "Kurtosis:                       4.068   Cond. No.                         243.\n",
      "==============================================================================\n",
      "\n",
      "Warnings:\n",
      "[1] Standard Errors assume that the covariance matrix of the errors is correctly specified.\n"
     ]
    }
   ],
   "source": [
    "X_st = sm.add_constant(X)\n",
    "sm_model = sm.OLS(y, X_st).fit()\n",
    "predictions = sm_model.predict(X_st)\n",
    "print(sm_model.summary())"
   ]
  },
  {
   "cell_type": "code",
   "execution_count": 162,
   "metadata": {},
   "outputs": [
    {
     "name": "stdout",
     "output_type": "stream",
     "text": [
      "a1 = [0.80  3.09]\n",
      "a2 = [2.95  5.45]\n",
      "a3 = [8.42  11.17]\n"
     ]
    }
   ],
   "source": [
    "print('a1 = [%.2f' % np.percentile(model_coefs_orig[:, 0], 2.5), ' %.2f]' % np.percentile(model_coefs_orig[:, 0], 97.5))\n",
    "print('a2 = [%.2f' % np.percentile(model_coefs_orig[:, 1], 2.5), ' %.2f]' % np.percentile(model_coefs_orig[:, 1], 97.5))\n",
    "print('a3 = [%.2f' % np.percentile(model_coefs_orig[:, 2], 2.5), ' %.2f]' % np.percentile(model_coefs_orig[:, 2], 97.5))"
   ]
  },
  {
   "cell_type": "markdown",
   "metadata": {},
   "source": [
    "# PCA"
   ]
  },
  {
   "cell_type": "code",
   "execution_count": 170,
   "metadata": {},
   "outputs": [],
   "source": [
    "import pandas as pd\n",
    "import numpy as np\n",
    "import matplotlib.pyplot as plt\n",
    "from sklearn import linear_model\n",
    "from sklearn.decomposition import PCA\n",
    "from sklearn.preprocessing import StandardScaler\n",
    "from statsmodels.stats.outliers_influence import variance_inflation_factor\n",
    "import statsmodels.api as sm"
   ]
  },
  {
   "cell_type": "code",
   "execution_count": 171,
   "metadata": {},
   "outputs": [],
   "source": [
    "features = ['a1', 'a2', 'a3']\n",
    "true_coefs = [2, 4, 10]\n",
    "true_intercept = 2\n",
    "n = 100"
   ]
  },
  {
   "cell_type": "code",
   "execution_count": 174,
   "metadata": {},
   "outputs": [],
   "source": [
    "# construct 2D positive-semidefinite covariance matrix\n",
    "cov = [[1, 0.95, 0.93], \n",
    "       [0.95, 1, 0.95],\n",
    "       [0.93, 0.95, 1]]\n",
    "\n",
    "model_coefs_pca = []\n",
    "for i in range(100):\n",
    "    \n",
    "    # random generation of 2D collinear gaussian multivariate distribution with covariance matrix\n",
    "    X = np.random.multivariate_normal(mean=[2, 4, 10], cov=cov, size=n)\n",
    "\n",
    "    scalar = StandardScaler()\n",
    "    X = scalar.fit_transform(X)\n",
    "\n",
    "    # PCA\n",
    "    pca = PCA(n_components=len(features))\n",
    "    X = pca.fit_transform(X)\n",
    "    \n",
    "    # generate gaussian white noise\n",
    "    gaussian_noise = np.random.normal(loc=0, scale=2, size=n)\n",
    "    \n",
    "    # make the outcome\n",
    "    y = true_intercept + true_coefs[0] * X[:, 0] + true_coefs[1] * X[:, 1] + true_coefs[2] * X[:, 2] + gaussian_noise\n",
    "    \n",
    "    # fit linear model\n",
    "    ols = linear_model.LinearRegression()\n",
    "    model = ols.fit(X, y)\n",
    "    model_coefs_pca.append(model.coef_)\n",
    "    \n",
    "model_coefs_pca = np.array(model_coefs_pca)"
   ]
  },
  {
   "cell_type": "code",
   "execution_count": 175,
   "metadata": {},
   "outputs": [
    {
     "data": {
      "text/html": [
       "<div>\n",
       "<style scoped>\n",
       "    .dataframe tbody tr th:only-of-type {\n",
       "        vertical-align: middle;\n",
       "    }\n",
       "\n",
       "    .dataframe tbody tr th {\n",
       "        vertical-align: top;\n",
       "    }\n",
       "\n",
       "    .dataframe thead th {\n",
       "        text-align: right;\n",
       "    }\n",
       "</style>\n",
       "<table border=\"1\" class=\"dataframe\">\n",
       "  <thead>\n",
       "    <tr style=\"text-align: right;\">\n",
       "      <th></th>\n",
       "      <th>Features</th>\n",
       "      <th>VIF</th>\n",
       "    </tr>\n",
       "  </thead>\n",
       "  <tbody>\n",
       "    <tr>\n",
       "      <th>0</th>\n",
       "      <td>a1</td>\n",
       "      <td>1.0</td>\n",
       "    </tr>\n",
       "    <tr>\n",
       "      <th>1</th>\n",
       "      <td>a2</td>\n",
       "      <td>1.0</td>\n",
       "    </tr>\n",
       "    <tr>\n",
       "      <th>2</th>\n",
       "      <td>a3</td>\n",
       "      <td>1.0</td>\n",
       "    </tr>\n",
       "  </tbody>\n",
       "</table>\n",
       "</div>"
      ],
      "text/plain": [
       "  Features  VIF\n",
       "0       a1  1.0\n",
       "1       a2  1.0\n",
       "2       a3  1.0"
      ]
     },
     "execution_count": 175,
     "metadata": {},
     "output_type": "execute_result"
    }
   ],
   "source": [
    "from statsmodels.stats.outliers_influence import variance_inflation_factor\n",
    "import pandas as pd\n",
    "\n",
    "vif = pd.DataFrame()\n",
    "vif['Features'] = features\n",
    "vif['VIF'] = np.array([variance_inflation_factor(X, i) for i in range(len(features))])\n",
    "\n",
    "vif"
   ]
  },
  {
   "cell_type": "code",
   "execution_count": 176,
   "metadata": {},
   "outputs": [
    {
     "name": "stdout",
     "output_type": "stream",
     "text": [
      "                            OLS Regression Results                            \n",
      "==============================================================================\n",
      "Dep. Variable:                      y   R-squared:                       0.844\n",
      "Model:                            OLS   Adj. R-squared:                  0.839\n",
      "Method:                 Least Squares   F-statistic:                     172.9\n",
      "Date:                Fri, 29 Nov 2019   Prob (F-statistic):           1.43e-38\n",
      "Time:                        22:07:19   Log-Likelihood:                -206.91\n",
      "No. Observations:                 100   AIC:                             421.8\n",
      "Df Residuals:                      96   BIC:                             432.2\n",
      "Df Model:                           3                                         \n",
      "Covariance Type:            nonrobust                                         \n",
      "==============================================================================\n",
      "                 coef    std err          t      P>|t|      [0.025      0.975]\n",
      "------------------------------------------------------------------------------\n",
      "const          1.6930      0.196      8.658      0.000       1.305       2.081\n",
      "x1             2.1387      0.115     18.579      0.000       1.910       2.367\n",
      "x2             3.9743      0.756      5.256      0.000       2.473       5.475\n",
      "x3            10.8062      0.895     12.076      0.000       9.030      12.582\n",
      "==============================================================================\n",
      "Omnibus:                        1.576   Durbin-Watson:                   2.190\n",
      "Prob(Omnibus):                  0.455   Jarque-Bera (JB):                1.269\n",
      "Skew:                          -0.275   Prob(JB):                        0.530\n",
      "Kurtosis:                       3.055   Cond. No.                         7.77\n",
      "==============================================================================\n",
      "\n",
      "Warnings:\n",
      "[1] Standard Errors assume that the covariance matrix of the errors is correctly specified.\n"
     ]
    }
   ],
   "source": [
    "X_st = sm.add_constant(X)\n",
    "sm_model = sm.OLS(y, X_st).fit()\n",
    "predictions = sm_model.predict(X_st)\n",
    "print(sm_model.summary())"
   ]
  },
  {
   "cell_type": "code",
   "execution_count": 177,
   "metadata": {},
   "outputs": [
    {
     "name": "stdout",
     "output_type": "stream",
     "text": [
      "a1 = [1.82  2.24]\n",
      "a2 = [2.64  5.85]\n",
      "a3 = [8.33  11.93]\n"
     ]
    }
   ],
   "source": [
    "print('a1 = [%.2f' % np.percentile(model_coefs_pca[:, 0], 2.5), ' %.2f]' % np.percentile(model_coefs_pca[:, 0], 97.5))\n",
    "print('a2 = [%.2f' % np.percentile(model_coefs_pca[:, 1], 2.5), ' %.2f]' % np.percentile(model_coefs_pca[:, 1], 97.5))\n",
    "print('a3 = [%.2f' % np.percentile(model_coefs_pca[:, 2], 2.5), ' %.2f]' % np.percentile(model_coefs_pca[:, 2], 97.5))"
   ]
  },
  {
   "cell_type": "markdown",
   "metadata": {},
   "source": [
    "# Centering"
   ]
  },
  {
   "cell_type": "code",
   "execution_count": 142,
   "metadata": {},
   "outputs": [],
   "source": [
    "import pandas as pd\n",
    "import numpy as np\n",
    "import matplotlib.pyplot as plt\n",
    "from sklearn import linear_model\n",
    "from sklearn.decomposition import PCA\n",
    "from sklearn.preprocessing import StandardScaler\n",
    "from statsmodels.stats.outliers_influence import variance_inflation_factor\n",
    "import statsmodels.api as sm"
   ]
  },
  {
   "cell_type": "code",
   "execution_count": 143,
   "metadata": {},
   "outputs": [],
   "source": [
    "features = ['a1', 'a2', 'a3']\n",
    "true_coefs = [2, 4, 10]\n",
    "true_intercept = 2\n",
    "n = 100"
   ]
  },
  {
   "cell_type": "code",
   "execution_count": 164,
   "metadata": {},
   "outputs": [],
   "source": [
    "# construct 2D positive-semidefinite covariance matrix\n",
    "cov = [[1, 0.95, 0.93], \n",
    "       [0.95, 1, 0.95],\n",
    "       [0.93, 0.95, 1]]\n",
    "\n",
    "model_coefs_center = []\n",
    "for i in range(100):\n",
    "    \n",
    "    # random generation of 2D collinear gaussian multivariate distribution with covariance matrix\n",
    "    X = np.random.multivariate_normal(mean=[2, 4, 10], cov=cov, size=n)\n",
    "    \n",
    "    scalar = StandardScaler(with_std=False)\n",
    "    X = scalar.fit_transform(X)\n",
    "    \n",
    "    # generate gaussian white noise\n",
    "    gaussian_noise = np.random.normal(loc=0, scale=2, size=n)\n",
    "    \n",
    "    # make the outcome\n",
    "    y = true_intercept + true_coefs[0] * X[:, 0] + true_coefs[1] * X[:, 1] + true_coefs[2] * X[:, 2] + gaussian_noise\n",
    "    \n",
    "    # fit linear model\n",
    "    ols = linear_model.LinearRegression()\n",
    "    model = ols.fit(X, y)\n",
    "    model_coefs_center.append(model.coef_)\n",
    "    \n",
    "model_coefs_center = np.array(model_coefs_center)"
   ]
  },
  {
   "cell_type": "code",
   "execution_count": 145,
   "metadata": {},
   "outputs": [
    {
     "data": {
      "text/html": [
       "<div>\n",
       "<style scoped>\n",
       "    .dataframe tbody tr th:only-of-type {\n",
       "        vertical-align: middle;\n",
       "    }\n",
       "\n",
       "    .dataframe tbody tr th {\n",
       "        vertical-align: top;\n",
       "    }\n",
       "\n",
       "    .dataframe thead th {\n",
       "        text-align: right;\n",
       "    }\n",
       "</style>\n",
       "<table border=\"1\" class=\"dataframe\">\n",
       "  <thead>\n",
       "    <tr style=\"text-align: right;\">\n",
       "      <th></th>\n",
       "      <th>Features</th>\n",
       "      <th>VIF</th>\n",
       "    </tr>\n",
       "  </thead>\n",
       "  <tbody>\n",
       "    <tr>\n",
       "      <th>0</th>\n",
       "      <td>a1</td>\n",
       "      <td>11.866335</td>\n",
       "    </tr>\n",
       "    <tr>\n",
       "      <th>1</th>\n",
       "      <td>a2</td>\n",
       "      <td>17.993888</td>\n",
       "    </tr>\n",
       "    <tr>\n",
       "      <th>2</th>\n",
       "      <td>a3</td>\n",
       "      <td>11.526422</td>\n",
       "    </tr>\n",
       "  </tbody>\n",
       "</table>\n",
       "</div>"
      ],
      "text/plain": [
       "  Features        VIF\n",
       "0       a1  11.866335\n",
       "1       a2  17.993888\n",
       "2       a3  11.526422"
      ]
     },
     "execution_count": 145,
     "metadata": {},
     "output_type": "execute_result"
    }
   ],
   "source": [
    "from statsmodels.stats.outliers_influence import variance_inflation_factor\n",
    "import pandas as pd\n",
    "\n",
    "vif = pd.DataFrame()\n",
    "vif['Features'] = features\n",
    "vif['VIF'] = np.array([variance_inflation_factor(X, i) for i in range(len(features))])\n",
    "\n",
    "vif"
   ]
  },
  {
   "cell_type": "code",
   "execution_count": 146,
   "metadata": {},
   "outputs": [
    {
     "name": "stdout",
     "output_type": "stream",
     "text": [
      "                            OLS Regression Results                            \n",
      "==============================================================================\n",
      "Dep. Variable:                      y   R-squared:                       0.986\n",
      "Model:                            OLS   Adj. R-squared:                  0.985\n",
      "Method:                 Least Squares   F-statistic:                     2215.\n",
      "Date:                Fri, 29 Nov 2019   Prob (F-statistic):           1.82e-88\n",
      "Time:                        22:00:06   Log-Likelihood:                -203.14\n",
      "No. Observations:                 100   AIC:                             414.3\n",
      "Df Residuals:                      96   BIC:                             424.7\n",
      "Df Model:                           3                                         \n",
      "Covariance Type:            nonrobust                                         \n",
      "==============================================================================\n",
      "                 coef    std err          t      P>|t|      [0.025      0.975]\n",
      "------------------------------------------------------------------------------\n",
      "const          2.2459      0.188     11.927      0.000       1.872       2.620\n",
      "x1             0.7699      0.691      1.114      0.268      -0.602       2.141\n",
      "x2             4.0557      0.848      4.785      0.000       2.373       5.738\n",
      "x3            11.2848      0.657     17.170      0.000       9.980      12.589\n",
      "==============================================================================\n",
      "Omnibus:                        0.196   Durbin-Watson:                   1.361\n",
      "Prob(Omnibus):                  0.906   Jarque-Bera (JB):                0.377\n",
      "Skew:                          -0.040   Prob(JB):                        0.828\n",
      "Kurtosis:                       2.710   Cond. No.                         8.88\n",
      "==============================================================================\n",
      "\n",
      "Warnings:\n",
      "[1] Standard Errors assume that the covariance matrix of the errors is correctly specified.\n"
     ]
    }
   ],
   "source": [
    "X_st = sm.add_constant(X)\n",
    "sm_model = sm.OLS(y, X_st).fit()\n",
    "predictions = sm_model.predict(X_st)\n",
    "print(sm_model.summary())"
   ]
  },
  {
   "cell_type": "code",
   "execution_count": 168,
   "metadata": {},
   "outputs": [
    {
     "name": "stdout",
     "output_type": "stream",
     "text": [
      "a1 = [0.76  3.29]\n",
      "a2 = [2.49  5.35]\n",
      "a3 = [8.65  11.24]\n"
     ]
    }
   ],
   "source": [
    "print('a1 = [%.2f' % np.percentile(model_coefs_center[:, 0], 2.5), ' %.2f]' % np.percentile(model_coefs_center[:, 0], 97.5))\n",
    "print('a2 = [%.2f' % np.percentile(model_coefs_center[:, 1], 2.5), ' %.2f]' % np.percentile(model_coefs_center[:, 1], 97.5))\n",
    "print('a3 = [%.2f' % np.percentile(model_coefs_center[:, 2], 2.5), ' %.2f]' % np.percentile(model_coefs_center[:, 2], 97.5))"
   ]
  },
  {
   "cell_type": "code",
   "execution_count": null,
   "metadata": {},
   "outputs": [],
   "source": []
  },
  {
   "cell_type": "code",
   "execution_count": null,
   "metadata": {},
   "outputs": [],
   "source": []
  },
  {
   "cell_type": "code",
   "execution_count": 180,
   "metadata": {},
   "outputs": [
    {
     "name": "stdout",
     "output_type": "stream",
     "text": [
      "Original\n",
      "a1 = [0.80  3.09]\n",
      "a2 = [2.95  5.45]\n",
      "a3 = [8.42  11.17]\n",
      "\n",
      "PCA\n",
      "a1 = [1.82  2.24]\n",
      "a2 = [2.64  5.85]\n",
      "a3 = [8.33  11.93]\n",
      "\n",
      "Center\n",
      "a1 = [0.76  3.29]\n",
      "a2 = [2.49  5.35]\n",
      "a3 = [8.65  11.24]\n"
     ]
    }
   ],
   "source": [
    "print('Original')\n",
    "print('a1 = [%.2f' % np.percentile(model_coefs_orig[:, 0], 2.5), ' %.2f]' % np.percentile(model_coefs_orig[:, 0], 97.5))\n",
    "print('a2 = [%.2f' % np.percentile(model_coefs_orig[:, 1], 2.5), ' %.2f]' % np.percentile(model_coefs_orig[:, 1], 97.5))\n",
    "print('a3 = [%.2f' % np.percentile(model_coefs_orig[:, 2], 2.5), ' %.2f]' % np.percentile(model_coefs_orig[:, 2], 97.5))\n",
    "print('\\nPCA')\n",
    "print('a1 = [%.2f' % np.percentile(model_coefs_pca[:, 0], 2.5), ' %.2f]' % np.percentile(model_coefs_pca[:, 0], 97.5))\n",
    "print('a2 = [%.2f' % np.percentile(model_coefs_pca[:, 1], 2.5), ' %.2f]' % np.percentile(model_coefs_pca[:, 1], 97.5))\n",
    "print('a3 = [%.2f' % np.percentile(model_coefs_pca[:, 2], 2.5), ' %.2f]' % np.percentile(model_coefs_pca[:, 2], 97.5))\n",
    "print('\\nCenter')\n",
    "print('a1 = [%.2f' % np.percentile(model_coefs_center[:, 0], 2.5), ' %.2f]' % np.percentile(model_coefs_center[:, 0], 97.5))\n",
    "print('a2 = [%.2f' % np.percentile(model_coefs_center[:, 1], 2.5), ' %.2f]' % np.percentile(model_coefs_center[:, 1], 97.5))\n",
    "print('a3 = [%.2f' % np.percentile(model_coefs_center[:, 2], 2.5), ' %.2f]' % np.percentile(model_coefs_center[:, 2], 97.5))"
   ]
  },
  {
   "cell_type": "code",
   "execution_count": null,
   "metadata": {},
   "outputs": [],
   "source": [
    "true_coefs = [2, 4, 10]"
   ]
  },
  {
   "cell_type": "code",
   "execution_count": null,
   "metadata": {},
   "outputs": [],
   "source": []
  },
  {
   "cell_type": "code",
   "execution_count": null,
   "metadata": {},
   "outputs": [],
   "source": []
  },
  {
   "cell_type": "code",
   "execution_count": null,
   "metadata": {},
   "outputs": [],
   "source": []
  },
  {
   "cell_type": "code",
   "execution_count": null,
   "metadata": {},
   "outputs": [],
   "source": []
  },
  {
   "cell_type": "code",
   "execution_count": null,
   "metadata": {},
   "outputs": [],
   "source": []
  },
  {
   "cell_type": "code",
   "execution_count": 20,
   "metadata": {},
   "outputs": [
    {
     "name": "stdout",
     "output_type": "stream",
     "text": [
      "                            OLS Regression Results                            \n",
      "==============================================================================\n",
      "Dep. Variable:                      y   R-squared:                       0.994\n",
      "Model:                            OLS   Adj. R-squared:                  0.994\n",
      "Method:                 Least Squares   F-statistic:                     2252.\n",
      "Date:                Wed, 27 Nov 2019   Prob (F-statistic):           9.23e-31\n",
      "Time:                        19:04:04   Log-Likelihood:                -362.09\n",
      "No. Observations:                  29   AIC:                             728.2\n",
      "Df Residuals:                      27   BIC:                             730.9\n",
      "Df Model:                           2                                         \n",
      "Covariance Type:            nonrobust                                         \n",
      "==============================================================================\n",
      "                 coef    std err          t      P>|t|      [0.025      0.975]\n",
      "------------------------------------------------------------------------------\n",
      "x1          9.023e+07   8.73e+06     10.340      0.000    7.23e+07    1.08e+08\n",
      "x2         -1.802e+07   1.98e+06     -9.082      0.000   -2.21e+07   -1.39e+07\n",
      "==============================================================================\n",
      "Omnibus:                        9.266   Durbin-Watson:                   0.091\n",
      "Prob(Omnibus):                  0.010   Jarque-Bera (JB):                2.362\n",
      "Skew:                          -0.164   Prob(JB):                        0.307\n",
      "Kurtosis:                       1.641   Cond. No.                         244.\n",
      "==============================================================================\n",
      "\n",
      "Warnings:\n",
      "[1] Standard Errors assume that the covariance matrix of the errors is correctly specified.\n",
      "\n",
      "\n",
      "\n",
      "\n",
      "\n",
      "  Features          VIF\n",
      "0     Eowf  2787.049357\n",
      "1     Egwf  2787.049357\n"
     ]
    },
    {
     "data": {
      "image/png": "[encoded data removed]",
      "text/plain": [
       "<Figure size 576x288 with 2 Axes>"
      ]
     },
     "metadata": {},
     "output_type": "display_data"
    }
   ],
   "source": [
    "file = 'sample_data/ooip_ogip.csv'\n",
    "df = pd.read_csv(file)\n",
    "\n",
    "features = ['Eowf', 'Egwf']\n",
    "target = 'F'\n",
    "\n",
    "# preprocessing required by sklearn\n",
    "X = df[features].values.reshape(-1, len(features))\n",
    "y = df[target].values\n",
    "\n",
    "# Compute VIF\n",
    "vif = pd.DataFrame()\n",
    "vif['Features'] = features\n",
    "vif['VIF'] = np.array([variance_inflation_factor(X, i) for i in range(len(features))])\n",
    "\n",
    "# statsmodel\n",
    "model = sm.OLS(y, X).fit()\n",
    "predictions = model.predict(X)\n",
    "print(model.summary())\n",
    "\n",
    "print('\\n\\n\\n\\n')\n",
    "print(vif)\n",
    "\n",
    "coefs = []\n",
    "for i in range(1000):\n",
    "    df_temp = df.sample(frac=0.95)\n",
    "\n",
    "    X = df_temp[features].values.reshape(-1, len(features))\n",
    "    y = df_temp[target].values\n",
    "    \n",
    "    ols = linear_model.LinearRegression()\n",
    "    model = ols.fit(X, y)\n",
    "    \n",
    "    coefs.append(model.coef_)\n",
    "    \n",
    "coefs = np.array(coefs)\n",
    "\n",
    "fig, axes = plt.subplots(1, len(features), figsize=(4 * len(features), 4))\n",
    "\n",
    "for i, feature in enumerate(features):\n",
    "    axes[i].hist(coefs[:, i], bins='auto')\n",
    "    axes[i].set_title(feature)\n",
    "    axes[i].set_ylabel('Count')\n",
    "    axes[i].set_xlabel('Regression coefficient value')"
   ]
  },
  {
   "cell_type": "code",
   "execution_count": 163,
   "metadata": {},
   "outputs": [
    {
     "name": "stdout",
     "output_type": "stream",
     "text": [
      "<class 'numpy.ndarray'>\n",
      "                            OLS Regression Results                            \n",
      "==============================================================================\n",
      "Dep. Variable:                      y   R-squared:                       0.181\n",
      "Model:                            OLS   Adj. R-squared:                  0.121\n",
      "Method:                 Least Squares   F-statistic:                     2.992\n",
      "Date:                Fri, 29 Nov 2019   Prob (F-statistic):             0.0671\n",
      "Time:                        21:09:39   Log-Likelihood:                -433.47\n",
      "No. Observations:                  29   AIC:                             870.9\n",
      "Df Residuals:                      27   BIC:                             873.7\n",
      "Df Model:                           2                                         \n",
      "Covariance Type:            nonrobust                                         \n",
      "==============================================================================\n",
      "                 coef    std err          t      P>|t|      [0.025      0.975]\n",
      "------------------------------------------------------------------------------\n",
      "x1         -2.412e+05   1.02e+05     -2.362      0.026   -4.51e+05   -3.17e+04\n",
      "x2          5.196e+06   8.16e+06      0.637      0.530   -1.16e+07    2.19e+07\n",
      "==============================================================================\n",
      "Omnibus:                       24.882   Durbin-Watson:                   0.001\n",
      "Prob(Omnibus):                  0.000   Jarque-Bera (JB):                3.207\n",
      "Skew:                           0.027   Prob(JB):                        0.201\n",
      "Kurtosis:                       1.372   Cond. No.                         79.9\n",
      "==============================================================================\n",
      "\n",
      "Warnings:\n",
      "[1] Standard Errors assume that the covariance matrix of the errors is correctly specified.\n",
      "  Features  VIF\n",
      "0     Eowf  1.0\n",
      "1     Egwf  1.0\n"
     ]
    },
    {
     "data": {
      "image/png": "[encoded data removed]",
      "text/plain": [
       "<Figure size 576x288 with 2 Axes>"
      ]
     },
     "metadata": {},
     "output_type": "display_data"
    }
   ],
   "source": [
    "file = 'sample_data/ooip_ogip.csv'\n",
    "df = pd.read_csv(file)\n",
    "\n",
    "features = ['Eowf', 'Egwf']\n",
    "target = 'F'\n",
    "\n",
    "# Standardization\n",
    "scalar = StandardScaler()\n",
    "X = scalar.fit_transform(df[features])\n",
    "\n",
    "# PCA\n",
    "pca = PCA(n_components=len(features))\n",
    "X = pca.fit_transform(X)\n",
    "\n",
    "print(type(X))\n",
    "\n",
    "# Reconstruct df with transformed features\n",
    "df_trans = pd.DataFrame(X)\n",
    "df_trans[target] = df[target]\n",
    "df_trans.columns = features + [target]\n",
    "\n",
    "# preprocessing required by sklearn\n",
    "X = df_trans[features].values.reshape(-1, len(features))\n",
    "y = df_trans[target].values\n",
    "\n",
    "# statsmodel\n",
    "model = sm.OLS(y, X).fit()\n",
    "predictions = model.predict(X)\n",
    "print(model.summary())\n",
    "\n",
    "vif = pd.DataFrame()\n",
    "vif['Features'] = features\n",
    "vif['VIF'] = np.array([variance_inflation_factor(X, i) for i in range(len(features))])\n",
    "\n",
    "print(vif)\n",
    "\n",
    "coefs = []\n",
    "for i in range(1000):\n",
    "    \n",
    "    # randomly sample 70% of the original data. This is essentially bootstrapping\n",
    "    df_temp = df_trans.sample(frac=0.7)\n",
    "\n",
    "    X = df_temp[features].values.reshape(-1, len(features))\n",
    "    y = df_temp[target].values\n",
    "    \n",
    "    ols = linear_model.LinearRegression(fit_intercept=False)\n",
    "    model = ols.fit(X, y)\n",
    "    \n",
    "    coefs.append(model.coef_)\n",
    "    \n",
    "coefs = np.array(coefs)\n",
    "\n",
    "fig, axes = plt.subplots(1, len(features), figsize=(4 * len(features), 4))\n",
    "\n",
    "for i, feature in enumerate(features):\n",
    "    axes[i].hist(coefs[:, i], bins='auto')\n",
    "    axes[i].set_title(feature)\n",
    "    axes[i].set_ylabel('Count')\n",
    "    axes[i].set_xlabel('Regression coefficient value')\n",
    "    \n",
    "fig.tight_layout()"
   ]
  },
  {
   "cell_type": "code",
   "execution_count": 17,
   "metadata": {},
   "outputs": [
    {
     "data": {
      "text/plain": [
       "array([ 3844830.39400844, -3503719.21148126])"
      ]
     },
     "execution_count": 17,
     "metadata": {},
     "output_type": "execute_result"
    }
   ],
   "source": [
    "sm_model.params"
   ]
  },
  {
   "cell_type": "code",
   "execution_count": 18,
   "metadata": {},
   "outputs": [
    {
     "data": {
      "text/plain": [
       "array([-5196209.2579275 ,  -241202.03030353])"
      ]
     },
     "execution_count": 18,
     "metadata": {},
     "output_type": "execute_result"
    }
   ],
   "source": [
    "pca_inverse = pca.inverse_transform(sm_model.params)\n",
    "pca_inverse"
   ]
  },
  {
   "cell_type": "code",
   "execution_count": 19,
   "metadata": {},
   "outputs": [
    {
     "data": {
      "text/plain": [
       "array([-124291.81061746,  -24081.35939605])"
      ]
     },
     "execution_count": 19,
     "metadata": {},
     "output_type": "execute_result"
    }
   ],
   "source": [
    "pca_inverse = pca.inverse_transform(sm_model.params)\n",
    "\n",
    "scalar.inverse_transform(pca_inverse)"
   ]
  },
  {
   "cell_type": "code",
   "execution_count": 6,
   "metadata": {},
   "outputs": [
    {
     "data": {
      "text/plain": [
       "array([[  -251725.52996658,   6784667.67113444],\n",
       "       [  -659868.94590499, -11829722.22955466],\n",
       "       [  -191775.09498549,  -1408872.44269721],\n",
       "       ...,\n",
       "       [  -298643.41037758,   3678384.98523384],\n",
       "       [  -264200.68853622,   2165056.06443315],\n",
       "       [  -201849.14634761,   4924510.92333155]])"
      ]
     },
     "execution_count": 6,
     "metadata": {},
     "output_type": "execute_result"
    }
   ],
   "source": [
    "coefs"
   ]
  },
  {
   "cell_type": "code",
   "execution_count": null,
   "metadata": {},
   "outputs": [],
   "source": []
  },
  {
   "cell_type": "code",
   "execution_count": null,
   "metadata": {},
   "outputs": [],
   "source": []
  },
  {
   "cell_type": "code",
   "execution_count": null,
   "metadata": {},
   "outputs": [],
   "source": []
  },
  {
   "cell_type": "code",
   "execution_count": 6,
   "metadata": {},
   "outputs": [],
   "source": [
    "file = 'sample_data/ooip_ogip.csv'\n",
    "df = pd.read_csv(file)\n",
    "\n",
    "features = ['Eowf', 'Egwf']\n",
    "target = 'F'"
   ]
  },
  {
   "cell_type": "code",
   "execution_count": 9,
   "metadata": {},
   "outputs": [
    {
     "name": "stdout",
     "output_type": "stream",
     "text": [
      "0.9734009040213185\n",
      "[ 89137384.70067914 -18363222.42705864]\n"
     ]
    }
   ],
   "source": [
    "X = df[features].values.reshape(-1, len(features))\n",
    "y = df[target].values\n",
    "\n",
    "ols = linear_model.LinearRegression(fit_intercept=False)\n",
    "model = ols.fit(X, y)\n",
    "\n",
    "print(model.score(X, y))\n",
    "print(model.coef_)"
   ]
  },
  {
   "cell_type": "code",
   "execution_count": 10,
   "metadata": {},
   "outputs": [
    {
     "name": "stdout",
     "output_type": "stream",
     "text": [
      "                            OLS Regression Results                            \n",
      "==============================================================================\n",
      "Dep. Variable:                      y   R-squared:                       0.980\n",
      "Model:                            OLS   Adj. R-squared:                  0.979\n",
      "Method:                 Least Squares   F-statistic:                     798.1\n",
      "Date:                Wed, 27 Nov 2019   Prob (F-statistic):           1.14e-28\n",
      "Time:                        17:31:02   Log-Likelihood:                -442.12\n",
      "No. Observations:                  36   AIC:                             890.2\n",
      "Df Residuals:                      33   BIC:                             895.0\n",
      "Df Model:                           2                                         \n",
      "Covariance Type:            nonrobust                                         \n",
      "==============================================================================\n",
      "                 coef    std err          t      P>|t|      [0.025      0.975]\n",
      "------------------------------------------------------------------------------\n",
      "const       1.183e+05   3.68e+04      3.215      0.003    4.34e+04    1.93e+05\n",
      "x1          1.093e+08   8.37e+06     13.053      0.000    9.22e+07    1.26e+08\n",
      "x2          -2.33e+07   1.99e+06    -11.690      0.000   -2.74e+07   -1.92e+07\n",
      "==============================================================================\n",
      "Omnibus:                       10.563   Durbin-Watson:                   0.249\n",
      "Prob(Omnibus):                  0.005   Jarque-Bera (JB):                2.643\n",
      "Skew:                          -0.129   Prob(JB):                        0.267\n",
      "Kurtosis:                       1.698   Cond. No.                         997.\n",
      "==============================================================================\n",
      "\n",
      "Warnings:\n",
      "[1] Standard Errors assume that the covariance matrix of the errors is correctly specified.\n"
     ]
    }
   ],
   "source": [
    "# statsmodel\n",
    "X_st = sm.add_constant(X)\n",
    "model = sm.OLS(y, X_st).fit()\n",
    "predictions = model.predict(X_st)\n",
    "print(model.summary())"
   ]
  },
  {
   "cell_type": "code",
   "execution_count": null,
   "metadata": {},
   "outputs": [],
   "source": []
  },
  {
   "cell_type": "code",
   "execution_count": null,
   "metadata": {},
   "outputs": [],
   "source": []
  },
  {
   "cell_type": "markdown",
   "metadata": {},
   "source": [
    "multicollinearity is a problem with Mahalanobis distance. \n",
    "\n",
    "https://python-data-science.readthedocs.io/en/latest/unsupervised.html\n",
    "While powerful, its use of correlation can be detrimantal when there is multicollinearity (strong correlations among features)."
   ]
  },
  {
   "cell_type": "code",
   "execution_count": 23,
   "metadata": {},
   "outputs": [
    {
     "name": "stdout",
     "output_type": "stream",
     "text": [
      "                            OLS Regression Results                            \n",
      "==============================================================================\n",
      "Dep. Variable:                      y   R-squared:                       0.960\n",
      "Model:                            OLS   Adj. R-squared:                  0.959\n",
      "Method:                 Least Squares   F-statistic:                     768.8\n",
      "Date:                Wed, 27 Nov 2019   Prob (F-statistic):          8.13e-132\n",
      "Time:                        04:57:10   Log-Likelihood:                -1341.7\n",
      "No. Observations:                 200   AIC:                             2697.\n",
      "Df Residuals:                     193   BIC:                             2721.\n",
      "Df Model:                           6                                         \n",
      "Covariance Type:            nonrobust                                         \n",
      "==============================================================================\n",
      "                 coef    std err          t      P>|t|      [0.025      0.975]\n",
      "------------------------------------------------------------------------------\n",
      "const      -1230.2620    181.565     -6.776      0.000   -1588.369    -872.155\n",
      "x1           230.2958     10.022     22.980      0.000     210.530     250.062\n",
      "x2            24.9967      1.490     16.772      0.000      22.057      27.936\n",
      "x3          -363.7361     69.866     -5.206      0.000    -501.534    -225.938\n",
      "x4           783.1874    126.371      6.198      0.000     533.941    1032.434\n",
      "x5           116.2280     13.986      8.310      0.000      88.642     143.814\n",
      "x6           -77.4367     80.643     -0.960      0.338    -236.492      81.619\n",
      "==============================================================================\n",
      "Omnibus:                       16.412   Durbin-Watson:                   1.938\n",
      "Prob(Omnibus):                  0.000   Jarque-Bera (JB):               19.341\n",
      "Skew:                          -0.607   Prob(JB):                     6.31e-05\n",
      "Kurtosis:                       3.920   Cond. No.                         762.\n",
      "==============================================================================\n",
      "\n",
      "Warnings:\n",
      "[1] Standard Errors assume that the covariance matrix of the errors is correctly specified.\n",
      "\n",
      "\n",
      "\n",
      "\n",
      "\n",
      "  Features         VIF\n",
      "0      Por   62.645242\n",
      "1  Brittle   19.370696\n",
      "2       AI  122.734765\n",
      "3       VR  259.597778\n",
      "4     Perm   16.887354\n",
      "5      TOC   33.668133\n"
     ]
    },
    {
     "data": {
      "image/png": "[encoded data removed]",
      "text/plain": [
       "<Figure size 1728x288 with 6 Axes>"
      ]
     },
     "metadata": {},
     "output_type": "display_data"
    }
   ],
   "source": [
    "file = 'https://aegis4048.github.io/downloads/notebooks/sample_data/unconv_MV_v5.csv'\n",
    "df = pd.read_csv(file).iloc[:, 1:]\n",
    "\n",
    "features = ['Por', 'Brittle', 'AI', 'VR', 'Perm', 'TOC']\n",
    "target = 'Prod'\n",
    "\n",
    "# preprocessing required by sklearn\n",
    "X = df[features].values.reshape(-1, len(features))\n",
    "y = df[target].values\n",
    "\n",
    "# Compute VIF\n",
    "vif = pd.DataFrame()\n",
    "vif['Features'] = features\n",
    "vif['VIF'] = np.array([variance_inflation_factor(X, i) for i in range(len(features))])\n",
    "\n",
    "# statsmodel\n",
    "X_st = sm.add_constant(X)\n",
    "model = sm.OLS(y, X_st).fit()\n",
    "predictions = model.predict(X_st)\n",
    "print(model.summary())\n",
    "\n",
    "print('\\n\\n\\n\\n')\n",
    "print(vif)\n",
    "\n",
    "coefs = []\n",
    "for i in range(1000):\n",
    "    df_temp = df.sample(frac=0.95)\n",
    "\n",
    "    X = df_temp[features].values.reshape(-1, len(features))\n",
    "    y = df_temp[target].values\n",
    "    \n",
    "    ols = linear_model.LinearRegression()\n",
    "    model = ols.fit(X, y)\n",
    "    \n",
    "    coefs.append(model.coef_)\n",
    "    \n",
    "coefs = np.array(coefs)\n",
    "\n",
    "fig, axes = plt.subplots(1, len(features), figsize=(4 * len(features), 4))\n",
    "\n",
    "for i, feature in enumerate(features):\n",
    "    axes[i].hist(coefs[:, i], bins='auto')\n",
    "    axes[i].set_title(feature)\n",
    "    axes[i].set_ylabel('Count')\n",
    "    axes[i].set_xlabel('Regression coefficient value')"
   ]
  },
  {
   "cell_type": "code",
   "execution_count": 24,
   "metadata": {},
   "outputs": [
    {
     "name": "stdout",
     "output_type": "stream",
     "text": [
      "                            OLS Regression Results                            \n",
      "==============================================================================\n",
      "Dep. Variable:                      y   R-squared:                       0.960\n",
      "Model:                            OLS   Adj. R-squared:                  0.959\n",
      "Method:                 Least Squares   F-statistic:                     768.8\n",
      "Date:                Wed, 27 Nov 2019   Prob (F-statistic):          8.13e-132\n",
      "Time:                        04:57:23   Log-Likelihood:                -1341.7\n",
      "No. Observations:                 200   AIC:                             2697.\n",
      "Df Residuals:                     193   BIC:                             2721.\n",
      "Df Model:                           6                                         \n",
      "Covariance Type:            nonrobust                                         \n",
      "==============================================================================\n",
      "                 coef    std err          t      P>|t|      [0.025      0.975]\n",
      "------------------------------------------------------------------------------\n",
      "const      -1230.2620    181.565     -6.776      0.000   -1588.369    -872.155\n",
      "x1           230.2958     10.022     22.980      0.000     210.530     250.062\n",
      "x2            24.9967      1.490     16.772      0.000      22.057      27.936\n",
      "x3          -363.7361     69.866     -5.206      0.000    -501.534    -225.938\n",
      "x4           783.1874    126.371      6.198      0.000     533.941    1032.434\n",
      "x5           116.2280     13.986      8.310      0.000      88.642     143.814\n",
      "x6           -77.4367     80.643     -0.960      0.338    -236.492      81.619\n",
      "==============================================================================\n",
      "Omnibus:                       16.412   Durbin-Watson:                   1.938\n",
      "Prob(Omnibus):                  0.000   Jarque-Bera (JB):               19.341\n",
      "Skew:                          -0.607   Prob(JB):                     6.31e-05\n",
      "Kurtosis:                       3.920   Cond. No.                         762.\n",
      "==============================================================================\n",
      "\n",
      "Warnings:\n",
      "[1] Standard Errors assume that the covariance matrix of the errors is correctly specified.\n",
      "\n",
      "\n",
      "\n",
      "\n",
      "\n",
      "  Features         VIF\n",
      "0      Por   62.645242\n",
      "1  Brittle   19.370696\n",
      "2       AI  122.734765\n",
      "3       VR  259.597778\n",
      "4     Perm   16.887354\n",
      "5      TOC   33.668133\n"
     ]
    },
    {
     "data": {
      "image/png": "[encoded data removed]",
      "text/plain": [
       "<Figure size 1728x288 with 6 Axes>"
      ]
     },
     "metadata": {},
     "output_type": "display_data"
    }
   ],
   "source": [
    "file = 'https://aegis4048.github.io/downloads/notebooks/sample_data/unconv_MV_v5.csv'\n",
    "df = pd.read_csv(file).iloc[:, 1:]\n",
    "\n",
    "features = ['Por', 'Brittle', 'AI', 'VR', 'Perm', 'TOC']\n",
    "target = 'Prod'\n",
    "\n",
    "# preprocessing required by sklearn\n",
    "X = df[features].values.reshape(-1, len(features))\n",
    "y = df[target].values\n",
    "\n",
    "# statsmodel\n",
    "X_st = sm.add_constant(X)\n",
    "model = sm.OLS(y, X_st).fit()\n",
    "predictions = model.predict(X_st)\n",
    "print(model.summary())\n",
    "\n",
    "# Compute VIF\n",
    "vif = pd.DataFrame()\n",
    "vif['Features'] = features\n",
    "vif['VIF'] = np.array([variance_inflation_factor(X, i) for i in range(len(features))])\n",
    "\n",
    "print('\\n\\n\\n\\n')\n",
    "print(vif)\n",
    "\n",
    "coefs = []\n",
    "for i in range(1000):\n",
    "    df_temp = df.sample(frac=0.95)\n",
    "\n",
    "    X = df_temp[features].values.reshape(-1, len(features))\n",
    "    y = df_temp[target].values\n",
    "    \n",
    "    ols = linear_model.LinearRegression()\n",
    "    model = ols.fit(X, y)\n",
    "    \n",
    "    coefs.append(model.coef_)\n",
    "    \n",
    "coefs = np.array(coefs)\n",
    "\n",
    "fig, axes = plt.subplots(1, len(features), figsize=(4 * len(features), 4))\n",
    "\n",
    "for i, feature in enumerate(features):\n",
    "    axes[i].hist(coefs[:, i], bins='auto')\n",
    "    axes[i].set_title(feature)\n",
    "    axes[i].set_ylabel('Count')\n",
    "    axes[i].set_xlabel('Regression coefficient value')"
   ]
  },
  {
   "cell_type": "code",
   "execution_count": null,
   "metadata": {},
   "outputs": [],
   "source": []
  },
  {
   "cell_type": "code",
   "execution_count": 15,
   "metadata": {},
   "outputs": [],
   "source": [
    "import pandas as pd\n",
    "import numpy as np\n",
    "import matplotlib.pyplot as plt\n",
    "from sklearn import linear_model\n",
    "from sklearn.decomposition import PCA\n",
    "from sklearn.preprocessing import StandardScaler\n",
    "from statsmodels.stats.outliers_influence import variance_inflation_factor\n",
    "import statsmodels.api as sm"
   ]
  },
  {
   "cell_type": "markdown",
   "metadata": {},
   "source": [
    "# Raw"
   ]
  },
  {
   "cell_type": "code",
   "execution_count": 3,
   "metadata": {},
   "outputs": [
    {
     "data": {
      "text/html": [
       "<div>\n",
       "<style scoped>\n",
       "    .dataframe tbody tr th:only-of-type {\n",
       "        vertical-align: middle;\n",
       "    }\n",
       "\n",
       "    .dataframe tbody tr th {\n",
       "        vertical-align: top;\n",
       "    }\n",
       "\n",
       "    .dataframe thead th {\n",
       "        text-align: right;\n",
       "    }\n",
       "</style>\n",
       "<table border=\"1\" class=\"dataframe\">\n",
       "  <thead>\n",
       "    <tr style=\"text-align: right;\">\n",
       "      <th></th>\n",
       "      <th>Features</th>\n",
       "      <th>VIF</th>\n",
       "    </tr>\n",
       "  </thead>\n",
       "  <tbody>\n",
       "    <tr>\n",
       "      <th>0</th>\n",
       "      <td>Por</td>\n",
       "      <td>7.363348</td>\n",
       "    </tr>\n",
       "    <tr>\n",
       "      <th>1</th>\n",
       "      <td>Brittle</td>\n",
       "      <td>7.363348</td>\n",
       "    </tr>\n",
       "  </tbody>\n",
       "</table>\n",
       "</div>"
      ],
      "text/plain": [
       "  Features       VIF\n",
       "0      Por  7.363348\n",
       "1  Brittle  7.363348"
      ]
     },
     "execution_count": 3,
     "metadata": {},
     "output_type": "execute_result"
    }
   ],
   "source": [
    "file = 'https://aegis4048.github.io/downloads/notebooks/sample_data/unconv_MV_v5.csv'\n",
    "df = pd.read_csv(file).iloc[:, 1:]\n",
    "\n",
    "features = ['Por', 'Brittle']\n",
    "target = 'Prod'\n",
    "\n",
    "X = df[features].values.reshape(-1, len(features))\n",
    "y = df[target].values\n",
    "\n",
    "vif = pd.DataFrame()\n",
    "vif['Features'] = features\n",
    "vif['VIF'] = np.array([variance_inflation_factor(X, i) for i in range(len(features))])\n",
    "vif"
   ]
  },
  {
   "cell_type": "code",
   "execution_count": 3,
   "metadata": {},
   "outputs": [
    {
     "data": {
      "image/png": "[encoded data removed]",
      "text/plain": [
       "<Figure size 432x288 with 1 Axes>"
      ]
     },
     "metadata": {},
     "output_type": "display_data"
    },
    {
     "data": {
      "image/png": "[encoded data removed]",
      "text/plain": [
       "<Figure size 432x288 with 1 Axes>"
      ]
     },
     "metadata": {},
     "output_type": "display_data"
    }
   ],
   "source": [
    "coefs = []\n",
    "for i in range(1000):\n",
    "    df_temp = df.sample(frac=0.7)\n",
    "    \n",
    "    X = df_temp[features].values.reshape(-1, len(features))\n",
    "    y = df_temp[target].values\n",
    "    \n",
    "    ols = linear_model.LinearRegression()\n",
    "    model = ols.fit(X, y)\n",
    "    \n",
    "    coefs.append(model.coef_)\n",
    "    \n",
    "coefs = np.array(coefs)\n",
    "\n",
    "for i, feature in enumerate(features):\n",
    "    fig, ax = plt.subplots()\n",
    "    ax.hist(coefs[:, i])\n",
    "    ax.set_title(feature)"
   ]
  },
  {
   "cell_type": "code",
   "execution_count": 11,
   "metadata": {},
   "outputs": [
    {
     "data": {
      "text/html": [
       "<div>\n",
       "<style scoped>\n",
       "    .dataframe tbody tr th:only-of-type {\n",
       "        vertical-align: middle;\n",
       "    }\n",
       "\n",
       "    .dataframe tbody tr th {\n",
       "        vertical-align: top;\n",
       "    }\n",
       "\n",
       "    .dataframe thead th {\n",
       "        text-align: right;\n",
       "    }\n",
       "</style>\n",
       "<table border=\"1\" class=\"dataframe\">\n",
       "  <thead>\n",
       "    <tr style=\"text-align: right;\">\n",
       "      <th></th>\n",
       "      <th>Features</th>\n",
       "      <th>VIF</th>\n",
       "    </tr>\n",
       "  </thead>\n",
       "  <tbody>\n",
       "    <tr>\n",
       "      <th>0</th>\n",
       "      <td>Por</td>\n",
       "      <td>225.857649</td>\n",
       "    </tr>\n",
       "    <tr>\n",
       "      <th>1</th>\n",
       "      <td>Brittle</td>\n",
       "      <td>39.077458</td>\n",
       "    </tr>\n",
       "    <tr>\n",
       "      <th>2</th>\n",
       "      <td>AI</td>\n",
       "      <td>208.845031</td>\n",
       "    </tr>\n",
       "    <tr>\n",
       "      <th>3</th>\n",
       "      <td>VR</td>\n",
       "      <td>362.619204</td>\n",
       "    </tr>\n",
       "    <tr>\n",
       "      <th>4</th>\n",
       "      <td>Perm</td>\n",
       "      <td>27.982176</td>\n",
       "    </tr>\n",
       "    <tr>\n",
       "      <th>5</th>\n",
       "      <td>TOC</td>\n",
       "      <td>35.538260</td>\n",
       "    </tr>\n",
       "    <tr>\n",
       "      <th>6</th>\n",
       "      <td>Prod</td>\n",
       "      <td>401.944335</td>\n",
       "    </tr>\n",
       "  </tbody>\n",
       "</table>\n",
       "</div>"
      ],
      "text/plain": [
       "  Features         VIF\n",
       "0      Por  225.857649\n",
       "1  Brittle   39.077458\n",
       "2       AI  208.845031\n",
       "3       VR  362.619204\n",
       "4     Perm   27.982176\n",
       "5      TOC   35.538260\n",
       "6     Prod  401.944335"
      ]
     },
     "execution_count": 11,
     "metadata": {},
     "output_type": "execute_result"
    }
   ],
   "source": [
    "file = 'https://aegis4048.github.io/downloads/notebooks/sample_data/unconv_MV_v5.csv'\n",
    "df = pd.read_csv(file).iloc[:, 1:]\n",
    "\n",
    "features = ['Por', 'Brittle', 'AI', 'VR', 'Perm', 'TOC']\n",
    "target = 'Prod'\n",
    "\n",
    "X = df[features].values.reshape(-1, len(features))\n",
    "y = df[target].values\n",
    "\n",
    "vif = pd.DataFrame()\n",
    "vif['Features'] = features\n",
    "vif['VIF'] = np.array([variance_inflation_factor(X, i) for i in range(len(features))])\n",
    "vif"
   ]
  },
  {
   "cell_type": "code",
   "execution_count": 5,
   "metadata": {},
   "outputs": [
    {
     "data": {
      "image/png": "[encoded data removed]",
      "text/plain": [
       "<Figure size 432x288 with 1 Axes>"
      ]
     },
     "metadata": {},
     "output_type": "display_data"
    },
    {
     "data": {
      "image/png": "[encoded data removed]",
      "text/plain": [
       "<Figure size 432x288 with 1 Axes>"
      ]
     },
     "metadata": {},
     "output_type": "display_data"
    },
    {
     "data": {
      "image/png": "[encoded data removed]",
      "text/plain": [
       "<Figure size 432x288 with 1 Axes>"
      ]
     },
     "metadata": {},
     "output_type": "display_data"
    },
    {
     "data": {
      "image/png": "[encoded data removed]",
      "text/plain": [
       "<Figure size 432x288 with 1 Axes>"
      ]
     },
     "metadata": {},
     "output_type": "display_data"
    },
    {
     "data": {
      "image/png": "[encoded data removed]",
      "text/plain": [
       "<Figure size 432x288 with 1 Axes>"
      ]
     },
     "metadata": {},
     "output_type": "display_data"
    },
    {
     "data": {
      "image/png": "[encoded data removed]",
      "text/plain": [
       "<Figure size 432x288 with 1 Axes>"
      ]
     },
     "metadata": {},
     "output_type": "display_data"
    }
   ],
   "source": [
    "coefs = []\n",
    "for i in range(1000):\n",
    "    df_temp = df.sample(frac=0.7)\n",
    "    \n",
    "    X = df_temp[features].values.reshape(-1, len(features))\n",
    "    y = df_temp[target].values\n",
    "    \n",
    "    ols = linear_model.LinearRegression()\n",
    "    model = ols.fit(X, y)\n",
    "    \n",
    "    coefs.append(model.coef_)\n",
    "    \n",
    "coefs = np.array(coefs)\n",
    "\n",
    "for i, feature in enumerate(features):\n",
    "    fig, ax = plt.subplots()\n",
    "    ax.hist(coefs[:, i])\n",
    "    ax.set_title(feature)"
   ]
  },
  {
   "cell_type": "markdown",
   "metadata": {},
   "source": [
    "# Centered"
   ]
  },
  {
   "cell_type": "code",
   "execution_count": 55,
   "metadata": {},
   "outputs": [
    {
     "data": {
      "text/html": [
       "<div>\n",
       "<style scoped>\n",
       "    .dataframe tbody tr th:only-of-type {\n",
       "        vertical-align: middle;\n",
       "    }\n",
       "\n",
       "    .dataframe tbody tr th {\n",
       "        vertical-align: top;\n",
       "    }\n",
       "\n",
       "    .dataframe thead th {\n",
       "        text-align: right;\n",
       "    }\n",
       "</style>\n",
       "<table border=\"1\" class=\"dataframe\">\n",
       "  <thead>\n",
       "    <tr style=\"text-align: right;\">\n",
       "      <th></th>\n",
       "      <th>Features</th>\n",
       "      <th>VIF</th>\n",
       "    </tr>\n",
       "  </thead>\n",
       "  <tbody>\n",
       "    <tr>\n",
       "      <th>0</th>\n",
       "      <td>Por</td>\n",
       "      <td>1.05017</td>\n",
       "    </tr>\n",
       "    <tr>\n",
       "      <th>1</th>\n",
       "      <td>Brittle</td>\n",
       "      <td>1.05017</td>\n",
       "    </tr>\n",
       "  </tbody>\n",
       "</table>\n",
       "</div>"
      ],
      "text/plain": [
       "  Features      VIF\n",
       "0      Por  1.05017\n",
       "1  Brittle  1.05017"
      ]
     },
     "execution_count": 55,
     "metadata": {},
     "output_type": "execute_result"
    }
   ],
   "source": [
    "file = 'https://aegis4048.github.io/downloads/notebooks/sample_data/unconv_MV_v5.csv'\n",
    "df = pd.read_csv(file).iloc[:, 1:]\n",
    "\n",
    "features = ['Por', 'Brittle']\n",
    "target = 'Prod'\n",
    "\n",
    "scalar = StandardScaler(with_std=False)\n",
    "X = scalar.fit_transform(df[features])\n",
    "\n",
    "X = X.reshape(-1, len(features))\n",
    "y = df[target].values\n",
    "\n",
    "vif = pd.DataFrame()\n",
    "vif['Features'] = features\n",
    "vif['VIF'] = np.array([variance_inflation_factor(X, i) for i in range(len(features))])\n",
    "vif"
   ]
  },
  {
   "cell_type": "code",
   "execution_count": 56,
   "metadata": {},
   "outputs": [
    {
     "data": {
      "image/png": "[encoded data removed]",
      "text/plain": [
       "<Figure size 432x288 with 1 Axes>"
      ]
     },
     "metadata": {},
     "output_type": "display_data"
    },
    {
     "data": {
      "image/png": "[encoded data removed]",
      "text/plain": [
       "<Figure size 432x288 with 1 Axes>"
      ]
     },
     "metadata": {},
     "output_type": "display_data"
    }
   ],
   "source": [
    "coefs = []\n",
    "for i in range(1000):\n",
    "    df_temp = df.sample(frac=0.7)\n",
    "    \n",
    "    X = df_temp[features].values.reshape(-1, len(features))\n",
    "    y = df_temp[target].values\n",
    "    \n",
    "    ols = linear_model.LinearRegression()\n",
    "    model = ols.fit(X, y)\n",
    "    \n",
    "    coefs.append(model.coef_)\n",
    "    \n",
    "coefs = np.array(coefs)\n",
    "\n",
    "for i, feature in enumerate(features):\n",
    "    fig, ax = plt.subplots()\n",
    "    ax.hist(coefs[:, i])\n",
    "    ax.set_title(feature)"
   ]
  },
  {
   "cell_type": "code",
   "execution_count": 57,
   "metadata": {},
   "outputs": [
    {
     "data": {
      "text/html": [
       "<div>\n",
       "<style scoped>\n",
       "    .dataframe tbody tr th:only-of-type {\n",
       "        vertical-align: middle;\n",
       "    }\n",
       "\n",
       "    .dataframe tbody tr th {\n",
       "        vertical-align: top;\n",
       "    }\n",
       "\n",
       "    .dataframe thead th {\n",
       "        text-align: right;\n",
       "    }\n",
       "</style>\n",
       "<table border=\"1\" class=\"dataframe\">\n",
       "  <thead>\n",
       "    <tr style=\"text-align: right;\">\n",
       "      <th></th>\n",
       "      <th>Features</th>\n",
       "      <th>VIF</th>\n",
       "    </tr>\n",
       "  </thead>\n",
       "  <tbody>\n",
       "    <tr>\n",
       "      <th>0</th>\n",
       "      <td>Por</td>\n",
       "      <td>4.329838</td>\n",
       "    </tr>\n",
       "    <tr>\n",
       "      <th>1</th>\n",
       "      <td>Brittle</td>\n",
       "      <td>2.165476</td>\n",
       "    </tr>\n",
       "    <tr>\n",
       "      <th>2</th>\n",
       "      <td>AI</td>\n",
       "      <td>7.660318</td>\n",
       "    </tr>\n",
       "    <tr>\n",
       "      <th>3</th>\n",
       "      <td>VR</td>\n",
       "      <td>7.057671</td>\n",
       "    </tr>\n",
       "    <tr>\n",
       "      <th>4</th>\n",
       "      <td>Perm</td>\n",
       "      <td>2.862487</td>\n",
       "    </tr>\n",
       "    <tr>\n",
       "      <th>5</th>\n",
       "      <td>TOC</td>\n",
       "      <td>7.365773</td>\n",
       "    </tr>\n",
       "  </tbody>\n",
       "</table>\n",
       "</div>"
      ],
      "text/plain": [
       "  Features       VIF\n",
       "0      Por  4.329838\n",
       "1  Brittle  2.165476\n",
       "2       AI  7.660318\n",
       "3       VR  7.057671\n",
       "4     Perm  2.862487\n",
       "5      TOC  7.365773"
      ]
     },
     "execution_count": 57,
     "metadata": {},
     "output_type": "execute_result"
    }
   ],
   "source": [
    "file = 'https://aegis4048.github.io/downloads/notebooks/sample_data/unconv_MV_v5.csv'\n",
    "df = pd.read_csv(file).iloc[:, 1:]\n",
    "\n",
    "features = ['Por', 'Brittle', 'AI', 'VR', 'Perm', 'TOC']\n",
    "target = 'Prod'\n",
    "\n",
    "scalar = StandardScaler(with_std=False)\n",
    "X = scalar.fit_transform(df[features])\n",
    "\n",
    "X = X.reshape(-1, len(features))\n",
    "y = df[target].values\n",
    "\n",
    "vif = pd.DataFrame()\n",
    "vif['Features'] = features\n",
    "vif['VIF'] = np.array([variance_inflation_factor(X, i) for i in range(len(features))])\n",
    "vif"
   ]
  },
  {
   "cell_type": "code",
   "execution_count": 58,
   "metadata": {
    "scrolled": false
   },
   "outputs": [
    {
     "data": {
      "image/png": "[encoded data removed]",
      "text/plain": [
       "<Figure size 432x288 with 1 Axes>"
      ]
     },
     "metadata": {},
     "output_type": "display_data"
    },
    {
     "data": {
      "image/png": "[encoded data removed]",
      "text/plain": [
       "<Figure size 432x288 with 1 Axes>"
      ]
     },
     "metadata": {},
     "output_type": "display_data"
    },
    {
     "data": {
      "image/png": "[encoded data removed]",
      "text/plain": [
       "<Figure size 432x288 with 1 Axes>"
      ]
     },
     "metadata": {},
     "output_type": "display_data"
    },
    {
     "data": {
      "image/png": "[encoded data removed]",
      "text/plain": [
       "<Figure size 432x288 with 1 Axes>"
      ]
     },
     "metadata": {},
     "output_type": "display_data"
    },
    {
     "data": {
      "image/png": "[encoded data removed]",
      "text/plain": [
       "<Figure size 432x288 with 1 Axes>"
      ]
     },
     "metadata": {},
     "output_type": "display_data"
    },
    {
     "data": {
      "image/png": "[encoded data removed]",
      "text/plain": [
       "<Figure size 432x288 with 1 Axes>"
      ]
     },
     "metadata": {},
     "output_type": "display_data"
    }
   ],
   "source": [
    "coefs = []\n",
    "for i in range(1000):\n",
    "    df_temp = df.sample(frac=0.7)\n",
    "    \n",
    "    X = df_temp[features].values.reshape(-1, len(features))\n",
    "    y = df_temp[target].values\n",
    "    \n",
    "    ols = linear_model.LinearRegression()\n",
    "    model = ols.fit(X, y)\n",
    "    \n",
    "    coefs.append(model.coef_)\n",
    "    \n",
    "coefs = np.array(coefs)\n",
    "\n",
    "for i, feature in enumerate(features):\n",
    "    fig, ax = plt.subplots()\n",
    "    ax.hist(coefs[:, i])\n",
    "    ax.set_title(feature)"
   ]
  },
  {
   "cell_type": "markdown",
   "metadata": {},
   "source": [
    "# PCA"
   ]
  },
  {
   "cell_type": "code",
   "execution_count": 6,
   "metadata": {},
   "outputs": [],
   "source": [
    "import pandas as pd\n",
    "import numpy as np\n",
    "import matplotlib.pyplot as plt\n",
    "from sklearn import linear_model\n",
    "from sklearn.decomposition import PCA\n",
    "from sklearn.preprocessing import StandardScaler\n",
    "from statsmodels.stats.outliers_influence import variance_inflation_factor"
   ]
  },
  {
   "cell_type": "code",
   "execution_count": 25,
   "metadata": {},
   "outputs": [
    {
     "name": "stdout",
     "output_type": "stream",
     "text": [
      "                            OLS Regression Results                            \n",
      "==============================================================================\n",
      "Dep. Variable:                      y   R-squared:                       0.960\n",
      "Model:                            OLS   Adj. R-squared:                  0.959\n",
      "Method:                 Least Squares   F-statistic:                     768.8\n",
      "Date:                Wed, 27 Nov 2019   Prob (F-statistic):          8.13e-132\n",
      "Time:                        04:57:36   Log-Likelihood:                -1341.7\n",
      "No. Observations:                 200   AIC:                             2697.\n",
      "Df Residuals:                     193   BIC:                             2721.\n",
      "Df Model:                           6                                         \n",
      "Covariance Type:            nonrobust                                         \n",
      "==============================================================================\n",
      "                 coef    std err          t      P>|t|      [0.025      0.975]\n",
      "------------------------------------------------------------------------------\n",
      "const       4311.2199     14.274    302.032      0.000    4283.067    4339.373\n",
      "x1           464.2095      8.698     53.368      0.000     447.054     481.365\n",
      "x2           351.3879     11.515     30.516      0.000     328.676     374.099\n",
      "x3          -334.4029     15.168    -22.046      0.000    -364.320    -304.486\n",
      "x4           230.9533     17.364     13.300      0.000     196.705     265.202\n",
      "x5           456.9751     35.356     12.925      0.000     387.242     526.709\n",
      "x6           127.3438     66.455      1.916      0.057      -3.728     258.415\n",
      "==============================================================================\n",
      "Omnibus:                       16.412   Durbin-Watson:                   1.938\n",
      "Prob(Omnibus):                  0.000   Jarque-Bera (JB):               19.341\n",
      "Skew:                          -0.607   Prob(JB):                     6.31e-05\n",
      "Kurtosis:                       3.920   Cond. No.                         7.64\n",
      "==============================================================================\n",
      "\n",
      "Warnings:\n",
      "[1] Standard Errors assume that the covariance matrix of the errors is correctly specified.\n",
      "  Features  VIF\n",
      "0      Por  1.0\n",
      "1  Brittle  1.0\n",
      "2       AI  1.0\n",
      "3       VR  1.0\n",
      "4     Perm  1.0\n",
      "5      TOC  1.0\n"
     ]
    },
    {
     "data": {
      "image/png": "[encoded data removed]",
      "text/plain": [
       "<Figure size 1728x288 with 6 Axes>"
      ]
     },
     "metadata": {},
     "output_type": "display_data"
    }
   ],
   "source": [
    "file = 'https://aegis4048.github.io/downloads/notebooks/sample_data/unconv_MV_v5.csv'\n",
    "df = pd.read_csv(file).iloc[:, 1:]\n",
    "\n",
    "features = ['Por', 'Brittle', 'AI', 'VR', 'Perm', 'TOC']\n",
    "target = 'Prod'\n",
    "\n",
    "# Standardization\n",
    "scalar = StandardScaler()\n",
    "X = scalar.fit_transform(df[features])\n",
    "\n",
    "# PCA\n",
    "pca = PCA(n_components=len(features))\n",
    "X = pca.fit_transform(X)\n",
    "\n",
    "# Reconstruct df with transformed features\n",
    "df_trans = pd.DataFrame(X)\n",
    "df_trans[target] = df[target]\n",
    "df_trans.columns = features + [target]\n",
    "\n",
    "# preprocessing required by sklearn\n",
    "X = df_trans[features].values.reshape(-1, len(features))\n",
    "y = df_trans[target].values\n",
    "\n",
    "# statsmodel\n",
    "X_st = sm.add_constant(X)\n",
    "model = sm.OLS(y, X_st).fit()\n",
    "predictions = model.predict(X_st)\n",
    "print(model.summary())\n",
    "\n",
    "vif = pd.DataFrame()\n",
    "vif['Features'] = features\n",
    "vif['VIF'] = np.array([variance_inflation_factor(X, i) for i in range(len(features))])\n",
    "\n",
    "print(vif)\n",
    "\n",
    "coefs = []\n",
    "for i in range(1000):\n",
    "    \n",
    "    # randomly sample 70% of the original data. This is essentially bootstrapping\n",
    "    df_temp = df_trans.sample(frac=0.7)\n",
    "\n",
    "    X = df_temp[features].values.reshape(-1, len(features))\n",
    "    y = df_temp[target].values\n",
    "    \n",
    "    ols = linear_model.LinearRegression()\n",
    "    model = ols.fit(X, y)\n",
    "    \n",
    "    coefs.append(model.coef_)\n",
    "    \n",
    "coefs = np.array(coefs)\n",
    "\n",
    "fig, axes = plt.subplots(1, len(features), figsize=(4 * len(features), 4))\n",
    "\n",
    "for i, feature in enumerate(features):\n",
    "    axes[i].hist(coefs[:, i], bins='auto')\n",
    "    axes[i].set_title(feature)\n",
    "    axes[i].set_ylabel('Count')\n",
    "    axes[i].set_xlabel('Regression coefficient value')\n",
    "    \n",
    "fig.tight_layout()"
   ]
  },
  {
   "cell_type": "code",
   "execution_count": 26,
   "metadata": {},
   "outputs": [
    {
     "name": "stdout",
     "output_type": "stream",
     "text": [
      "                            OLS Regression Results                            \n",
      "==============================================================================\n",
      "Dep. Variable:                      y   R-squared:                       0.940\n",
      "Model:                            OLS   Adj. R-squared:                  0.939\n",
      "Method:                 Least Squares   F-statistic:                     766.9\n",
      "Date:                Wed, 27 Nov 2019   Prob (F-statistic):          4.69e-118\n",
      "Time:                        04:57:42   Log-Likelihood:                -1381.5\n",
      "No. Observations:                 200   AIC:                             2773.\n",
      "Df Residuals:                     195   BIC:                             2790.\n",
      "Df Model:                           4                                         \n",
      "Covariance Type:            nonrobust                                         \n",
      "==============================================================================\n",
      "                 coef    std err          t      P>|t|      [0.025      0.975]\n",
      "------------------------------------------------------------------------------\n",
      "const       4311.2199     17.324    248.857      0.000    4277.053    4345.386\n",
      "x1           517.4663     12.016     43.065      0.000     493.769     541.164\n",
      "x2          -561.5111     17.913    -31.347      0.000    -596.839    -526.183\n",
      "x3            89.4061     19.509      4.583      0.000      50.931     127.882\n",
      "x4          -564.3426     38.993    -14.473      0.000    -641.244    -487.441\n",
      "==============================================================================\n",
      "Omnibus:                       21.092   Durbin-Watson:                   1.926\n",
      "Prob(Omnibus):                  0.000   Jarque-Bera (JB):               26.690\n",
      "Skew:                          -0.706   Prob(JB):                     1.60e-06\n",
      "Kurtosis:                       4.100   Cond. No.                         3.25\n",
      "==============================================================================\n",
      "\n",
      "Warnings:\n",
      "[1] Standard Errors assume that the covariance matrix of the errors is correctly specified.\n",
      "  Features  VIF\n",
      "0      Por  1.0\n",
      "1  Brittle  1.0\n",
      "2       AI  1.0\n",
      "3     Perm  1.0\n"
     ]
    },
    {
     "data": {
      "image/png": "[encoded data removed]",
      "text/plain": [
       "<Figure size 1152x288 with 4 Axes>"
      ]
     },
     "metadata": {},
     "output_type": "display_data"
    }
   ],
   "source": [
    "file = 'https://aegis4048.github.io/downloads/notebooks/sample_data/unconv_MV_v5.csv'\n",
    "df = pd.read_csv(file).iloc[:, 1:]\n",
    "\n",
    "features = ['Por', 'Brittle', 'AI', 'Perm']\n",
    "target = 'Prod'\n",
    "\n",
    "# Standardization\n",
    "scalar = StandardScaler()\n",
    "X = scalar.fit_transform(df[features])\n",
    "\n",
    "# PCA\n",
    "pca = PCA(n_components=len(features))\n",
    "X = pca.fit_transform(X)\n",
    "\n",
    "# Reconstruct df with transformed features\n",
    "df_trans = pd.DataFrame(X)\n",
    "df_trans[target] = df[target]\n",
    "df_trans.columns = features + [target]\n",
    "\n",
    "# preprocessing required by sklearn\n",
    "X = df_trans[features].values.reshape(-1, len(features))\n",
    "y = df_trans[target].values\n",
    "\n",
    "# statsmodel\n",
    "X_st = sm.add_constant(X)\n",
    "model = sm.OLS(y, X_st).fit()\n",
    "predictions = model.predict(X_st)\n",
    "print(model.summary())\n",
    "\n",
    "vif = pd.DataFrame()\n",
    "vif['Features'] = features\n",
    "vif['VIF'] = np.array([variance_inflation_factor(X, i) for i in range(len(features))])\n",
    "\n",
    "print(vif)\n",
    "\n",
    "coefs = []\n",
    "for i in range(1000):\n",
    "    df_temp = df_trans.sample(frac=0.7)\n",
    "\n",
    "    X = df_temp[features].values.reshape(-1, len(features))\n",
    "    y = df_temp[target].values\n",
    "    \n",
    "    ols = linear_model.LinearRegression()\n",
    "    model = ols.fit(X, y)\n",
    "    \n",
    "    coefs.append(model.coef_)\n",
    "    \n",
    "coefs = np.array(coefs)\n",
    "\n",
    "fig, axes = plt.subplots(1, len(features), figsize=(4 * len(features), 4))\n",
    "\n",
    "for i, feature in enumerate(features):\n",
    "    axes[i].hist(coefs[:, i], bins='auto')\n",
    "    axes[i].set_title(feature)\n",
    "    axes[i].set_ylabel('Count')\n",
    "    axes[i].set_xlabel('Regression coefficient value')\n",
    "    \n",
    "fig.tight_layout()"
   ]
  },
  {
   "cell_type": "code",
   "execution_count": 27,
   "metadata": {},
   "outputs": [
    {
     "name": "stdout",
     "output_type": "stream",
     "text": [
      "                            OLS Regression Results                            \n",
      "==============================================================================\n",
      "Dep. Variable:                      y   R-squared:                       0.933\n",
      "Model:                            OLS   Adj. R-squared:                  0.932\n",
      "Method:                 Least Squares   F-statistic:                     1373.\n",
      "Date:                Wed, 27 Nov 2019   Prob (F-statistic):          2.14e-116\n",
      "Time:                        04:57:46   Log-Likelihood:                -1392.8\n",
      "No. Observations:                 200   AIC:                             2792.\n",
      "Df Residuals:                     197   BIC:                             2802.\n",
      "Df Model:                           2                                         \n",
      "Covariance Type:            nonrobust                                         \n",
      "==============================================================================\n",
      "                 coef    std err          t      P>|t|      [0.025      0.975]\n",
      "------------------------------------------------------------------------------\n",
      "const       4311.2199     18.241    236.347      0.000    4275.247    4347.193\n",
      "x1           358.7432     16.524     21.710      0.000     326.156     391.330\n",
      "x2           984.1435     20.635     47.693      0.000     943.450    1024.837\n",
      "==============================================================================\n",
      "Omnibus:                       10.823   Durbin-Watson:                   1.960\n",
      "Prob(Omnibus):                  0.004   Jarque-Bera (JB):               12.252\n",
      "Skew:                          -0.444   Prob(JB):                      0.00219\n",
      "Kurtosis:                       3.825   Cond. No.                         1.25\n",
      "==============================================================================\n",
      "\n",
      "Warnings:\n",
      "[1] Standard Errors assume that the covariance matrix of the errors is correctly specified.\n",
      "  Features  VIF\n",
      "0      Por  1.0\n",
      "1  Brittle  1.0\n"
     ]
    },
    {
     "data": {
      "image/png": "[encoded data removed]",
      "text/plain": [
       "<Figure size 576x288 with 2 Axes>"
      ]
     },
     "metadata": {},
     "output_type": "display_data"
    }
   ],
   "source": [
    "file = 'https://aegis4048.github.io/downloads/notebooks/sample_data/unconv_MV_v5.csv'\n",
    "df = pd.read_csv(file).iloc[:, 1:]\n",
    "\n",
    "features = ['Por', 'Brittle']\n",
    "target = 'Prod'\n",
    "\n",
    "# Standardization\n",
    "scalar = StandardScaler()\n",
    "X = scalar.fit_transform(df[features])\n",
    "\n",
    "# PCA\n",
    "pca = PCA(n_components=len(features))\n",
    "X = pca.fit_transform(X)\n",
    "\n",
    "# Reconstruct df with transformed features\n",
    "df_trans = pd.DataFrame(X)\n",
    "df_trans[target] = df[target]\n",
    "df_trans.columns = features + [target]\n",
    "\n",
    "# preprocessing required by sklearn\n",
    "X = df_trans[features].values.reshape(-1, len(features))\n",
    "y = df_trans[target].values\n",
    "\n",
    "# statsmodel\n",
    "X_st = sm.add_constant(X)\n",
    "model = sm.OLS(y, X_st).fit()\n",
    "predictions = model.predict(X_st)\n",
    "print(model.summary())\n",
    "\n",
    "vif = pd.DataFrame()\n",
    "vif['Features'] = features\n",
    "vif['VIF'] = np.array([variance_inflation_factor(X, i) for i in range(len(features))])\n",
    "\n",
    "print(vif)\n",
    "\n",
    "coefs = []\n",
    "for i in range(1000):\n",
    "    df_temp = df_trans.sample(frac=0.7)\n",
    "\n",
    "    X = df_temp[features].values.reshape(-1, len(features))\n",
    "    y = df_temp[target].values\n",
    "    \n",
    "    ols = linear_model.LinearRegression()\n",
    "    model = ols.fit(X, y)\n",
    "    \n",
    "    coefs.append(model.coef_)\n",
    "    \n",
    "coefs = np.array(coefs)\n",
    "\n",
    "fig, axes = plt.subplots(1, len(features), figsize=(4 * len(features), 4))\n",
    "\n",
    "for i, feature in enumerate(features):\n",
    "    axes[i].hist(coefs[:, i], bins='auto')\n",
    "    axes[i].set_title(feature)\n",
    "    axes[i].set_ylabel('Count')\n",
    "    axes[i].set_xlabel('Regression coefficient value')\n",
    "    \n",
    "fig.tight_layout()"
   ]
  },
  {
   "cell_type": "code",
   "execution_count": null,
   "metadata": {},
   "outputs": [],
   "source": []
  },
  {
   "cell_type": "code",
   "execution_count": null,
   "metadata": {},
   "outputs": [],
   "source": []
  },
  {
   "cell_type": "code",
   "execution_count": null,
   "metadata": {},
   "outputs": [],
   "source": []
  },
  {
   "cell_type": "code",
   "execution_count": null,
   "metadata": {},
   "outputs": [],
   "source": []
  },
  {
   "cell_type": "code",
   "execution_count": null,
   "metadata": {},
   "outputs": [],
   "source": []
  },
  {
   "cell_type": "code",
   "execution_count": null,
   "metadata": {},
   "outputs": [],
   "source": []
  },
  {
   "cell_type": "code",
   "execution_count": null,
   "metadata": {},
   "outputs": [],
   "source": []
  },
  {
   "cell_type": "code",
   "execution_count": null,
   "metadata": {},
   "outputs": [],
   "source": []
  },
  {
   "cell_type": "code",
   "execution_count": null,
   "metadata": {},
   "outputs": [],
   "source": []
  },
  {
   "cell_type": "code",
   "execution_count": null,
   "metadata": {},
   "outputs": [],
   "source": []
  },
  {
   "cell_type": "code",
   "execution_count": null,
   "metadata": {},
   "outputs": [],
   "source": []
  },
  {
   "cell_type": "code",
   "execution_count": 4,
   "metadata": {},
   "outputs": [
    {
     "data": {
      "text/html": [
       "<div>\n",
       "<style scoped>\n",
       "    .dataframe tbody tr th:only-of-type {\n",
       "        vertical-align: middle;\n",
       "    }\n",
       "\n",
       "    .dataframe tbody tr th {\n",
       "        vertical-align: top;\n",
       "    }\n",
       "\n",
       "    .dataframe thead th {\n",
       "        text-align: right;\n",
       "    }\n",
       "</style>\n",
       "<table border=\"1\" class=\"dataframe\">\n",
       "  <thead>\n",
       "    <tr style=\"text-align: right;\">\n",
       "      <th></th>\n",
       "      <th>Features</th>\n",
       "      <th>VIF</th>\n",
       "    </tr>\n",
       "  </thead>\n",
       "  <tbody>\n",
       "    <tr>\n",
       "      <th>0</th>\n",
       "      <td>Por</td>\n",
       "      <td>1.0</td>\n",
       "    </tr>\n",
       "    <tr>\n",
       "      <th>1</th>\n",
       "      <td>Brittle</td>\n",
       "      <td>1.0</td>\n",
       "    </tr>\n",
       "    <tr>\n",
       "      <th>2</th>\n",
       "      <td>Perm</td>\n",
       "      <td>1.0</td>\n",
       "    </tr>\n",
       "    <tr>\n",
       "      <th>3</th>\n",
       "      <td>AI</td>\n",
       "      <td>1.0</td>\n",
       "    </tr>\n",
       "  </tbody>\n",
       "</table>\n",
       "</div>"
      ],
      "text/plain": [
       "  Features  VIF\n",
       "0      Por  1.0\n",
       "1  Brittle  1.0\n",
       "2     Perm  1.0\n",
       "3       AI  1.0"
      ]
     },
     "execution_count": 4,
     "metadata": {},
     "output_type": "execute_result"
    }
   ],
   "source": [
    "file = 'https://aegis4048.github.io/downloads/notebooks/sample_data/unconv_MV_v5.csv'\n",
    "df = pd.read_csv(file).iloc[:, 1:]\n",
    "\n",
    "features = ['Por', 'Brittle', 'Perm', 'AI']\n",
    "target = 'Prod'\n",
    "\n",
    "scalar = StandardScaler()\n",
    "X = scalar.fit_transform(df[features])\n",
    "\n",
    "pca = PCA(n_components=len(features))\n",
    "X = pca.fit_transform(X)\n",
    "\n",
    "X = X.reshape(-1, len(features))\n",
    "y = df[target].values\n",
    "\n",
    "vif = pd.DataFrame()\n",
    "vif['Features'] = features\n",
    "vif['VIF'] = np.array([variance_inflation_factor(X, i) for i in range(len(features))])\n",
    "vif"
   ]
  },
  {
   "cell_type": "code",
   "execution_count": 5,
   "metadata": {},
   "outputs": [
    {
     "data": {
      "image/png": "[encoded data removed]",
      "text/plain": [
       "<Figure size 1152x288 with 4 Axes>"
      ]
     },
     "metadata": {},
     "output_type": "display_data"
    }
   ],
   "source": [
    "coefs = []\n",
    "for i in range(1000):\n",
    "    df_temp = df.sample(frac=0.7)\n",
    "    \n",
    "    scalar = StandardScaler()\n",
    "    X = scalar.fit_transform(df_temp.values)\n",
    "\n",
    "    pca = PCA(n_components=len(features))\n",
    "    X = pca.fit_transform(X)\n",
    "\n",
    "    X = X.reshape(-1, len(features))\n",
    "    y = df_temp[target].values\n",
    "    \n",
    "    ols = linear_model.LinearRegression()\n",
    "    model = ols.fit(X, y)\n",
    "    \n",
    "    coefs.append(model.coef_)\n",
    "    \n",
    "coefs = np.array(coefs)\n",
    "\n",
    "fig, axes = plt.subplots(1, len(features), figsize=(4 * len(features), 4))\n",
    "\n",
    "for i, feature in enumerate(features):\n",
    "    axes[i].hist(coefs[:, i], bins='auto')\n",
    "    axes[i].set_title(feature)\n",
    "    axes[i].set_ylabel('Count')\n",
    "    axes[i].set_xlabel('Regression coefficient value')"
   ]
  },
  {
   "cell_type": "code",
   "execution_count": 6,
   "metadata": {},
   "outputs": [
    {
     "data": {
      "text/html": [
       "<div>\n",
       "<style scoped>\n",
       "    .dataframe tbody tr th:only-of-type {\n",
       "        vertical-align: middle;\n",
       "    }\n",
       "\n",
       "    .dataframe tbody tr th {\n",
       "        vertical-align: top;\n",
       "    }\n",
       "\n",
       "    .dataframe thead th {\n",
       "        text-align: right;\n",
       "    }\n",
       "</style>\n",
       "<table border=\"1\" class=\"dataframe\">\n",
       "  <thead>\n",
       "    <tr style=\"text-align: right;\">\n",
       "      <th></th>\n",
       "      <th>Features</th>\n",
       "      <th>VIF</th>\n",
       "    </tr>\n",
       "  </thead>\n",
       "  <tbody>\n",
       "    <tr>\n",
       "      <th>0</th>\n",
       "      <td>Por</td>\n",
       "      <td>1.0</td>\n",
       "    </tr>\n",
       "    <tr>\n",
       "      <th>1</th>\n",
       "      <td>Brittle</td>\n",
       "      <td>1.0</td>\n",
       "    </tr>\n",
       "    <tr>\n",
       "      <th>2</th>\n",
       "      <td>AI</td>\n",
       "      <td>1.0</td>\n",
       "    </tr>\n",
       "    <tr>\n",
       "      <th>3</th>\n",
       "      <td>VR</td>\n",
       "      <td>1.0</td>\n",
       "    </tr>\n",
       "    <tr>\n",
       "      <th>4</th>\n",
       "      <td>Perm</td>\n",
       "      <td>1.0</td>\n",
       "    </tr>\n",
       "    <tr>\n",
       "      <th>5</th>\n",
       "      <td>TOC</td>\n",
       "      <td>1.0</td>\n",
       "    </tr>\n",
       "  </tbody>\n",
       "</table>\n",
       "</div>"
      ],
      "text/plain": [
       "  Features  VIF\n",
       "0      Por  1.0\n",
       "1  Brittle  1.0\n",
       "2       AI  1.0\n",
       "3       VR  1.0\n",
       "4     Perm  1.0\n",
       "5      TOC  1.0"
      ]
     },
     "execution_count": 6,
     "metadata": {},
     "output_type": "execute_result"
    }
   ],
   "source": [
    "file = 'https://aegis4048.github.io/downloads/notebooks/sample_data/unconv_MV_v5.csv'\n",
    "df = pd.read_csv(file).iloc[:, 1:]\n",
    "\n",
    "features = ['Por', 'Brittle', 'AI', 'VR', 'Perm', 'TOC']\n",
    "target = 'Prod'\n",
    "\n",
    "scalar = StandardScaler()\n",
    "X = scalar.fit_transform(df.values)\n",
    "\n",
    "pca = PCA(n_components=len(features))\n",
    "X = pca.fit_transform(X)\n",
    "\n",
    "X = X.reshape(-1, len(features))\n",
    "y = df[target].values\n",
    "\n",
    "vif = pd.DataFrame()\n",
    "vif['Features'] = features\n",
    "vif['VIF'] = np.array([variance_inflation_factor(X, i) for i in range(len(features))])\n",
    "vif"
   ]
  },
  {
   "cell_type": "code",
   "execution_count": 7,
   "metadata": {},
   "outputs": [
    {
     "data": {
      "image/png": "[encoded data removed]",
      "text/plain": [
       "<Figure size 432x288 with 1 Axes>"
      ]
     },
     "metadata": {},
     "output_type": "display_data"
    },
    {
     "data": {
      "image/png": "[encoded data removed]",
      "text/plain": [
       "<Figure size 432x288 with 1 Axes>"
      ]
     },
     "metadata": {},
     "output_type": "display_data"
    },
    {
     "data": {
      "image/png": "[encoded data removed]",
      "text/plain": [
       "<Figure size 432x288 with 1 Axes>"
      ]
     },
     "metadata": {},
     "output_type": "display_data"
    },
    {
     "data": {
      "image/png": "[encoded data removed]",
      "text/plain": [
       "<Figure size 432x288 with 1 Axes>"
      ]
     },
     "metadata": {},
     "output_type": "display_data"
    },
    {
     "data": {
      "image/png": "[encoded data removed]",
      "text/plain": [
       "<Figure size 432x288 with 1 Axes>"
      ]
     },
     "metadata": {},
     "output_type": "display_data"
    },
    {
     "data": {
      "image/png": "[encoded data removed]",
      "text/plain": [
       "<Figure size 432x288 with 1 Axes>"
      ]
     },
     "metadata": {},
     "output_type": "display_data"
    }
   ],
   "source": [
    "coefs = []\n",
    "r = []\n",
    "for i in range(1000):\n",
    "    df_temp = df.sample(frac=0.7)\n",
    "    \n",
    "    scalar = StandardScaler()\n",
    "    X = scalar.fit_transform(df_temp.values)\n",
    "\n",
    "    pca = PCA(n_components=len(features))\n",
    "    X = pca.fit_transform(X)\n",
    "\n",
    "    X = X.reshape(-1, len(features))\n",
    "    y = df_temp[target].values\n",
    "    \n",
    "    ols = linear_model.LinearRegression()\n",
    "    model = ols.fit(X, y)\n",
    "    \n",
    "    coefs.append(model.coef_)\n",
    "    \n",
    "    r.append(model.score(X, y))\n",
    "    \n",
    "coefs = np.array(coefs)\n",
    "\n",
    "for i, feature in enumerate(features):\n",
    "    fig, ax = plt.subplots()\n",
    "    ax.hist(coefs[:, i], bins='auto')\n",
    "    ax.set_title(feature)"
   ]
  },
  {
   "cell_type": "code",
   "execution_count": 9,
   "metadata": {},
   "outputs": [
    {
     "data": {
      "text/plain": [
       "array([-214.5982385 ,  123.74342539,   70.77110659,   56.87212411,\n",
       "         56.53388293,  164.46445716,  131.33881182,   55.34281759,\n",
       "        166.52876831,   58.30200155,  129.30784068,  110.76253426,\n",
       "         -8.5205867 ,   75.96285387,  162.9913495 ,  134.23211329,\n",
       "         86.28961524,  258.79667236,   41.25975719,  174.58824505,\n",
       "        165.76815614,  192.83252518,  162.09912498,  181.0609212 ,\n",
       "        133.6041303 ,   91.74225786,  162.3437963 ,  134.25806308,\n",
       "        167.63417848, -243.73087435,  151.58283645, -182.96664201,\n",
       "        -73.94919992, -143.68758187,  211.68019925,  141.48369222,\n",
       "       -252.84766516,  238.54549752,  170.26866752,  103.30889493,\n",
       "       -216.32541621,   97.50450336,   62.22314081,  122.47958225,\n",
       "       -182.42362655,  120.40220087,   82.49752192,  105.8806393 ,\n",
       "         78.66881573,   88.34884903,  126.40364343,    7.58734101,\n",
       "        118.10461083,  141.16959885, -241.62083627,  -12.79692893,\n",
       "        105.66806216,   67.33793977, -182.7729212 , -185.66768272,\n",
       "        113.02959838, -147.577371  ,  172.90681987,  166.71607524,\n",
       "        160.32174304, -253.17436694, -215.42973029,  117.99318185,\n",
       "         86.81386943,  166.3474467 ,  168.31909227,   99.31543211,\n",
       "         84.36225258,  190.83614897,  166.36978274,  119.85705129,\n",
       "        123.9452355 ,  137.07310241,  127.76083803, -133.45006571,\n",
       "        143.28465943,  114.97030216,   43.27042522,   17.78113247,\n",
       "       -161.25208275,  124.07063735,  173.45604768,   41.69840552,\n",
       "        178.20377023, -214.82069899,  117.77185253, -204.3129187 ,\n",
       "        166.7098911 ,   65.17399365, -269.82371723,  102.69108338,\n",
       "        160.73733486,  183.20859852,  112.17114952,  155.06181784,\n",
       "        140.23243029,  150.31892423,  164.42032406,  102.47760392,\n",
       "        161.40099926,   89.18811551,  142.54813524,  163.8459093 ,\n",
       "         94.70866718,  117.98599092,  130.90071382,  184.28189598,\n",
       "        165.8972656 ,  177.39778289, -214.44198247,  117.57713244,\n",
       "        231.02078686,  184.48781783, -197.57425337,   65.63679398,\n",
       "        140.83040853, -216.05158204,  176.01468798,  135.37247068,\n",
       "       -204.71929022,   64.0407609 ,  175.21572955,   37.34610496,\n",
       "       -134.3373886 ,  109.46703207,   90.34458093,  124.76352298,\n",
       "       -254.87203776,  128.86427982,  145.14117026,  177.03812043,\n",
       "        166.93101162,   72.77081618,   42.95643621,  141.97176488,\n",
       "         38.71606935,   54.58565691,   77.29024827, -233.08222067,\n",
       "        162.59733624, -120.56795901,   76.45211708,  128.95358436,\n",
       "        128.48591972, -226.82306485,   88.75151751,  137.83945522,\n",
       "        152.70680012, -179.30522893,   78.22020141,  148.71579243,\n",
       "        221.84497214,  172.49207411, -174.9545077 ,  106.61291861,\n",
       "       -298.27955536,  130.8311747 ,  153.57063648, -221.84596971,\n",
       "        123.75089456,  133.71608275,  154.91642256,  147.08536898,\n",
       "         87.63620031,   61.99201656,   98.01357917,   51.60425638,\n",
       "        129.77294962,  104.72788006,  197.15441446,   42.80900556,\n",
       "       -259.25475413,  117.26322811,   79.72794325,   48.76093713,\n",
       "         82.3582025 ,   81.46666694,  146.31276074, -171.25164358,\n",
       "        105.88829181,  106.74071543, -137.75765733,   78.97406517,\n",
       "        145.65282194,  116.05146245, -294.87031404,  103.6119505 ,\n",
       "         69.10688706,   99.63389298,  113.90143765, -205.98654883,\n",
       "        113.77645793,   89.40750492,  126.96248327,   74.49631732,\n",
       "        145.86949554, -228.46881358,  141.91126602,  174.18691089,\n",
       "         64.77035267,  211.7728219 ,  163.43027013,  109.39609479,\n",
       "         50.25732331,   81.43440867,  113.82097296,  146.69618091,\n",
       "        104.63849273,  169.97176988,  203.87547857,   63.04543005,\n",
       "         81.24490821,   62.22944542,  118.55431587,   92.33132352,\n",
       "         99.9320495 ,   43.5850936 ,  139.53909404,  116.20256345,\n",
       "        146.90346162,   91.94742587,   78.52728245,  170.63712082,\n",
       "        109.78510745,  124.85362365,   84.4674487 ,  209.31448742,\n",
       "         53.93278612,  196.61777972,  120.26903527,  124.22050986,\n",
       "       -270.33902762,   94.27045688,  137.18583158,  105.52976754,\n",
       "        114.76579881,  130.18441767,  106.59021651,  145.19244637,\n",
       "         88.88359541,  142.72870875,  189.9778387 ,  185.00754071,\n",
       "         33.14231613,  205.32655322,  -20.0625295 ,  158.74597113,\n",
       "        158.91523223,   -6.72344696,  113.33682708,   74.77939934,\n",
       "        143.23871165,  124.50904815,  129.26476903,  157.41167186,\n",
       "         70.69449991,   40.53825392,  143.60174365,   -8.90313088,\n",
       "        143.66105482, -241.08201005,  212.89977601,  197.31441818,\n",
       "        143.02884636,   96.24283628,  166.58939485,  104.13259687,\n",
       "        144.78853404,  -32.07869219,  142.76665685,  166.19909458,\n",
       "        179.80241048, -109.55903629,  105.18717538,   97.92291912,\n",
       "        204.22158625,   99.04936399,   58.33409606,   93.28624923,\n",
       "        136.35710283,  155.48242088, -135.14759777,  118.91147556,\n",
       "        199.17982602,   -9.34069085,  154.01305046,   18.25229168,\n",
       "        169.05259145, -189.84314357,  104.91990348,  122.99859997,\n",
       "        206.73769053,   68.51365938,  170.5820345 ,  188.13052636,\n",
       "        108.4912106 ,   12.5551003 ,  139.01200037,  132.43070835,\n",
       "        229.15602216,  158.87987732, -229.28715872, -186.46489715,\n",
       "        117.18319711,  164.68480465,  161.17731457,  103.66155667,\n",
       "        136.31066707,  125.78066452,  183.32139613,  172.54456711,\n",
       "       -186.88178832,   72.09207713,  180.52571661,   89.45704004,\n",
       "        187.07587954, -135.39483585,  188.11802663,   80.55184597,\n",
       "         45.81989508,  171.45778593, -149.49135679,  139.97786797,\n",
       "        138.73374551,   22.07968126,   -2.47583397, -149.20916852,\n",
       "         60.62878725,  170.20143034,  126.9207523 ,  131.90535423,\n",
       "        167.44270919,   45.47840524,  127.90156591,   99.87598859,\n",
       "         46.47398032, -200.93146941,   54.97111728,  137.17601541,\n",
       "          9.97460429, -182.98097907,   99.80620772,   49.04440391,\n",
       "        134.24865397, -107.88476585, -175.27832705,  120.92595914,\n",
       "       -253.16441954,  165.22490131,  148.59888911,  171.10251238,\n",
       "         58.23958291,  103.69266801,  110.2388569 ,  114.48249395,\n",
       "         73.78178152,  144.47398514,  159.61463097,  128.81431936,\n",
       "       -191.74356737, -159.06420557,  103.77765257,  212.08357051,\n",
       "        127.94843758, -257.74345134,  204.11214982,  212.95962459,\n",
       "         75.16522651,  173.44739413, -193.35597128,   40.59701099,\n",
       "       -204.84771171,  123.47452911,  135.90692188,  165.32264649,\n",
       "       -145.10866496,   47.58991149,  106.37770127,   94.4565895 ,\n",
       "        103.07940383,   96.45115738,  206.29318057,  237.98850979,\n",
       "       -167.76237191,  132.46070935,  154.8621279 ,  175.38719192,\n",
       "        161.48649191,   43.79277713,   98.72192707,  156.94745144,\n",
       "       -223.93995835, -144.38019656,  176.08787456,  116.36937766,\n",
       "         84.33224043,   85.1256769 ,  187.31990344,  119.65650994,\n",
       "        166.80217543,   99.55651069,  117.71426137,   89.41606522,\n",
       "       -148.81436183,   63.23822699,  140.52895134,   90.00418714,\n",
       "        132.20295794,  144.99513127,   98.88973085,  170.8945972 ,\n",
       "        118.22272771,   59.19999657,   60.68021453,   94.62171115,\n",
       "         70.6754385 ,  110.68542076,  111.57958822, -131.04666286,\n",
       "          7.80540646, -226.43685638,   38.86809486,  128.0038118 ,\n",
       "        154.48791729,  126.19561334,  174.99817968,  180.65621769,\n",
       "        175.31442818, -163.98739921,  122.62021723, -192.39646175,\n",
       "       -282.26307711,   60.00787977,   71.44608262,  140.88666597,\n",
       "       -218.60675444,   99.83975007,  -11.48566801,  156.02824298,\n",
       "         43.49554521,   73.27822116,  182.03157725,  125.64866872,\n",
       "         55.3353692 ,  120.8324131 ,   91.02785753,   76.3190378 ,\n",
       "         38.33947759, -283.15629125,  156.96689251,   71.43226848,\n",
       "         99.87530736,  204.62600934,  -37.97789975,  169.33753721,\n",
       "        105.64345824,   81.85444944,   97.70409965,   88.44029458,\n",
       "         57.79130644,   88.04663054,  139.62434614,  116.98140715,\n",
       "        187.79230129, -185.80840052,   42.82021855,  199.95089514,\n",
       "        120.70785336,   73.98634859,  201.25453518,   -9.84105446,\n",
       "        129.68246056,  139.92526108,  150.38467823, -157.82444304,\n",
       "        190.80110617,  120.80817178,  140.83924496,  109.98577855,\n",
       "        122.47151664,  129.62196694,  158.01557672,   40.92029936,\n",
       "        128.48562782,   51.14944869, -213.35095482,  123.38822929,\n",
       "        214.92169624, -186.19668894, -195.79855181,  127.52855732,\n",
       "        205.5478084 , -207.41536755,  172.47212821,  153.82174782,\n",
       "        145.54904739,  122.76474701, -211.05932714,  167.26163637,\n",
       "       -233.39286134,  102.90011347,   44.17812833,   83.39121008,\n",
       "         96.51339018,   48.63179596, -202.76517342,  164.89617447,\n",
       "         90.34279453,  146.5299899 ,   72.11710083, -187.25535842,\n",
       "         42.03170125,   75.51331587,  121.47454963,   93.49366643,\n",
       "         94.60815411,  108.15883056,   42.28080938, -211.45437093,\n",
       "       -230.31311543,  125.75824274,  108.68478486,  164.47924064,\n",
       "        118.34810123,   81.85278413,  104.07291637,  204.00906228,\n",
       "        157.1644181 ,  118.7174911 ,  116.31146458,  175.92257175,\n",
       "         64.86570164,   19.81867274,   29.57937867,   63.50623051,\n",
       "         88.43433047,   49.53176045,   97.18739113,  226.5150752 ,\n",
       "         90.16982282,  104.17967866, -186.10516142,  131.99856221,\n",
       "         50.44200582,  143.15008562,   79.97996961,   54.99717466,\n",
       "         86.79546117,  103.79538141,  147.35220919, -233.13353194,\n",
       "        136.1243727 ,  173.02088671,   90.61245086,  173.86930735,\n",
       "         53.10278068,  133.44197085,  102.44389533,  -12.60900381,\n",
       "        115.66797554,   39.11382801,  135.62653194, -230.94874435,\n",
       "         66.54334331,  111.00344646,  162.86653843,  183.02521278,\n",
       "       -203.10171436,  132.84793083, -258.48581786,  106.84408644,\n",
       "        183.82461251,  164.09321309,  159.11825437,  174.00583789,\n",
       "        188.79668811,  128.93351675,   69.27768981,  135.79879823,\n",
       "        109.57226248, -154.04359886,   74.46672956,   95.43116375,\n",
       "        105.15849453,   71.64052309, -227.11800745,  170.58951589,\n",
       "        195.86051933,  179.08356632,   69.68358475,   83.44578254,\n",
       "         56.61051653,  122.64097929,  116.05784872,  102.41599344,\n",
       "         78.14728667,  168.43703747,  161.0270686 ,  148.09118594,\n",
       "         78.66059012,   40.12480929,  205.6114171 ,    9.1816732 ,\n",
       "        158.66998079,  138.1471372 ,  173.09645811,  102.87057472,\n",
       "         94.04185104,   46.93969947,  158.48065402,  132.68048855,\n",
       "         79.31815647, -238.94334529,   54.88148964,  137.02747352,\n",
       "         80.38468253,   12.45760372,   85.28732316,  166.79962315,\n",
       "        176.36588183,  126.83567365,  181.8045904 ,  149.62229982,\n",
       "         -1.91848148, -185.79249582,  190.09479723,   48.94017301,\n",
       "         69.39725563,  115.54848444,  130.28992678,   60.42372516,\n",
       "        178.14645684,   53.41501677, -175.74274867, -216.41966579,\n",
       "         81.40654538, -144.48177885, -140.34378978,   20.41991584,\n",
       "         29.70353937,  117.97794245,   25.42524229, -226.87962428,\n",
       "       -265.43858076,  181.07074984,  -81.81962032,  107.33887063,\n",
       "         97.82715008,  181.88102277,  145.69402133,   81.77282086,\n",
       "        147.57057168, -188.31199074,  178.50758146,  189.92883985,\n",
       "        145.052418  ,   92.40063285,  102.70141832,   74.79774191,\n",
       "        109.59968646, -199.27647587,  106.47339989, -157.64071848,\n",
       "       -191.0494594 , -171.79110884,  106.28088907, -201.38187929,\n",
       "        179.71712056,   84.85394409,   85.8170404 ,  171.66249232,\n",
       "       -257.84438912,   43.92177457,    1.84990915,   85.0446179 ,\n",
       "        139.89201236,   26.18436448,   66.09915282, -211.63234496,\n",
       "       -150.43956688,  175.66578895,  120.54887346,   77.19206487,\n",
       "        102.1296491 ,  -98.38467378,   56.69941684,   52.17329576,\n",
       "        131.24445343,   15.08552514,  118.69033318,  130.35198117,\n",
       "        119.90965685, -118.16812143,   88.76831358,   -7.75905632,\n",
       "        109.53653846,  120.53875047,  118.07473704,  175.61761883,\n",
       "        141.75055273,  107.79439785, -205.60963542,  139.38113279,\n",
       "        114.36966599,   43.97661265,  -73.14252598,   62.48222641,\n",
       "        216.01711804,  152.87720264, -203.76172184,   22.66160326,\n",
       "        142.79967892,  132.02986555,  169.91371258,  122.91539482,\n",
       "        125.64148042, -224.84177126,  133.8489585 ,   84.75132102,\n",
       "        157.199029  ,  170.61462097,  -21.96476243,  201.11684914,\n",
       "       -189.30317654, -287.42854319, -215.7021593 ,   84.67802349,\n",
       "        146.78432996,   74.2347273 ,   90.73569791,   96.9243704 ,\n",
       "        142.78834402,  138.12833053,  152.09847988,   96.16196593,\n",
       "         78.43206319, -184.9811899 ,  117.04448133,  121.25514359,\n",
       "        127.17133535,  118.43513848,  182.45825601,  199.62755487,\n",
       "         86.67041935, -126.45661182,  115.55443071,  271.87141351,\n",
       "       -241.8420298 ,   88.95135253,  146.46305671,   70.3213282 ,\n",
       "         93.02499437,  231.51772907,  158.96983001,   80.44321951,\n",
       "        116.7137775 ,   32.234977  ,  141.44912268, -170.4731599 ,\n",
       "       -248.61251483, -152.78909513,   15.94958777, -229.33199242,\n",
       "        107.23805865,  176.44363147,   20.98990623,  139.07957588,\n",
       "         57.63385357,  124.20300142,  113.11075392,  150.87967651,\n",
       "         68.85393149, -272.94214562, -170.57128839,  146.2113289 ,\n",
       "         93.62652875,  178.67520811,   36.57911181,  202.56423351,\n",
       "       -192.23576562,   99.79662519,  119.5921685 ,   41.38807679,\n",
       "        126.51414763, -176.74075177,  141.88309804,  125.03935736,\n",
       "         72.47168313,  110.06692816,   60.85569171,  277.37899613,\n",
       "        103.12101386, -260.73140968,  101.70654299,  159.66391137,\n",
       "        165.3413549 ,   96.60762423,  122.01456111,  200.43879986,\n",
       "        109.44979682,  101.85101098,  114.7394358 ,   22.62888941,\n",
       "         17.19566236,  154.35102695,  121.52627182,   78.14503087,\n",
       "        175.91641821,   99.20662395,  174.91036762,  184.19344   ,\n",
       "         64.19258724,  149.16075586, -196.54288166,   54.83437196,\n",
       "       -120.93265707, -240.31317962,   39.83214778, -230.57938611,\n",
       "        150.8329837 ,  129.69989314, -150.73105364,   62.64195429,\n",
       "       -181.72459524,   60.48847342,  179.45432073,  146.35266025,\n",
       "        160.99768552,  137.89694439, -222.53513895,  126.49569702,\n",
       "        177.34853806,  135.83600535, -187.32581653,  118.40800904,\n",
       "        141.47072048,  203.81388174,   43.32093609,  225.52153568,\n",
       "        128.53407445,   92.50107543,  134.88577851, -141.55877515,\n",
       "        109.8710423 , -120.16393645,  203.55607659,  290.89977559,\n",
       "       -257.30174873,   42.23146063,   63.71472821,  133.889166  ,\n",
       "        122.64057517, -176.26189376,   85.20228064,  149.3153191 ,\n",
       "        237.48666751,  162.22235065,  128.14523675, -137.36266444,\n",
       "         92.40943448,   70.66270241,  134.51077474,  210.46768969,\n",
       "         45.53587543,  104.38156909,  116.53574752,  179.46805735,\n",
       "         63.81555994,   27.43820441,   27.67088283,  173.47879369,\n",
       "         41.65985349,  148.68488144,  134.7297565 ,  116.38382669,\n",
       "        181.79129872,  178.00365004,   18.25344575,  138.72263943,\n",
       "         49.9945804 ,   61.3167793 ,   51.67851411, -250.37295851,\n",
       "         49.68713068,  107.9061124 ,  110.82137839, -241.28274539,\n",
       "        175.43863056,   51.13787659,  225.03939931,   63.70903068,\n",
       "         99.18698851,  130.29564418,   16.98534843,  128.91191813,\n",
       "         77.31431789,   68.06825327,  114.98112051,   90.84125097,\n",
       "       -151.93712609,   65.96908949,  118.432654  ,   16.05957392,\n",
       "         60.33241875,  159.92608344,  124.86730933,  262.28552377,\n",
       "        179.83783612,   38.10933473,  122.7863337 ,  225.84370767,\n",
       "         46.22195228,   37.55785597,  144.67351859,   99.16688963,\n",
       "         63.84033947, -237.67240875,  140.4039774 , -113.39380043,\n",
       "       -178.93847016,  107.41732539, -269.36692865,  190.3289675 ,\n",
       "       -189.57711999,   87.80049149,  182.06974008, -229.13268777,\n",
       "       -236.93465135, -209.04933734,   44.11004876,   81.542326  ,\n",
       "        135.17575909,  183.64992763,  170.49032627,  135.06094722,\n",
       "        126.79945996,   88.30843262, -175.33517654,  155.89907718,\n",
       "        179.90616856,  113.09658143,  -16.10999454, -291.00361308,\n",
       "        104.76033283,  178.52041544,  135.85590863,   89.45909192,\n",
       "         94.90369913,   76.40659057,   37.80562954,  163.27740817,\n",
       "        249.71871821,  117.82646127,  154.66170773,  111.67851317,\n",
       "        135.35802724,    6.4223707 ,  115.84583189,   -5.79290813,\n",
       "        109.9980748 ,   82.1547783 ,   76.55042845,   80.7215468 ,\n",
       "        181.36590452, -181.91546392,   52.43429555, -122.68399971,\n",
       "       -131.65791818,  176.06594318,  140.13632605, -220.69223705,\n",
       "         92.9055262 ,   87.90566134,   71.48002443,  207.02536898,\n",
       "         29.2892793 ,  206.18228686,  218.02084208,  161.04259356,\n",
       "         96.63736526,   72.06887818,  214.00272696,  171.61495174,\n",
       "       -210.8682084 ,  119.69015909,   91.28868434,   92.34031503,\n",
       "       -151.16372216,  118.51640342,   78.63620582,   33.10596376,\n",
       "       -178.06644982,  114.66198081,   72.25886726,  105.26504631])"
      ]
     },
     "execution_count": 9,
     "metadata": {},
     "output_type": "execute_result"
    }
   ],
   "source": [
    "coefs[:, -1]"
   ]
  },
  {
   "cell_type": "code",
   "execution_count": null,
   "metadata": {},
   "outputs": [],
   "source": []
  },
  {
   "cell_type": "code",
   "execution_count": null,
   "metadata": {},
   "outputs": [],
   "source": []
  },
  {
   "cell_type": "code",
   "execution_count": null,
   "metadata": {},
   "outputs": [],
   "source": []
  },
  {
   "cell_type": "code",
   "execution_count": null,
   "metadata": {},
   "outputs": [],
   "source": []
  },
  {
   "cell_type": "code",
   "execution_count": 59,
   "metadata": {},
   "outputs": [],
   "source": [
    "    df_temp = df.sample(frac=0.7)\n",
    "    \n",
    "    scalar = StandardScaler()\n",
    "    X = scalar.fit_transform(df_temp.values)\n",
    "\n",
    "    pca = PCA(n_components=len(features))\n",
    "    X = pca.fit_transform(X)"
   ]
  },
  {
   "cell_type": "code",
   "execution_count": 61,
   "metadata": {},
   "outputs": [
    {
     "data": {
      "text/plain": [
       "array([3.36520575, 1.6300189 , 1.05796411, 0.75059836, 0.17773085,\n",
       "       0.04717506])"
      ]
     },
     "execution_count": 61,
     "metadata": {},
     "output_type": "execute_result"
    }
   ],
   "source": [
    "pca.explained_variance_"
   ]
  },
  {
   "cell_type": "code",
   "execution_count": 62,
   "metadata": {},
   "outputs": [
    {
     "data": {
      "text/plain": [
       "['Por', 'Brittle', 'AI', 'VR', 'Perm', 'TOC']"
      ]
     },
     "execution_count": 62,
     "metadata": {},
     "output_type": "execute_result"
    }
   ],
   "source": [
    "features"
   ]
  },
  {
   "cell_type": "code",
   "execution_count": null,
   "metadata": {},
   "outputs": [],
   "source": []
  },
  {
   "cell_type": "code",
   "execution_count": null,
   "metadata": {},
   "outputs": [],
   "source": []
  },
  {
   "cell_type": "code",
   "execution_count": 70,
   "metadata": {},
   "outputs": [
    {
     "ename": "ImportError",
     "evalue": "cannot import name 'factorial'",
     "output_type": "error",
     "traceback": [
      "\u001b[1;31m---------------------------------------------------------------------------\u001b[0m",
      "\u001b[1;31mImportError\u001b[0m                               Traceback (most recent call last)",
      "\u001b[1;32m<ipython-input-70-7abcf9e2f054>\u001b[0m in \u001b[0;36m<module>\u001b[1;34m()\u001b[0m\n\u001b[1;32m----> 1\u001b[1;33m \u001b[1;32mimport\u001b[0m \u001b[0mstatsmodels\u001b[0m\u001b[1;33m.\u001b[0m\u001b[0mapi\u001b[0m \u001b[1;32mas\u001b[0m \u001b[0msm\u001b[0m\u001b[1;33m\u001b[0m\u001b[0m\n\u001b[0m\u001b[0;32m      2\u001b[0m \u001b[1;33m\u001b[0m\u001b[0m\n\u001b[0;32m      3\u001b[0m \u001b[0mres\u001b[0m \u001b[1;33m=\u001b[0m \u001b[0msm\u001b[0m\u001b[1;33m.\u001b[0m\u001b[0mOLS\u001b[0m\u001b[1;33m(\u001b[0m\u001b[0my\u001b[0m\u001b[1;33m,\u001b[0m \u001b[0mX\u001b[0m\u001b[1;33m)\u001b[0m\u001b[1;33m.\u001b[0m\u001b[0mfit\u001b[0m\u001b[1;33m(\u001b[0m\u001b[1;33m)\u001b[0m\u001b[1;33m\u001b[0m\u001b[0m\n",
      "\u001b[1;32mC:\\ProgramData\\Anaconda3\\lib\\site-packages\\statsmodels\\api.py\u001b[0m in \u001b[0;36m<module>\u001b[1;34m()\u001b[0m\n\u001b[0;32m     14\u001b[0m \u001b[1;32mfrom\u001b[0m \u001b[1;33m.\u001b[0m \u001b[1;32mimport\u001b[0m \u001b[0mrobust\u001b[0m\u001b[1;33m\u001b[0m\u001b[0m\n\u001b[0;32m     15\u001b[0m \u001b[1;32mfrom\u001b[0m \u001b[1;33m.\u001b[0m\u001b[0mrobust\u001b[0m\u001b[1;33m.\u001b[0m\u001b[0mrobust_linear_model\u001b[0m \u001b[1;32mimport\u001b[0m \u001b[0mRLM\u001b[0m\u001b[1;33m\u001b[0m\u001b[0m\n\u001b[1;32m---> 16\u001b[1;33m from .discrete.discrete_model import (Poisson, Logit, Probit,\n\u001b[0m\u001b[0;32m     17\u001b[0m                                       \u001b[0mMNLogit\u001b[0m\u001b[1;33m,\u001b[0m \u001b[0mNegativeBinomial\u001b[0m\u001b[1;33m,\u001b[0m\u001b[1;33m\u001b[0m\u001b[0m\n\u001b[0;32m     18\u001b[0m                                       \u001b[0mGeneralizedPoisson\u001b[0m\u001b[1;33m,\u001b[0m\u001b[1;33m\u001b[0m\u001b[0m\n",
      "\u001b[1;32mC:\\ProgramData\\Anaconda3\\lib\\site-packages\\statsmodels\\discrete\\discrete_model.py\u001b[0m in \u001b[0;36m<module>\u001b[1;34m()\u001b[0m\n\u001b[0;32m     43\u001b[0m \u001b[1;33m\u001b[0m\u001b[0m\n\u001b[0;32m     44\u001b[0m \u001b[1;32mfrom\u001b[0m \u001b[0mstatsmodels\u001b[0m\u001b[1;33m.\u001b[0m\u001b[0mbase\u001b[0m\u001b[1;33m.\u001b[0m\u001b[0ml1_slsqp\u001b[0m \u001b[1;32mimport\u001b[0m \u001b[0mfit_l1_slsqp\u001b[0m\u001b[1;33m\u001b[0m\u001b[0m\n\u001b[1;32m---> 45\u001b[1;33m \u001b[1;32mfrom\u001b[0m \u001b[0mstatsmodels\u001b[0m\u001b[1;33m.\u001b[0m\u001b[0mdistributions\u001b[0m \u001b[1;32mimport\u001b[0m \u001b[0mgenpoisson_p\u001b[0m\u001b[1;33m\u001b[0m\u001b[0m\n\u001b[0m\u001b[0;32m     46\u001b[0m \u001b[1;33m\u001b[0m\u001b[0m\n\u001b[0;32m     47\u001b[0m \u001b[1;32mtry\u001b[0m\u001b[1;33m:\u001b[0m\u001b[1;33m\u001b[0m\u001b[0m\n",
      "\u001b[1;32mC:\\ProgramData\\Anaconda3\\lib\\site-packages\\statsmodels\\distributions\\__init__.py\u001b[0m in \u001b[0;36m<module>\u001b[1;34m()\u001b[0m\n\u001b[0;32m      1\u001b[0m \u001b[1;32mfrom\u001b[0m \u001b[1;33m.\u001b[0m\u001b[0mempirical_distribution\u001b[0m \u001b[1;32mimport\u001b[0m \u001b[0mECDF\u001b[0m\u001b[1;33m,\u001b[0m \u001b[0mmonotone_fn_inverter\u001b[0m\u001b[1;33m,\u001b[0m \u001b[0mStepFunction\u001b[0m\u001b[1;33m\u001b[0m\u001b[0m\n\u001b[1;32m----> 2\u001b[1;33m \u001b[1;32mfrom\u001b[0m \u001b[1;33m.\u001b[0m\u001b[0medgeworth\u001b[0m \u001b[1;32mimport\u001b[0m \u001b[0mExpandedNormal\u001b[0m\u001b[1;33m\u001b[0m\u001b[0m\n\u001b[0m\u001b[0;32m      3\u001b[0m \u001b[1;32mfrom\u001b[0m \u001b[1;33m.\u001b[0m\u001b[0mdiscrete\u001b[0m \u001b[1;32mimport\u001b[0m \u001b[0mgenpoisson_p\u001b[0m\u001b[1;33m,\u001b[0m \u001b[0mzipoisson\u001b[0m\u001b[1;33m,\u001b[0m \u001b[0mzigenpoisson\u001b[0m\u001b[1;33m,\u001b[0m \u001b[0mzinegbin\u001b[0m\u001b[1;33m\u001b[0m\u001b[0m\n",
      "\u001b[1;32mC:\\ProgramData\\Anaconda3\\lib\\site-packages\\statsmodels\\distributions\\edgeworth.py\u001b[0m in \u001b[0;36m<module>\u001b[1;34m()\u001b[0m\n\u001b[0;32m      5\u001b[0m \u001b[1;32mimport\u001b[0m \u001b[0mnumpy\u001b[0m \u001b[1;32mas\u001b[0m \u001b[0mnp\u001b[0m\u001b[1;33m\u001b[0m\u001b[0m\n\u001b[0;32m      6\u001b[0m \u001b[1;32mfrom\u001b[0m \u001b[0mnumpy\u001b[0m\u001b[1;33m.\u001b[0m\u001b[0mpolynomial\u001b[0m\u001b[1;33m.\u001b[0m\u001b[0mhermite_e\u001b[0m \u001b[1;32mimport\u001b[0m \u001b[0mHermiteE\u001b[0m\u001b[1;33m\u001b[0m\u001b[0m\n\u001b[1;32m----> 7\u001b[1;33m \u001b[1;32mfrom\u001b[0m \u001b[0mscipy\u001b[0m\u001b[1;33m.\u001b[0m\u001b[0mmisc\u001b[0m \u001b[1;32mimport\u001b[0m \u001b[0mfactorial\u001b[0m\u001b[1;33m\u001b[0m\u001b[0m\n\u001b[0m\u001b[0;32m      8\u001b[0m \u001b[1;32mfrom\u001b[0m \u001b[0mscipy\u001b[0m\u001b[1;33m.\u001b[0m\u001b[0mstats\u001b[0m \u001b[1;32mimport\u001b[0m \u001b[0mrv_continuous\u001b[0m\u001b[1;33m\u001b[0m\u001b[0m\n\u001b[0;32m      9\u001b[0m \u001b[1;32mimport\u001b[0m \u001b[0mscipy\u001b[0m\u001b[1;33m.\u001b[0m\u001b[0mspecial\u001b[0m \u001b[1;32mas\u001b[0m \u001b[0mspecial\u001b[0m\u001b[1;33m\u001b[0m\u001b[0m\n",
      "\u001b[1;31mImportError\u001b[0m: cannot import name 'factorial'"
     ]
    }
   ],
   "source": [
    "import statsmodels.api as sm\n",
    "\n",
    "res = sm.OLS(y, X).fit()"
   ]
  },
  {
   "cell_type": "code",
   "execution_count": 28,
   "metadata": {},
   "outputs": [
    {
     "data": {
      "text/html": [
       "<div>\n",
       "<style scoped>\n",
       "    .dataframe tbody tr th:only-of-type {\n",
       "        vertical-align: middle;\n",
       "    }\n",
       "\n",
       "    .dataframe tbody tr th {\n",
       "        vertical-align: top;\n",
       "    }\n",
       "\n",
       "    .dataframe thead th {\n",
       "        text-align: right;\n",
       "    }\n",
       "</style>\n",
       "<table border=\"1\" class=\"dataframe\">\n",
       "  <thead>\n",
       "    <tr style=\"text-align: right;\">\n",
       "      <th></th>\n",
       "      <th>Features</th>\n",
       "      <th>VIF</th>\n",
       "    </tr>\n",
       "  </thead>\n",
       "  <tbody>\n",
       "    <tr>\n",
       "      <th>0</th>\n",
       "      <td>Por</td>\n",
       "      <td>1.0</td>\n",
       "    </tr>\n",
       "    <tr>\n",
       "      <th>1</th>\n",
       "      <td>AI</td>\n",
       "      <td>1.0</td>\n",
       "    </tr>\n",
       "    <tr>\n",
       "      <th>2</th>\n",
       "      <td>VR</td>\n",
       "      <td>1.0</td>\n",
       "    </tr>\n",
       "    <tr>\n",
       "      <th>3</th>\n",
       "      <td>Perm</td>\n",
       "      <td>1.0</td>\n",
       "    </tr>\n",
       "    <tr>\n",
       "      <th>4</th>\n",
       "      <td>TOC</td>\n",
       "      <td>1.0</td>\n",
       "    </tr>\n",
       "  </tbody>\n",
       "</table>\n",
       "</div>"
      ],
      "text/plain": [
       "  Features  VIF\n",
       "0      Por  1.0\n",
       "1       AI  1.0\n",
       "2       VR  1.0\n",
       "3     Perm  1.0\n",
       "4      TOC  1.0"
      ]
     },
     "execution_count": 28,
     "metadata": {},
     "output_type": "execute_result"
    }
   ],
   "source": [
    "import pandas as pd\n",
    "import numpy as np\n",
    "from sklearn import linear_model\n",
    "import matplotlib.pyplot as plt\n",
    "from sklearn.decomposition import PCA\n",
    "from statsmodels.stats.outliers_influence import variance_inflation_factor\n",
    "from sklearn.preprocessing import StandardScaler\n",
    "\n",
    "file = 'https://aegis4048.github.io/downloads/notebooks/sample_data/unconv_MV_v5.csv'\n",
    "df = pd.read_csv(file).iloc[:, 1:]\n",
    "\n",
    "########################################################################################\n",
    "\n",
    "features = ['Por', 'AI', 'VR', 'Perm', 'TOC']\n",
    "target = 'Prod'\n",
    "\n",
    "X = df[features].values.reshape(-1, len(features))\n",
    "y = df[target].values\n",
    "\n",
    "pca = PCA(n_components=len(features))\n",
    "X_new = pca.fit_transform(X)\n",
    "\n",
    "vif = pd.DataFrame()\n",
    "vif['Features'] = features\n",
    "vif['VIF'] = np.array([variance_inflation_factor(X_new, i) for i in range(len(features))])\n",
    "vif"
   ]
  },
  {
   "cell_type": "code",
   "execution_count": 29,
   "metadata": {},
   "outputs": [
    {
     "name": "stdout",
     "output_type": "stream",
     "text": [
      "Features                :  ['Por', 'AI', 'VR', 'Perm', 'TOC']\n",
      "Regression Coefficients :  [  260.59912732   -18.97712619    90.43637731  -404.33137156\n",
      " -2682.99310784]\n",
      "R-squared               :  0.90\n",
      "Y-intercept             :  4311.22\n",
      "\n"
     ]
    }
   ],
   "source": [
    "ols = linear_model.LinearRegression()\n",
    "model = ols.fit(X_new, y)\n",
    "\n",
    "print('Features                :  %s' % features)\n",
    "print('Regression Coefficients : ', model.coef_)\n",
    "print('R-squared               :  %.2f' % model.score(X_new, y))\n",
    "print('Y-intercept             :  %.2f' % model.intercept_)\n",
    "print('')"
   ]
  },
  {
   "cell_type": "code",
   "execution_count": null,
   "metadata": {},
   "outputs": [],
   "source": []
  },
  {
   "cell_type": "code",
   "execution_count": null,
   "metadata": {},
   "outputs": [],
   "source": []
  },
  {
   "cell_type": "code",
   "execution_count": 18,
   "metadata": {},
   "outputs": [
    {
     "data": {
      "text/html": [
       "<div>\n",
       "<style scoped>\n",
       "    .dataframe tbody tr th:only-of-type {\n",
       "        vertical-align: middle;\n",
       "    }\n",
       "\n",
       "    .dataframe tbody tr th {\n",
       "        vertical-align: top;\n",
       "    }\n",
       "\n",
       "    .dataframe thead th {\n",
       "        text-align: right;\n",
       "    }\n",
       "</style>\n",
       "<table border=\"1\" class=\"dataframe\">\n",
       "  <thead>\n",
       "    <tr style=\"text-align: right;\">\n",
       "      <th></th>\n",
       "      <th>Features</th>\n",
       "      <th>VIF</th>\n",
       "    </tr>\n",
       "  </thead>\n",
       "  <tbody>\n",
       "    <tr>\n",
       "      <th>0</th>\n",
       "      <td>Por</td>\n",
       "      <td>1.313968</td>\n",
       "    </tr>\n",
       "    <tr>\n",
       "      <th>1</th>\n",
       "      <td>Brittle</td>\n",
       "      <td>1.051171</td>\n",
       "    </tr>\n",
       "    <tr>\n",
       "      <th>2</th>\n",
       "      <td>AI</td>\n",
       "      <td>1.271905</td>\n",
       "    </tr>\n",
       "  </tbody>\n",
       "</table>\n",
       "</div>"
      ],
      "text/plain": [
       "  Features       VIF\n",
       "0      Por  1.313968\n",
       "1  Brittle  1.051171\n",
       "2       AI  1.271905"
      ]
     },
     "execution_count": 18,
     "metadata": {},
     "output_type": "execute_result"
    }
   ],
   "source": [
    "import pandas as pd\n",
    "import numpy as np\n",
    "from sklearn import linear_model\n",
    "import matplotlib.pyplot as plt\n",
    "from sklearn.decomposition import PCA\n",
    "from statsmodels.stats.outliers_influence import variance_inflation_factor\n",
    "from sklearn.preprocessing import StandardScaler\n",
    "\n",
    "file = 'https://aegis4048.github.io/downloads/notebooks/sample_data/unconv_MV_v5.csv'\n",
    "df = pd.read_csv(file).iloc[:, 1:]\n",
    "\n",
    "scalar = StandardScaler(with_std=False)\n",
    "X_new = scalar.fit_transform(df.values)\n",
    "\n",
    "df = pd.DataFrame(X_new, columns=df.columns)\n",
    "\n",
    "########################################################################################\n",
    "\n",
    "features = ['Por', 'Brittle', 'AI']\n",
    "target = 'Prod'\n",
    "\n",
    "X = df[features].values.reshape(-1, len(features))\n",
    "y = df[target].values\n",
    "\n",
    "vif = pd.DataFrame()\n",
    "vif['Features'] = features\n",
    "vif['VIF'] = np.array([variance_inflation_factor(X, i) for i in range(len(features))])\n",
    "vif"
   ]
  },
  {
   "cell_type": "code",
   "execution_count": 19,
   "metadata": {},
   "outputs": [
    {
     "name": "stdout",
     "output_type": "stream",
     "text": [
      "Features                :  ['Por', 'Brittle', 'AI']\n",
      "Regression Coefficients :  [319.43449102  31.38905371 -11.04275682]\n",
      "R-squared               :  0.93\n",
      "Y-intercept             :  -0.00\n",
      "\n"
     ]
    }
   ],
   "source": [
    "ols = linear_model.LinearRegression()\n",
    "model = ols.fit(X, y)\n",
    "\n",
    "print('Features                :  %s' % features)\n",
    "print('Regression Coefficients : ', model.coef_)\n",
    "print('R-squared               :  %.2f' % model.score(X, y))\n",
    "print('Y-intercept             :  %.2f' % model.intercept_)\n",
    "print('')"
   ]
  },
  {
   "cell_type": "code",
   "execution_count": null,
   "metadata": {},
   "outputs": [],
   "source": []
  },
  {
   "cell_type": "code",
   "execution_count": null,
   "metadata": {},
   "outputs": [],
   "source": []
  },
  {
   "cell_type": "code",
   "execution_count": null,
   "metadata": {},
   "outputs": [],
   "source": []
  },
  {
   "cell_type": "code",
   "execution_count": null,
   "metadata": {},
   "outputs": [],
   "source": []
  },
  {
   "cell_type": "code",
   "execution_count": null,
   "metadata": {},
   "outputs": [],
   "source": []
  },
  {
   "cell_type": "code",
   "execution_count": null,
   "metadata": {},
   "outputs": [],
   "source": []
  },
  {
   "cell_type": "code",
   "execution_count": null,
   "metadata": {},
   "outputs": [],
   "source": []
  },
  {
   "cell_type": "code",
   "execution_count": 37,
   "metadata": {},
   "outputs": [
    {
     "data": {
      "text/html": [
       "<div>\n",
       "<style scoped>\n",
       "    .dataframe tbody tr th:only-of-type {\n",
       "        vertical-align: middle;\n",
       "    }\n",
       "\n",
       "    .dataframe tbody tr th {\n",
       "        vertical-align: top;\n",
       "    }\n",
       "\n",
       "    .dataframe thead th {\n",
       "        text-align: right;\n",
       "    }\n",
       "</style>\n",
       "<table border=\"1\" class=\"dataframe\">\n",
       "  <thead>\n",
       "    <tr style=\"text-align: right;\">\n",
       "      <th></th>\n",
       "      <th>Features</th>\n",
       "      <th>VIF</th>\n",
       "    </tr>\n",
       "  </thead>\n",
       "  <tbody>\n",
       "    <tr>\n",
       "      <th>0</th>\n",
       "      <td>Por</td>\n",
       "      <td>62.645242</td>\n",
       "    </tr>\n",
       "    <tr>\n",
       "      <th>1</th>\n",
       "      <td>Brittle</td>\n",
       "      <td>19.370696</td>\n",
       "    </tr>\n",
       "    <tr>\n",
       "      <th>2</th>\n",
       "      <td>AI</td>\n",
       "      <td>122.734765</td>\n",
       "    </tr>\n",
       "    <tr>\n",
       "      <th>3</th>\n",
       "      <td>VR</td>\n",
       "      <td>259.597778</td>\n",
       "    </tr>\n",
       "    <tr>\n",
       "      <th>4</th>\n",
       "      <td>Perm</td>\n",
       "      <td>16.887354</td>\n",
       "    </tr>\n",
       "    <tr>\n",
       "      <th>5</th>\n",
       "      <td>TOC</td>\n",
       "      <td>33.668133</td>\n",
       "    </tr>\n",
       "  </tbody>\n",
       "</table>\n",
       "</div>"
      ],
      "text/plain": [
       "  Features         VIF\n",
       "0      Por   62.645242\n",
       "1  Brittle   19.370696\n",
       "2       AI  122.734765\n",
       "3       VR  259.597778\n",
       "4     Perm   16.887354\n",
       "5      TOC   33.668133"
      ]
     },
     "execution_count": 37,
     "metadata": {},
     "output_type": "execute_result"
    }
   ],
   "source": [
    "import pandas as pd\n",
    "import numpy as np\n",
    "from sklearn import linear_model\n",
    "import matplotlib.pyplot as plt\n",
    "from sklearn.decomposition import PCA\n",
    "from statsmodels.stats.outliers_influence import variance_inflation_factor\n",
    "\n",
    "file = 'https://aegis4048.github.io/downloads/notebooks/sample_data/unconv_MV_v5.csv'\n",
    "df = pd.read_csv(file)\n",
    "\n",
    "########################################################################################\n",
    "\n",
    "features = ['Por', 'Brittle', 'AI', 'VR', 'Perm', 'TOC']\n",
    "target = 'Prod'\n",
    "\n",
    "X = df[features].values.reshape(-1, len(features))\n",
    "y = df[target].values\n",
    "\n",
    "vif = pd.DataFrame()\n",
    "vif['Features'] = features\n",
    "vif['VIF'] = np.array([variance_inflation_factor(X, i) for i in range(len(features))])\n",
    "vif"
   ]
  },
  {
   "cell_type": "code",
   "execution_count": null,
   "metadata": {},
   "outputs": [],
   "source": []
  },
  {
   "cell_type": "code",
   "execution_count": null,
   "metadata": {},
   "outputs": [],
   "source": []
  },
  {
   "cell_type": "code",
   "execution_count": null,
   "metadata": {},
   "outputs": [],
   "source": []
  },
  {
   "cell_type": "code",
   "execution_count": null,
   "metadata": {},
   "outputs": [],
   "source": []
  },
  {
   "cell_type": "code",
   "execution_count": 25,
   "metadata": {},
   "outputs": [],
   "source": [
    "import pandas as pd\n",
    "import numpy as np\n",
    "from statsmodels.stats.outliers_influence import variance_inflation_factor\n",
    "\n",
    "file = '500_Person_Gender_Height_Weight_Index.csv'\n",
    "df = pd.read_csv(file)[['Height', 'Weight', 'Index']]\n",
    "\n",
    "vif = pd.DataFrame()\n",
    "vif['Features'] = df.columns\n",
    "vif['VIF'] = np.array([variance_inflation_factor(df.values, i) for i in range(df.shape[1])])"
   ]
  },
  {
   "cell_type": "code",
   "execution_count": 26,
   "metadata": {},
   "outputs": [
    {
     "data": {
      "text/html": [
       "<div>\n",
       "<style scoped>\n",
       "    .dataframe tbody tr th:only-of-type {\n",
       "        vertical-align: middle;\n",
       "    }\n",
       "\n",
       "    .dataframe tbody tr th {\n",
       "        vertical-align: top;\n",
       "    }\n",
       "\n",
       "    .dataframe thead th {\n",
       "        text-align: right;\n",
       "    }\n",
       "</style>\n",
       "<table border=\"1\" class=\"dataframe\">\n",
       "  <thead>\n",
       "    <tr style=\"text-align: right;\">\n",
       "      <th></th>\n",
       "      <th>Features</th>\n",
       "      <th>VIF</th>\n",
       "    </tr>\n",
       "  </thead>\n",
       "  <tbody>\n",
       "    <tr>\n",
       "      <th>0</th>\n",
       "      <td>Height</td>\n",
       "      <td>11.213321</td>\n",
       "    </tr>\n",
       "    <tr>\n",
       "      <th>1</th>\n",
       "      <td>Weight</td>\n",
       "      <td>37.566315</td>\n",
       "    </tr>\n",
       "    <tr>\n",
       "      <th>2</th>\n",
       "      <td>Index</td>\n",
       "      <td>20.881544</td>\n",
       "    </tr>\n",
       "  </tbody>\n",
       "</table>\n",
       "</div>"
      ],
      "text/plain": [
       "  Features        VIF\n",
       "0   Height  11.213321\n",
       "1   Weight  37.566315\n",
       "2    Index  20.881544"
      ]
     },
     "execution_count": 26,
     "metadata": {},
     "output_type": "execute_result"
    }
   ],
   "source": [
    "vif"
   ]
  },
  {
   "cell_type": "code",
   "execution_count": null,
   "metadata": {},
   "outputs": [],
   "source": []
  },
  {
   "cell_type": "code",
   "execution_count": 64,
   "metadata": {},
   "outputs": [],
   "source": [
    "features = ['Por', 'Brittle', 'AI', 'VR', 'Perm', 'TOC']"
   ]
  },
  {
   "cell_type": "code",
   "execution_count": 68,
   "metadata": {},
   "outputs": [],
   "source": [
    "features = ['Por', 'Brittle', 'AI', 'VR', 'Perm', 'TOC']\n",
    "\n",
    "file = 'https://aegis4048.github.io/downloads/notebooks/sample_data/unconv_MV_v5.csv'\n",
    "df = pd.read_csv(file)[features]\n",
    "\n",
    "vif = pd.DataFrame()\n",
    "vif['Features'] = df.columns\n",
    "vif['VIF'] = np.array([variance_inflation_factor(df.values, i) for i in range(df.shape[1])])"
   ]
  },
  {
   "cell_type": "code",
   "execution_count": 69,
   "metadata": {},
   "outputs": [
    {
     "data": {
      "text/html": [
       "<div>\n",
       "<style scoped>\n",
       "    .dataframe tbody tr th:only-of-type {\n",
       "        vertical-align: middle;\n",
       "    }\n",
       "\n",
       "    .dataframe tbody tr th {\n",
       "        vertical-align: top;\n",
       "    }\n",
       "\n",
       "    .dataframe thead th {\n",
       "        text-align: right;\n",
       "    }\n",
       "</style>\n",
       "<table border=\"1\" class=\"dataframe\">\n",
       "  <thead>\n",
       "    <tr style=\"text-align: right;\">\n",
       "      <th></th>\n",
       "      <th>Features</th>\n",
       "      <th>VIF</th>\n",
       "    </tr>\n",
       "  </thead>\n",
       "  <tbody>\n",
       "    <tr>\n",
       "      <th>0</th>\n",
       "      <td>Por</td>\n",
       "      <td>42.751102</td>\n",
       "    </tr>\n",
       "    <tr>\n",
       "      <th>1</th>\n",
       "      <td>Brittle</td>\n",
       "      <td>8.576566</td>\n",
       "    </tr>\n",
       "    <tr>\n",
       "      <th>2</th>\n",
       "      <td>Perm</td>\n",
       "      <td>15.590663</td>\n",
       "    </tr>\n",
       "    <tr>\n",
       "      <th>3</th>\n",
       "      <td>TOC</td>\n",
       "      <td>10.075020</td>\n",
       "    </tr>\n",
       "  </tbody>\n",
       "</table>\n",
       "</div>"
      ],
      "text/plain": [
       "  Features        VIF\n",
       "0      Por  42.751102\n",
       "1  Brittle   8.576566\n",
       "2     Perm  15.590663\n",
       "3      TOC  10.075020"
      ]
     },
     "execution_count": 69,
     "metadata": {},
     "output_type": "execute_result"
    }
   ],
   "source": [
    "vif"
   ]
  },
  {
   "cell_type": "code",
   "execution_count": 59,
   "metadata": {},
   "outputs": [
    {
     "name": "stdout",
     "output_type": "stream",
     "text": [
      "Features                :  ['Por', 'Brittle']\n",
      "Regression Coefficients :  [320.39, 31.38]\n",
      "R-squared               :  0.93\n",
      "Y-intercept             :  -2003.01\n",
      "\n"
     ]
    }
   ],
   "source": [
    "import pandas as pd\n",
    "import numpy as np\n",
    "from sklearn import linear_model\n",
    "import matplotlib.pyplot as plt\n",
    "\n",
    "file = 'https://aegis4048.github.io/downloads/notebooks/sample_data/unconv_MV_v5.csv'\n",
    "df = pd.read_csv(file)\n",
    "\n",
    "########################################################################################\n",
    "\n",
    "features = ['Por', 'Brittle']\n",
    "target = 'Prod'\n",
    "\n",
    "X = df[features].values.reshape(-1, len(features))\n",
    "y = df[target].values\n",
    "\n",
    "ols = linear_model.LinearRegression()\n",
    "model = ols.fit(X, y)\n",
    "\n",
    "print('Features                :  %s' % features)\n",
    "print('Regression Coefficients : ', [round(item, 2) for item in model.coef_])\n",
    "print('R-squared               :  %.2f' % model.score(X, y))\n",
    "print('Y-intercept             :  %.2f' % model.intercept_)\n",
    "print('')"
   ]
  },
  {
   "cell_type": "code",
   "execution_count": 62,
   "metadata": {},
   "outputs": [
    {
     "data": {
      "text/html": [
       "<div>\n",
       "<style scoped>\n",
       "    .dataframe tbody tr th:only-of-type {\n",
       "        vertical-align: middle;\n",
       "    }\n",
       "\n",
       "    .dataframe tbody tr th {\n",
       "        vertical-align: top;\n",
       "    }\n",
       "\n",
       "    .dataframe thead th {\n",
       "        text-align: right;\n",
       "    }\n",
       "</style>\n",
       "<table border=\"1\" class=\"dataframe\">\n",
       "  <thead>\n",
       "    <tr style=\"text-align: right;\">\n",
       "      <th></th>\n",
       "      <th>Features</th>\n",
       "      <th>VIF</th>\n",
       "    </tr>\n",
       "  </thead>\n",
       "  <tbody>\n",
       "    <tr>\n",
       "      <th>0</th>\n",
       "      <td>Por</td>\n",
       "      <td>62.645242</td>\n",
       "    </tr>\n",
       "    <tr>\n",
       "      <th>1</th>\n",
       "      <td>Perm</td>\n",
       "      <td>16.887354</td>\n",
       "    </tr>\n",
       "    <tr>\n",
       "      <th>2</th>\n",
       "      <td>AI</td>\n",
       "      <td>122.734765</td>\n",
       "    </tr>\n",
       "    <tr>\n",
       "      <th>3</th>\n",
       "      <td>Brittle</td>\n",
       "      <td>19.370696</td>\n",
       "    </tr>\n",
       "    <tr>\n",
       "      <th>4</th>\n",
       "      <td>TOC</td>\n",
       "      <td>33.668133</td>\n",
       "    </tr>\n",
       "    <tr>\n",
       "      <th>5</th>\n",
       "      <td>VR</td>\n",
       "      <td>259.597778</td>\n",
       "    </tr>\n",
       "  </tbody>\n",
       "</table>\n",
       "</div>"
      ],
      "text/plain": [
       "  Features         VIF\n",
       "0      Por   62.645242\n",
       "1     Perm   16.887354\n",
       "2       AI  122.734765\n",
       "3  Brittle   19.370696\n",
       "4      TOC   33.668133\n",
       "5       VR  259.597778"
      ]
     },
     "execution_count": 62,
     "metadata": {},
     "output_type": "execute_result"
    }
   ],
   "source": [
    "file = 'https://aegis4048.github.io/downloads/notebooks/sample_data/unconv_MV_v5.csv'\n",
    "df = pd.read_csv(file)\n",
    "df = df.iloc[:, 1:-1]\n",
    "\n",
    "vif = pd.DataFrame()\n",
    "vif['Features'] = df.columns\n",
    "vif['VIF'] = np.array([variance_inflation_factor(df.values, i) for i in range(df.shape[1])])\n",
    "vif"
   ]
  },
  {
   "cell_type": "markdown",
   "metadata": {},
   "source": [
    "Multicollinearity can affect any regression model with more than one predictor. It occurs when two or more predictor variables overlap so much in what they measure that their effects are indistinguishable."
   ]
  },
  {
   "cell_type": "code",
   "execution_count": 67,
   "metadata": {},
   "outputs": [
    {
     "data": {
      "image/png": "[encoded data removed]",
      "text/plain": [
       "<Figure size 432x360 with 2 Axes>"
      ]
     },
     "metadata": {},
     "output_type": "display_data"
    }
   ],
   "source": [
    "import numpy as np\n",
    "import pandas as pd\n",
    "import seaborn as sns\n",
    "import matplotlib.pyplot as plt\n",
    "\n",
    "file = 'https://aegis4048.github.io/downloads/notebooks/sample_data/unconv_MV_v5.csv'\n",
    "df = pd.read_csv(file)\n",
    "\n",
    "df = df.iloc[:, 1:-1]\n",
    "\n",
    "corr = df.corr(method='spearman')\n",
    "\n",
    "# Set up the matplotlib figure\n",
    "fig, ax = plt.subplots(figsize=(6, 5))\n",
    "\n",
    "# Generate a custom diverging colormap\n",
    "cmap = sns.diverging_palette(220, 10, as_cmap=True, sep=10)\n",
    "\n",
    "# Draw the heatmap with the mask and correct aspect ratio\n",
    "sns.heatmap(corr, cmap=cmap, vmin=-1, vmax=1, center=0, linewidths=.5)\n",
    "\n",
    "fig.suptitle('Correlation matrix of features', fontsize=15)\n",
    "ax.text(0.77, 0.2, 'aegis4048.github.io', fontsize=13, ha='center', va='center',\n",
    "         transform=ax.transAxes, color='grey', alpha=0.5)\n",
    "\n",
    "fig.tight_layout()"
   ]
  },
  {
   "cell_type": "code",
   "execution_count": null,
   "metadata": {},
   "outputs": [],
   "source": []
  }
 ],
 "metadata": {
  "kernelspec": {
   "display_name": "Python 3",
   "language": "python",
   "name": "python3"
  },
  "language_info": {
   "codemirror_mode": {
    "name": "ipython",
    "version": 3
   },
   "file_extension": ".py",
   "mimetype": "text/x-python",
   "name": "python",
   "nbconvert_exporter": "python",
   "pygments_lexer": "ipython3",
   "version": "3.6.5"
  }
 },
 "nbformat": 4,
 "nbformat_minor": 2
}
