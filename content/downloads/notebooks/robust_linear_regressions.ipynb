{
 "cells": [
  {
   "cell_type": "markdown",
   "id": "0f28189e",
   "metadata": {},
   "source": [
    "Linear regression, while being the most straightforward machine learning model, is vulnerable to the influence of outliers in your data. Real-world data is often not pristine, and you will inevitably encounter these outliers during your data science endeavor. This article demystifies the math behind robust regression models and presents three robust options (Huber, Theilsen, and RANSAC) conveniently available in the scikit-learn package, complete with ready-to-use code snippets."
   ]
  },
  {
   "cell_type": "markdown",
   "id": "bb743cc1",
   "metadata": {},
   "source": [
    "<div id=\"Sample data description \"></div>\n",
    "\n",
    "## 0. Sample data description \n",
    "\n"
   ]
  },
  {
   "cell_type": "markdown",
   "id": "d4f7d92e",
   "metadata": {},
   "source": [
    "## 1. Problem with OLS - tend to apply bigger weights on outlier points"
   ]
  },
  {
   "cell_type": "markdown",
   "id": "4e806b9e",
   "metadata": {},
   "source": [
    "## 2. Robust Models"
   ]
  },
  {
   "cell_type": "markdown",
   "id": "a8e2ebc8",
   "metadata": {},
   "source": [
    "<div id=\"RANSAC regressor\"></div>\n",
    "\n",
    "### 2.1. RANSAC regressor\n",
    "\n",
    "**RAN**dom **SA**mple **C**onsensus (RANSAC) is an iterative algorithm that separates inliers vs. outliers, and fits a regression model only using the separated inliers. \n",
    "\n",
    "<div><hr></div>\n",
    "<div id=\"RANSAC Steps\"></div>\n",
    "\n",
    "*(Note that these steps are based on <a href=\"https://scikit-learn.org/stable/modules/generated/sklearn.linear_model.RANSACRegressor.html\" target=_blank>sklearn's implementation of RANSAC regressor.</a>)*\n",
    "\n",
    "<div class=\"ordered-list\">\n",
    "    <h2>Steps</h2>\n",
    "    <ol>\n",
    "        <li>Start the 1st iteration. Randomly select $m$ (<code>min_samples</code>) data points from the whole data set. $m$ = number of features + 1. Therefore, for 2D linear regression, $m$ = 2. No duplicates.</li>\n",
    "        <li>Fit a linear regression model on the selected $m$ data points.</li>\n",
    "        <li>Classify a point as an inlier if it falls within a certain threshold value (<code>residual_threshold</code>) from the fitted regression line. By default, the threshold is the median absolute deviation (MAD)(auto-computed, explained below) of the whole data. Repeat this for every data point in the original data set. </li>\n",
    "        <li>Compute the value of $N$ (required number of iterations). </li>\n",
    "        <li>Start the 2nd iteration. Repeat steps 1-4.</li>\n",
    "        <li>If the newly fitted model from the 2nd iteration contains more inliers, replace the previous model with the new one. Otherwise keep the old model from the 1st iteration. If both the old and new models have the same number of inliers, pick the one with a better $R^2$ score.</li>\n",
    "        <li>Compare the old and new $N$ values, and pick a smaller one: <code>min(old_N, new_N)</code></li>\n",
    "        <li>Repeat steps 1-7 until the $N$-th iteration. $N$ can be indirectly controlled by tweaking <code>stop_probability</code> and <code>min_samples</code> arguments. </li>\n",
    "        <li>Iterations are finished. Fit a new regression model using only the final inliers. Return the fitted model.</li>\n",
    "    </ol>\n",
    "</div>\n",
    "\n",
    "<div id=\"Visual demonstrations\"></div>\n",
    "\n",
    "**Visual demonstrations**\n",
    "\n",
    "<div class=\"row\" style=\"margin-top: 0px;\">\n",
    "<div class=\"col\"><img src=\"jupyter_images/ransac_1.png\"></div>\n",
    "</div>\n",
    "\n",
    "<div class=\"row\" style=\"margin-top: 0px;\">\n",
    "<div class=\"col\"><img src=\"jupyter_images/ransac_2.png\"></div>\n",
    "</div>\n",
    "\n",
    "<div class=\"row\" style=\"margin-top: 0px;\">\n",
    "<div class=\"col\"><img src=\"jupyter_images/ransac_3.png\"></div>\n",
    "</div>\n",
    "\n",
    "<div><hr></div>\n",
    "\n",
    "<div id=\"In-Depth: Threshold (MAD) and required iteration ($k$) calculation\"></div>\n",
    "\n",
    "\n",
    "## Mention about absolute error for RANSAC\n",
    "\n",
    "**In-Depth: Threshold (MAD) and required iteration ($k$) calculation**\n",
    "\n",
    "The default threshold used for RANSAC is Median Absolute Deviation (MAD). It's an integer value computed only once before the iteration loop. The motivation for using a median is that median tends to be more robust than means as a measure of central tendency (recall that default linear regression attempts to minimize root-MEAN-squared-error (RMSE), which tends to be sensitive to outliers). MAD can be computed with the following codes:"
   ]
  },
  {
   "cell_type": "code",
   "execution_count": 4,
   "id": "8e710df6",
   "metadata": {},
   "outputs": [
    {
     "data": {
      "text/plain": [
       "5.5"
      ]
     },
     "execution_count": 4,
     "metadata": {},
     "output_type": "execute_result"
    }
   ],
   "source": [
    "import numpy as np\n",
    "\n",
    "X = np.array([3,  6, 9, 10, 12, 15, 17, 18, 20, 24, 25, 26, 27]).reshape(-1, 1)\n",
    "y = np.array([8, 12, 15.5, 13.5, 17, 20, 18, 24, 24.5, 8, 6, 9, 7])\n",
    "\n",
    "MAD = np.median(np.abs(y - np.median(y)))\n",
    "MAD"
   ]
  },
  {
   "cell_type": "markdown",
   "id": "01fc239b",
   "metadata": {},
   "source": [
    "Another important component of the RANSAC is the required iteration ($N$).\n",
    "\n",
    "<div id=\"eq-1\" style=\"font-size: 1rem;\">\n",
    "$$ N >= \\frac{log(1-p)}{log(1-e^m)} \\tag{1}$$\n",
    "</div>\n",
    "\n",
    "<div class=\"eq-terms\">\n",
    "    <div class=\"row eq-terms-where\">where</div>\n",
    "    <div class=\"row\">\n",
    "        <div class=\"col-3\">$N$</div>\n",
    "        <div class=\"col-9\">: required number of iterations.</div>\n",
    "    </div>\n",
    "    <div class=\"row\">\n",
    "        <div class=\"col-3\">$p$</div>\n",
    "        <div class=\"col-9\">: probability (confidence) that one outlier-free sample is generated. (default=0.99). </div>\n",
    "    </div>    \n",
    "    <div class=\"row\">\n",
    "        <div class=\"col-3\">$e$</div>\n",
    "        <div class=\"col-9\">: inlier ratio (# of inliers / # of entire data points). This may change every iteration.</div>\n",
    "    </div>\n",
    "    <div class=\"row\">\n",
    "        <div class=\"col-3\">$m$</div>\n",
    "        <div class=\"col-9\">: minimum number of samples chosen randomly from origianl data (default=2).</div>\n",
    "    </div>    \n",
    "</div>\n",
    "\n",
    "$N$ is rounded up to the nearest integer. Note that you can *indirectly* control the value of $N$ by changing <code>stop_probability</code> and <code>min_samples</code> in the sklearn package. It can be computed with the following codes:"
   ]
  },
  {
   "cell_type": "code",
   "execution_count": 24,
   "id": "354d94d1",
   "metadata": {},
   "outputs": [
    {
     "data": {
      "text/plain": [
       "11.0"
      ]
     },
     "execution_count": 24,
     "metadata": {},
     "output_type": "execute_result"
    }
   ],
   "source": [
    "import numpy as np\n",
    "\n",
    "p = 0.99       # sklearn default\n",
    "m = 2          # sklearn default for 2D linear regression\n",
    "w = 0.6        # this may change every iteration\n",
    "\n",
    "N = abs(float(np.ceil(np.log(1 - p) / np.log(1 - w ** m))))\n",
    "N"
   ]
  },
  {
   "cell_type": "markdown",
   "id": "2bc1544d",
   "metadata": {},
   "source": [
    "<div><hr></div>\n",
    "\n",
    "<div id=\"More visual demonstrations\"></div>\n",
    "\n",
    "**More visual demonstrations**\n",
    "\n",
    "<div class=\"row\" style=\"margin-top: 15px;\">\n",
    "<div class=\"col\"><img src=\"jupyter_images/ransac_advanced_1st.png\"></div>\n",
    "    <div class=\"col-12\"><p class=\"image-description\"><strong>Figure ?:</strong> First iteration in RANSAC. Left plot shows randomly selected 2 data points (blue dots) for regression. The right plot displays residuals, with the dashed red line indicating MAD. Points with residuals exceeding MAD are marked as outliers. Initially, $N$ is set to 100 <code>max_trials=100</code>. After the first iteration, $N$ is computed to be 20 using <a href=\"#eq-1\">eq (1)</a>. Since 20 is smaller than 100, $N$ is updated to 20.  A total of 6 inliers are found in this round.</p></div>\n",
    "</div>\n",
    "\n",
    "<div class=\"row\" style=\"margin-top: 15px;\">\n",
    "<div class=\"col\"><img src=\"jupyter_images/ransac_advanced_2nd.png\"></div>\n",
    "<div class=\"col-12\"><p class=\"image-description\"><strong>Figure ?:</strong> Second iteration. The new model has more inliers (9) then the previous model (6). Model is updated. The inlier ratio ($w$ in <a href=\"#eq-1\">eq (1)</a>) changes. $N$ is computed to be 8 in this iteration. Since 8 is smaller than 20 from the previous iteration, $N$ is updated to 8.</p></div>\n",
    "</div>\n",
    "\n",
    "<div class=\"row\" style=\"margin-top: 15px;\">\n",
    "<div class=\"col\"><img src=\"jupyter_images/ransac_advanced_3rd.png\"></div>\n",
    "<div class=\"col-12\"><p class=\"image-description\"><strong>Figure ?:</strong> Third iteration. Although the number of inliers equals the previous iteration, a visual inspection of the left plot reveals that the current model is incorrect. To decide whether an update is necessary, we compare the $R^2$ scores. Since the previous model has a higher $R^2$ (0.92) than the current one (0.62), no model update is performed. This process continues until the $N$-th (8th) iteration, assuming that $N$ remains constant. Once all iterations are completed, the final model is fitted using the selected inliers.</p></div>\n",
    "</div>"
   ]
  },
  {
   "cell_type": "markdown",
   "id": "08ce3046",
   "metadata": {},
   "source": [
    "<div class=\"solution_panel closed\">\n",
    "    <div class=\"solution_title\">\n",
    "        <p class=\"solution_title_string\">Source Code For Figures (?-?)</p>\n",
    "        <ul class=\"nav navbar-right panel_toolbox\">\n",
    "            <li><a class=\"collapse-link\"><i class=\"fa fa-chevron-down\"></i></a></li>\n",
    "        </ul>\n",
    "    <div class=\"clearfix\"></div>\n",
    "    </div>\n",
    "    <div class=\"solution_content\">\n",
    "        <pre>\n",
    "            <code class=\"language-python\">\n",
    "            \n",
    "import numpy as np\n",
    "import matplotlib.pyplot as plt\n",
    "from sklearn import linear_model\n",
    "from sklearn.linear_model import RANSACRegressor\n",
    "\n",
    "X = np.array([3,  6, 9, 10, 12, 15, 17, 18, 20, 24, 25, 26, 27]).reshape(-1, 1)\n",
    "y = np.array([8, 12, 15.5, 13.5, 17, 20, 18, 24, 24.5, 8, 6, 9, 7])\n",
    "MAD = np.median(np.abs(y - np.median(y)))\n",
    "\n",
    "N_PREV = 100\n",
    "\n",
    "def fit_and_plot(X, y, MAD, random_state, selected_idx, stage, update_status):\n",
    "    \n",
    "    global N_PREV\n",
    "\n",
    "    X_selected = X[selected_idx]\n",
    "    y_selected = y[selected_idx]\n",
    "\n",
    "    ols = linear_model.LinearRegression()\n",
    "    model = ols.fit(X_selected, y_selected)\n",
    "    y_pred = model.predict(X)\n",
    "    residuals = np.abs(y - y_pred)\n",
    "\n",
    "    ransac = RANSACRegressor(max_trials=1, random_state=random_state).fit(X, y) # deal with rs=11\n",
    "    y_pred_ransac = ransac.predict(X)\n",
    "    num_inliers = np.sum(ransac.inlier_mask_)\n",
    "    R2 = ransac.score(X[ransac.inlier_mask_], y[ransac.inlier_mask_])\n",
    "\n",
    "    p = 0.99\n",
    "    m = 2\n",
    "    w = num_inliers / len(y)\n",
    "    N = abs(float(np.ceil(np.ceil(np.log(1 - p) / np.log(1 - w ** m)))))\n",
    "\n",
    "    ####################################################################################\n",
    "\n",
    "    fig, axes = plt.subplots(1, 2, figsize=(10, 4))\n",
    "\n",
    "    axes[0].scatter(X, y, s=100, color='#70ad47', label='Inliers')\n",
    "    axes[0].scatter(X[~ransac.inlier_mask_], y[~ransac.inlier_mask_], s=100, color='red', label='Outliers')\n",
    "    axes[0].scatter(X_selected, y_selected, s=100, color='#4472c4', label='Random')\n",
    "\n",
    "    axes[0].axline(xy1=(X_selected[0][0], y_selected[0]), xy2=(X_selected[-1][0], y_selected[-1]), color='#7030a0', label='Regression on Random')\n",
    "    axes[0].legend(loc='upper left', ncol=2, fontsize=9)\n",
    "    axes[0].set_title('RANSAC: %s iteration' % stage, fontsize=10)\n",
    "\n",
    "    scatter_dict = {'s':100, 'fc':'none', 'linewidth':1.5}\n",
    "    axes[1].scatter(X[ransac.inlier_mask_], residuals[ransac.inlier_mask_], edgecolors='k', label='Inliers', **scatter_dict)\n",
    "    axes[1].scatter(X[~ransac.inlier_mask_], residuals[~ransac.inlier_mask_], edgecolors='r', label='Outliers', **scatter_dict)\n",
    "    axes[1].scatter(X[selected_idx], residuals[selected_idx], edgecolors='b', label='Random', **scatter_dict)\n",
    "    \n",
    "    axes[1].axhline(y=MAD, color='r', linestyle='--')\n",
    "    axes[1].legend(loc='upper left', ncol=3, fontsize=9)\n",
    "    axes[1].text(-0.5, MAD + 0.5, 'Threshold (MAD) = 5.50', fontsize=9, ha='left', va='bottom', color='r', alpha=1)\n",
    "    axes[1].text(0, 25, '# of Inliers = %d' % num_inliers, ha='left', weight='bold', fontsize=12)\n",
    "    axes[1].text(0, 22.75, update_status, ha='left', fontsize=10)\n",
    "    axes[1].text(0, 20.5, 'min($N_{old}$, $N_{new}$)= min(%d, %d)= %d' % (N_PREV, N, N), ha='left', fontsize=10)\n",
    "    axes[1].text(0, 18.25, '$R^2$ = %.2f' % round(R2, 2), ha='left', fontsize=10)\n",
    "    axes[1].set_title('Residuals of regression', fontsize=10)\n",
    "\n",
    "    xmax = 30\n",
    "    ymax = 30\n",
    "    for ax in axes:\n",
    "        ax.spines.top.set_visible(False)\n",
    "        ax.spines.right.set_visible(False)\n",
    "        ax.set_xlim(0 - 0.05 * xmax, xmax + 0.05 * xmax)\n",
    "        ax.set_ylim(0 - 0.05 * ymax, ymax + 0.05 * ymax)\n",
    "        \n",
    "    N_PREV = N\n",
    "    \n",
    "fit_and_plot(X, y, MAD, random_state=3, selected_idx=[4, 6], stage='1st', update_status='model updated (initial)')\n",
    "fit_and_plot(X, y, MAD, random_state=11, selected_idx=[0, 6], stage='2nd', update_status='model updated')\n",
    "fit_and_plot(X, y, MAD, random_state=29, selected_idx=[-9, -1], stage='3rd', update_status='model NOT updated')\n",
    "            </code>\n",
    "        </pre>\n",
    "    </div>\n",
    "</div>"
   ]
  },
  {
   "cell_type": "markdown",
   "id": "b735d247",
   "metadata": {},
   "source": [
    "<div id=\"RANSAC code snippets\"></div>\n",
    "\n",
    "**RANSAC code snippets**\n",
    "\n",
    "For quick copy-paste, replace <code>X</code> and <code>y</code> with your own data. Make sure to reshape your <code>X</code> so that it is a 2D <code>numpy.ndarray</code> object with shape like <code>(13, 1)</code>."
   ]
  },
  {
   "cell_type": "code",
   "execution_count": 6,
   "id": "ec263423",
   "metadata": {},
   "outputs": [
    {
     "name": "stdout",
     "output_type": "stream",
     "text": [
      "RANSAC -----------------------------------\n",
      "\n",
      "Coefficients         : [92.50723098]\n",
      "Intercept            : 30.331391269710938\n",
      "# of inliers         : 40\n",
      "Fraction of inliers  : 0.8\n",
      "\n",
      "------------------------------------------\n"
     ]
    },
    {
     "data": {
      "image/png": "[encoded data removed]",
      "text/plain": [
       "<Figure size 640x480 with 1 Axes>"
      ]
     },
     "metadata": {},
     "output_type": "display_data"
    }
   ],
   "source": [
    "import numpy as np\n",
    "from sklearn.linear_model import RANSACRegressor\n",
    "from sklearn import linear_model\n",
    "import matplotlib.pyplot as plt\n",
    "\n",
    "# sample data\n",
    "X = np.array([ 0.15, -0.34, 0.32, 0.43, -0.4, -0.04, -0.51, 0.3, 0.47, 0.12, 0.08, 0.04, -0.08, \n",
    "              -0.23, 0.08, -0.03, 0.03, 0.04, 0.01, 0.06, 0.03, 0., -0.04, -0.18, -0.19, -0.06, \n",
    "              -0.26, -0.16, 0.13, 0.09, 0.03, -0.03, 0.04, 0.14, -0.01, 0.4, -0.06, 0.15, 0.08, \n",
    "              0.05, -0.15, -0.09, -0.15, -0.11, -0.07, -0.19, -0.06, 0.17, 0.23, 0.18]).reshape(-1, 1)\n",
    "y = np.array([17.44, 25.46, 18.61, 26.07, 24.96, -1.22, 26.45, 26.5, 20.57, 3.08, 35.9 , 32.47, \n",
    "              20.84, 13.37, 42.44, 27.23, 35.65, 29.51, 31.28, 41.34, 32.19, 33.67, 25.64, 9.3, \n",
    "              14.63, 25.1, 4.69, 14.42, 47.53, 33.82, 32.2 , 24.81, 32.64, 45.11, 26.76, 68.01, \n",
    "              23.39, 43.49, 37.88, 36.01, 16.32, 19.77, 16.34, 19.57, 29.28, 16.62, 24.39, 43.77, \n",
    "              50.46, 47.09])\n",
    "\n",
    "# fit and predict: RANSAC\n",
    "ransac = RANSACRegressor(random_state=1).fit(X, y)      \n",
    "y_pred_ransac = ransac.predict(X)\n",
    "\n",
    "# retrieve the fitted parameters\n",
    "coefs = ransac.estimator_.coef_              # RANSAC fits many regression models. The \".estimator_\" attribute\n",
    "intercept = ransac.estimator_.intercept_     # has the final model fitted. \n",
    "\n",
    "# seperate into inliers vs. outliers\n",
    "X_inlier = X[ransac.inlier_mask_ ]\n",
    "y_inlier = y[ransac.inlier_mask_ ]\n",
    "X_outlier = X[~ransac.inlier_mask_ ]\n",
    "y_outlier = y[~ransac.inlier_mask_ ]\n",
    "\n",
    "print(\"RANSAC -----------------------------------\\n\")\n",
    "print(\"Coefficients         :\", coefs)\n",
    "print(\"Intercept            :\", intercept)\n",
    "print(\"# of inliers         :\", sum(ransac.inlier_mask_))\n",
    "print(\"Fraction of inliers  :\", sum(ransac.inlier_mask_) / len(y))\n",
    "print(\"\\n------------------------------------------\")\n",
    "\n",
    "# fit and predict: Ordinary Least Squares\n",
    "ols = linear_model.LinearRegression().fit(X, y)\n",
    "y_pred_ols = ols.predict(X)\n",
    "\n",
    "# plot\n",
    "plt.title('RANSAC Regressor', fontsize=14)\n",
    "plt.scatter(X_inlier, y_inlier, s=100, c='green', label='Inliers')\n",
    "plt.scatter(X_outlier, y_outlier, s=100, c='red', label='Outliers')\n",
    "plt.plot(X, y_pred_ols, label='OLS')\n",
    "plt.plot(X, y_pred_ransac, label='RANSAC')\n",
    "plt.legend();"
   ]
  },
  {
   "cell_type": "markdown",
   "id": "214eaeed",
   "metadata": {},
   "source": [
    "<div class=\"highlights red-theme\" id=\"boxcox-warning\">\n",
    "    <div class=\"highlights-title red-theme\">WARNING!</div>\n",
    "    <div class=\"highlights-content red-theme\">RANSAC employs random sampling. With a substantial dataset (>50 points), your regression results may vary due to this randomness. The benefit is flexibility for fine-tuning (try repeatedly running the same code without fixing a random seed), but the drawback is inconsistency when sharing code or results. To ensure consistency, set a random seed: <code>model = RANSACRegressor(random_state=3)</code>.</code>.\n",
    "    </div>\n",
    "</div>"
   ]
  },
  {
   "cell_type": "markdown",
   "id": "5dd773ad",
   "metadata": {},
   "source": [
    "<div id=\"Huber regressor\"></div>\n",
    "\n",
    "### 2.2. Huber regressor\n",
    "\n",
    "The Huber regressor doesn't eliminate outliers but mitigates their effect, making it a preferred choice when you have reason to believe that so-called outliers may have relevance in the regression analysis. In contrast to other robust regression techniques like RANSAC or Theil-Sen, which involve substantial structural modifications in their algorithms compared to default linear regression, such as subsampling and fitting regressions on these subsets, the Huber regressor differes only in its choice of loss function while retaining the fundamental structure of default linear regression.\n",
    "\n",
    "<div><hr></div>\n",
    "\n",
    "<div id=\"Huber loss function\"></div>\n",
    "\n",
    "**Huber loss function**\n",
    "\n",
    "The original Huber loss is a piece-wise function shown in <a href=\"#eq-?\">eq (?)</a>. Note that the term, $y - \\hat{y}$, are often referred to as residuals (prediction error).\n",
    "\n",
    "<div id=\"eq-?\" style=\"font-size: 1rem;\">\n",
    "$$ L_{\\delta} (y - \\hat{y})=   \\left\\{\n",
    "    \\begin{array}{ll}\n",
    "          \\frac{1}{2}(y - \\hat{y})^{2} & \\text{for } |y - \\hat{y}| \\leq \\delta \\text{ (inlier)},  \\\\\n",
    "          \\delta \\cdot (|y - \\hat{y}| - \\frac{1}{2}\\delta) &  \\text{otherwise (outlier)}.  \\\\\n",
    "    \\end{array} \n",
    "    \\right.  \n",
    "    \\tag{4}$$\n",
    "</div>\n",
    "\n",
    "<div class=\"eq-terms\">\n",
    "    <div class=\"row eq-terms-where\">where</div>\n",
    "    <div class=\"row\">\n",
    "        <div class=\"col-3\">$y$</div>\n",
    "        <div class=\"col-9\">: observation, original data point</div>\n",
    "    </div>\n",
    "    <div class=\"row\">\n",
    "        <div class=\"col-3\">$\\hat{y}$</div>\n",
    "        <div class=\"col-9\">: prediction</div>\n",
    "    </div>\n",
    "    <div class=\"row\">\n",
    "        <div class=\"col-3\">$\\delta$</div>\n",
    "        <div class=\"col-9\">: parameter that controls the number of outliers</div>\n",
    "    </div>    \n",
    "    <div class=\"row\">\n",
    "        <div class=\"col-3\">$L$</div>\n",
    "        <div class=\"col-9\">: loss function</div>\n",
    "    </div>    \n",
    "</div>\n",
    "\n",
    "<div id=\"Motivation\"></div>\n",
    "\n",
    "**Motivation**\n",
    "\n",
    "The two most commonly used loss functions are squared loss, $L(y - \\hat{y}) = (y - \\hat{y})^2$ and absolute loss, $L(y - \\hat{y}) = |y - \\hat{y}|$. While the squared loss is more accurate, it has the disadvantage that it has the tendency to be dominated by outliers. This susceptibility arises because squared residuals magnify the effect of outliers, as the residuals are squared, leading to an exponential increase in loss as residuals grow. In contrast, absolute loss grows linearly with residuals, rendering it more robust to outliers.\n",
    "\n",
    "The Huber regressor offers a compelling compromise, leveraging the strengths of squared and absolute loss functions while mitigating their weaknesses. It employs squared loss for small-residual data points (inliers) and absolute loss for large-residual data points (outliers). The distinction between inliers and outliers is governed by the $\\delta$ parameter, set to 1.35 by default in scikit-learn.\n",
    "\n",
    "<div id=\"Parameter tuning\"></div>\n",
    "\n",
    "**Parameter tuning ($\\delta$)**\n",
    "\n",
    "The $\\delta$ parameter controls the residual threshold for determining whether squared loss or Huber loss is applied. As shown in <a href=\"fig-\">Figure ?</a>, smaller $\\delta$ values lead to a more robust approach by applying Huber loss to a greater number of data points, emphasizing absolute loss. Conversely, larger $\\delta$ values result in squared loss being more prevalent, making the method more susceptible to outliers. Notably, for very large $\\delta$ values, Huber loss converges to squared loss, as described in <a href=\"#eq-?\">eq (?)</a>:\n",
    "\n",
    "\n",
    "<div id=\"eq-?\" style=\"font-size: 1rem;\">\n",
    "$$ \\lim_{\\delta\\to \\infty}: \\text{Huber Loss} \\approx \\text{Squared Loss} \\tag{4}$$\n",
    "</div>\n",
    "\n",
    "Note that in the <a href=\"https://scikit-learn.org/stable/modules/generated/sklearn.linear_model.HuberRegressor.html\" target=_blank>scikit-learn implementation</a>, the residuals are divided by the scale parameter sigma <code>|(y - Xw - c) / sigma|</code> to ensure that one does not need to rescale epsilon to achieve the same robustness. The default value of $\\delta$ in scikit-learn is 1.35.\n",
    "\n",
    "<div class=\"row\" style=\"margin-top: 15px;\">\n",
    "<div class=\"col\"><img src=\"jupyter_images/huber loss effect of delta.png\"></div>\n",
    "<div class=\"col-12\"><p class=\"image-description\"><strong>Figure ?:</strong> $\\delta$ controls the residual thresholds used to determine whether to compute squared loss or Huber loss. Small value of $\\delta$ (left plot) allows Huber loss to be applied for wider residual ranges of data, making it more robust to outliers. </p></div>\n",
    "</div>"
   ]
  },
  {
   "cell_type": "markdown",
   "id": "f5376081",
   "metadata": {},
   "source": [
    "<div class=\"solution_panel closed\">\n",
    "    <div class=\"solution_title\">\n",
    "        <p class=\"solution_title_string\">Source Code For Figure (?)</p>\n",
    "        <ul class=\"nav navbar-right panel_toolbox\">\n",
    "            <li><a class=\"collapse-link\"><i class=\"fa fa-chevron-down\"></i></a></li>\n",
    "        </ul>\n",
    "    <div class=\"clearfix\"></div>\n",
    "    </div>\n",
    "    <div class=\"solution_content\">\n",
    "        <pre>\n",
    "            <code class=\"language-python\">\n",
    "import numpy as np\n",
    "import matplotlib.pyplot as plt\n",
    "\n",
    "\n",
    "error_range = np.linspace(-3.3, 3.3, 100)\n",
    "theta_values = [1.35, 2.35]\n",
    "\n",
    "huber_color = 'blue'\n",
    "squared_color = 'green'\n",
    "fig, axes = plt.subplots(1, len(theta_values), figsize=(9, 4.5))\n",
    "\n",
    "for i, theta in enumerate(theta_values):\n",
    "    huber_loss = np.where(np.abs(error_range) <= theta, 0.5 * error_range ** 2, theta * (np.abs(error_range) - 0.5 * theta))\n",
    "    squared_error_loss = 0.5 * error_range ** 2\n",
    "\n",
    "    ax = axes[i]\n",
    "\n",
    "    # Set the range for which the line styles and alphas will change\n",
    "    x_range = (-theta, theta)\n",
    "\n",
    "    # Plot Huber Loss line\n",
    "    huber_loss_segment = np.where((error_range >= x_range[0]) & (error_range <= x_range[1]), huber_loss, np.nan)\n",
    "    ax.plot(error_range, huber_loss_segment, linewidth=2, zorder=3, alpha=0.3, linestyle='dashed', color=huber_color)\n",
    "    huber_loss_segment = np.where((error_range < x_range[0]) | (error_range > x_range[1]), huber_loss, np.nan)\n",
    "    ax.plot(error_range, huber_loss_segment, label='Huber Loss', linewidth=2, zorder=3, alpha=1, linestyle='-', color=huber_color)\n",
    "\n",
    "    # Plot Squared Loss line\n",
    "    squared_loss_segment = np.where((error_range >= x_range[0]) & (error_range <= x_range[1]), squared_error_loss, np.nan)\n",
    "    ax.plot(error_range, squared_loss_segment, label='Squared Loss', linewidth=2, zorder=3, alpha=1, linestyle='-', color=squared_color)\n",
    "    squared_loss_segment = np.where((error_range < x_range[0]) | (error_range > x_range[1]), squared_error_loss, np.nan)\n",
    "    ax.plot(error_range, squared_loss_segment, linewidth=2, zorder=3, alpha=0.3, linestyle='dashed', color=squared_color)\n",
    "    \n",
    "    # Fill the area between the axvlines\n",
    "    fill_alpha = 0.03\n",
    "    ax.axvspan(-5, -theta, alpha=fill_alpha, color=huber_color, zorder=-8, label='Outliers')\n",
    "    ax.axvspan(theta, 5, alpha=fill_alpha, color=huber_color, zorder=-9)\n",
    "    ax.axvspan(-theta, theta, alpha=fill_alpha, color=squared_color, zorder=-9, label='Inliers')\n",
    "    \n",
    "    ax.set_xlabel('Residuals ($y - \\\\hat{y}$)', fontsize=13)\n",
    "    ax.set_ylabel('Loss', fontsize=13)\n",
    "    ax.grid(True, alpha=0.3)\n",
    "    \n",
    "    lg = ax.legend(loc='upper center', ncol=2)\n",
    "    for i, lh in enumerate(lg.legendHandles):\n",
    "        if i > 1:\n",
    "            lh.set_alpha(0.4)\n",
    "    \n",
    "    ax.axvline(x=theta, color='r', linestyle=\"dotted\", alpha=0.7)\n",
    "    ax.axvline(x=-theta, color='r', linestyle=\"dotted\", alpha=0.7)\n",
    "    ax.spines['top'].set_visible(False)\n",
    "    ax.spines['right'].set_visible(False)\n",
    "    ax.set_xlim(-3.3, 3.3)\n",
    "\n",
    "    ax.text(0, 3.5, '$\\delta = %.2f$' % theta,\n",
    "            fontsize=13, ha='center', va='top', color='r', alpha=0.7, rotation=0)\n",
    "    ax.text(0.05, 0.1, 'aegis4048.github.io', fontsize=10, ha='left', va='center',\n",
    "        transform=ax.transAxes, color='grey', alpha=0.5)\n",
    "    \n",
    "    \n",
    "axes[0].text(3, 0.1, 'more robust', ha='right', fontsize=13, bbox=dict( facecolor='white'))\n",
    "axes[1].text(3, 0.1, 'less robust', ha='right', fontsize=13, bbox=dict( facecolor='white'))\n",
    "\n",
    "def setbold(txt):\n",
    "    return ' '.join([r\"$\\bf{\" + item + \"}$\" for item in txt.split(' ')])   \n",
    "\n",
    "bold_txt = setbold('Huber Loss, ')\n",
    "plain_txt = r'effect of $\\delta$-parameter on inlier vs. outlier detection'\n",
    "fig.suptitle(bold_txt + plain_txt, verticalalignment='top', x=0, horizontalalignment='left', fontsize=11)\n",
    "yloc = 0.9\n",
    "ax.annotate('', xy=(0.01, yloc + 0.01), xycoords='figure fraction', xytext=(1.02, yloc + 0.01),\n",
    "            arrowprops=dict(arrowstyle=\"-\", color='k', lw=0.7))\n",
    "\n",
    "fig.tight_layout()\n",
    "            </code>\n",
    "        </pre>\n",
    "    </div>\n",
    "</div>"
   ]
  },
  {
   "cell_type": "markdown",
   "id": "cd21d464",
   "metadata": {},
   "source": [
    "<div id=\"Huber code snippets\" style=\"margin-top: -15px\"></div>\n",
    "\n",
    "**Huber code snippets**\n",
    "\n",
    "For quick copy-paste, replace <code>X</code> and <code>y</code> with your own data. Make sure to reshape your <code>X</code> so that it is a 2D <code>numpy.ndarray</code> object with shape like <code>(13, 1)</code>."
   ]
  },
  {
   "cell_type": "code",
   "execution_count": 4,
   "id": "72a1915b",
   "metadata": {},
   "outputs": [
    {
     "name": "stdout",
     "output_type": "stream",
     "text": [
      "Huber -----------------------------------\n",
      "\n",
      "Coefficients         : [50.32948547]\n",
      "Intercept            : 29.03041669256188\n",
      "# of inliers         : 31\n",
      "Fraction of inliers  : 0.62\n",
      "\n",
      "------------------------------------------\n"
     ]
    },
    {
     "data": {
      "image/png": "[encoded data removed]",
      "text/plain": [
       "<Figure size 640x480 with 1 Axes>"
      ]
     },
     "metadata": {},
     "output_type": "display_data"
    }
   ],
   "source": [
    "import numpy as np\n",
    "from sklearn.linear_model import HuberRegressor\n",
    "from sklearn import linear_model\n",
    "import matplotlib.pyplot as plt\n",
    "\n",
    "# sample data\n",
    "X = np.array([ 0.15, -0.34, 0.32, 0.43, -0.4, -0.04, -0.51, 0.3, 0.47, 0.12, 0.08, 0.04, -0.08, \n",
    "              -0.23, 0.08, -0.03, 0.03, 0.04, 0.01, 0.06, 0.03, 0., -0.04, -0.18, -0.19, -0.06, \n",
    "              -0.26, -0.16, 0.13, 0.09, 0.03, -0.03, 0.04, 0.14, -0.01, 0.4, -0.06, 0.15, 0.08, \n",
    "              0.05, -0.15, -0.09, -0.15, -0.11, -0.07, -0.19, -0.06, 0.17, 0.23, 0.18]).reshape(-1, 1)\n",
    "y = np.array([17.44, 25.46, 18.61, 26.07, 24.96, -1.22, 26.45, 26.5, 20.57, 3.08, 35.9 , 32.47, \n",
    "              20.84, 13.37, 42.44, 27.23, 35.65, 29.51, 31.28, 41.34, 32.19, 33.67, 25.64, 9.3, \n",
    "              14.63, 25.1, 4.69, 14.42, 47.53, 33.82, 32.2 , 24.81, 32.64, 45.11, 26.76, 68.01, \n",
    "              23.39, 43.49, 37.88, 36.01, 16.32, 19.77, 16.34, 19.57, 29.28, 16.62, 24.39, 43.77, \n",
    "              50.46, 47.09])\n",
    "\n",
    "# fit and predict: Huber \n",
    "huber = HuberRegressor(epsilon=1.35).fit(X, y)   # 1.35 is the default. You can try different epsilon values.\n",
    "y_pred_huber = huber.predict(X)\n",
    "\n",
    "# retrieve the fitted parameters\n",
    "coefs = huber.coef_\n",
    "intercept = huber.intercept_\n",
    "\n",
    "# seperate into inliers vs. outliers\n",
    "X_inlier = X[~huber.outliers_]\n",
    "y_inlier = y[~huber.outliers_]\n",
    "X_outlier = X[huber.outliers_]\n",
    "y_outlier = y[huber.outliers_]\n",
    "\n",
    "print(\"Huber -----------------------------------\\n\")\n",
    "print(\"Coefficients         :\", coefs)\n",
    "print(\"Intercept            :\", intercept)\n",
    "print(\"# of inliers         :\", sum(~huber.outliers_))\n",
    "print(\"Fraction of inliers  :\", sum(~huber.outliers_) / len(y))\n",
    "print(\"\\n------------------------------------------\")\n",
    "\n",
    "# fit and predict: Ordinary Least Squares\n",
    "ols = linear_model.LinearRegression().fit(X, y)\n",
    "y_pred_ols = ols.predict(X)\n",
    "\n",
    "# plot\n",
    "plt.title('Huber Regressor', fontsize=14)\n",
    "plt.scatter(X_inlier, y_inlier, s=100, c='green', label='Inliers')\n",
    "plt.scatter(X_outlier, y_outlier, s=100, c='red', label='Outliers')\n",
    "plt.plot(X, y_pred_ols, label='OLS')\n",
    "plt.plot(X, y_pred_huber, label='Huber')\n",
    "plt.legend();"
   ]
  },
  {
   "cell_type": "markdown",
   "id": "b1219790",
   "metadata": {},
   "source": [
    "<div class=\"highlights red-theme\" id=\"boxcox-warning\">\n",
    "    <div class=\"highlights-title red-theme\">WARNING!</div>\n",
    "    <div class=\"highlights-content red-theme\">Despite the application of the robust Huber regressor, the regression fit in the plot above (Figure ?) is still notably influenced by the presence of outliers, albeit to a lesser extent. This influence persists because, instead of completely excluding outliers during the fitting process, Huber aims to attenuate their impact by employing absolute loss rather than squared loss. Therefore, unless there is a compelling reason to retain and account for the so-called \"outliers\" within your data, using the Huber regressor is not typically recommended.\n",
    "    </div>\n",
    "</div>"
   ]
  },
  {
   "cell_type": "markdown",
   "id": "78feb0ea",
   "metadata": {},
   "source": [
    "<div id=\"Theil-Sen regressor\"></div>\n",
    "\n",
    "### 2.3. Theil-Sen regressor\n",
    "\n",
    "The Huber regressor doesn't eliminate outliers but mitigates their effect, making it a preferred choice when you have reason to believe that so-called outliers may have relevance in the regression analysis. In contrast to other robust regression techniques like RANSAC or Theil-Sen, which involve substantial structural modifications in their algorithms compared to default linear regression, such as subsampling and fitting regressions on these subsets, the Huber regressor differes only in its choice of loss function while retaining the fundamental structure of default linear regression.\n"
   ]
  },
  {
   "cell_type": "code",
   "execution_count": null,
   "id": "513db964",
   "metadata": {},
   "outputs": [],
   "source": []
  },
  {
   "cell_type": "code",
   "execution_count": null,
   "id": "a8bc78cf",
   "metadata": {},
   "outputs": [],
   "source": []
  },
  {
   "cell_type": "code",
   "execution_count": null,
   "id": "eac5f8a6",
   "metadata": {},
   "outputs": [],
   "source": []
  },
  {
   "cell_type": "code",
   "execution_count": null,
   "id": "9da37e41",
   "metadata": {},
   "outputs": [],
   "source": []
  },
  {
   "cell_type": "code",
   "execution_count": 61,
   "id": "126b7bb4",
   "metadata": {},
   "outputs": [
    {
     "data": {
      "text/plain": [
       "0.0"
      ]
     },
     "execution_count": 61,
     "metadata": {},
     "output_type": "execute_result"
    }
   ],
   "source": [
    "xmin"
   ]
  },
  {
   "cell_type": "code",
   "execution_count": null,
   "id": "4ed5ac02",
   "metadata": {},
   "outputs": [],
   "source": []
  },
  {
   "cell_type": "markdown",
   "id": "429234b7",
   "metadata": {},
   "source": [
    "https://www.section.io/engineering-education/understanding-loss-functions-in-machine-learning/"
   ]
  },
  {
   "cell_type": "markdown",
   "id": "5181c326",
   "metadata": {},
   "source": [
    "### Use Huber regressor only if you know that outliers are not really outliers."
   ]
  },
  {
   "cell_type": "code",
   "execution_count": null,
   "id": "c7608cfe",
   "metadata": {},
   "outputs": [],
   "source": []
  },
  {
   "cell_type": "code",
   "execution_count": null,
   "id": "0d731a47",
   "metadata": {},
   "outputs": [],
   "source": []
  },
  {
   "cell_type": "code",
   "execution_count": null,
   "id": "2bfb6006",
   "metadata": {},
   "outputs": [],
   "source": []
  },
  {
   "cell_type": "code",
   "execution_count": 1,
   "id": "108e8231",
   "metadata": {},
   "outputs": [
    {
     "name": "stdout",
     "output_type": "stream",
     "text": [
      "Huber -----------------------------------\n",
      "\n",
      "Coefficients         : [50.32948547]\n",
      "Intercept            : 29.03041669256188\n",
      "# of inliers         : 31\n",
      "Fraction of inliers  : 0.62\n",
      "\n",
      "------------------------------------------\n"
     ]
    },
    {
     "data": {
      "image/png": "[encoded data removed]",
      "text/plain": [
       "<Figure size 640x480 with 1 Axes>"
      ]
     },
     "metadata": {},
     "output_type": "display_data"
    }
   ],
   "source": [
    "import numpy as np\n",
    "from sklearn.linear_model import HuberRegressor\n",
    "from sklearn import linear_model\n",
    "import matplotlib.pyplot as plt\n",
    "\n",
    "# sample data\n",
    "X = np.array([ 0.15, -0.34, 0.32, 0.43, -0.4, -0.04, -0.51, 0.3, 0.47, 0.12, 0.08, 0.04, -0.08, \n",
    "              -0.23, 0.08, -0.03, 0.03, 0.04, 0.01, 0.06, 0.03, 0., -0.04, -0.18, -0.19, -0.06, \n",
    "              -0.26, -0.16, 0.13, 0.09, 0.03, -0.03, 0.04, 0.14, -0.01, 0.4, -0.06, 0.15, 0.08, \n",
    "              0.05, -0.15, -0.09, -0.15, -0.11, -0.07, -0.19, -0.06, 0.17, 0.23, 0.18]).reshape(-1, 1)\n",
    "y = np.array([17.44, 25.46, 18.61, 26.07, 24.96, -1.22, 26.45, 26.5, 20.57, 3.08, 35.9 , 32.47, \n",
    "              20.84, 13.37, 42.44, 27.23, 35.65, 29.51, 31.28, 41.34, 32.19, 33.67, 25.64, 9.3, \n",
    "              14.63, 25.1, 4.69, 14.42, 47.53, 33.82, 32.2 , 24.81, 32.64, 45.11, 26.76, 68.01, \n",
    "              23.39, 43.49, 37.88, 36.01, 16.32, 19.77, 16.34, 19.57, 29.28, 16.62, 24.39, 43.77, \n",
    "              50.46, 47.09])\n",
    "\n",
    "# fit and predict: Huber \n",
    "huber = HuberRegressor(epsilon=1.35).fit(X, y)   # 1.35 is the default. You can try different epsilon values.\n",
    "y_pred_huber = huber.predict(X)\n",
    "\n",
    "# retrieve the fitted parameters\n",
    "coefs = huber.coef_\n",
    "intercept = huber.intercept_\n",
    "\n",
    "# seperate into inliers vs. outliers\n",
    "X_inlier = X[~huber.outliers_]\n",
    "y_inlier = y[~huber.outliers_]\n",
    "X_outlier = X[huber.outliers_]\n",
    "y_outlier = y[huber.outliers_]\n",
    "\n",
    "print(\"Huber -----------------------------------\\n\")\n",
    "print(\"Coefficients         :\", coefs)\n",
    "print(\"Intercept            :\", intercept)\n",
    "print(\"# of inliers         :\", sum(~huber.outliers_))\n",
    "print(\"Fraction of inliers  :\", sum(~huber.outliers_) / len(y))\n",
    "print(\"\\n------------------------------------------\")\n",
    "\n",
    "# fit and predict: Ordinary Least Squares\n",
    "ols = linear_model.LinearRegression().fit(X, y)\n",
    "y_pred_ols = ols.predict(X)\n",
    "\n",
    "# plot\n",
    "plt.scatter(X_inlier, y_inlier, s=100, c='green', label='Inliers')\n",
    "plt.scatter(X_outlier, y_outlier, s=100, c='red', label='Outliers')\n",
    "plt.plot(X, y_pred_ols, label='OLS')\n",
    "plt.plot(X, y_pred_huber, label='Huber')\n",
    "plt.legend();"
   ]
  },
  {
   "cell_type": "code",
   "execution_count": null,
   "id": "f55e786a",
   "metadata": {},
   "outputs": [],
   "source": []
  },
  {
   "cell_type": "code",
   "execution_count": null,
   "id": "2d9acf81",
   "metadata": {},
   "outputs": [],
   "source": []
  },
  {
   "cell_type": "code",
   "execution_count": null,
   "id": "1bca2fcc",
   "metadata": {},
   "outputs": [],
   "source": []
  },
  {
   "cell_type": "code",
   "execution_count": null,
   "id": "7d8011a3",
   "metadata": {},
   "outputs": [],
   "source": []
  },
  {
   "cell_type": "code",
   "execution_count": null,
   "id": "c8174dc9",
   "metadata": {},
   "outputs": [],
   "source": []
  },
  {
   "cell_type": "code",
   "execution_count": null,
   "id": "c26451fc",
   "metadata": {},
   "outputs": [],
   "source": []
  },
  {
   "cell_type": "code",
   "execution_count": null,
   "id": "64f8d433",
   "metadata": {},
   "outputs": [],
   "source": []
  },
  {
   "cell_type": "code",
   "execution_count": null,
   "id": "9352ad82",
   "metadata": {},
   "outputs": [],
   "source": []
  },
  {
   "cell_type": "code",
   "execution_count": null,
   "id": "59677eee",
   "metadata": {},
   "outputs": [],
   "source": []
  },
  {
   "cell_type": "code",
   "execution_count": null,
   "id": "6f2bf449",
   "metadata": {},
   "outputs": [],
   "source": []
  },
  {
   "cell_type": "code",
   "execution_count": 3,
   "id": "14d3aada",
   "metadata": {},
   "outputs": [
    {
     "data": {
      "image/png": "[encoded data removed]",
      "text/plain": [
       "<Figure size 640x480 with 1 Axes>"
      ]
     },
     "metadata": {},
     "output_type": "display_data"
    }
   ],
   "source": [
    "import pandas as pd\n",
    "import matplotlib.pyplot as plt\n",
    "from sklearn import linear_model\n",
    "import numpy as np\n",
    "from sklearn.linear_model import HuberRegressor\n",
    "\n",
    "######################################## Data preparation #########################################\n",
    "\n",
    "X = np.array([ 0.15, -0.34, 0.32, 0.43, -0.4, -0.04, -0.51, 0.3, 0.47, 0.12, 0.08, 0.04, -0.08, \n",
    "              -0.23, 0.08, -0.03, 0.03, 0.04, 0.01, 0.06, 0.03, 0., -0.04, -0.18, -0.19, -0.06, \n",
    "              -0.26, -0.16, 0.13, 0.09, 0.03, -0.03, 0.04, 0.14, -0.01, 0.4, -0.06, 0.15, 0.08, \n",
    "              0.05, -0.15, -0.09, -0.15, -0.11, -0.07, -0.19, -0.06, 0.17, 0.23, 0.18]).reshape(-1, 1)\n",
    "y = np.array([17.44, 25.46, 18.61, 26.07, 24.96, -1.22, 26.45, 26.5, 20.57, 3.08, 35.9 , 32.47, \n",
    "              20.84, 13.37, 42.44, 27.23, 35.65, 29.51, 31.28, 41.34, 32.19, 33.67, 25.64, 9.3, \n",
    "              14.63, 25.1, 4.69, 14.42, 47.53, 33.82, 32.2 , 24.81, 32.64, 45.11, 26.76, 68.01, \n",
    "              23.39, 43.49, 37.88, 36.01, 16.32, 19.77, 16.34, 19.57, 29.28, 16.62, 24.39, 43.77, \n",
    "              50.46, 47.09])\n",
    "\n",
    "################################################ Train #############################################\n",
    "\n",
    "huber = HuberRegressor(epsilon=1.35).fit(X, y)\n",
    "y_pred_huber = huber.predict(X)\n",
    "\n",
    "\n",
    "# retrieve the fitted parameters\n",
    "coefs = huber.coef_          \n",
    "intercept = huber.intercept_     \n",
    "\n",
    "X_inlier = X[~huber.outliers_]\n",
    "y_inlier = y[~huber.outliers_]\n",
    "X_outlier = X[huber.outliers_]\n",
    "y_outlier = y[huber.outliers_]\n",
    "\n",
    "\n",
    "\n",
    "\n",
    "\n",
    "print(\"RANSAC -----------------------------------\\n\")\n",
    "print(\"Coefficients         :\", coefs)\n",
    "print(\"Intercept            :\", intercept)\n",
    "print(\"# of inliers         :\", sum(inlier_mask))\n",
    "print(\"Fraction of inliers  :\", sum(inlier_mask) / len(y))\n",
    "print(\"\\n------------------------------------------\")\n",
    "\n",
    "\n",
    "# fit and predict: Ordinary Least Squares\n",
    "ols = linear_model.LinearRegression().fit(X, y)\n",
    "y_pred_ols = ols.predict(X)\n",
    "\n",
    "############################################## Evaluate ############################################\n",
    "\n",
    "plt.scatter(X_inlier, y_inlier, s=100, c='green', label='Inliers')\n",
    "plt.scatter(X_outlier, y_outlier, s=100, c='red', label='Outliers')\n",
    "plt.plot(X, y_pred_ols, label='OLS')\n",
    "plt.plot(X, y_pred_huber, label='Huber')\n",
    "plt.legend();"
   ]
  },
  {
   "cell_type": "code",
   "execution_count": null,
   "id": "3dee16fa",
   "metadata": {},
   "outputs": [],
   "source": []
  },
  {
   "cell_type": "code",
   "execution_count": null,
   "id": "2e67cfb2",
   "metadata": {},
   "outputs": [],
   "source": []
  },
  {
   "cell_type": "code",
   "execution_count": null,
   "id": "66577908",
   "metadata": {},
   "outputs": [],
   "source": []
  },
  {
   "cell_type": "code",
   "execution_count": null,
   "id": "3ec3df9a",
   "metadata": {},
   "outputs": [],
   "source": []
  },
  {
   "cell_type": "code",
   "execution_count": null,
   "id": "e189415b",
   "metadata": {},
   "outputs": [],
   "source": []
  },
  {
   "cell_type": "markdown",
   "id": "18e7a298",
   "metadata": {},
   "source": [
    "Theilsen - \n",
    "* Becomes OLS in high dimension\n",
    "* Uses median\n",
    "* It can take upto arbitrary corruption data of upto 29.3%\n",
    "* Uses bootstrap method - fits data on all possible combinations of subsamples, and takes the median\n",
    "* `max_subpopulation` - restricts the magnitude of all possible combinations of p subsample points to a randomly chosen subset and therefore limits the runtime. Applicable to larger problems by losing some of its mathematical properties. \n",
    "* n choose k formula - combinations\n",
    "\n",
    "RANSAC -\n",
    "* Determined only from the filtered \"inliers\"\n",
    "* https://hands-on.cloud/using-the-random-sample-consensus-ransac-algorithm-in-python/\n",
    "* Card section for median of least squares\n",
    "\n",
    "Huber\n",
    "* Does not completely try to eliminate outliers, try to lessen the impact.\n",
    "* assigns less weight on outliers\n",
    "\n",
    "\n",
    "https://machinelearningmastery.com/robust-regression-for-machine-learning-in-python/"
   ]
  },
  {
   "cell_type": "code",
   "execution_count": null,
   "id": "296ce112",
   "metadata": {},
   "outputs": [],
   "source": []
  },
  {
   "cell_type": "code",
   "execution_count": null,
   "id": "645dbc84",
   "metadata": {},
   "outputs": [],
   "source": []
  },
  {
   "cell_type": "code",
   "execution_count": null,
   "id": "9ce31575",
   "metadata": {},
   "outputs": [],
   "source": []
  },
  {
   "cell_type": "code",
   "execution_count": null,
   "id": "cfcb7da9",
   "metadata": {},
   "outputs": [],
   "source": []
  },
  {
   "cell_type": "markdown",
   "id": "a325d035",
   "metadata": {},
   "source": []
  },
  {
   "cell_type": "markdown",
   "id": "d9832f92",
   "metadata": {},
   "source": []
  },
  {
   "cell_type": "markdown",
   "id": "c992df31",
   "metadata": {},
   "source": []
  },
  {
   "cell_type": "markdown",
   "id": "cd11a4de",
   "metadata": {},
   "source": [
    "## 4. Caveats\n",
    "\n",
    "* Outliers are requirement of a model - are they truly an outlier?"
   ]
  },
  {
   "cell_type": "markdown",
   "id": "07901dde",
   "metadata": {},
   "source": [
    "## 5. Advanced: Robust Non-linear regression - sinusoidal\n",
    "\n",
    "https://ostwalprasad.github.io/machine-learning/Robust-Regression-models-using-scikit-learn.html"
   ]
  },
  {
   "cell_type": "markdown",
   "id": "c3d05dea",
   "metadata": {},
   "source": [
    "## 6. Speed comparison"
   ]
  },
  {
   "cell_type": "code",
   "execution_count": null,
   "id": "bcd6ae1c",
   "metadata": {},
   "outputs": [],
   "source": []
  },
  {
   "cell_type": "code",
   "execution_count": null,
   "id": "0fc9040d",
   "metadata": {},
   "outputs": [],
   "source": []
  },
  {
   "cell_type": "code",
   "execution_count": null,
   "id": "b83bf49c",
   "metadata": {},
   "outputs": [],
   "source": []
  },
  {
   "cell_type": "code",
   "execution_count": null,
   "id": "432671eb",
   "metadata": {},
   "outputs": [],
   "source": []
  },
  {
   "cell_type": "code",
   "execution_count": null,
   "id": "1e11e494",
   "metadata": {},
   "outputs": [],
   "source": []
  },
  {
   "cell_type": "markdown",
   "id": "209b71a1",
   "metadata": {},
   "source": []
  },
  {
   "cell_type": "code",
   "execution_count": 4,
   "id": "d0f80125",
   "metadata": {},
   "outputs": [],
   "source": [
    "import pandas as pd\n",
    "import matplotlib.pyplot as plt\n",
    "from sklearn import linear_model\n",
    "import numpy as np\n",
    "\n",
    "######################################## Data preparation #########################################\n",
    "\n",
    "file = 'https://aegis4048.github.io/downloads/notebooks/sample_data/unconv_MV_v5.csv'\n",
    "df = pd.read_csv(file)\n",
    "\n",
    "X = df['Por'].values.reshape(-1,1)\n",
    "y = df['Prod'].values\n",
    "\n",
    "################################################ Train #############################################\n",
    "\n",
    "ols = linear_model.LinearRegression()\n",
    "model = ols.fit(X, y)\n",
    "response = model.predict(X)\n",
    "\n",
    "############################################## Evaluate ############################################"
   ]
  },
  {
   "cell_type": "code",
   "execution_count": 7,
   "id": "839b2210",
   "metadata": {},
   "outputs": [
    {
     "data": {
      "image/png": "[encoded data removed]",
      "text/plain": [
       "<Figure size 800x400 with 1 Axes>"
      ]
     },
     "metadata": {},
     "output_type": "display_data"
    }
   ],
   "source": [
    "fig, ax = plt.subplots(figsize=(8, 4))\n",
    "\n",
    "ax.plot(X, response, color='k', label='Regression model')\n",
    "ax.scatter(X, y, edgecolor='k', facecolor='grey', alpha=0.7, label='Sample data')\n",
    "ax.set_ylabel('Gas production (Mcf/day)', fontsize=14)\n",
    "ax.set_xlabel('Porosity (%)', fontsize=14)\n",
    "ax.text(0.8, 0.1, 'aegis4048.github.io', fontsize=13, ha='center', va='center',\n",
    "         transform=ax.transAxes, color='grey', alpha=0.5)\n",
    "ax.legend(facecolor='white', fontsize=11)\n",
    "ax.set_title('Linear Regression', fontsize=18)\n",
    "\n",
    "fig.tight_layout()"
   ]
  },
  {
   "cell_type": "code",
   "execution_count": 8,
   "id": "9cd18a0e",
   "metadata": {},
   "outputs": [],
   "source": [
    "from sklearn.linear_model import (LinearRegression, HuberRegressor,\n",
    "                              \tRANSACRegressor, TheilSenRegressor)"
   ]
  },
  {
   "cell_type": "code",
   "execution_count": 9,
   "id": "d0ef3bfa",
   "metadata": {},
   "outputs": [],
   "source": [
    "x_min = X.flatten().min()\n",
    "x_max = X.flatten().max()\n",
    "\n",
    "x_pred = np.linspace(x_min, x_max, 200)\n",
    "x_pred = x_pred.reshape(-1, 1)"
   ]
  },
  {
   "cell_type": "code",
   "execution_count": 10,
   "id": "5ae0cd0c",
   "metadata": {},
   "outputs": [],
   "source": [
    "huber = HuberRegressor().fit(X, y)\n",
    "y_pred_huber = huber.predict(x_pred)"
   ]
  },
  {
   "cell_type": "code",
   "execution_count": 11,
   "id": "024334ae",
   "metadata": {},
   "outputs": [],
   "source": [
    "TS = TheilSenRegressor().fit(X, y)\n",
    "y_pred_TS = TS.predict(x_pred)"
   ]
  },
  {
   "cell_type": "code",
   "execution_count": 15,
   "id": "c8ffd1dc",
   "metadata": {},
   "outputs": [
    {
     "data": {
      "text/plain": [
       "array([300.70846827])"
      ]
     },
     "execution_count": 15,
     "metadata": {},
     "output_type": "execute_result"
    }
   ],
   "source": [
    "TS.coef_"
   ]
  },
  {
   "cell_type": "code",
   "execution_count": 20,
   "id": "400c8044",
   "metadata": {},
   "outputs": [
    {
     "data": {
      "text/plain": [
       "0.2914287527193852"
      ]
     },
     "execution_count": 20,
     "metadata": {},
     "output_type": "execute_result"
    }
   ],
   "source": [
    "TS.breakdown_"
   ]
  },
  {
   "cell_type": "code",
   "execution_count": 21,
   "id": "fe504e14",
   "metadata": {},
   "outputs": [
    {
     "data": {
      "text/plain": [
       "62"
      ]
     },
     "execution_count": 21,
     "metadata": {},
     "output_type": "execute_result"
    }
   ],
   "source": [
    "TS.n_iter_"
   ]
  },
  {
   "cell_type": "code",
   "execution_count": 22,
   "id": "bc5c13f8",
   "metadata": {},
   "outputs": [
    {
     "data": {
      "text/plain": [
       "10000"
      ]
     },
     "execution_count": 22,
     "metadata": {},
     "output_type": "execute_result"
    }
   ],
   "source": [
    "TS.n_subpopulation_"
   ]
  },
  {
   "cell_type": "code",
   "execution_count": 24,
   "id": "144a8538",
   "metadata": {},
   "outputs": [
    {
     "data": {
      "text/plain": [
       "{'copy_X': True,\n",
       " 'fit_intercept': True,\n",
       " 'max_iter': 300,\n",
       " 'max_subpopulation': 10000,\n",
       " 'n_jobs': None,\n",
       " 'n_subsamples': None,\n",
       " 'random_state': None,\n",
       " 'tol': 0.001,\n",
       " 'verbose': False}"
      ]
     },
     "execution_count": 24,
     "metadata": {},
     "output_type": "execute_result"
    }
   ],
   "source": [
    "TS.get_params()"
   ]
  },
  {
   "cell_type": "code",
   "execution_count": null,
   "id": "e42ceb49",
   "metadata": {},
   "outputs": [],
   "source": []
  },
  {
   "cell_type": "code",
   "execution_count": null,
   "id": "49dfbf50",
   "metadata": {},
   "outputs": [],
   "source": []
  },
  {
   "cell_type": "code",
   "execution_count": 202,
   "id": "f8d401c0",
   "metadata": {},
   "outputs": [],
   "source": [
    "from sklearn.datasets import make_regression\n",
    "from random import seed\n",
    "from random import randint\n",
    "from random import random\n",
    "\n",
    "def get_dataset(random_state=10, n_samples=50):\n",
    "    \n",
    "    # random_state = 10 is good\n",
    "    \n",
    "    X, y = make_regression(\n",
    "        n_samples=50, \n",
    "        n_features=1, \n",
    "        effective_rank=1, \n",
    "        noise=3, \n",
    "        bias=30, \n",
    "        random_state=random_state\n",
    "    )\n",
    "    seed(1)\n",
    "    for i in range(10):\n",
    "        factor = randint(2, 4)\n",
    "        if random() > 0.5:\n",
    "            X[i] += factor * X.std()\n",
    "        else:\n",
    "            X[i] -= factor * X.std()\n",
    "    return X, y\n",
    " \n",
    "\n",
    "for i in range(0, 30):\n",
    "    \n",
    "    X, y = get_dataset(random_state=i)\n",
    "    \n",
    "    #fig, ax = plt.subplots(figsize=(4, 3))\n",
    "    \n",
    "    #ax.scatter(X, y)\n",
    "    #ax.set_title(i)"
   ]
  },
  {
   "cell_type": "code",
   "execution_count": null,
   "id": "cdfcc7d8",
   "metadata": {},
   "outputs": [],
   "source": []
  },
  {
   "cell_type": "code",
   "execution_count": null,
   "id": "bb699226",
   "metadata": {},
   "outputs": [],
   "source": []
  },
  {
   "cell_type": "code",
   "execution_count": null,
   "id": "a95cc139",
   "metadata": {},
   "outputs": [],
   "source": []
  },
  {
   "cell_type": "code",
   "execution_count": 62,
   "id": "76806efd",
   "metadata": {},
   "outputs": [
    {
     "name": "stdout",
     "output_type": "stream",
     "text": [
      "6\n"
     ]
    },
    {
     "data": {
      "image/png": "[encoded data removed]",
      "text/plain": [
       "<Figure size 800x400 with 1 Axes>"
      ]
     },
     "metadata": {},
     "output_type": "display_data"
    }
   ],
   "source": [
    "ransac = RANSACRegressor(min_samples=2, max_trials=1000, random_state=8).fit(X, y)\n",
    "y_pred_ransac = ransac.predict(x_pred)\n",
    "\n",
    "print(ransac.n_trials_)\n",
    "\n",
    "fig, ax = plt.subplots(figsize=(8, 4))\n",
    "\n",
    "ax.plot(X, response, color='k', label='Regression model')\n",
    "#ax.plot(x_pred, y_pred_huber, color='r', label='Huber')\n",
    "ax.plot(x_pred, y_pred_ransac, color='blue', label='RANSAC')\n",
    "#ax.plot(x_pred, y_pred_ransac, color='green', label='Ransac')\n",
    "#ax.scatter(X, y, edgecolor='k', facecolor='grey', alpha=0.7, label='Sample data')\n",
    "\n",
    "ax.scatter(X[~ransac.inlier_mask_], y[~ransac.inlier_mask_], edgecolor='r', facecolor='red', alpha=0.7, label='Outliers')\n",
    "ax.scatter(X[ransac.inlier_mask_], y[ransac.inlier_mask_], edgecolor='k', facecolor='grey', alpha=0.7, label='Inliers')\n",
    "\n",
    "ax.set_ylabel('Gas production (Mcf/day)', fontsize=14)\n",
    "ax.set_xlabel('Porosity (%)', fontsize=14)\n",
    "ax.text(0.8, 0.1, 'aegis4048.github.io', fontsize=13, ha='center', va='center',\n",
    "         transform=ax.transAxes, color='grey', alpha=0.5)\n",
    "ax.legend(facecolor='white', fontsize=11)\n",
    "ax.set_title('Linear Regression', fontsize=18)\n",
    "\n",
    "fig.tight_layout()"
   ]
  },
  {
   "cell_type": "code",
   "execution_count": 40,
   "id": "c94f3d27",
   "metadata": {},
   "outputs": [
    {
     "data": {
      "text/plain": [
       "1"
      ]
     },
     "execution_count": 40,
     "metadata": {},
     "output_type": "execute_result"
    }
   ],
   "source": [
    "X.shape[1]"
   ]
  },
  {
   "cell_type": "code",
   "execution_count": null,
   "id": "fe455008",
   "metadata": {},
   "outputs": [],
   "source": []
  },
  {
   "cell_type": "code",
   "execution_count": null,
   "id": "36a21a74",
   "metadata": {},
   "outputs": [],
   "source": []
  },
  {
   "cell_type": "code",
   "execution_count": 14,
   "id": "c8c42b2f",
   "metadata": {},
   "outputs": [
    {
     "data": {
      "image/png": "[encoded data removed]",
      "text/plain": [
       "<Figure size 800x400 with 1 Axes>"
      ]
     },
     "metadata": {},
     "output_type": "display_data"
    }
   ],
   "source": [
    "fig, ax = plt.subplots(figsize=(8, 4))\n",
    "\n",
    "ax.plot(X, response, color='k', label='Regression model')\n",
    "#ax.plot(x_pred, y_pred_huber, color='r', label='Huber')\n",
    "ax.plot(x_pred, y_pred_TS, color='blue', label='TS')\n",
    "#ax.plot(x_pred, y_pred_ransac, color='green', label='Ransac')\n",
    "ax.scatter(X, y, edgecolor='k', facecolor='grey', alpha=0.7, label='Sample data')\n",
    "ax.set_ylabel('Gas production (Mcf/day)', fontsize=14)\n",
    "ax.set_xlabel('Porosity (%)', fontsize=14)\n",
    "ax.text(0.8, 0.1, 'aegis4048.github.io', fontsize=13, ha='center', va='center',\n",
    "         transform=ax.transAxes, color='grey', alpha=0.5)\n",
    "ax.legend(facecolor='white', fontsize=11)\n",
    "ax.set_title('Linear Regression', fontsize=18)\n",
    "\n",
    "fig.tight_layout()"
   ]
  },
  {
   "cell_type": "code",
   "execution_count": null,
   "id": "3a1366ab",
   "metadata": {},
   "outputs": [],
   "source": []
  },
  {
   "cell_type": "markdown",
   "id": "5595b8ad",
   "metadata": {},
   "source": [
    "Theilsen - \n",
    "* Becomes OLS in high dimension\n",
    "* Uses median\n",
    "* It can take upto arbitrary corruption data of upto 29.3%\n",
    "* Uses bootstrap method - fits data on all possible combinations of subsamples, and takes the median\n",
    "* `max_subpopulation` - restricts the magnitude of all possible combinations of p subsample points to a randomly chosen subset and therefore limits the runtime. Applicable to larger problems by losing some of its mathematical properties. \n",
    "* n choose k formula - combinations\n",
    "\n",
    "RANSAC -\n",
    "* Determined only from the filtered \"inliers\"\n",
    "* https://hands-on.cloud/using-the-random-sample-consensus-ransac-algorithm-in-python/\n",
    "* Card section for median of least squares\n"
   ]
  },
  {
   "cell_type": "code",
   "execution_count": 2,
   "id": "fe88d11c",
   "metadata": {},
   "outputs": [
    {
     "data": {
      "text/plain": [
       "array([201., 244.,  47., 287., 203.,  58., 210., 202., 198., 158., 165.,\n",
       "       201., 157., 131., 166., 160., 186., 125., 218., 146.])"
      ]
     },
     "execution_count": 2,
     "metadata": {},
     "output_type": "execute_result"
    }
   ],
   "source": [
    "x"
   ]
  },
  {
   "cell_type": "code",
   "execution_count": 3,
   "id": "2a3a13c3",
   "metadata": {},
   "outputs": [
    {
     "data": {
      "text/plain": [
       "array([592., 401., 583., 402., 495., 173., 479., 504., 510., 416., 393.,\n",
       "       442., 317., 311., 400., 337., 423., 334., 533., 344.])"
      ]
     },
     "execution_count": 3,
     "metadata": {},
     "output_type": "execute_result"
    }
   ],
   "source": [
    "y"
   ]
  },
  {
   "cell_type": "code",
   "execution_count": 4,
   "id": "615d15cb",
   "metadata": {},
   "outputs": [
    {
     "data": {
      "text/plain": [
       "array([61., 25., 38., 15., 21., 15., 27., 14., 30., 16., 14., 25., 52.,\n",
       "       16., 34., 31., 42., 26., 16., 22.])"
      ]
     },
     "execution_count": 4,
     "metadata": {},
     "output_type": "execute_result"
    }
   ],
   "source": [
    "dy"
   ]
  },
  {
   "cell_type": "code",
   "execution_count": null,
   "id": "5e368c5b",
   "metadata": {},
   "outputs": [],
   "source": []
  },
  {
   "cell_type": "code",
   "execution_count": null,
   "id": "82ffb4f2",
   "metadata": {},
   "outputs": [],
   "source": []
  },
  {
   "cell_type": "code",
   "execution_count": null,
   "id": "5a4193e1",
   "metadata": {},
   "outputs": [],
   "source": []
  },
  {
   "cell_type": "code",
   "execution_count": null,
   "id": "94aa0bad",
   "metadata": {},
   "outputs": [],
   "source": []
  },
  {
   "cell_type": "code",
   "execution_count": null,
   "id": "a4b28639",
   "metadata": {},
   "outputs": [],
   "source": []
  },
  {
   "cell_type": "code",
   "execution_count": null,
   "id": "abadb914",
   "metadata": {},
   "outputs": [],
   "source": []
  },
  {
   "cell_type": "code",
   "execution_count": null,
   "id": "1272f132",
   "metadata": {},
   "outputs": [],
   "source": []
  },
  {
   "cell_type": "code",
   "execution_count": null,
   "id": "0ddacf6f",
   "metadata": {},
   "outputs": [],
   "source": []
  },
  {
   "cell_type": "code",
   "execution_count": null,
   "id": "0a9adec6",
   "metadata": {},
   "outputs": [],
   "source": []
  },
  {
   "cell_type": "code",
   "execution_count": null,
   "id": "f387a96c",
   "metadata": {},
   "outputs": [],
   "source": []
  },
  {
   "cell_type": "code",
   "execution_count": null,
   "id": "09a90ea3",
   "metadata": {},
   "outputs": [],
   "source": []
  },
  {
   "cell_type": "code",
   "execution_count": 11,
   "id": "f1b727c2",
   "metadata": {},
   "outputs": [],
   "source": [
    "X = np.array([ 0.15, -0.34, 0.32, 0.43, -0.4, -0.04, -0.51, 0.3, 0.47, 0.12, 0.08, 0.04, -0.08, \n",
    "              -0.23, 0.08, -0.03, 0.03, 0.04, 0.01, 0.06, 0.03, 0., -0.04, -0.18, -0.19, -0.06, \n",
    "              -0.26, -0.16, 0.13, 0.09, 0.03, -0.03, 0.04, 0.14, -0.01, 0.4, -0.06, 0.15, 0.08, \n",
    "              0.05, -0.15, -0.09, -0.15, -0.11, -0.07, -0.19, -0.06, 0.17, 0.23, 0.18]).reshape(-1, 1)\n",
    "y = np.array([17.44, 25.46, 18.61, 26.07, 24.96, -1.22, 26.45, 26.5, 20.57, 3.08, 35.9 , 32.47, \n",
    "              20.84, 13.37, 42.44, 27.23, 35.65, 29.51, 31.28, 41.34, 32.19, 33.67, 25.64, 9.3, \n",
    "              14.63, 25.1, 4.69, 14.42, 47.53, 33.82, 32.2 , 24.81, 32.64, 45.11, 26.76, 68.01, \n",
    "              23.39, 43.49, 37.88, 36.01, 16.32, 19.77, 16.34, 19.57, 29.28, 16.62, 24.39, 43.77, \n",
    "              50.46, 47.09])"
   ]
  },
  {
   "cell_type": "code",
   "execution_count": 12,
   "id": "15a0c66f",
   "metadata": {},
   "outputs": [],
   "source": [
    "import numbers\n",
    "\n",
    "def _num_samples(x):\n",
    "    if hasattr(x, \"fit\") and callable(x.fit):\n",
    "        # Don't get num_samples from an ensembles length!\n",
    "        raise TypeError(message)\n",
    "\n",
    "    if not hasattr(x, \"__len__\") and not hasattr(x, \"shape\"):\n",
    "        if hasattr(x, \"__array__\"):\n",
    "            x = np.asarray(x)\n",
    "        else:\n",
    "            raise TypeError(message)\n",
    "\n",
    "    if hasattr(x, \"shape\") and x.shape is not None:\n",
    "        if len(x.shape) == 0:\n",
    "            raise TypeError(\n",
    "                \"Singleton array %r cannot be considered a valid collection.\" % x\n",
    "            )\n",
    "        # Check that shape is returning an integer or default to len\n",
    "        # Dask dataframes may not return numeric shape[0] value\n",
    "        if isinstance(x.shape[0], numbers.Integral):\n",
    "            return x.shape[0]\n",
    "\n",
    "    try:\n",
    "        return len(x)\n",
    "    except TypeError as type_error:\n",
    "        raise TypeError(message) from type_error\n",
    "\n",
    "        \n",
    "def _check_sample_weight(\n",
    "    sample_weight, X, dtype=None, copy=False, only_non_negative=False\n",
    "):\n",
    "    n_samples = _num_samples(X)\n",
    "\n",
    "    if dtype is not None and dtype not in [np.float32, np.float64]:\n",
    "        dtype = np.float64\n",
    "\n",
    "    if sample_weight is None:\n",
    "        sample_weight = np.ones(n_samples, dtype=dtype)\n",
    "    elif isinstance(sample_weight, numbers.Number):\n",
    "        sample_weight = np.full(n_samples, sample_weight, dtype=dtype)\n",
    "    else:\n",
    "        if dtype is None:\n",
    "            dtype = [np.float64, np.float32]\n",
    "        sample_weight = check_array(\n",
    "            sample_weight,\n",
    "            accept_sparse=False,\n",
    "            ensure_2d=False,\n",
    "            dtype=dtype,\n",
    "            order=\"C\",\n",
    "            copy=copy,\n",
    "            input_name=\"sample_weight\",\n",
    "        )\n",
    "        if sample_weight.ndim != 1:\n",
    "            raise ValueError(\"Sample weights must be 1D array or scalar\")\n",
    "\n",
    "        if sample_weight.shape != (n_samples,):\n",
    "            raise ValueError(\n",
    "                \"sample_weight.shape == {}, expected {}!\".format(\n",
    "                    sample_weight.shape, (n_samples,)\n",
    "                )\n",
    "            )\n",
    "\n",
    "    if only_non_negative:\n",
    "        check_non_negative(sample_weight, \"`sample_weight`\")\n",
    "\n",
    "    return sample_weight\n",
    "\n",
    "def safe_mask(X, mask):\n",
    "    mask = np.asarray(mask)\n",
    "    if np.issubdtype(mask.dtype, np.signedinteger):\n",
    "        return mask\n",
    "\n",
    "    if hasattr(X, \"toarray\"):\n",
    "        ind = np.arange(mask.shape[0])\n",
    "        mask = ind[mask]\n",
    "    return mask\n",
    "\n",
    "def axis0_safe_slice(X, mask, len_mask):\n",
    "\n",
    "    if len_mask != 0:\n",
    "        return X[safe_mask(X, mask), :]\n",
    "    return np.zeros(shape=(0, X.shape[1]))"
   ]
  },
  {
   "cell_type": "code",
   "execution_count": null,
   "id": "596b67a2",
   "metadata": {},
   "outputs": [],
   "source": []
  },
  {
   "cell_type": "code",
   "execution_count": 44,
   "id": "9689cfa3",
   "metadata": {},
   "outputs": [],
   "source": [
    "from sklearn.utils.extmath import safe_sparse_dot\n",
    "from scipy import optimize\n",
    "\n",
    "def _huber_loss_and_gradient(w, X, y, epsilon, alpha, sample_weight=None):\n",
    "    \n",
    "    print(w)\n",
    "    \n",
    "    _, n_features = X.shape\n",
    "    fit_intercept = n_features + 2 == w.shape[0]\n",
    "    if fit_intercept:\n",
    "        intercept = w[-2]\n",
    "    sigma = w[-1]\n",
    "    \n",
    "    # w = [feature, intercept, sigma]\n",
    "    w = w[:n_features]\n",
    "    n_samples = np.sum(sample_weight)\n",
    "    \n",
    "\n",
    "    # Calculate the values where |y - X'w -c / sigma| > epsilon\n",
    "    # The values above this threshold are outliers.\n",
    "    linear_loss = y - safe_sparse_dot(X, w)\n",
    "    if fit_intercept:\n",
    "        linear_loss -= intercept\n",
    "    abs_linear_loss = np.abs(linear_loss)\n",
    "    outliers_mask = abs_linear_loss > epsilon * sigma\n",
    "\n",
    "    # Calculate the linear loss due to the outliers.\n",
    "    # This is equal to (2 * M * |y - X'w -c / sigma| - M**2) * sigma\n",
    "    outliers = abs_linear_loss[outliers_mask]\n",
    "    num_outliers = np.count_nonzero(outliers_mask)\n",
    "    n_non_outliers = X.shape[0] - num_outliers\n",
    "\n",
    "    # n_sq_outliers includes the weight give to the outliers while\n",
    "    # num_outliers is just the number of outliers.\n",
    "    outliers_sw = sample_weight[outliers_mask]\n",
    "    n_sw_outliers = np.sum(outliers_sw)\n",
    "    outlier_loss = (\n",
    "        2.0 * epsilon * np.sum(outliers_sw * outliers)\n",
    "        - sigma * n_sw_outliers * epsilon**2\n",
    "    )\n",
    "\n",
    "    # Calculate the quadratic loss due to the non-outliers.-\n",
    "    # This is equal to |(y - X'w - c)**2 / sigma**2| * sigma\n",
    "    non_outliers = linear_loss[~outliers_mask]\n",
    "    weighted_non_outliers = sample_weight[~outliers_mask] * non_outliers\n",
    "    weighted_loss = np.dot(weighted_non_outliers.T, non_outliers)\n",
    "    squared_loss = weighted_loss / sigma\n",
    "\n",
    "    if fit_intercept:\n",
    "        grad = np.zeros(n_features + 2)\n",
    "    else:\n",
    "        grad = np.zeros(n_features + 1)\n",
    "\n",
    "    # Gradient due to the squared loss.\n",
    "    X_non_outliers = -axis0_safe_slice(X, ~outliers_mask, n_non_outliers)\n",
    "    grad[:n_features] = (\n",
    "        2.0 / sigma * safe_sparse_dot(weighted_non_outliers, X_non_outliers)\n",
    "    )\n",
    "\n",
    "    # Gradient due to the linear loss.\n",
    "    signed_outliers = np.ones_like(outliers)\n",
    "    signed_outliers_mask = linear_loss[outliers_mask] < 0\n",
    "    signed_outliers[signed_outliers_mask] = -1.0\n",
    "    X_outliers = axis0_safe_slice(X, outliers_mask, num_outliers)\n",
    "    sw_outliers = sample_weight[outliers_mask] * signed_outliers\n",
    "    grad[:n_features] -= 2.0 * epsilon * (safe_sparse_dot(sw_outliers, X_outliers))\n",
    "\n",
    "    # Gradient due to the penalty.\n",
    "    grad[:n_features] += alpha * 2.0 * w\n",
    "\n",
    "    # Gradient due to sigma.\n",
    "    grad[-1] = n_samples\n",
    "    grad[-1] -= n_sw_outliers * epsilon**2\n",
    "    grad[-1] -= squared_loss / sigma\n",
    "\n",
    "    # Gradient due to the intercept.\n",
    "    if fit_intercept:\n",
    "        grad[-2] = -2.0 * np.sum(weighted_non_outliers) / sigma\n",
    "        grad[-2] -= 2.0 * epsilon * np.sum(sw_outliers)\n",
    "\n",
    "    loss = n_samples * sigma + squared_loss + outlier_loss\n",
    "    loss += alpha * np.dot(w, w)\n",
    "\n",
    "    #print(\"Outlier Loss: \", outlier_loss)\n",
    "    #print(\"np.sum(outliers_sw * outliers): \", np.sum(outliers_sw * outliers))\n",
    "    #print(\"outliers_sw: \", outliers_sw)\n",
    "    #print(\"outliers: \", outliers)\n",
    "    #print(\"n_sw_outliers: \", n_sw_outliers)\n",
    "    \n",
    "    #print(\"sample_weight[~outliers_mask:\", sample_weight[~outliers_mask])\n",
    "    #print(\"weighted_non_outliers.T:\", weighted_non_outliers.T)\n",
    "    #print(\"non_outliers:\" , non_outliers)\n",
    "    #print(\"sample_weight[~outliers_mask]: \", sample_weight[~outliers_mask])\n",
    "    print(loss)\n",
    "    print('------------------------------')\n",
    "    \n",
    "    return loss, grad"
   ]
  },
  {
   "cell_type": "code",
   "execution_count": 45,
   "id": "ac0f0282",
   "metadata": {
    "scrolled": false
   },
   "outputs": [
    {
     "name": "stdout",
     "output_type": "stream",
     "text": [
      "[0.00000000e+00 0.00000000e+00 2.22044605e-15]\n",
      "3767.2830000000004\n",
      "------------------------------\n",
      "[0.00972974 0.95311702 0.3024455 ]\n",
      "3631.3080907283793\n",
      "------------------------------\n",
      "[0.04864868 4.76558509 1.51222752]\n",
      "3099.5517653032175\n",
      "------------------------------\n",
      "[ 0.20432446 20.01545737  6.35135559]\n",
      "1410.7860827918864\n",
      "------------------------------\n",
      "[ 3.24123677 37.62736135  7.89920988]\n",
      "1552.9110160587811\n",
      "------------------------------\n",
      "[ 1.49996885 27.52926162  7.01171998]\n",
      "1176.5442862388968\n",
      "------------------------------\n",
      "[ 2.42823828 27.44083243  7.46807196]\n",
      "1168.296730982608\n",
      "------------------------------\n",
      "[14.90649749 27.13792982  9.77185586]\n",
      "1110.160424191842\n",
      "------------------------------\n",
      "[24.30856005 27.7300758   8.89140562]\n",
      "1079.044166289982\n",
      "------------------------------\n",
      "[31.56195168 28.42193093  7.62340275]\n",
      "1066.6558170246344\n",
      "------------------------------\n",
      "[36.95026939 28.76642621  7.05650623]\n",
      "1063.6099795434234\n",
      "------------------------------\n",
      "[40.47019657 28.86441332  6.62423449]\n",
      "1062.586251561293\n",
      "------------------------------\n",
      "[49.60996275 28.83243375  4.80629899]\n",
      "1062.3704419984167\n",
      "------------------------------\n",
      "[44.72176238 28.84953731  5.7785813 ]\n",
      "1061.7662235751402\n",
      "------------------------------\n",
      "[51.82410196 29.05183322  5.1401995 ]\n",
      "1061.181473928834\n",
      "------------------------------\n",
      "[50.00543261 29.02725101  5.38550323]\n",
      "1061.1416183840392\n",
      "------------------------------\n",
      "[50.30230965 29.03006412  5.33166578]\n",
      "1061.138884164562\n",
      "------------------------------\n",
      "[50.33347735 29.02939339  5.33085615]\n",
      "1061.1388676779816\n",
      "------------------------------\n",
      "[50.33244613 29.03079883  5.330367  ]\n",
      "1061.138858909254\n",
      "------------------------------\n",
      "[50.32931647 29.03040888  5.33058098]\n",
      "1061.1388581539136\n",
      "------------------------------\n",
      "  message: CONVERGENCE: REL_REDUCTION_OF_F_<=_FACTR*EPSMCH\n",
      "  success: True\n",
      "   status: 0\n",
      "      fun: 1061.1388581539136\n",
      "        x: [ 5.033e+01  2.903e+01  5.331e+00]\n",
      "      nit: 15\n",
      "      jac: [-1.526e-05 -4.297e-05 -8.984e-05]\n",
      "     nfev: 20\n",
      "     njev: 20\n",
      " hess_inv: <3x3 LbfgsInvHessProduct with dtype=float64>\n"
     ]
    }
   ],
   "source": [
    "sample_weight = None\n",
    "sample_weight = _check_sample_weight(sample_weight, X)\n",
    "\n",
    "parameters = np.zeros(X.shape[1] + 2)\n",
    "\n",
    "bounds = np.tile([-np.inf, np.inf], (parameters.shape[0], 1))\n",
    "bounds[-1][0] = np.finfo(np.float64).eps * 10\n",
    "\n",
    "opt_res = optimize.minimize(\n",
    "    _huber_loss_and_gradient,\n",
    "    parameters,\n",
    "    method=\"L-BFGS-B\",\n",
    "    jac=True,\n",
    "    args=(X, y, 1.35, 0.0001, sample_weight),\n",
    "    options={\"maxiter\": 100, \"gtol\": 1e-05, \"iprint\": -1},\n",
    "    bounds=bounds,\n",
    ")\n",
    "\n",
    "print(opt_res)"
   ]
  },
  {
   "cell_type": "markdown",
   "id": "358734e6",
   "metadata": {},
   "source": [
    "https://www.activeloop.ai/resources/glossary/huber-loss/#:~:text=Huber%20loss%20is%20a%20combination,be%20sensitive%20to%20extreme%20values.\n",
    "\n",
    "https://www.astroml.org/book_figures/chapter8/fig_huber_loss.html"
   ]
  },
  {
   "cell_type": "code",
   "execution_count": null,
   "id": "dd40ae7c",
   "metadata": {},
   "outputs": [],
   "source": []
  },
  {
   "cell_type": "code",
   "execution_count": null,
   "id": "e44bee6f",
   "metadata": {},
   "outputs": [],
   "source": []
  },
  {
   "cell_type": "code",
   "execution_count": null,
   "id": "12f47e81",
   "metadata": {},
   "outputs": [],
   "source": []
  },
  {
   "cell_type": "code",
   "execution_count": null,
   "id": "22b7b907",
   "metadata": {},
   "outputs": [],
   "source": []
  },
  {
   "cell_type": "code",
   "execution_count": 6,
   "id": "349de7e0",
   "metadata": {},
   "outputs": [
    {
     "data": {
      "text/plain": [
       "array([50.32948547])"
      ]
     },
     "execution_count": 6,
     "metadata": {},
     "output_type": "execute_result"
    }
   ],
   "source": [
    "huber.coef_"
   ]
  },
  {
   "cell_type": "code",
   "execution_count": 7,
   "id": "19798333",
   "metadata": {},
   "outputs": [
    {
     "data": {
      "text/plain": [
       "29.03041669256188"
      ]
     },
     "execution_count": 7,
     "metadata": {},
     "output_type": "execute_result"
    }
   ],
   "source": [
    "huber.intercept_"
   ]
  },
  {
   "cell_type": "code",
   "execution_count": 8,
   "id": "a81309e8",
   "metadata": {},
   "outputs": [
    {
     "data": {
      "text/plain": [
       "5.330576534578339"
      ]
     },
     "execution_count": 8,
     "metadata": {},
     "output_type": "execute_result"
    }
   ],
   "source": [
    "huber.scale_"
   ]
  },
  {
   "cell_type": "code",
   "execution_count": null,
   "id": "37cd981b",
   "metadata": {},
   "outputs": [],
   "source": []
  },
  {
   "cell_type": "code",
   "execution_count": 9,
   "id": "ce12a288",
   "metadata": {},
   "outputs": [
    {
     "ename": "NameError",
     "evalue": "name 'huber_loss_and_gradient' is not defined",
     "output_type": "error",
     "traceback": [
      "\u001b[1;31m---------------------------------------------------------------------------\u001b[0m",
      "\u001b[1;31mNameError\u001b[0m                                 Traceback (most recent call last)",
      "\u001b[1;32m~\\AppData\\Local\\Temp\\ipykernel_8188\\1538142884.py\u001b[0m in \u001b[0;36m<module>\u001b[1;34m\u001b[0m\n\u001b[1;32m----> 1\u001b[1;33m \u001b[0mhuber_loss_and_gradient\u001b[0m\u001b[1;33m(\u001b[0m\u001b[0mnp\u001b[0m\u001b[1;33m.\u001b[0m\u001b[0mzeros\u001b[0m\u001b[1;33m(\u001b[0m\u001b[0mX\u001b[0m\u001b[1;33m.\u001b[0m\u001b[0mshape\u001b[0m\u001b[1;33m[\u001b[0m\u001b[1;36m1\u001b[0m\u001b[1;33m]\u001b[0m \u001b[1;33m+\u001b[0m \u001b[1;36m2\u001b[0m\u001b[1;33m)\u001b[0m\u001b[1;33m,\u001b[0m \u001b[0mX\u001b[0m\u001b[1;33m,\u001b[0m \u001b[0my\u001b[0m\u001b[1;33m,\u001b[0m \u001b[0mepsilon\u001b[0m\u001b[1;33m=\u001b[0m\u001b[1;36m1.35\u001b[0m\u001b[1;33m,\u001b[0m \u001b[0malpha\u001b[0m\u001b[1;33m=\u001b[0m\u001b[1;36m0.0001\u001b[0m\u001b[1;33m,\u001b[0m \u001b[1;33m)\u001b[0m\u001b[1;33m\u001b[0m\u001b[1;33m\u001b[0m\u001b[0m\n\u001b[0m",
      "\u001b[1;31mNameError\u001b[0m: name 'huber_loss_and_gradient' is not defined"
     ]
    }
   ],
   "source": [
    "huber_loss_and_gradient(np.zeros(X.shape[1] + 2), X, y, epsilon=1.35, alpha=0.0001, )"
   ]
  },
  {
   "cell_type": "code",
   "execution_count": null,
   "id": "af002ddd",
   "metadata": {},
   "outputs": [],
   "source": []
  },
  {
   "cell_type": "code",
   "execution_count": null,
   "id": "2939db28",
   "metadata": {},
   "outputs": [],
   "source": []
  },
  {
   "cell_type": "code",
   "execution_count": null,
   "id": "f0a5b03c",
   "metadata": {},
   "outputs": [],
   "source": []
  },
  {
   "cell_type": "code",
   "execution_count": null,
   "id": "74e17abd",
   "metadata": {},
   "outputs": [],
   "source": []
  },
  {
   "cell_type": "code",
   "execution_count": null,
   "id": "f5ed1e98",
   "metadata": {},
   "outputs": [],
   "source": []
  },
  {
   "cell_type": "code",
   "execution_count": null,
   "id": "d3bd712e",
   "metadata": {},
   "outputs": [],
   "source": []
  },
  {
   "cell_type": "code",
   "execution_count": null,
   "id": "bfabf67a",
   "metadata": {},
   "outputs": [],
   "source": []
  },
  {
   "cell_type": "code",
   "execution_count": null,
   "id": "766a9ec3",
   "metadata": {},
   "outputs": [],
   "source": []
  },
  {
   "cell_type": "code",
   "execution_count": null,
   "id": "5bad42ae",
   "metadata": {},
   "outputs": [],
   "source": []
  },
  {
   "cell_type": "code",
   "execution_count": null,
   "id": "44259601",
   "metadata": {},
   "outputs": [],
   "source": []
  },
  {
   "cell_type": "code",
   "execution_count": null,
   "id": "b535fed5",
   "metadata": {},
   "outputs": [],
   "source": []
  },
  {
   "cell_type": "code",
   "execution_count": null,
   "id": "e5abb540",
   "metadata": {},
   "outputs": [],
   "source": []
  },
  {
   "cell_type": "code",
   "execution_count": null,
   "id": "c399f4c0",
   "metadata": {},
   "outputs": [],
   "source": []
  },
  {
   "cell_type": "code",
   "execution_count": null,
   "id": "f38c2e96",
   "metadata": {},
   "outputs": [],
   "source": []
  },
  {
   "cell_type": "code",
   "execution_count": null,
   "id": "f390ac88",
   "metadata": {},
   "outputs": [],
   "source": []
  },
  {
   "cell_type": "code",
   "execution_count": null,
   "id": "e246d5de",
   "metadata": {},
   "outputs": [],
   "source": []
  },
  {
   "cell_type": "code",
   "execution_count": null,
   "id": "a371d61d",
   "metadata": {},
   "outputs": [],
   "source": []
  },
  {
   "cell_type": "markdown",
   "id": "7443dce0",
   "metadata": {},
   "source": [
    "https://online.stat.psu.edu/stat501/lesson/t/t.1/t.1.1-robust-regression-methods\n",
    "\n",
    "\"These methods attempt to dampen the influence of outlying cases in order to provide a better fit to the majority of the data. Outliers have a tendency to pull the least squares fit too far in their direction by receiving much more \"weight\" than they deserve. Robust regression down-weights the influence of outliers, which makes their residuals larger and easier to identify. Also the outliers maybe difficult to identify in presence of multiple predictor variables.\"\n",
    "\n",
    "Ordinary least squares are sometimes known as L2-norm regression since it is minimizing the L2-norm of the residuals (i.e., the squares of the residuals). Thus, observations with high residuals (and high squared residuals) will pull the least squares to fit more in that direction.\n",
    "\n",
    "An alternative is to use what is sometimes known as least absolute deviation (or L1-norm regression), which minimizes the L1-norm of the residuals (i.e., the absolute value of the residuals)\n",
    "\n",
    "\" iteratively reweighted least squares (IRLS) \"\n",
    "\n",
    "\n",
    "https://developer.nvidia.com/blog/dealing-with-outliers-using-three-robust-linear-regression-models/\n",
    "(good examples with sample data generation codes)\n",
    "\n",
    "\n",
    "\"Connected to the previous point is the fact that optimizing the squared loss results in an unbiased estimator around the mean, while the absolute difference leads to an unbiased estimator around the median. The median is much more robust to outliers than the mean, so expect this to provide a less biased estimate.\"\n",
    "\n",
    "\"The Huber loss identifies outliers by considering the residuals, denoted by z. If the observation is considered to be regular (because the absolute value of the residual is smaller than some threshold \\epsilon), then apply the squared loss function. Otherwise, the observation is considered to be an outlier and you apply the absolute loss. Having said that, Huber loss is basically a combination of the squared and absolute loss functions.\"\n",
    "\n",
    "\"You might recognize this approach to loss functions from analyzing the differences between two of the popular regression evaluation metrics: mean squared error (MSE) and mean absolute error (MAE). Similar to what the Huber loss implies, I recommend using MAE when you are dealing with outliers, as it does not penalize those observations as heavily as the squared loss does. \"\n",
    "\n",
    "\"Use the default value of 1.35 for \\epsilon, which determines the regression’s sensitivity to outliers. Huber (2004) shows that when the errors follow a normal distribution with \\sigma = 1 and \\epsilon = 1.35, an efficiency of 95% is achieved relative to the OLS regression.\"\n",
    "\n",
    "\n",
    "https://scikit-learn.org/stable/auto_examples/linear_model/plot_huber_vs_ridge.html\n",
    "The epsilon-parameter of the huber regressor determins sensitivity to the outliers.\n"
   ]
  },
  {
   "cell_type": "markdown",
   "id": "09cc2538",
   "metadata": {},
   "source": [
    "**Huber Regressor**\n",
    "\n",
    "\n",
    "https://scikit-learn.org/stable/modules/linear_model.html#robustness-regression-outliers-and-modeling-errors\n",
    "\n",
    "A sample is classified as an inlier if the absolute error of that sample is lesser than a certain threshold. It differs from TheilSenRegressor and RANSACRegressor because it does not ignore the effect of the outliers but gives a lesser weight to them.\n",
    "\n",
    "It is advised to set the parameter epsilon to 1.35 to achieve 95% statistical efficiency"
   ]
  },
  {
   "cell_type": "markdown",
   "id": "694bf6c8",
   "metadata": {},
   "source": []
  },
  {
   "cell_type": "markdown",
   "id": "477c4510",
   "metadata": {},
   "source": []
  },
  {
   "cell_type": "markdown",
   "id": "02882ce9",
   "metadata": {},
   "source": []
  },
  {
   "cell_type": "code",
   "execution_count": null,
   "id": "4ab78d2b",
   "metadata": {},
   "outputs": [],
   "source": []
  },
  {
   "cell_type": "code",
   "execution_count": null,
   "id": "1f6c15a7",
   "metadata": {},
   "outputs": [],
   "source": []
  },
  {
   "cell_type": "code",
   "execution_count": null,
   "id": "28617574",
   "metadata": {},
   "outputs": [],
   "source": []
  },
  {
   "cell_type": "code",
   "execution_count": null,
   "id": "d80542df",
   "metadata": {},
   "outputs": [],
   "source": []
  }
 ],
 "metadata": {
  "kernelspec": {
   "display_name": "Python 3 (ipykernel)",
   "language": "python",
   "name": "python3"
  },
  "language_info": {
   "codemirror_mode": {
    "name": "ipython",
    "version": 3
   },
   "file_extension": ".py",
   "mimetype": "text/x-python",
   "name": "python",
   "nbconvert_exporter": "python",
   "pygments_lexer": "ipython3",
   "version": "3.9.13"
  }
 },
 "nbformat": 4,
 "nbformat_minor": 5
}
