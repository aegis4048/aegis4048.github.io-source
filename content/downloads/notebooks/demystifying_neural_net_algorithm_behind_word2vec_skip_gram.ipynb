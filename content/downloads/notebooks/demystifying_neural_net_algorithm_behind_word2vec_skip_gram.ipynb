{
 "cells": [
  {
   "cell_type": "markdown",
   "metadata": {},
   "source": [
    "*The code snippet assumes Anaconda 5.2.0 version of Python virtual environment*\n",
    "\n",
    "<div class=\"alert alert-info\">\n",
    "    <h4>Acknowledgement</h4>\n",
    "    <p>The materials on this post are based the two research paper, <a href=\"https://papers.nips.cc/paper/5021-distributed-representations-of-words-and-phrases-and-their-compositionality.pdf\">Distributed Representations of Words and Phrases and their Compositionality</a> (Mikolov et al., 2013) and <a href=\"https://arxiv.org/pdf/1411.2738.pdf\">word2vec Parameter Learning Explained</a> (Rong, 2014).</p>\n",
    "</div>"
   ]
  },
  {
   "cell_type": "markdown",
   "metadata": {},
   "source": [
    "Word Embedding - represent words in a vector space"
   ]
  },
  {
   "cell_type": "markdown",
   "metadata": {},
   "source": [
    "\n",
    "\n",
    "## Paradigm Shift in Word Embedding: Frequency-Based to Prediction-Based\n",
    "\n",
    "Document 1: \"all that glitters is not gold\"\n",
    "\n",
    "Document 2: \"all is well that ends well\"\n",
    "\n",
    "++ Pandas Table\n",
    "\n",
    "Limitation of Count-Based Method:\n",
    "1. someting\n",
    "2. something\n",
    "3. something\n",
    "\n",
    "To combat these issues, a novel prediction-based word embedding technique called Word2Vec was introduced by Thomas Mikolov in 2013. \n",
    "\n",
    "## Prediction-based word-embedding: Word2Vec Skip-Gram\n",
    "\n",
    "picture of mikolov skip-gram diagram + my diagram of window_size = 2\n",
    "\n",
    "skip-gram predicts context words given a center word.\n",
    "\n",
    "\n",
    "<div class=\"alert alert-info\">\n",
    "    <h4>Notes: CBOW and Skip-Gram</h4>\n",
    "    <p>There are two models for Word2Vec: <i>Continous Bag Of Words (CBOW)</i> and <i>Skip-Gram</i>. While Skip-Gram model predicts context words given a center word, CBOW model predicts a center word given context words. According to Mikolov:</p>\n",
    "    <p><i>Skip-gram</i>: works well with small amount of the training data, represents well even rare words or phrases</p>\n",
    "    <p><i>CBOW</i>: several times faster to train than the skip-gram, slightly better accuracy for the frequent words</p>\n",
    "    <p>Skip-Gram model is a better choice most of the time due to its ability to predict infrequent words, but this comes at the price of increased computational cost. If training time is a big concern, and you have large enough data to overcome the issue of predicting infrequent words, CBOW model may be a more viable choice. The details of CBOW model won't be covered in this post.</p>\n",
    "</div>\n",
    "\n",
    "A natural question is, why do we predict context words? First, we need to understand the structure of Skip-Gram."
   ]
  },
  {
   "cell_type": "markdown",
   "metadata": {},
   "source": [
    "## Defining Loss Function\n",
    "\n",
    "$$ J(\\theta) = -\\frac{1}{T} \\sum^T_{t=1} \\sum_{-m\\leq j \\leq m} \\log p(w_{t+j} \\mid w_t ; \\theta) $$\n"
   ]
  },
  {
   "cell_type": "markdown",
   "metadata": {},
   "source": [
    "### Neural network structure of Skip-Gram\n",
    "\n",
    "How does predicting context words help with constructing Word2Vec model and representing words in a vector space? One needs to look into the structure of Skip-Gram model to gain insights about their correlation. \n",
    "\n",
    "For illustration purpose, let's will assume that the entire corpus is composed of the quote from the Game of Thrones, <i>\"The man who passes the sentence should swing the sword\"</i>, by Ned Stark. There are 10 words ($T = 10$), and 8 unique words ($V = 8$). \n",
    "\n",
    "Note that in real life, the corpus is much bigger than just one sentence. \n",
    "\n",
    "<blockquote class=\"quote\">\n",
    "  The man who passes the sentence should swing the sword.\n",
    "  <span>- Ned Stark</span>\n",
    "</blockquote>\n",
    "\n",
    "We will use <code>window=1</code>, and assume that <i>'passes'</i> is the current center word, making <i>'who'</i> and <i>'the'</i> context words. <code>window</code> is a hyper-parameter that can be empirically tuned. It typically has a range of 2-10.\n",
    "\n",
    "<div class=\"row give-margin-inline-big-plot\">\n",
    "    <div class=\"col\"><img src=\"jupyter_images/quote_ned_stark.png\"></div>\n",
    "    <div class=\"col-12\"><p class=\"image-description\">Figure 1: Training Window</p></div>\n",
    "</div>\n",
    "\n",
    "For illustration purpose, a three-dimensional neural net will be constructed. In *gensim*, this can be implemented by setting <code>size=3</code>. This makes $N = 3$. Just like <code>window</code>, <code>size</code> is a hyper-parameter that can be empirically tuned. In real life, a typical Word2Vec model has 200-600 neurons. \n",
    "\n",
    "<pre>\n",
    "    <code class=\"language-python\">\n",
    "        from gensim.models import Word2Vec\n",
    "\n",
    "        model = Word2Vec(corpus, size=3, window=1)\n",
    "    </code>\n",
    "</pre>\n",
    "\n",
    "This means that the input weight matrix ($W_{input}$) will have a size of $8 \\times 3$, and output weight matrix ($W_{output}$) will have a size of $3 \\times 8$. Recall that the corpus, <i>\"The man who passes the sentence should swing the sword\"</i>, has 8 unique vocabularies ($V = 8$). \n",
    "\n",
    "<div class=\"row\">\n",
    "    <div class=\"col\"><img src=\"jupyter_images/word2vec_skip-gram.png\" style=\"margin: 0;\"></div>\n",
    "    <div class=\"col-12\"><p class=\"image-description\">Figure 2: Skip-Gram model structure</p></div>\n",
    "</div>\n",
    "<div><hr></div>\n",
    "\n",
    "\n",
    "**Input Layer** ($x$)\n",
    "\n",
    "The input layer is one-hot encoded vector of size  $1 \\times V$. Every element in the vector is 0 except one element that corresponds to the center word. Input vector is multiplied with the input weight matrix ($W_{input}$) of size $V \\times N$, and yields an one-dimenasional hidden (projection) layer ($h$) of size $1 \\times N$. Because the input layer is one-hot encoded, it makes the input weight matrix ($W_{input}$) to behave like a \"look-up table\" for the center word.\n",
    "\n",
    "<div class=\"row give-margin-inline-big-plot\">\n",
    "    <div class=\"col\"><img src=\"jupyter_images/one-hot-vector.png\"></div>\n",
    "    <div class=\"col-12\"><p class=\"image-description\">Figure 2: One-hot encoded input vector and parameter update</p></div>\n",
    "</div>\n",
    "\n",
    "Assuming epoch number of 1 (<code>iter=1</code> in *gensim* Word2Vec implementation), the input vector is injected into the network $T$ times for every word in the corpus and makes $T$ updates to the weight matrix ($\\theta$). In Skip-Gram model, weight matrix ($\\theta$) can also be expressed as $[W_{input} \\quad W_{output}]^T$ — concatenation of input weight matrix ($W_{input}$) and output weight matrix ($W_{output}$). \n",
    "\n",
    "<div class=\"alert alert-info\">\n",
    "    <h4>Notes: Stochastic Gradient Descent</h4>\n",
    "    <p>The goal of any machine learning model is to find the optimal values of a weight matrix ($\\theta$) to minimize prediction error. A general update equation for weight matrix looks like the following:</p>\n",
    "    <p><center style=\"margin-top: 20px\">$\\theta_{new}=\\theta_{old}-\\eta\\cdot\\nabla_{\\theta}J(\\theta)$</center></p>\n",
    "    <p>$\\eta$ is learning rate, $\\nabla_{\\theta}$ is gradient for the weight matrix, and $J(\\theta)$ is the cost function that has different forms for each model. The cost function for the Skip-Gram model proposed in the <a href=\"https://papers.nips.cc/paper/5021-distributed-representations-of-words-and-phrases-and-their-compositionality.pdf\">Word2Vec original paper</a> has the following equation:</p>\n",
    "    <p><center style=\"margin-top: 20px\">$$J(\\theta) = -\\frac{1}{T} \\sum^T_{t=1} \\sum_{-m\\leq j \\leq m} \\log p(w_{t+j} \\mid w_t ; \\theta)$$</center></p>\n",
    "    <p>Here, what gives us headache is the expression, $\\frac{1}{T} \\sum^T_{t=1}$, because $T$ can be larger than billions or more in many NLP applications. It is basically telling us that billions of iterations need to be computed to make just one update to the weight matrix ($\\theta$). In order to mitigate this computational burden, the author of the paper states that Stochastic Gradient Descent (SGD) was used for parameter optimization. SGD removes the expression, $\\frac{1}{T} \\sum^T_{t=1}$, from the cost function and performs parameter update for each training example, $w^{(t)}$:</p>\n",
    "    <p><center style=\"margin-top: 20px\">$$J_{t}(\\theta;w^{(t)}) = -\\sum_{-m\\leq j \\leq m} \\log p(w_{t+j} \\mid w_t ; \\theta)$$</center></p>\n",
    "    <p>Then, the new parameter update equation for SGD becomes:</p>\n",
    "    <p><center style=\"margin-top: 20px\">$\\theta_{new}=\\theta_{old}-\\eta\\cdot\\nabla_{\\theta}J_{t}(\\theta;w^{(t)})$</center></p>\n",
    "    <p></p>\n",
    "</div>\n",
    "\n",
    "**Input and Output Weight Matrix** ($W_{input}$, $W_{output}$)"
   ]
  },
  {
   "cell_type": "markdown",
   "metadata": {},
   "source": [
    "FAQ\n",
    "\n",
    "\n",
    "Error 3D plot at the introduction of minimizing J(theta) cost function.\n",
    "\n",
    "If the center word is the same as context word, it is skipped. https://github.com/RaRe-Technologies/gensim/blob/f267abf94e84484047fb7569ebacba5626bc8391/gensim/models/word2vec.py#L129"
   ]
  },
  {
   "cell_type": "code",
   "execution_count": null,
   "metadata": {},
   "outputs": [],
   "source": [
    "len(context) * np.log(np.sum(np.exp(u))) - np.sum([u[label == 1] for label in context])"
   ]
  },
  {
   "cell_type": "code",
   "execution_count": null,
   "metadata": {},
   "outputs": [],
   "source": []
  },
  {
   "attachments": {
    "image.png": {
     "image/png": "[encoded data removed]"
    }
   },
   "cell_type": "markdown",
   "metadata": {},
   "source": [
    "![image.png](attachment:image.png)"
   ]
  },
  {
   "cell_type": "code",
   "execution_count": 1,
   "metadata": {},
   "outputs": [],
   "source": [
    "def cross_entropy(softmax_out, Y):\n",
    "    \"\"\"\n",
    "    softmax_out: output out of softmax. shape: (vocab_size, m)\n",
    "    \"\"\"\n",
    "    m = softmax_out.shape[1]\n",
    "    cost = -(1 / m) * np.sum(np.sum(Y * np.log(softmax_out + 0.001), axis=0, keepdims=True), axis=1)\n",
    "    return cost"
   ]
  },
  {
   "cell_type": "code",
   "execution_count": 2,
   "metadata": {},
   "outputs": [],
   "source": [
    "def skipgram_model_training(X, Y, vocab_size, emb_size, learning_rate, epochs, batch_size=256, parameters=None, print_cost=True, plot_cost=True):\n",
    "    \"\"\"\n",
    "    X: Input word indices. shape: (1, m)\n",
    "    Y: One-hot encodeing of output word indices. shape: (vocab_size, m)\n",
    "    vocab_size: vocabulary size of your corpus or training data\n",
    "    emb_size: word embedding size. How many dimensions to represent each vocabulary\n",
    "    learning_rate: alaph in the weight update formula\n",
    "    epochs: how many epochs to train the model\n",
    "    batch_size: size of mini batch\n",
    "    parameters: pre-trained or pre-initialized parameters\n",
    "    print_cost: whether or not to print costs during the training process\n",
    "    \"\"\"\n",
    "    costs = []\n",
    "    m = X.shape[1]\n",
    "    \n",
    "    if parameters is None:\n",
    "        parameters = initialize_parameters(vocab_size, emb_size)\n",
    "    \n",
    "    for epoch in range(epochs):\n",
    "        epoch_cost = 0\n",
    "        batch_inds = list(range(0, m, batch_size))\n",
    "        np.random.shuffle(batch_inds)\n",
    "        for i in batch_inds:\n",
    "            X_batch = X[:, i:i+batch_size]\n",
    "            Y_batch = Y[:, i:i+batch_size]\n",
    "\n",
    "            softmax_out, caches = forward_propagation(X_batch, parameters)\n",
    "            gradients = backward_propagation(Y_batch, softmax_out, caches)\n",
    "            update_parameters(parameters, caches, gradients, learning_rate)\n",
    "            cost = cross_entropy(softmax_out, Y_batch)\n",
    "            epoch_cost += np.squeeze(cost)\n",
    "            \n",
    "        costs.append(epoch_cost)\n",
    "        if print_cost and epoch % (epochs // 500) == 0:\n",
    "            print(\"Cost after epoch {}: {}\".format(epoch, epoch_cost))\n",
    "        if epoch % (epochs // 100) == 0:=            learning_rate *= 0.98\n",
    "            \n",
    "    if plot_cost:\n",
    "        plt.plot(np.arange(epochs), costs)\n",
    "        plt.xlabel('# of epochs')\n",
    "        plt.ylabel('cost')\n",
    "    return parameters"
   ]
  },
  {
   "cell_type": "code",
   "execution_count": null,
   "metadata": {},
   "outputs": [],
   "source": []
  }
 ],
 "metadata": {
  "kernelspec": {
   "display_name": "Python 3",
   "language": "python",
   "name": "python3"
  },
  "language_info": {
   "codemirror_mode": {
    "name": "ipython",
    "version": 3
   },
   "file_extension": ".py",
   "mimetype": "text/x-python",
   "name": "python",
   "nbconvert_exporter": "python",
   "pygments_lexer": "ipython3",
   "version": "3.6.5"
  }
 },
 "nbformat": 4,
 "nbformat_minor": 2
}
