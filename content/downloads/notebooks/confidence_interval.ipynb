{
 "cells": [
  {
   "cell_type": "markdown",
   "metadata": {},
   "source": [
    "# Comprehensive Confidence Intervals for Python Developers\n",
    "\n",
    "Variantions of different confidence intervals, their assumptions, strength and weakness, when to use, and when not to use. "
   ]
  },
  {
   "cell_type": "markdown",
   "metadata": {},
   "source": [
    "> **Confidence interval** is uncertainty in summary statistic represented as a range. In the other words, it is a range of values we are fairly sure our true value lies in. For example: I am 95% confident that the population mean falls between 8.76 and 15.88 $\\rightarrow$ (12.32 $\\pm$ 3.56)\n",
    "\n",
    "Confidence interval tells you how confident you can be that the results from a poll or survey reflect what you would expect to find if it were possible to survey the entire population. It is difficult to obtain measurement data of an entire data set (*population*) due to limited resource & time. Your best shot is to survey a small fraction (*samples*) of the entire data set, and pray that your sample data represents the population reasonably well. \n",
    "\n",
    "Sample data may not be a good representation of a population by numerous factors (Ex: bias), and as a result, uncertainty is always introduced in any estimations derived from sample data. **Due to the uncertainty involved with sample data, any statistical estimation needs to be delivered in a range, not in a point estimate**.\n",
    "\n",
    "How well a sample statistic estimates an underlying population parameter is always an issue (<a href=\"#population_vs_samples\">Population vs. Samples</a>). A confidence interval addresses this issue by providing a range of values, which is likely to contain the population parameter of interest."
   ]
  },
  {
   "cell_type": "markdown",
   "metadata": {},
   "source": [
    "<div id=\"toc_container\">\n",
    "    <p class=\"toc_title\">Contents</p>\n",
    "    <ul class=\"toc_list\">\n",
    "        <li>\n",
    "            <a href=\"#Understanding confidence interval with analogy\"><span class=\"toc_label\">1</span>Understanding\n",
    "                confidence interval with analogy</a>\n",
    "            <ul>\n",
    "                <li><a href=\"#Uncertainty in rock porosity\"><span class=\"toc_label\">Example 1:</span>Uncertainty in rock\n",
    "                    porosity</a></li>\n",
    "                <li><a href=\"#Purity of methamphetamine (crystal) in Breaking Bad\"><span\n",
    "                        class=\"toc_label\">Example 2:</span>Purity of methamphetamine (crystal) in Breaking Bad</a></li>\n",
    "            </ul>\n",
    "        </li>\n",
    "        <li><a href=\"#quick-highlights\"><span class=\"toc_label\">2</span>Key takeaways</a></li>\n",
    "        <li><a href=\"#population_vs_samples\"><span class=\"toc_label\">3</span>Population vs Samples</a></li>\n",
    "        <ul>\n",
    "            <li><a href=\"#sample_pop_var\"><span class=\"toc_label\">Notes:</span>Population variance ($\\sigma^2$) vs.\n",
    "                Sample variance ($s^2$)</a></li>\n",
    "            <li><a href=\"#python_variance\"><span class=\"toc_label\">Pythonic Tip:</span>Difference between Numpy variance\n",
    "                and Pandas variance</a></li>\n",
    "        </ul>\n",
    "        <li><a href=\"#Confidence interval of different statistics\"><span class=\"toc_label\">4</span>Confidence interval\n",
    "            of normal distribution</a></li>\n",
    "        <ul>\n",
    "            <li><a href=\"#conf_int_of_mean\"><span class=\"toc_label\">4.1</span>Confidence interval of mean</a></li>\n",
    "            <ul>\n",
    "                <li><a href=\"#dist_stats\"><span class=\"toc_label\">Notes:</span>Distribution of various statistics</a>\n",
    "                </li>\n",
    "                <li><a href=\"#t_vs_z\"><span class=\"toc_label\">Notes:</span>z-score vs t-score</a></li>\n",
    "                <li><a href=\"#python_ci_mean\"><span class=\"toc_label\">Pythonic Tip:</span>Computing confidence interval of mean with SciPy</a></li>\n",
    "            </ul>\n",
    "            <li><a href=\"#conf_int_of_diff_in_mean\"><span class=\"toc_label\">4.2</span>Confidence interval of difference\n",
    "                in mean</a></li>\n",
    "            <ul>\n",
    "                <li><a href=\"#anova\"><span class=\"toc_label\">Notes:</span>Comparing means of more than two samples with ANOVA</a></li>\n",
    "                <li><a href=\"#ind_equal\"><span class=\"toc_label\">4.2.1</span>Independent (unpaired) samples, equal\n",
    "                    variance - Student's t-interval</a></li>\n",
    "                <ul>\n",
    "                    <li><a href=\"#python_ind_equal\"><span class=\"toc_label\">Pythonic Tip:</span>Computing student's t-interval</a></li>\n",
    "                </ul>\n",
    "                <li><a href=\"#ind_unequal\"><span class=\"toc_label\">4.2.2</span>Independent (unpaired) samples, unequal variance - Welch's t-interval</a></li>\n",
    "                <ul>\n",
    "                    <li><a href=\"#python_ind_unequal\"><span class=\"toc_label\">Pythonic Tip:</span>Computing Welch's t-interval</a></li>\n",
    "                </ul>\n",
    "                <li><a href=\"#dep\"><span class=\"toc_label\">4.2.3</span>Dependent (paired) samples - Paired t-interval</a></li>\n",
    "                <ul>\n",
    "                    <li><a href=\"#python_dep\"><span class=\"toc_label\">Pythonic Tip:</span>Computing paired t-interval</a></li>\n",
    "                </ul>\n",
    "                <li><a href=\"#which_to_use\"><span class=\"toc_label\">Notes:</span>Deciding which t-test to use</a></li>\n",
    "            </ul>\n",
    "            <li><a href=\"#conf_int_of_var\"><span class=\"toc_label\">4.3</span>Confidence interval of variance</a></li>\n",
    "            <li><a href=\"#\"><span class=\"toc_label\">4.4</span>Confidence interval of other statistics: Bootstrap</a></li>\n",
    "            <li><a href=\"#\"><span class=\"toc_label\">4.5</span>Estimating sample size needed</a></li>\n",
    "            <li><a href=\"#\"><span class=\"toc_label\">4.6</span>Two-tailed vs one-tailed interval</a></li>\n",
    "            <li><a href=\"#robustness\"><span class=\"toc_label\">Notes:</span>Robustness of confidence interval to non-normality</a></li>\n",
    "        </ul>\n",
    "        <li><a href=\"#conf_int_non_normal\"><span class=\"toc_label\">5</span>Confidence interval of non-normal\n",
    "            distribution</a></li>\n",
    "        <ul>\n",
    "            <li><a href=\"#\"><span class=\"toc_label\">5.1</span>Comparing central tendency of populations</a></li>\n",
    "                <ul>\n",
    "                    <li><a href=\"#\"><span class=\"toc_label\">5.1.1</span>Confidence interval of median: Mann-Whitney U test</a></li>\n",
    "                </ul>\n",
    "            <li><a href=\"#\"><span class=\"toc_label\">5.2</span>Credible interval</a></li>\n",
    "            <li><a href=\"#\"><span class=\"toc_label\">5.3</span>Transform to normal distribution with Box-Cox</a></li>\n",
    "            <li><a href=\"#\"><span class=\"toc_label\">5.4</span>Bootstrapping</a></li>\n",
    "                <ul>\n",
    "                    <li><a href=\"#\"><span class=\"toc_label\">5.4.1</span>Bootstrap CI of statistics</a></li>\n",
    "                    <li><a href=\"#\"><span class=\"toc_label\">5.4.1</span>Bootstrap CI of difference in statistics</a></li>\n",
    "                </ul>\n",
    "        </ul>\n",
    "        <li><a href=\"#\"><span class=\"toc_label\">6</span>FAQ's</a></li>\n",
    "        <ul>\n",
    "            <li><a href=\"#\"><span class=\"toc_label\">6.1</span>What is confidence level?</a></li>\n",
    "            <li><a href=\"#\"><span class=\"toc_label\">6.2</span>What is significance level?</a></li>\n",
    "            <li><a href=\"#\"><span class=\"toc_label\">6.3</span>What is margin of error?</a></li>\n",
    "            <li><a href=\"#\"><span class=\"toc_label\">6.4</span>What is degrees of freedom?</a></li>\n",
    "            <li><a href=\"#\"><span class=\"toc_label\">6.5</span>Non-normality and outliers</a></li>\n",
    "            <li><a href=\"#\"><span class=\"toc_label\">6.6</span>kurtosis</a></li>\n",
    "        </ul>\n",
    "        <li><a href=\"#\"><span class=\"toc_label\">7</span>Worked Python examples</a></li>\n",
    "    </ul>\n",
    "</div>"
   ]
  },
  {
   "cell_type": "markdown",
   "metadata": {},
   "source": [
    "<div id=\"Understanding confidence interval with analogy\"></div>\n",
    "\n",
    "## 1. Understanding confidence interval with analogy\n",
    "\n",
    "If you've taken a science class with lab reports in your highschool or college, you probably had to include measurement error in your lab reports. For example, if you were asked to measure the length of a paper clip with a ruler, you have to include $\\pm0.5 \\,\\text{cm}$ or $\\pm0.05\\,\\text{cm}$ (depending on the spacing of tick marks) to account for the measurement error that shows the precision of your measuring tool. \n",
    "\n",
    "Based on <a href=\"#fig1\">figure (1)</a>, the paper clip seems to be about 2.7 cm long, but we don't know for sure because the tickmarks in the ruler is not precise enough to measure decimal length. However, I can tell with 100% confidence that the paper clip has a length between 2 ~ 3 cm, because the clip is between 2cm and 3cm tickmarks. You record the length of the paper clip in a *range*, instead of a *point estimate*, to account for the uncertainty introduced by the limitation of the measuring tool.\n",
    "\n",
    "<div id=\"fig1\" class=\"row give-margin-inline-big-plot mobile_responsive_plot_full_width\" style=\"margin-top: 15px;\">\n",
    "    <div class=\"col\"><img src=\"jupyter_images/conf_int_ruler.png\"></div>\n",
    "    <div class=\"col-12\"><p class=\"image-description\">Figure 1: Measurement error in ruler</p></div>\n",
    "</div>\n",
    "\n",
    "Similar idea can be applied to a <a href=\"#conf_int_of_mean\">confidence interval of mean</a>. You want to obtain a mean of a whole data set (*population*), but you can measure values of only a small fraction (*samples*) of the whole data set. This boils down to the traditional issue of <a href=\"#population_vs_samples\">Sample vs Population</a>, due to the cost of obtaining measurement data of a large data set. Uncertainty is introduced in your samples, because you don't know if your samples are 100% representative of the population, free of bias. Therefore, you deliver your conclusion in a range, not in a point estimate, to account for the uncertainty."
   ]
  },
  {
   "cell_type": "markdown",
   "metadata": {},
   "source": [
    "<div><hr></div>\n",
    "\n",
    "<div id=\"Uncertainty in rock porosity\"></div>\n",
    "<p style=\"color: #666\"><b>Example 1:</b> Uncertainty in rock porosity<p>\n",
    "\n",
    "A reservoir engineer in the oil & gas industry wants to know the rock porosity of a formation to estimate the total oil reserve 9,500 ft underground. Due to the high cost of obtaining rock core samples from the deep formations, he could acquire only 12 rock core samples. Since the uncertainty of a point estimation scales inversely with a sample size, his estimation is subject to non-negligible uncertainty. He obtains 14.5% average rock porosity with 4.3% standard deviation. Executives in the company wants to know the worst-case scenario and the best-case scenario to make business decisions. You can convey your estimation of average porosity with uncertainty by constructing the <a href=\"#conf_int_of_mean\">confidence interval of mean</a>.\n",
    "\n",
    "Assuming that you have a reason to believe that the rock porosity follows normal distribution, you can construct its 80% confidence interval, with the procedure described <a href=\"#python_ci_mean\"> below</a>:\n",
    "\n",
    "<div style=\"margin-bottom: -20px\"></div>"
   ]
  },
  {
   "cell_type": "code",
   "execution_count": 133,
   "metadata": {},
   "outputs": [
    {
     "data": {
      "text/plain": [
       "(12.807569748569543, 16.19243025143046)"
      ]
     },
     "execution_count": 133,
     "metadata": {},
     "output_type": "execute_result"
    }
   ],
   "source": [
    "stats.t.interval(1 - 0.2, 12 - 1, loc=14.5, scale= 4.3 / np.sqrt(12))"
   ]
  },
  {
   "cell_type": "markdown",
   "metadata": {},
   "source": [
    "<div style=\"margin-top: -20px\"></div>\n",
    "\n",
    "In the worst-case scenario, the rock formation at 9,500 ft underground has 12.8% porosity. In the best-case scenario, the oil reservoir has 16.2% porosity. The same procedures can be applied for the core samples collected at different depths, which give us the confidence interval plot of rock porosities shown in <a href=\"#\">figure (2)</a>.\n",
    "\n",
    "<div id=\"fig2\" class=\"row give-margin-inline-big-plot mobile_responsive_plot_full_width\" style=\"\">\n",
    "    <div class=\"col\"><img src=\"jupyter_images/rock_por_conf_no_title.png\"></div>\n",
    "    <div class=\"col-12\"><p class=\"image-description\">Figure 2: Confidence interval of core samples porosities along depths</p></div>\n",
    "</div>"
   ]
  },
  {
   "cell_type": "markdown",
   "metadata": {},
   "source": [
    "<div class=\"solution_panel closed\">\n",
    "    <div class=\"solution_title\">\n",
    "        <p class=\"solution_title_string\">Source Code For Figure (2)</p>\n",
    "        <ul class=\"nav navbar-right panel_toolbox\">\n",
    "            <li><a class=\"collapse-link\"><i class=\"fa fa-chevron-up\"></i></a></li>\n",
    "        </ul>\n",
    "    <div class=\"clearfix\"></div>\n",
    "    </div>\n",
    "    <div class=\"solution_content\">\n",
    "        <pre>\n",
    "            <code class=\"language-python\">\n",
    "                import numpy as np\n",
    "                from scipy import stats\n",
    "                import matplotlib.pyplot as plt\n",
    "\n",
    "                np.random.seed(39)\n",
    "\n",
    "                depth = [i * 10 + 8000 for i in range(100)]\n",
    "                l = len(depth)\n",
    "                avg_por = []\n",
    "                p10_por = []\n",
    "                p90_por = []\n",
    "                for i, item in enumerate(depth):\n",
    "\n",
    "                    # You collect 12 rock core samples for each depth\n",
    "                    # Assume that sample porosity follows a normal distribution\n",
    "                    sample_size = 12\n",
    "                    por_samples = np.random.normal(loc=0.15 - i/2000, scale=0.022, size=sample_size)\n",
    "                    avg_por.append(np.mean(por_samples))\n",
    "\n",
    "                    p10, p90 = stats.t.interval(1 - 0.2, sample_size - 1, loc=np.mean(por_samples), scale=stats.sem(por_samples))\n",
    "                    p10_por.append(p10)\n",
    "                    p90_por.append(p90)\n",
    "\n",
    "                plt.style.use('seaborn-whitegrid')\n",
    "                fig, ax = plt.subplots(1, 2, figsize=(8, 4))\n",
    "\n",
    "                ax[0].plot(avg_por[:l//2], depth[:l//2], 'k', label='P50', alpha=0.8)\n",
    "                ax[0].plot(p10_por[:l//2], depth[:l//2], 'grey', linewidth=0.7, label='P10', linestyle='--')\n",
    "                ax[0].plot(p90_por[:l//2], depth[:l//2], 'grey', linewidth=0.7, label='P90')\n",
    "\n",
    "                ax[0].set_xlim(0.08, 0.17)\n",
    "                ax[0].set_ylabel('Depth (ft)', fontsize=15)\n",
    "                ax[0].set_xlabel('Porosity', fontsize=15)\n",
    "                ax[0].fill_betweenx(depth[:l//2], p10_por[:l//2], p90_por[:l//2], facecolor='lightgrey', alpha=0.3)\n",
    "                ax[0].invert_yaxis()\n",
    "\n",
    "                ax[1].plot(avg_por[l//2:], depth[l//2:], 'k', label='P50', alpha=0.8)\n",
    "                ax[1].plot(p10_por[l//2:], depth[l//2:], 'grey', linewidth=0.7, label='P10', linestyle='--')\n",
    "                ax[1].plot(p90_por[l//2:], depth[l//2:], 'grey', linewidth=0.7, label='P90')\n",
    "\n",
    "                ax[1].set_xlim(0.08, 0.17)\n",
    "                ax[1].set_xlabel('Porosity', fontsize=15)\n",
    "                ax[1].legend(loc='best', fontsize=14, framealpha=1, frameon=True)\n",
    "                ax[1].fill_betweenx(depth[l//2:], p10_por[l//2:], p90_por[l//2:], facecolor='lightgrey', alpha=0.3)\n",
    "                ax[1].invert_yaxis()\n",
    "            </code>\n",
    "        </pre>\n",
    "    </div>\n",
    "</div>"
   ]
  },
  {
   "cell_type": "markdown",
   "metadata": {},
   "source": [
    "<div><hr></div>\n",
    "\n",
    "<div id=\"Purity of methamphetamine (crystal) in Breaking Bad\"></div>\n",
    "<p style=\"color: #666\"><b>Example 2:</b> Purity of methamphetamine (crystal) in Breaking Bad<p>\n",
    "\n",
    "21 batches of crystal cooked by Mr. White shows 99.1% average purity with 3% standard deviation. 18 batches of crystal cooked by Mr. Pinkman shows 96.2% average purity with 4% standard deviation. Does Mr. White always cook better crystal than Mr. Pinkman, or is it possible for Mr. Pinkman to beat Mr. White in purity of cooked crystals, by luck?\n",
    "\n",
    "We can construct 95% confidence interval assuming normal distribution, with the procedure described <a href=\"#python_ci_mean\"> below</a>:\n",
    "\n",
    "<div style=\"margin-bottom: -20px\"></div>"
   ]
  },
  {
   "cell_type": "code",
   "execution_count": 78,
   "metadata": {},
   "outputs": [
    {
     "data": {
      "text/plain": [
       "(97.73441637228476, 100.46558362771523)"
      ]
     },
     "execution_count": 78,
     "metadata": {},
     "output_type": "execute_result"
    }
   ],
   "source": [
    "# Mr. White's\n",
    "\n",
    "stats.t.interval(1 - 0.05, 21 - 1, loc=99.1, scale= 3 / np.sqrt(21))"
   ]
  },
  {
   "cell_type": "code",
   "execution_count": 79,
   "metadata": {},
   "outputs": [
    {
     "data": {
      "text/plain": [
       "(94.21084679714819, 98.18915320285181)"
      ]
     },
     "execution_count": 79,
     "metadata": {},
     "output_type": "execute_result"
    }
   ],
   "source": [
    "# Mr. Pinkman's\n",
    "\n",
    "stats.t.interval(1 - 0.05, 18 - 1, loc=96.2, scale= 4 / np.sqrt(18))"
   ]
  },
  {
   "cell_type": "markdown",
   "metadata": {},
   "source": [
    "<div style=\"margin-top: -20px\"></div>\n",
    "\n",
    "There's a small overlap between the confidence intervals of Mr. White's and Mr. Pinkman's. Although it is true that Mr. White is a better cooker, Mr. Pinkman can cook a purer batch of crystals by a small chance, if he has the luck. Comparing the means of two sample data sets is closely related to constructing <a href=\"#conf_int_of_diff_in_mean\">confidence interval of difference in mean</a>.\n",
    "\n",
    "<div id=\"fig2\" class=\"row full_screen_margin_md mobile_responsive_plot_full_width\" style=\"margin-top: 15px;\">\n",
    "    <div class=\"col\"><img src=\"jupyter_images/crystal_purity.png\"></div>\n",
    "    <div class=\"col-12\"><p class=\"image-description\">Figure 3: Overlap in the 95% confidence interval of two samples</p></div>\n",
    "</div>"
   ]
  },
  {
   "cell_type": "markdown",
   "metadata": {},
   "source": [
    "<div class=\"solution_panel closed\">\n",
    "    <div class=\"solution_title\">\n",
    "        <p class=\"solution_title_string\">Source Code For Figure (3)</p>\n",
    "        <ul class=\"nav navbar-right panel_toolbox\">\n",
    "            <li><a class=\"collapse-link\"><i class=\"fa fa-chevron-up\"></i></a></li>\n",
    "        </ul>\n",
    "    <div class=\"clearfix\"></div>\n",
    "    </div>\n",
    "    <div class=\"solution_content\">\n",
    "        <pre>\n",
    "            <code class=\"language-python\">\n",
    "                import matplotlib.pyplot as plt\n",
    "                from scipy import stats\n",
    "                import numpy as np\n",
    "\n",
    "                conf_pinkman = stats.t.interval(1 - 0.05, 18 - 1, loc=96.2, scale= 4 / np.sqrt(18))\n",
    "                conf_white = stats.t.interval(1 - 0.05, 21 - 1, loc=99.1, scale= 3 / np.sqrt(21))\n",
    "\n",
    "                plt.style.use('seaborn-whitegrid')\n",
    "                fig, ax = plt.subplots(figsize=(5, 2))\n",
    "\n",
    "                ax.errorbar(99.1, 1, xerr=(conf_white[1] - conf_white[0]) / 2, \n",
    "                            fmt='o', markersize=8, capsize=5, label='Mr. White\\'s', color='grey')\n",
    "                ax.errorbar(96.2, 0, xerr=(conf_pinkman[1] - conf_pinkman[0]) / 2, \n",
    "                            fmt='o', markersize=8, capsize=5, label='Mr. Pinkman\\'s', color='k')\n",
    "                ax.set_ylim(-0.6, 1.6)\n",
    "                ax.fill_betweenx([1, 0], conf_white[0], conf_pinkman[1], facecolor='lightgrey', alpha=0.3)\n",
    "                ax.legend(loc='best', fontsize=11, framealpha=1, frameon=True)\n",
    "                ax.set_xlabel('Purity (%)', fontsize=12)\n",
    "                ax.yaxis.set_major_formatter(plt.NullFormatter())\n",
    "                fig.tight_layout();\n",
    "            </code>\n",
    "        </pre>\n",
    "    </div>\n",
    "</div>"
   ]
  },
  {
   "cell_type": "markdown",
   "metadata": {},
   "source": [
    "<div id=\"quick-highlights\"></div>\n",
    "\n",
    "## 2. Key takeaways\n",
    "\n",
    "<div class=\"highlights\">\n",
    "    <div class=\"highlights-title\">1. Confidence interval quantifies uncertainty of statistical estimation</div>\n",
    "    <div class=\"highlights-content\">Confidence interval qunatifies the uncertainty related to a statistical estimation to mitigate the issue of <a href=\"#population_vs_samples\">Population vs. Samples</a>. It is always expressed in a range like — $\\text{C.I.}: \\quad x \\pm 3.43$ or $-51.4 < x < -43.2$</div>\n",
    "</div>\n",
    "\n",
    "<div class=\"highlights\">\n",
    "    <div class=\"highlights-title\">2. Confidence interval is the basis of parametric hypothesis tests</div>\n",
    "    <div class=\"highlights-content\">Confidence interval is the basis of parametric hypothesis tests. For example, <a href=\"https://www.investopedia.com/terms/t/t-test.asp\" target=\"_blank\">t-test</a> computes its p-value using the <a href=\"#conf_int_of_diff_in_mean\">confidence interval of difference in mean</a>. When samples follow a normal distribution, and therefore their <a href=\"#central_tendency\">centeral tendency</a> can be described by their means, t-test can be used to conclude if two distributions are significantly different from each other. \n",
    "    </div>\n",
    "</div>\n",
    "\n",
    "<div class=\"highlights\">\n",
    "    <div class=\"highlights-title\">3. Formula for confidence interval varies with statistics</div>\n",
    "    <div class=\"highlights-content\">\n",
    "        <p>For <a href=\"#conf_int_of_mean\">confidence interval of mean</a></p>\n",
    "        <p><div style=\"font-size: 1rem; margin-top: 20px;\">$$ \\text{C.I.}_{\\text{mean}}: \\quad \\mu \\pm (t_{\\frac{\\alpha}{2},df} \\times \\frac{s}{\\sqrt{n}})$$</div></p>\n",
    "        <p>For <a href=\"#conf_int_of_diff_in_mean\">confidence interval of difference in mean</a></p>\n",
    "        <p><div style=\"font-size: 1rem; margin-top: 20px;\">$$ \\text{C.I.}_{\\Delta \\text{mean}}: \\quad (\\mu_{1}- \\mu_{2}) \\pm (t_{1-\\frac{\\alpha}{2},df} \\times \\sqrt{\\frac{s_1^2}{n_1}+\\frac{s_2^2}{n_2}})$$</div></p>    \n",
    "        <p>For confidence interval of proportion</p>\n",
    "        <p><div style=\"font-size: 1rem; margin-top: 20px;\">$$ \\text{C.I.}_{\\text{proportion}}: \\quad \\hat{p} \\pm (t_{\\frac{\\alpha}{2},df} \\times \\sqrt{\\frac{\\hat{p}(1-\\hat{p})}{n}} )$$</div></p>\n",
    "        <p>For <a href=\"#\">confidence interval of variance</a></p>\n",
    "        <p><div style=\"font-size: 1rem; margin-top: 20px;\">$$ \\text{C.I.}_{\\text{variance}}: \\frac{(n-1)s^{2}}{\\chi^{2}_{\\frac{\\alpha}{2}}} \\leq \\sigma^2 \\leq \\frac{(n-1)s^{2}}{\\chi^{2}_{1-\\frac{\\alpha}{2}}}$$</div></p>\n",
    "        <p>For confidence interval of standard deviation</p>\n",
    "        <p><div style=\"font-size: 1rem; margin-top: 20px;\">$$ \\text{C.I.}_{\\text{standard deviation}}: \\sqrt{\\frac{(n-1)s^{2}}{\\chi^{2}_{\\frac{\\alpha}{2}}}} \\leq \\sigma \\leq \\sqrt{\\frac{(n-1)s^{2}}{\\chi^{2}_{1-\\frac{\\alpha}{2}}}}$$</div></p>\n",
    "        <p>Different analytical solutions exist for different statistics. However, confidence interval for many other statistics cannot be analytically solved, simply because there are no formulas for them. If the statistic of your interest does not have an analytical solution for its confidence interval, or you simply don't know it, numerical methods like <a href=\"https://aegis4048.github.io/non-parametric-confidence-interval-with-bootstrap\" target=\"_blank\">boostrapping</a> can be a good alternative (and its powerful).</p>\n",
    "    </div>\n",
    "</div>\n",
    "\n",
    "<div class=\"highlights\">\n",
    "    <div class=\"highlights-title\">4. Things are VERY different if sample data set is not normally distributed</div>\n",
    "    <div class=\"highlights-content\">The equations listed above <b>are not valid if sample data set is not normally distributed</b>. In case of non-normally distributed data, its confidence interval can be obatined with non-parametric methods like <a href=\"https://aegis4048.github.io/non-parametric-confidence-interval-with-bootstrap\" target=\"_blank\">boostrapping</a>, or instead use <a href=\"#\">credible interval</a>, which is a Baysian equivalent of confidence interval. Or you can transform your data into normal distribution using <a href=\"https://aegis4048.github.io/transforming-non-normal-distribution-to-normal-distribution\" target=\"_blank\">Box-Cox transformation</a>.</div>\n",
    "</div>\n",
    "\n",
    "<div class=\"highlights\">\n",
    "    <div class=\"highlights-title\">5. 95% C.I. does not mean 95% of the sample data lie within the interval.</div>\n",
    "    <div class=\"highlights-content\">It means that there's 95% chance that the estimated statistic falls within the interval. 95% confidence interval relates to the reliability of the estimation procedure. Ex: How reliable is your estimation of population variance?</div>\n",
    "</div>\n",
    "\n",
    "<div class=\"highlights\">\n",
    "    <div class=\"highlights-title\">6. Always use t-score instead of z-score</div>\n",
    "    <div class=\"highlights-content\">When constructing confidence interval of mean, or running t-test, always use t-score instead of z-score. This is described in detail <a href=\"#t_vs_z\">below</a>.</div>\n",
    "</div>\n",
    "\n",
    "<div class=\"highlights\">\n",
    "    <div class=\"highlights-title\">7. Bigger sample size gives narrower confidence intervals</div>\n",
    "    <div class=\"highlights-content\">Intuitively, this is because the more samples we have, the less uncertainty we have with our statistical estimation. Mathematically, this is because the the confidence interval is inversely related to the sample size $n$, as shown in <a href=\"#eq-1\">eq (1)</a>.</div>\n",
    "</div>\n",
    "\n",
    "<div class=\"highlights\">\n",
    "    <div class=\"highlights-title\">8. Means are not always equivalent to central tendency</div>\n",
    "    <div class=\"highlights-content\">When samples are not normally distributed, their means are not a good measure of their <a href=\"#central_tendency\">centeral tendencies</a>. For example, if you are comparing the means of two non-normal data sets with t-test to conclude if they came from the same population, your approach is wrong. The more viable alternative would be to use non-parametric alternatives that uses median, or other statistics that capture the central tendency of non-normal distributions.</div>\n",
    "</div>"
   ]
  },
  {
   "cell_type": "markdown",
   "metadata": {},
   "source": [
    "<div id=\"population_vs_samples\"></div>\n",
    "\n",
    "## 3. Population vs. samples\n",
    "\n",
    "Confidence interval describes the amount of uncertainty associated with a sample estimate of a population parameter. One needs to have a good understanding of the difference between samples and population to understand the necessity of delivering statistical estimations in a range, a.k.a. confidence interval.\n",
    "\n",
    "<div id=\"fig1\" class=\"row give-margin-inline-big-plot mobile_responsive_plot_full_width\" style=\"\n",
    "    margin-top: 10px;\n",
    "\">\n",
    "    <div class=\"col\"><img src=\"jupyter_images/conf_int_sample_pops.png\"></div>\n",
    "    <div class=\"col-12\"><p class=\"image-description\">Figure 1: Population vs samples</p></div>\n",
    "</div>\n",
    "\n",
    "> **Population**: data set that contains all members of a specified group. Ex: ALL people living in the US.\n",
    "\n",
    "> **Samples**: data set that contains a part, or a subset, of a population Ex: SOME people living in the US.\n",
    "\n",
    "<div><hr></div>\n",
    "\n",
    "Let's say that you are conducting a phone-call survey to investigate the society's perception of The Affordable Care Act (“Obamacare”). Since you can't call all 327.2 million people (*population*) in the US, you call about 1,000 people (*samples*). Your poll showed that 59% of the registered voters support Obamacare. This does not agree with the actual survey conducted in 2018; 53% favorable, 42% unfavorable (<a href=\"http://www.msnbc.com/rachel-maddow-show/poll-shows-support-obamacare-reaching-all-time-high\" target=\"_blank\">source</a>). What could be the source of error? \n",
    "\n",
    "Since (formal) president Obama is a member of the Democratic Party, the voters' response can be affected by their political preference. How could you tell that the 1,000 people you called happened to be mostly Democrats, who's more likely to support Obama's policy, because they share similar political view? The samples you collected could have been *biased*, but you don't that know for sure. Of course, the voters' response could be affected by many other factors like race, age, place of residence, or financial status. The idea is that, there will always be uncertainty involved with your estimation, because you don't have an access to the entire population.  \n",
    "\n",
    "Confidence interval is a technique that quantifies the uncertainty when estimating a population parameter from samples.\n",
    "\n",
    "<div id=\"sample_pop_var\"></div>\n",
    "\n",
    "<div class=\"alert alert-info\">\n",
    "    <h4>Notes: Population variance ($\\sigma^2$) vs. Sample variance ($s^2$)</h4>\n",
    "    <p>Distinction between population parameter and sample parameter is important. In statistics, it is a common practice to denote population variance as $\\sigma^2$, and sample variance as $s^2$. The distinction is important because different equations are used for each.</p>\n",
    "    <p>For population:</p>\n",
    "    <p><div style=\"font-size: 1rem; margin-top: 20px;\">$$ \\text{variance} = \\sigma^2 = \\frac{\\sum(x - \\bar{x})^2}{n} $$</div></p>\n",
    "    <p>For samples:</p>\n",
    "    <p><div style=\"font-size: 1rem; margin-top: 20px;\">$$ \\text{variance} = s^2 = \\frac{\\sum(x - \\bar{x})^2}{n-1} $$</div></p>\n",
    "    <p>The divisor $n-1$ is a correction factor for bias. Note that the correction has a larger proportional effect when $n$ is small than when $n$ is large, which is what we want because the more samples we have, the better the estimation. This idea is well explained on this <a href=\"https://stats.stackexchange.com/questions/3931/intuitive-explanation-for-dividing-by-n-1-when-calculating-standard-deviation\" target=\"_blank\">StackExchange thread</a>.</p>\n",
    "</div>\n",
    "\n",
    "<div><hr></div>\n",
    "\n",
    "<div id=\"python_variance\"></div>\n",
    "<p style=\"color: #666\"><b>Pythonic Tip:</b> Difference between Numpy variance and Pandas variance<p>\n",
    "\n",
    "Different libraries make different assumption about an input array. The default value of <code>ddof</code> is different for Pandas and Numpy, resulting in different variance. <code>ddof</code> represent degrees of freedom, and setting <code>ddof=True</code> or <code>ddof=1</code> tells the variance function to calculate sample variance by accounting for the bias factor $n-1$ (recall that in Python, <code>True==1</code>.) Remember that there is a distinction between <a href=\"#sample_pop_var\">Population variance ($\\sigma^2$) vs. Sample variance ($s^2$).</a>\n",
    "\n",
    "If you are confused which library is computing which variance (sample or population), just remember this: whatever library you are using, use <code>ddof=True</code> or <code>ddof=1</code> to compute sample variance, and use <code>ddof=False</code> or <code>ddof=0</code> to compute population variance.\n",
    "<div style=\"margin: -20px\"></div>"
   ]
  },
  {
   "cell_type": "code",
   "execution_count": 1,
   "metadata": {},
   "outputs": [],
   "source": [
    "import numpy as np\n",
    "import pandas as pd\n",
    "\n",
    "arr = pd.DataFrame([5,3,1,6])"
   ]
  },
  {
   "cell_type": "code",
   "execution_count": 7,
   "metadata": {
    "scrolled": true
   },
   "outputs": [
    {
     "data": {
      "text/plain": [
       "3.6875"
      ]
     },
     "execution_count": 7,
     "metadata": {},
     "output_type": "execute_result"
    }
   ],
   "source": [
    "# numpy, population\n",
    "arr.values.var()"
   ]
  },
  {
   "cell_type": "code",
   "execution_count": 8,
   "metadata": {},
   "outputs": [
    {
     "data": {
      "text/plain": [
       "4.916666666666667"
      ]
     },
     "execution_count": 8,
     "metadata": {},
     "output_type": "execute_result"
    }
   ],
   "source": [
    "# numpy, sample\n",
    "arr.values.var(ddof=1)"
   ]
  },
  {
   "cell_type": "code",
   "execution_count": 10,
   "metadata": {},
   "outputs": [
    {
     "data": {
      "text/plain": [
       "0    3.6875\n",
       "dtype: float64"
      ]
     },
     "execution_count": 10,
     "metadata": {},
     "output_type": "execute_result"
    }
   ],
   "source": [
    "# pandas, population\n",
    "arr.var(ddof=0)"
   ]
  },
  {
   "cell_type": "code",
   "execution_count": 99,
   "metadata": {
    "scrolled": true
   },
   "outputs": [
    {
     "data": {
      "text/plain": [
       "0    4.916667\n",
       "dtype: float64"
      ]
     },
     "execution_count": 99,
     "metadata": {},
     "output_type": "execute_result"
    }
   ],
   "source": [
    "# pandas, sample\n",
    "arr.var()"
   ]
  },
  {
   "cell_type": "markdown",
   "metadata": {},
   "source": [
    "<div id=\"Confidence interval of different statistics\"></div>\n",
    "\n",
    "## 4. Confidence interval of normal distribution\n",
    "\n",
    "Computing confidence interval of a statistic depends on two factors: type of statistic, and type of sample distribution. As explained <a href=\"#quick-highlights\">above</a>, different formulas exist for different type of statistics (Ex: mean, std, variance), and different methods (Ex: <a href=\"https://aegis4048.github.io/non-parametric-confidence-interval-with-bootstrap\" target=\"_blank\">boostrapping</a>, <a href=\"#\">credible interval</a>, <a href=\"https://aegis4048.github.io/transforming-non-normal-distribution-to-normal-distribution\" target=\"_blank\">Box-Cox transformation</a>) are used for non-normal data set. \n",
    "\n",
    "We will cover confidence interval of mean, difference in mean and variance."
   ]
  },
  {
   "cell_type": "markdown",
   "metadata": {},
   "source": [
    "<div id=\"conf_int_of_mean\"></div>\n",
    "\n",
    "### 4.1. Confidence interval of mean\n",
    "\n",
    "Confidence interval of mean is used to estimate the population mean from sample data and quantify the related uncertainty. Consider the following figure:\n",
    "\n",
    "<div id=\"fig3\" class=\"row give-margin-inline-big-plot mobile_responsive_plot_full_width\" style=\"margin-top: 15px;\">\n",
    "    <div class=\"col\"><img src=\"jupyter_images/conf_pop_dist.png\"></div>\n",
    "    <div class=\"col-12\"><p class=\"image-description\">Figure 3: Distribution of population and C.I. of mean</p></div>\n",
    "</div>\n",
    "\n",
    "In <a href=\"#fig3\">figure (3)</a>, assume that the population is normally distributed. Since we don't have an excess to the entire population, we have to guess the <span style=\"color: #ed7d32; font-weight: 500;\">population mean (unknown)</span> to the best of our ability using sample data set. We do this by computing the <span style=\"color: #70ad47; font-weight: 500;\">sample mean</span> and constructing its <span style=\"color: #385624; font-weight: 500;\">95% confidence interval</span>. Note that the popular choices of <a href=\"#\">confidence levels</a> are: 90%, 95%, and 99%\n",
    "\n",
    "Assuming normality of population, its sample means are also normally distributed. Let's say that you have a population, and you draw small fractions of it $N$ times. Then, the computed means of $N$ sample sets $\\boldsymbol{\\mu}=(\\mu_1, \\mu_2,..., \\mu_{N-1}, \\mu_N)$ is normally distributed as shown in <a href=\"#fig4\">figure (4)</a>. Their confidence intervals are represented as the black horizontal arrows:.\n",
    "\n",
    "<div id=\"fig4\" class=\"row give-margin-inline-big-plot mobile_responsive_plot_full_width\" style=\"margin-top: 15px;\">\n",
    "    <div class=\"col\"><img src=\"jupyter_images/conf_int_mean.png\"></div>\n",
    "    <div class=\"col-12\"><p class=\"image-description\">Figure 4: Distribution of sample mean and its C.I.</p></div>\n",
    "</div>\n",
    "\n",
    "You can see that the confidence interval of <span style=\"color: red; font-weight: 500;\">$\\mu_5$</span> does NOT include the <span style=\"color: #70ad47; font-weight: 500;\">green vertical dashed line</span>, 12.31. Let's assume that 12.31 is the true population mean (we never know if this is the actual population mean or not, but let's assume). If we get <span style=\"color: red; font-weight: 500;\">$\\mu_5$</span> and its confidence interval as our estimation of the population mean, then our estimation is wrong. There is a 5% chance of this happening, because we set our confidence level as 95%. Note that the width of the confidence intervals (black horizontal arrows) depend on the sample size, as shown in <a href=\"#eq-1\">eq (1)</a>\n",
    "\n",
    "The grey area of <a href=\"#fig3\">figure (3)</a> is essentially equivalent to the grey area of <a href=\"#fig4\">figure (4)</a>. $\\mu_1$ = 12.32 is the sample mean, and $\\pm$ 3.56 is the uncertainty related to the sample mean with 95% confidence. The uncertainty is a product of distribution score and standard error of mean. Distribution score essentially tells how many standard error are the limits (8.76 and 15.88) away from the center (12.32). Choosing larger confidence level results in larger confidence interval. This increases the grey area in <a href=\"#fig3\">figure (3)</a> and <a href=\"#fig4\">figure (4)</a>. \n",
    "\n",
    "We convey 95% confidence interval of mean like this:\n",
    "\n",
    "> I am 95% confident that the population mean falls between 8.76 and 15.88. If I sample data 20 times, 19 times the sample mean will fall between 8.76 ~ 15.88, but expect that I will be wrong 1 time.\n",
    "\n",
    "<div id=\"dist_stats\"></div>\n",
    "<div class=\"alert alert-info\">\n",
    "    <h4>Notes: Distribution of various statistics</h4>\n",
    "    <p>Different statistics exhibit different distributions. Normality of samples does not guarantee normality of its statistics. When the samples are normally distributed, their means are normally distributed, but their variances are chi-square <span style=\"font-size: 90% !important\">$\\chi^2$</span> distributed. More discussion about the distribution of variance and <span style=\"font-size: 90% !important\">$\\chi^2$</span> distribution is covered <a href=\"#chi_square\">below</a>. Note that these assumptions are invalid when samples are non-normal.</p>\n",
    "    <img class=\"\" style=\"border: 1px solid #ddd;\" src=\"jupyter_images/chi_norm.png\"/>\n",
    "    <div class=\"solution_panel closed\" style=\"margin-top: 20px;\">\n",
    "        <div class=\"solution_title solution_admonition\">\n",
    "            <p class=\"solution_title_string\">Source Code For The Figure</p>\n",
    "            <ul class=\"nav navbar-right panel_toolbox\">\n",
    "                <li><a class=\"collapse-link\"><i class=\"fa fa-chevron-up\"></i></a></li>\n",
    "            </ul>\n",
    "            <div class=\"clearfix\"></div>\n",
    "        </div>\n",
    "        <div class=\"solution_content\">\n",
    "            <pre>\n",
    "                <code class=\"language-python\">\n",
    "                    from scipy import stats\n",
    "                    import matplotlib.pyplot as plt\n",
    "                    import numpy as np\n",
    "\n",
    "                    df_values = [1, 2, 6, 9]\n",
    "                    linestyles = ['-', '--', ':', '-.']\n",
    "                    normal_params = [(10, 1), (11, 1), (10, 2), (10, 3)]\n",
    "                    x = np.linspace(-1, 20, 1000)\n",
    "\n",
    "                    fig, ax = plt.subplots(1, 2, figsize=(13.3, 5))\n",
    "                    fig.tight_layout()\n",
    "                    plt.subplots_adjust(left=0.09, right=0.96, bottom=0.12, top=0.93)\n",
    "\n",
    "                    for df, norm_p, ls in zip(df_values, normal_params, linestyles):\n",
    "                        ax[1].plot(x, stats.chi2.pdf(x, df, loc=0, scale=1),\n",
    "                                   ls=ls, c='black', label=r'Degrees of freedom$=%i$' % df)\n",
    "                        ax[0].plot(x, stats.norm.pdf(x, loc=norm_p[0], scale=norm_p[1]), \n",
    "                                   ls=ls, c='black', label='Mean = %d, ' % norm_p[0] + 'Std = %s' % norm_p[1])\n",
    "\n",
    "                    ax[0].set_xlim(4, 16)\n",
    "                    ax[0].set_ylim(-0.025, 0.525)\n",
    "                    ax[0].set_xlabel('$x$', fontsize=20)\n",
    "                    ax[0].set_ylabel(r'Probability', fontsize=20)\n",
    "                    ax[0].set_title(r'Distribution of means: normal distribution', fontsize=20)\n",
    "                    ax[0].legend(loc='upper left', fontsize=16, framealpha=1, frameon=True)\n",
    "\n",
    "                    ax[1].set_xlim(0, 10)\n",
    "                    ax[1].set_ylim(-0.025, 0.525)\n",
    "                    ax[1].set_xlabel('$\\chi^2$', fontsize=20)\n",
    "                    ax[1].set_title(r'Distribution of variances: $\\chi^2$ distribution', fontsize=20)\n",
    "                    ax[1].legend(loc='best', fontsize=16, framealpha=1, frameon=True)\n",
    "                </code>\n",
    "            </pre>\n",
    "        </div>\n",
    "    </div>\n",
    "</div>"
   ]
  },
  {
   "cell_type": "markdown",
   "metadata": {},
   "source": [
    "If sample data is normal or normal-like distributed, we almost always assume t-distribution to compute confidence interval, as explained <a href=\"#t_vs_z\">below</a>. Then, the confidence interval of mean has the following analytical solution:\n",
    "\n",
    "<div id=\"eq-1\" style=\"font-size: 1rem;\">\n",
    "$$ \\text{C.I.}_{\\text{mean}}: \\quad \\mu \\pm (t_{1-\\frac{\\alpha}{2},df} \\times \\frac{s}{\\sqrt{n}}) \\tag{1}$$\n",
    "</div>\n",
    "\n",
    "<div class=\"eq-terms\">\n",
    "    <div class=\"row eq-terms-where\">where</div>\n",
    "    <div class=\"row\">\n",
    "        <div class=\"col-3\"><p>$\\mu$<p></div>\n",
    "        <div class=\"col-9\"><p>: sample mean<p></div>\n",
    "    </div>\n",
    "    <div class=\"row\">\n",
    "        <div class=\"col-3\">$\\alpha$</div>\n",
    "        <div class=\"col-9\">: <a href=\"#\">significance level</a></div>\n",
    "    </div>    \n",
    "    <div class=\"row\">\n",
    "        <div class=\"col-3\"><p>$n$<p></div>\n",
    "        <div class=\"col-9\"><p>: number of samples<p></div>\n",
    "    </div>\n",
    "    <div class=\"row\">\n",
    "        <div class=\"col-3\"><p>$df$<p></div>\n",
    "        <div class=\"col-9\"><p>: degrees of freedom. In this example, df = $n$ - 1<p></div>\n",
    "    </div>    \n",
    "    <div class=\"row\">\n",
    "        <div class=\"col-3\">$s$</div>\n",
    "        <div class=\"col-9\">: sample standard deviation</div>\n",
    "    </div>   \n",
    "    <div class=\"row\">\n",
    "        <div class=\"col-3\">$t$</div>\n",
    "        <div class=\"col-9\">: t-score. depends on $\\alpha$ and $df$</div>\n",
    "    </div>   \n",
    "</div>\n",
    "\n",
    "Recall that when computing $s$, correction factor ($n-1$) is applied to account for sample bias, as explained <a href=\"#sample_pop_var\">above</a>. Pay close attention to the standard error $\\frac{s}{\\sqrt{(n)}}$. As the sample size $n$ increases, the standard error decreases, reducing the range of confidence interval. This is intuitive in a sense that, the more samples we have, the less uncertainty we have with our statistical estimation. The length of the black horizontal arrows in <a href=\"#fig4\">figure (4)</a> depends on the sample size. The larger the sample size, the narrower the width of arrows, and vice versa.\n",
    "\n",
    "<div id=\"t_vs_z\"></div>\n",
    "<div class=\"alert alert-info\">\n",
    "    <h4>Notes: z-score vs t-score</h4>\n",
    "    <p>You've probably seen mixed use of z-score and t-score for confidence interval during your studies. Long story short, it is safe and almost always better to use t-score than z-score.</p>\n",
    "    <p>Z-score ($z_{\\frac{\\alpha}{2}}$) is used for normal distribution, and t-score ($t_{\\frac{\\alpha}{2},df}$) is used for t-distribution. You use z-score if you know the population variance $\\sigma^2$. If not, you use t-score. Since the population variance $\\sigma^2$ is almost never known, you almost always use t-score for confidence interval. After all, the purpose of using confidence interval is to mitigate the issue of <a href=\"#population_vs_samples\">Population vs. Samples</a> when estimating population parameter ($\\sigma^2$) from samples. If you know the population parameters, you probably don't need confidence interval in the first place.</p>\n",
    "    <p>A natural question is, \"how is it safe to use t-score instead of z-score? Shouldn't I be using z-score since I know that the population is normally distributed, from previous knowledge?\" It is safe to do so because t-distribution converges to normal distribution according to the Centeral Limit Theorem. Recall that t-distribution behaves more and more like a normal distribution as the sample size increases.</p>\n",
    "    <p>Google <i>\"95% confidence z-score\"</i> and you will see $z$ = 1.96 at 95% confidence level. On the other hand, t-score approaches  1.96 as its degrees of freedom increases: $\\lim_{df \\to \\infty}t$ = 1.96. For 95% confidence level, $t$ = 2.228 when $n$ - 1 = 10 and $t$ = 2.086 when $n$ - 1 = 20. This is why it is safe to always replace z-score with t-score when computing confidence interval.</p>\n",
    "</div>"
   ]
  },
  {
   "cell_type": "markdown",
   "metadata": {},
   "source": [
    "<div style=\"margin: -20px\"></div>\n",
    "<div><hr></div>\n",
    "\n",
    "<div id=\"python_ci_mean\"></div>\n",
    "<p style=\"color: #666\"><b>Pythonic Tip:</b> Computing confidence interval of mean with SciPy<p>\n",
    "\n",
    "We can compute confidence interval of mean directly from using <a href=\"#eq-1\">eq (1)</a>. Recall to pass <code>ddof=1</code> to make sure to compute sample standard deviation $s$, not population standard deviation $\\sigma$, as explained <a href=\"#python_variance\">above</a>. \n",
    "\n",
    "We will draw random samples from normal distribution using <a href=\"https://docs.scipy.org/doc/numpy/reference/generated/numpy.random.normal.html\" target=\"_blank\">np.random.normal().</a> Note that <code>loc</code> is for population mean, and <code>scale</code> is for population standard deviation, and <code>size</code> is for number of samples to draw.\n",
    "\n",
    "<div style=\"margin: -20px\"></div>"
   ]
  },
  {
   "cell_type": "code",
   "execution_count": 128,
   "metadata": {},
   "outputs": [],
   "source": [
    "from scipy import stats\n",
    "import numpy as np\n",
    "\n",
    "np.random.seed(42)\n",
    "\n",
    "arr = np.random.normal(loc=74, scale=4.3, size=20)\n",
    "\n",
    "alpha = 0.05                       # significance level = 5%\n",
    "df = len(arr) - 1                  # degress of freedom = 20\n",
    "t = stats.t.ppf(1 - alpha/2, df)   # two-tailed 95% confidence t-score = 2.086\n",
    "s = np.std(arr, ddof=1)            # sample standard deviation = 2.502\n",
    "n = len(arr)\n",
    "\n",
    "lower = np.mean(arr) - (t * s / np.sqrt(n))\n",
    "upper = np.mean(arr) + (t * s / np.sqrt(n))"
   ]
  },
  {
   "cell_type": "code",
   "execution_count": 129,
   "metadata": {},
   "outputs": [
    {
     "data": {
      "text/plain": [
       "(71.33139551903422, 75.19543685256606)"
      ]
     },
     "execution_count": 129,
     "metadata": {},
     "output_type": "execute_result"
    }
   ],
   "source": [
    "(lower, upper)"
   ]
  },
  {
   "cell_type": "markdown",
   "metadata": {},
   "source": [
    "<div style=\"margin-top: -20px\"></div>\n",
    "\n",
    "Or we can compute with <a href=\"https://docs.scipy.org/doc/scipy/reference/generated/scipy.stats.t.html\" arget=\"_blank\">scipy.stats.t.interval().</a> Note that you don't divide <code>alpha</code> by 2, because the function does that for you. Also note that the standard error $\\frac{s}{\\sqrt{n}}$ can be computed with <a href=\"https://docs.scipy.org/doc/scipy/reference/generated/scipy.stats.sem.html\" target=\"_blank\">scipy.stats.sem()</a>"
   ]
  },
  {
   "cell_type": "code",
   "execution_count": 130,
   "metadata": {},
   "outputs": [
    {
     "data": {
      "text/plain": [
       "(71.33139551903422, 75.19543685256606)"
      ]
     },
     "execution_count": 130,
     "metadata": {},
     "output_type": "execute_result"
    }
   ],
   "source": [
    "stats.t.interval(1 - alpha, len(arr) - 1, loc=np.mean(arr), scale=stats.sem(arr))"
   ]
  },
  {
   "cell_type": "markdown",
   "metadata": {},
   "source": [
    "<div style=\"margin-top: -20px\"></div>\n",
    "\n",
    "Note the default value of <code>loc=0</code> and <code>scale=1</code>. This will assume sample mean $\\mu$ to be 0, and standard error $\\frac{s}{\\sqrt{n}}$ to be 1, which assumes standard normal distribution of mean = 0 and standard deviation = 1. <u>This is NOT what we want.</u>"
   ]
  },
  {
   "cell_type": "code",
   "execution_count": 8,
   "metadata": {},
   "outputs": [
    {
     "data": {
      "text/plain": [
       "(-2.093024054408263, 2.093024054408263)"
      ]
     },
     "execution_count": 8,
     "metadata": {},
     "output_type": "execute_result"
    }
   ],
   "source": [
    "stats.t.interval(1 - alpha, len(arr) - 1)"
   ]
  },
  {
   "cell_type": "markdown",
   "metadata": {},
   "source": [
    "<div style=\"margin-top: 30px\" id=\"conf_int_of_diff_in_mean\"></div>\n",
    "\n",
    "### 4.2. Confidence interval of difference in mean\n",
    "\n",
    "Confidence interval of difference in mean is not very useful by itself. But it is important to understand how it works, because it forms the basis of one of the most widely used hypothesis test: <a href=\"https://www.investopedia.com/terms/t/t-test.asp\" target=\"_blank\">t-test</a>. \n",
    "\n",
    "Often we are interested in knowing if two distributions are significantly different. In the other words, we want to know if two sample data sets came from the same population by <a href=\"#\">comparing central tendency of populations</a>. A standard approach is to check if the sample means are different. However, this is a misleading approach in a sense that the means of samples are almost always different, even if the difference is microscopic. More useful would be to estimate the difference in a <i>range</i> to account for uncertainty, and compute probability that it is big enough to be of practical importance. T-test checks if the difference is \"close enough\" to zero by computing the confidence interval of difference in means.\n",
    "\n",
    "<u>T-test hypothesis</u>\n",
    "\n",
    "<div  style=\"font-size: 1rem;\">\n",
    "$$ H_0: \\mu_1 - \\mu_2 = 0 \\tag{2}$$\n",
    "</div>\n",
    "<div  style=\"font-size: 1rem;\">\n",
    "$$ H_1: \\mu_1 - \\mu_2 \\neq 0 \\tag{3}$$\n",
    "</div>\n",
    "\n",
    "<div class=\"eq-terms\">\n",
    "    <div class=\"row eq-terms-where\">where</div>\n",
    "    <div class=\"row\">\n",
    "        <div class=\"col-3\"><p>$\\mu$<p></div>\n",
    "        <div class=\"col-9\"><p>: sample mean<p></div>\n",
    "    </div> \n",
    "    <div class=\"row\">\n",
    "        <div class=\"col-3\"><p>$H_0$<p></div>\n",
    "        <div class=\"col-9\"><p>: null hypothesis — sample means are the same \"enough\"<p></div>\n",
    "    </div>\n",
    "    <div class=\"row\">\n",
    "        <div class=\"col-3\">$H_1$</div>\n",
    "        <div class=\"col-9\"><p>: alternate hypothesis — sample means are \"significantly\" different</p></div>\n",
    "    </div>    \n",
    "</div>\n",
    "\n",
    "Note that the above hypothesis tests whether the mean of one group is significantly DIFFERENT from the mean of the other group; we are using two-tailed test. This does not check if the mean of one group is significantly GREATER than the mean of the other group, which uses one-tailed test.\n",
    "\n",
    "<div id=\"anova\"></div>\n",
    "<div class=\"alert alert-info\">\n",
    "    <h4>Notes: Comparing means of more than two samples with ANOVA</h4>\n",
    "    <p>Analysis of variance (ANOVA) checks if the means of two or more samples are significantly different from each other. Using t-test is not reliable in cases where there are more than 2 samples. If we conduct multiple t-tests for comparing more than two samples, it will have a compounded effect on the error rate of the result.</p>\n",
    "    <p>ANOVA has the following hypothesis:</p>\n",
    "    <p><div style=\"font-size: 1rem; margin-top: 20px;\">$$\n",
    "        \\begin{align}\n",
    "           H_0: &\\mu_1 = \\mu_2 = \\, \\cdots \\, =\\mu_L \\\\[5pt]\n",
    "           H_1: &\\mu_a \\neq \\mu_b\n",
    "        \\end{align}\n",
    "    $$</div></p>\n",
    "    <p>where $L$ is the number of groups, and $\\mu_a$ and $\\mu_b$ belong to any two sample means of any groups. <a href=\"https://www.analyticsvidhya.com/blog/2018/01/anova-analysis-of-variance/\" target=\"_blank\">This article</a> illustrates the concept of ANOVA very well.</p>\n",
    "</div>"
   ]
  },
  {
   "cell_type": "markdown",
   "metadata": {},
   "source": [
    "<div id=\"fig5\" class=\"row\" style=\"margin-top: 15px;\">\n",
    "    <div class=\"col\"><img src=\"jupyter_images/conf_int_diff_means.png\"></div>\n",
    "    <div class=\"col-12\"><p class=\"image-description\">Figure 5: Distributions of samples</p></div>\n",
    "</div>\n",
    "\n",
    "In <a href=\"#fig5\">figure (5)</a>, $\\mu$ represents the sample mean. If two sample data sets are from the same population, the distribution of means will be similar \"enough\". If not, they will be \"significantly\" different. It can be visually inspected by the area of overlap. The larger the overlap, the bigger the chance of the two distributions originating from the same population.\n",
    "\n",
    "The more robust way to compare sample means would be to construct the confidence interval of difference in means. If the two samples came from the same population, they should have the similar \"enough\" means. Their difference should be close to zero and satisfy (or fail to reject) the null hypothesis <span style=\"color: #ed7d32; font-weight: 500;\">$H_0: \\mu_1 - \\mu_2 = 0$</span> within a range of uncertainty. Consider the following figure:\n",
    "\n",
    "<div id=\"fig6\" class=\"row\" style=\"margin-top: 15px;\">\n",
    "    <div class=\"col\"><img src=\"jupyter_images/conf_int_diff_means_dist.png\"></div>\n",
    "    <div class=\"col-12\"><p class=\"image-description\">Figure 6: Distribution of difference in means</p></div>\n",
    "</div>\n",
    "\n",
    "In <a href=\"#fig6\">figure (6)</a>, the calculated difference in sample means is <span style=\"color: #70ad47; font-weight: 500;\">$\\mu_1 - \\mu_2 = 1.00$</span>. We deliver the uncertainty related to our estimation of difference in sample means by constructing its <span style=\"color: #385624; font-weight: 500;\">95% confidence interval $[$-1.31 ~ 3.31$]$</span>. Since the null hypothesis <span style=\"color: #ed7d32; font-weight: 500;\">$H_0: \\mu_1 - \\mu_2 = 0$</span> is within the 95% confidence interval (<span style=\"color: #929292; font-weight: 500;\">grey shaded area</span>), we accept the null hypothesis; we conclude that the samples have the same means within the uncertainty.\n",
    "\n",
    "However, if the null hypothesis is not within the confidence interval and falls in the **2.5% outliers** zone, we reject the null hypothesis and accept the alternate hypothesis <span style=\"color: #030303; font-weight: 500;\">$H_1: \\mu_1 - \\mu_2 \\neq 0$</span>. In the other words, we conclude that the sample means are significantly different."
   ]
  },
  {
   "cell_type": "markdown",
   "metadata": {},
   "source": [
    "<div style=\"margin: -20px\"></div>\n",
    "<div><hr></div>\n",
    "\n",
    "<div id=\"\"></div>\n",
    "<p style=\"color: #666\"><b>Three variations of confidence interval of difference in means</b><p>\n",
    "\n",
    "There are three variations of t-test, and therefore there are three variations of confidence interval of difference in means. The difference & application of the three variations are really well-explained in <a href=\"https://en.wikipedia.org/wiki/Student%27s_t-test\" target=\"_blank\">Wikipedia</a> (one of the few that are actually easy to understand, with minimum jargons.)\n",
    "\n",
    "<ol class=\"rounded-list\" style=\"margin-bottom: 40px !important; margin-top: 40px! important;\">\n",
    "    <li><a href=\"#ind_equal\">Independent (unpaired) samples, equal variance - Student's t-interval</a></li>\n",
    "    <li><a href=\"#ind_unequal\">Independent (unpaired) samples, unequal variance - Welch's t-interval</a></li>\n",
    "    <li><a href=\"#dep\">Dependent (paired) samples</a></li>\n",
    "</ol>\n",
    "\n",
    "Recall that all t-tests assume normality of data. However, they are pretty robust to non-normality as long as the deviation from normality isn't large. Visualize your distributions to test this. Robustness of t-test to non-normality is discussed in detail <a href=\"robustness\">below</a>."
   ]
  },
  {
   "cell_type": "markdown",
   "metadata": {},
   "source": [
    "<div id=\"ind_equal\"></div>\n",
    "\n",
    "#### 4.2.1. Independent (unpaired) samples, equal variance - student's t-interval\n",
    "\n",
    "When you have a reason to believe that samples have nearly equal variances, you can use student's t-test to check if difference in means are significantly different. Note that student's t-test works pretty well even with unequal variances as long as sample sample sizes are equal or nearly equal, and sample sizes are not tiny. \n",
    "\n",
    "However, it is recommended to always use Welch's t-test by assuming unequal variances, as explained <a href=\"#which_to_use\">below</a>. Use student's t-test if you are ABSOLUTELY sure that the population variances are nearly equal. \n",
    "\n",
    "Confidence interval of difference in mean assuming equal variance (student's t-interval) can be calculated as follows:\n",
    "\n",
    "<div id=\"eq-4\" style=\"font-size: 1rem;\">\n",
    "$$ \\text{C.I.}_{\\Delta \\text{mean}}: \\quad (\\mu_{1}- \\mu_{2}) \\pm (t_{1-\\frac{\\alpha}{2},df} \\times s_p\\sqrt{\\frac{1}{n_1}+\\frac{1}{n_2}})\\,, \\quad s_p = \\sqrt{\\frac{(n_1-1)s_{1}^2 + (n_2-1)s_{2}^2}{n_1+n_2-2}} \\tag{4}$$\n",
    "</div>\n",
    "\n",
    "<div class=\"eq-terms\">\n",
    "    <div class=\"row eq-terms-where\">where</div>\n",
    "    <div class=\"row\">\n",
    "        <div class=\"col-3\"><p>$\\mu$<p></div>\n",
    "        <div class=\"col-9\"><p>: sample mean<p></div>\n",
    "    </div>\n",
    "    <div class=\"row\">\n",
    "        <div class=\"col-3\">$\\alpha$</div>\n",
    "        <div class=\"col-9\">: <a href=\"#\">significance level</a></div>\n",
    "    </div>    \n",
    "    <div class=\"row\">\n",
    "        <div class=\"col-3\"><p>$n$<p></div>\n",
    "        <div class=\"col-9\"><p>: number of samples<p></div>\n",
    "    </div>\n",
    "    <div class=\"row\">\n",
    "        <div class=\"col-3\"><p>$df$<p></div>\n",
    "        <div class=\"col-9\"><p>: degrees of freedom<p></div>\n",
    "    </div>    \n",
    "    <div class=\"row\">\n",
    "        <div class=\"col-3\">$s_p$</div>\n",
    "        <div class=\"col-9\">: pooled standard deviation</div>\n",
    "    </div>  \n",
    "    <div class=\"row\">\n",
    "        <div class=\"col-3\">$s$</div>\n",
    "        <div class=\"col-9\">: sample standard deviation</div>\n",
    "    </div>   \n",
    "    <div class=\"row\">\n",
    "        <div class=\"col-3\">$t$</div>\n",
    "        <div class=\"col-9\">: t-score. depends on $\\alpha$ and degrees of freedom $n-1$</div>\n",
    "    </div>   \n",
    "</div>\n",
    "\n",
    "The formula for the pooled standard deviation $s_p$ looks a bit overwhelming, but its just an weighted average standard deviation of two samples, with <a href=\"#sample_pop_var\">bias correction factor</a> $n_i-1$ for each sample. Recall that student's t-test assumes equal variances of two samples. You calculate what is assumed to be the common variance (=pooled variance, $s_p^2$) by computing the weighted average from each sample's variance.\n",
    "\n",
    "In <a href=\"#eq-4\">eq (4)</a>, $t$-score depends on significance level $\\alpha$ and degrees of freedom $df$. In student's t-test, which assumes equal variance:\n",
    "\n",
    "<div id=\"eq-5\" style=\"font-size: 1rem;\">\n",
    "$$ df = n_1 + n_2 -2 \\tag{5}$$\n",
    "</div>"
   ]
  },
  {
   "cell_type": "markdown",
   "metadata": {},
   "source": [
    "<div><hr></div>\n",
    "\n",
    "<div id=\"python_ind_equal\"></div>\n",
    "<p style=\"color: #666\"><b>Pythonic Tip:</b> Computing student's t-interval<p>\n",
    "\n",
    "Unfortunately, SciPy doesn't support computing confidence intereval of difference in mean separately. It is incorporated into computing t-statistic and p-value of t-test, but users can't access its underlying confidence interval. Note that in R, users have access to the CI of difference in means.\n",
    "\n",
    "We can compute CI of difference in means assuming equal variance with <a href=\"eq-4\">eq (4)</a>. Don't forget to compute sample variance, instead of population variance by setting <code>ddof=1</code> as explained <a href=\"#python_variance\">above</a>.\n",
    "    \n",
    "<div style=\"margin-bottom: -20px\"></div>"
   ]
  },
  {
   "cell_type": "code",
   "execution_count": 182,
   "metadata": {},
   "outputs": [],
   "source": [
    "from scipy import stats\n",
    "import numpy as np"
   ]
  },
  {
   "cell_type": "code",
   "execution_count": 183,
   "metadata": {},
   "outputs": [],
   "source": [
    "x1 = [12.9, 10.2, 7.4, 7.0, 10.5, 11.9, 7.1, 9.9, 14.4, 11.3]\n",
    "x2 = [10.2, 6.9, 10.9, 11.0, 10.1, 5.3, 7.5, 10.3, 9.2, 8.8]\n",
    "\n",
    "alpha = 0.05                                                 # significance level = 5%\n",
    "n1, n2 = len(x1), len(x2)                                    # sample sizes\n",
    "s1, s2 = np.var(x1, ddof=1), np.var(x2, ddof=1)              # sample variances\n",
    "s = np.sqrt(((n1 - 1) * s1 + (n2 - 1) * s2) / (n1 + n2 - 2)) # pooled standard deviation\n",
    "df = n1 + n2 - 2                                             # degrees of freedom\n",
    "t = stats.t.ppf(1 - alpha/2, df)                             # two-tailed 95% confidence t-score\n",
    "\n",
    "lower = (np.mean(x1) - np.mean(x2)) - t * np.sqrt(1 / len(x1) + 1 / len(x2)) * s\n",
    "upper = (np.mean(x1) - np.mean(x2)) + t * np.sqrt(1 / len(x1) + 1 / len(x2)) * s"
   ]
  },
  {
   "cell_type": "code",
   "execution_count": 184,
   "metadata": {},
   "outputs": [
    {
     "data": {
      "text/plain": [
       "(-0.8520326742900641, 3.332032674290068)"
      ]
     },
     "execution_count": 184,
     "metadata": {},
     "output_type": "execute_result"
    }
   ],
   "source": [
    "(lower, upper)"
   ]
  },
  {
   "cell_type": "markdown",
   "metadata": {},
   "source": [
    "<div style=\"margin-top: -20px\"></div>\n",
    "\n",
    "The 95% confidence interval of difference in means has 0 within its interval. This means that the null hypothesis, <span style=\"color: #ed7d32; font-weight: 500; font-size: 0.85rem;\">$H_0: \\mu_1 - \\mu_2 = 0$</span> in <a href=\"#fig6\">figure (6)</a>, falls within the interval and we fail to reject the null hypothesis. We conclude that the sample means are not significantly different.\n",
    "\n",
    "We can confirm this by running a formal hypothesis testing with <a href=\"https://docs.scipy.org/doc/scipy/reference/generated/scipy.stats.ttest_ind.html\" target=\"_blank\">scipy.stats.ttest_ind()</a>, and setting <code>equal_var=True</code>. Note that this assumes independent t-test with pooled variance, which is equivalent to student's t-test."
   ]
  },
  {
   "cell_type": "code",
   "execution_count": 185,
   "metadata": {},
   "outputs": [
    {
     "data": {
      "text/plain": [
       "Ttest_indResult(statistic=1.2452689491491107, pvalue=0.22900078577218805)"
      ]
     },
     "execution_count": 185,
     "metadata": {},
     "output_type": "execute_result"
    }
   ],
   "source": [
    "stats.ttest_ind(x1, x2, equal_var=True)"
   ]
  },
  {
   "cell_type": "markdown",
   "metadata": {},
   "source": [
    "<div style=\"margin-top: -20px\"></div>\n",
    "\n",
    "The computed <code>pvalue=0.229</code> is bigger than the significance level of <code>alpha = 0.05</code>, and therefore we fail to reject the null hypothesis, which is consistent with the conclusion drawn from the confidence interval of difference in mean.\n",
    "\n",
    "<div><hr></div>\n",
    "\n",
    "<p><u>Checking results with R</u>:</p>\n",
    "<pre>\n",
    "    <code class=\"language-python\">\n",
    "        a <- c(12.9, 10.2, 7.4, 7.0, 10.5, 11.9, 7.1, 9.9, 14.4, 11.3)\n",
    "\n",
    "        b <- c(10.2, 6.9, 10.9, 11.0, 10.1, 5.3, 7.5, 10.3, 9.2, 8.8)\n",
    "\n",
    "        t.test(a, b, var.equal = TRUE)\n",
    "         \n",
    "        # \tTwo Sample t-test\n",
    "\n",
    "        # data:  a and b\n",
    "        # t = 1.2453, df = 18, p-value = 0.229\n",
    "        # 95 percent confidence interval:\n",
    "        #  -0.8520327  3.3320327\n",
    "        # sample estimates:\n",
    "        # mean of x mean of y \n",
    "        #     10.26      9.02 \n",
    "    </code>\n",
    "</pre>\n"
   ]
  },
  {
   "cell_type": "markdown",
   "metadata": {},
   "source": [
    "<div id=\"ind_unequal\"></div>\n",
    "\n",
    "#### 4.2.2. Independent (unpaired) samples, unequal variance - Welch's t-interval\n",
    "\n",
    "When comparing central tendency of normal distributions, it is safer, and therefore recommended to always use Welch's t-test, which assumes unequal variances of samples, as explained <a href=\"#which_to_use\">below</a>. Equal variance t-test is not robust when population variances are different, but unequal variances are robust even when population variances are equal. \n",
    "\n",
    "Confidence interval of difference in mean assuming unequal variance (Welch's t-interval) can be calculated as follows:\n",
    "\n",
    "<div id=\"eq-6\" style=\"font-size: 1rem;\">\n",
    "$$ \\text{C.I.}_{\\Delta \\text{mean}}: \\quad (\\mu_{1}- \\mu_{2}) \\pm (t_{1-\\frac{\\alpha}{2},df} \\times \\sqrt{\\frac{s_1^2}{n_1}+\\frac{s_2^2}{n_2}}) \\tag{6}$$\n",
    "</div>\n",
    "\n",
    "<div class=\"eq-terms\">\n",
    "    <div class=\"row eq-terms-where\">where</div>\n",
    "    <div class=\"row\">\n",
    "        <div class=\"col-3\"><p>$\\mu$<p></div>\n",
    "        <div class=\"col-9\"><p>: sample mean<p></div>\n",
    "    </div>\n",
    "    <div class=\"row\">\n",
    "        <div class=\"col-3\">$\\alpha$</div>\n",
    "        <div class=\"col-9\">: <a href=\"#\">significance level</a></div>\n",
    "    </div>    \n",
    "    <div class=\"row\">\n",
    "        <div class=\"col-3\"><p>$n$<p></div>\n",
    "        <div class=\"col-9\"><p>: number of samples<p></div>\n",
    "    </div>\n",
    "    <div class=\"row\">\n",
    "        <div class=\"col-3\"><p>$df$<p></div>\n",
    "        <div class=\"col-9\"><p>: degrees of freedom<p></div>\n",
    "    </div>    \n",
    "    <div class=\"row\">\n",
    "        <div class=\"col-3\">$s$</div>\n",
    "        <div class=\"col-9\">: sample standard deviation</div>\n",
    "    </div>   \n",
    "    <div class=\"row\">\n",
    "        <div class=\"col-3\">$t$</div>\n",
    "        <div class=\"col-9\">: t-score. depends on $\\alpha$ and degrees of freedom $n-1$</div>\n",
    "    </div>   \n",
    "</div>\n",
    "\n",
    "The formula is very similar to student's t-interval. There are two main differences:\n",
    "\n",
    "<p style=\"padding-left: 20px;\">1.  We use each sample's own variance $s_1^2$ and $s_2^2$, instead of pooled (weighted average) variance $s_p^2$.</p>\n",
    "<p style=\"padding-left: 20px;\">2.  Degrees of freedom <span style=\"font-size: 0.85rem;\">$df$</span> is computed with <a href=\"#eq-7\">eq (7).</a></p>\n",
    "\n",
    "<div id=\"eq-7\" style=\"font-size: 1rem;\">\n",
    "$$ df = \\frac{(\\frac{s^2_1}{n_1} + \\frac{s^2_2}{n_2})^2}{\\frac{(s^2_1/n_1)^2}{n_1-1} + \\frac{(s^2_2/n_2)^2}{n_2-1}} \\tag{7}$$\n",
    "</div>"
   ]
  },
  {
   "cell_type": "markdown",
   "metadata": {},
   "source": [
    "<div><hr></div>\n",
    "\n",
    "<div id=\"python_ind_unequal\"></div>\n",
    "<p style=\"color: #666\"><b>Pythonic Tip:</b> Computing Welch's t-interval<p>\n",
    "\n",
    "The procedure is very similar to <a href=\"#python_ind_equal\">Computing student's t-interval</a>. We will compute confidence interval of difference in mean assuming unequal variance, with <a href=\"#eq-6\">eq (6).</a> Although Scipy supports computing t-statistic for Welch's t-test, it doesn't support a function that allows us to compute Welch's t-interval. We will have to write our own codes to compute it. \n",
    "\n",
    "Don't forget to compute sample variance, instead of population variance by setting <code>ddof=1</code> as explained <a href=\"#python_variance\">above</a>.\n",
    "    \n",
    "<div style=\"margin-bottom: -20px\"></div>"
   ]
  },
  {
   "cell_type": "code",
   "execution_count": 186,
   "metadata": {},
   "outputs": [],
   "source": [
    "from scipy import stats\n",
    "import numpy as np"
   ]
  },
  {
   "cell_type": "code",
   "execution_count": 187,
   "metadata": {},
   "outputs": [],
   "source": [
    "x1 = [12.9, 10.2, 7.4, 7.0, 10.5, 11.9, 7.1, 9.9, 14.4, 11.3]\n",
    "x2 = [10.2, 6.9, 10.9, 11.0, 10.1, 5.3, 7.5, 10.3, 9.2, 8.8]\n",
    "\n",
    "alpha = 0.05                                                       # significance level = 5%\n",
    "n1, n2 = len(x1), len(x2)                                          # sample sizes\n",
    "s1, s2 = np.var(x1, ddof=1), np.var(x2, ddof=1)                    # sample variances\n",
    "df = (s1/n1 + s2/n2)**2 / ((s1/n1)**2/(n1-1) + (s2/n2)**2/(n2-1))  # degrees of freedom\n",
    "t = stats.t.ppf(1 - alpha/2, df)                                   # two-tailed 95% confidence t-score\n",
    "\n",
    "lower = (np.mean(x1) - np.mean(x2)) - t * np.sqrt(1 / len(x1) + 1 / len(x2)) * s\n",
    "upper = (np.mean(x1) - np.mean(x2)) + t * np.sqrt(1 / len(x1) + 1 / len(x2)) * s"
   ]
  },
  {
   "cell_type": "code",
   "execution_count": 188,
   "metadata": {},
   "outputs": [
    {
     "data": {
      "text/plain": [
       "(-0.8633815129922358, 3.3433815129922397)"
      ]
     },
     "execution_count": 188,
     "metadata": {},
     "output_type": "execute_result"
    }
   ],
   "source": [
    "(lower, upper)"
   ]
  },
  {
   "cell_type": "markdown",
   "metadata": {},
   "source": [
    "<div style=\"margin-top: -20px\"></div>\n",
    "\n",
    "The 95% confidence interval of difference in means has 0 within its interval. This means that the null hypothesis, <span style=\"color: #ed7d32; font-weight: 500; font-size: 0.85rem;\">$H_0: \\mu_1 - \\mu_2 = 0$</span> in <a href=\"#fig6\">figure (6)</a>, falls within the interval and we fail to reject the null hypothesis. We conclude that the sample means are not significantly different.\n",
    "\n",
    "We can confirm this by running a formal hypothesis testing with <a href=\"https://docs.scipy.org/doc/scipy/reference/generated/scipy.stats.ttest_ind.html\" target=\"_blank\">scipy.stats.ttest_ind()</a>, and setting <code>equal_var=False</code>. Note that this assumes independent t-test with pooled variance, which is equivalent to student's t-test."
   ]
  },
  {
   "cell_type": "code",
   "execution_count": 189,
   "metadata": {},
   "outputs": [
    {
     "data": {
      "text/plain": [
       "Ttest_indResult(statistic=1.245268949149111, pvalue=0.23018336828903668)"
      ]
     },
     "execution_count": 189,
     "metadata": {},
     "output_type": "execute_result"
    }
   ],
   "source": [
    "stats.ttest_ind(x1, x2, equal_var=False)"
   ]
  },
  {
   "cell_type": "markdown",
   "metadata": {},
   "source": [
    "<div style=\"margin-top: -20px\"></div>\n",
    "\n",
    "The computed <code>pvalue=0.230</code> is bigger than the significance level of <code>alpha = 0.05</code>, and therefore we fail to reject the null hypothesis, which is consistent with the conclusion drawn from the confidence interval of difference in mean.\n",
    "\n",
    "\n",
    "<div><hr></div>\n",
    "\n",
    "<p><u>Checking results with R</u>:</p>\n",
    "<pre>\n",
    "    <code class=\"language-python\">\n",
    "        a <- c(12.9, 10.2, 7.4, 7.0, 10.5, 11.9, 7.1, 9.9, 14.4, 11.3)\n",
    "\n",
    "        b <- c(10.2, 6.9, 10.9, 11.0, 10.1, 5.3, 7.5, 10.3, 9.2, 8.8)\n",
    "\n",
    "        t.test(a, b, var.equal = FALSE)\n",
    "\n",
    "        # \tWelch Two Sample t-test\n",
    "\n",
    "        # data:  a and b\n",
    "        # t = 1.2453, df = 16.74, p-value = 0.2302\n",
    "        # alternative hypothesis: true difference in means is not equal to 0\n",
    "        # 95 percent confidence interval:\n",
    "        #  -0.8633815  3.3433815\n",
    "        # sample estimates:\n",
    "        # mean of x mean of y \n",
    "        #     10.26      9.02 \n",
    "\n",
    "    </code>\n",
    "</pre>"
   ]
  },
  {
   "cell_type": "markdown",
   "metadata": {},
   "source": [
    "<div id=\"dep\"></div>\n",
    "\n",
    "#### 4.2.3. Dependent (paired) samples - Paired t-interval\n",
    "\n",
    "This test is used when the samples are dependent; that is, when there is only one sample that has been tested twice (repeated measures) or when there are two samples that have been matched or \"paired\" (paired or unpaired? read <a href=\"#which_to_use\">below.</a>)\n",
    "\n",
    "Confidence interval of difference in means assuming paired samples can be calculated as follows:\n",
    "\n",
    "<div id=\"eq-8\" style=\"font-size: 1rem;\">\n",
    "$$ \\text{C.I.}_{\\Delta \\text{mean}}: \\quad \\bar{d} \\pm (t_{1-\\frac{\\alpha}{2}, df} \\times \\frac{s_d}{\\sqrt{n}})\\tag{8}$$\n",
    "</div>\n",
    "\n",
    "<div class=\"eq-terms\">\n",
    "    <div class=\"row eq-terms-where\">where</div>\n",
    "    <div class=\"row\">\n",
    "        <div class=\"col-3\"><p>$\\bar{d}$<p></div>\n",
    "        <div class=\"col-9\"><p>: average of sample differences<p></div>\n",
    "    </div>\n",
    "    <div class=\"row\">\n",
    "        <div class=\"col-3\">$\\alpha$</div>\n",
    "        <div class=\"col-9\">: <a href=\"#\">significance level</a></div>\n",
    "    </div>    \n",
    "    <div class=\"row\">\n",
    "        <div class=\"col-3\"><p>$n$<p></div>\n",
    "        <div class=\"col-9\"><p>: number of samples<p></div>\n",
    "    </div>\n",
    "    <div class=\"row\">\n",
    "        <div class=\"col-3\"><p>$df$<p></div>\n",
    "        <div class=\"col-9\"><p>: degrees of freedom<p></div>\n",
    "    </div>    \n",
    "    <div class=\"row\">\n",
    "        <div class=\"col-3\">$s$</div>\n",
    "        <div class=\"col-9\">: standard deviation of sample differences</div>\n",
    "    </div>   \n",
    "    <div class=\"row\">\n",
    "        <div class=\"col-3\">$t$</div>\n",
    "        <div class=\"col-9\">: t-score. depends on $\\alpha$ and degrees of freedom $n-1$</div>\n",
    "    </div>   \n",
    "</div>\n",
    "\n",
    "The equation is very similar to <a href=\"#eq-1\">eq (1)</a>, except that we are computing mean and standard deviation of differences between before & after state of test subjects. Let's try to understand this with an example.\n",
    "\n",
    "A school develops a tutoring program to improve the SAT scores of high school students. A school requires students to take tests before & after tutoring, and checks if the tutoring had a significant impact on the SAT scores of students. Because the test subjects are compared to themselves, not anyone elses, the measurements taken before & after the training are not independent.\n",
    "\n",
    "To compute dependent t-interval, we compute differences of test scores before & after tutoring:\n",
    "\n",
    "<table>\n",
    "    <thead>\n",
    "        <tr>\n",
    "            <th>Student #</th>\n",
    "            <th>$X_1$</th>\n",
    "            <th>$X_2$</th>\n",
    "            <th>$X_1$ - $X_2$</th>\n",
    "        </tr>\n",
    "    </thead>\n",
    "    <tbody>\n",
    "        <tr>\n",
    "            <td>1</td>\n",
    "            <td>1480</td>\n",
    "            <td>1510</td>\n",
    "            <td>-30</td>\n",
    "        </tr>\n",
    "        <tr>\n",
    "            <td>2</td>\n",
    "            <td>1280</td>\n",
    "            <td>1460</td>\n",
    "            <td>-180</td>\n",
    "        </tr>\n",
    "        <tr>\n",
    "            <td>3</td>\n",
    "            <td>890</td>\n",
    "            <td>1320</td>\n",
    "            <td>-430</td>\n",
    "        </tr>\n",
    "        <tr>\n",
    "            <td>4</td>\n",
    "            <td>340</td>\n",
    "            <td>700</td>\n",
    "            <td>-360</td>\n",
    "        </tr>\n",
    "        <tr>\n",
    "            <td>5</td>\n",
    "            <td>1550</td>\n",
    "            <td>1550</td>\n",
    "            <td>0</td>\n",
    "        </tr>\n",
    "        <tr>\n",
    "            <td>6</td>\n",
    "            <td>1230</td>\n",
    "            <td>1420</td>\n",
    "            <td>-190</td>\n",
    "        </tr>\n",
    "        <tr>\n",
    "            <td>7</td>\n",
    "            <td>1010</td>\n",
    "            <td>1340</td>\n",
    "            <td>-330</td>\n",
    "        </tr>\n",
    "        <tr>\n",
    "            <td>8</td>\n",
    "            <td>1590</td>\n",
    "            <td>1570</td>\n",
    "            <td>20</td>\n",
    "        </tr>\n",
    "        <tr>\n",
    "            <td>9</td>\n",
    "            <td>1390</td>\n",
    "            <td>1500</td>\n",
    "            <td>-110</td>\n",
    "        </tr>\n",
    "        <tr>\n",
    "            <td>10</td>\n",
    "            <td>980</td>\n",
    "            <td>1300</td>\n",
    "            <td>-320</td>\n",
    "        </tr>       \n",
    "    </tbody>\n",
    "</table>\n",
    "\n",
    "We find $\\bar{d}$ = -193.0, and $s_d$ = 161.7. These values are plugged into <a href=\"#eq-8\">eq (8).</a> Degrees of freedom $df$ for dependent t-interval can be computed with:\n",
    "\n",
    "<div id=\"eq-9\" style=\"font-size: 1rem;\">\n",
    "$$ df = n - 1 \\tag{9}$$\n",
    "</div>\n",
    "\n",
    "Unlike independent t-test, in which two samples can have different sample sizes $n_1$ and $n_2$, depedent t-test has only one sample size, because the test subjects are compared to themselves.\n",
    "\n",
    "Also note that dependent t-test assumes difference of test scores to be normally distributed, not test scores of students themselves. But as long as the test scores are normally distributed, the difference of test scores will also be normally distributed due to the property of normal distributions."
   ]
  },
  {
   "cell_type": "markdown",
   "metadata": {},
   "source": [
    "<div><hr></div>\n",
    "\n",
    "<div id=\"python_dep\"></div>\n",
    "<p style=\"color: #666\"><b>Pythonic Tip:</b> Computing paired t-interval<p>\n",
    "    \n",
    "Although Scipy supports computing t-statistic for dependent t-test, it doesn't support a function that allows us to compute dependent t-interval. We will have to write our own codes to compute it.\n",
    "\n",
    "Don't forget to compute sample standard devaition, instead of population standard deviation by setting <code>ddof=1</code> as explained <a href=\"#python_variance\">above</a>.\n",
    "\n",
    "<div style=\"margin-bottom: -20px\"></div>"
   ]
  },
  {
   "cell_type": "code",
   "execution_count": 190,
   "metadata": {},
   "outputs": [],
   "source": [
    "from scipy import stats\n",
    "import numpy as np"
   ]
  },
  {
   "cell_type": "code",
   "execution_count": 191,
   "metadata": {},
   "outputs": [],
   "source": [
    "x1 = np.array([1480, 1280, 890, 340, 1550, 1230, 1010, 1590, 1390, 980])\n",
    "x2 = np.array([1510, 1460, 1320, 700, 1550, 1420, 1340, 1570, 1500, 1300])\n",
    "\n",
    "alpha = 0.05                        # significance level = 5%\n",
    "d_bar = np.mean(x1 - x2)            # average of sample differences\n",
    "s_d = np.std(x1 - x2, ddof=1)       # sample standard deviation of sample differences\n",
    "n = len(x1)                         # sample size\n",
    "df = n - 1                          # degrees of freedom\n",
    "t = stats.t.ppf(1 - alpha/2, df)    # two-tailed 95% confidence t-score\n",
    "\n",
    "lower = d_bar - t * s_d / np.sqrt(n)\n",
    "upper = d_bar + t * s_d / np.sqrt(n)"
   ]
  },
  {
   "cell_type": "code",
   "execution_count": 192,
   "metadata": {},
   "outputs": [
    {
     "data": {
      "text/plain": [
       "(-308.64567899681356, -77.35432100318641)"
      ]
     },
     "execution_count": 192,
     "metadata": {},
     "output_type": "execute_result"
    }
   ],
   "source": [
    "(lower, upper)"
   ]
  },
  {
   "cell_type": "markdown",
   "metadata": {},
   "source": [
    "<div style=\"margin-top: -20px\"></div>\n",
    "\n",
    "The 95% confidence interval of difference in means for dependent samples does not have 0 within its interval. This means that the null hypothesis, <span style=\"color: #ed7d32; font-weight: 500; font-size: 0.85rem;\">$H_0: \\mu_1 - \\mu_2 = 0$</span> in <a href=\"#fig6\">figure (6)</a>, does not fall within the interval. Instead, our estimation falls within the 2.5% outlier zone on the left, <span style=\"color: black; font-weight: 500; font-size: 0.85rem;\">$H_1: \\mu_1 - \\mu_2 \\neq 0$</span>. We reject the null hypothesis $H_0$, and accept the alternate hypothesis $H_1$. We conclude that the sample means are significantly different.\n",
    "\n",
    "We can confirm this by running a formal hypothesis testing with <a href=\"https://docs.scipy.org/doc/scipy/reference/generated/scipy.stats.ttest_rel.html\" target=\"_blank\">scipy.stats.ttest_rel().</a> Note that this assumes dependent t-test."
   ]
  },
  {
   "cell_type": "code",
   "execution_count": 193,
   "metadata": {},
   "outputs": [
    {
     "data": {
      "text/plain": [
       "Ttest_relResult(statistic=-3.7752930865755987, pvalue=0.004380623368522125)"
      ]
     },
     "execution_count": 193,
     "metadata": {},
     "output_type": "execute_result"
    }
   ],
   "source": [
    "stats.ttest_rel(x1, x2)"
   ]
  },
  {
   "cell_type": "markdown",
   "metadata": {},
   "source": [
    "<div style=\"margin-top: -20px\"></div>\n",
    "\n",
    "The computed <code>pvalue=0.004</code> is smaller than the significance level of <code>alpha = 0.05</code>, and therefore we reject the null hypothesis and accept the alternate hypothesis, which is consistent with the conclusion drawn from the confidence interval of difference in mean.\n",
    "\n",
    "**Notes**: The above hypothesis testing answers the question of \"Did this tutoring program had a significant impact on the SAT scores of students?\". However, in cases like this, a more intuitive question is \"Did this tutoring program significantly <i>improve</i> the SAT scores of students?\" The former uses two-tailed test, and the latter uses one-tailed test, and the procedures for them are a different. They are a little confusing. More explanation of one-tailed test vs two-tailed test is covered <a href=\"#\">below</a>.\n",
    "\n",
    "<div><hr></div>\n",
    "\n",
    "<p><u>Checking results with R</u>:</p>\n",
    "<pre>\n",
    "    <code class=\"language-python\">\n",
    "        x1 = c(1480, 1280, 890, 340, 1550, 1230, 1010, 1590, 1390, 980)\n",
    "        x2 = c(1510, 1460, 1320, 700, 1550, 1420, 1340, 1570, 1500, 1300)\n",
    "\n",
    "        t.test(x1, x2, paired=TRUE)  \n",
    "\n",
    "        #     Paired t-test\n",
    "\n",
    "        # data:  x1 and x2\n",
    "        # t = -3.7753, df = 9, p-value = 0.004381\n",
    "        # alternative hypothesis: true difference in means is not equal to 0\n",
    "        # 95 percent confidence interval:\n",
    "        #  -308.64568  -77.35432\n",
    "        # sample estimates:\n",
    "        # mean of the differences \n",
    "        #                    -193 \n",
    "    </code>\n",
    "</pre>"
   ]
  },
  {
   "cell_type": "markdown",
   "metadata": {},
   "source": [
    "<div id=\"which_to_use\"></div>\n",
    "<div class=\"alert alert-info\">\n",
    "    <h4>Notes: Deciding which t-test to use</h4>\n",
    "    <p><u>Equal or unequal variance?</u></p>\n",
    "    <p style=\"padding-left: 1rem !important\">Long story short, always assume unequal variance of samples when using t-test or constructing confidence interval of difference in means.</p>\n",
    "    <p style=\"padding-left: 1rem !important\">Student's t-test is used for samples of equal variance, and Welch's t-test is used for samples of unequal variance. A natural question is, how do you know which test to use? While there exist techniques to check homogeneity of variances (f-test, Barlett's test, Levene's test), it is dangerous to run hypothesis testing for equality of variances to decide which t-test to use (student's t-test or Welch's t-test), because it increases Type I error (asserting something that is absent, false positive). This is shown by <a href=\"https://www.jstor.org/stable/2684403?seq=1#page_scan_tab_contents\" target=\"_blank\">Moser and Stevens (1992)</a> and <a href=\"https://onlinelibrary.wiley.com/doi/abs/10.1348/000711005X62576\" target=\"_blank\">Hayes and Cai (2010).</a></p>\n",
    "    <p style=\"padding-left: 1rem !important\"><a href=\"https://link.springer.com/article/10.1007/s00362-009-0224-x\" target=\"_blank\">Kubinger, Rasch and Moder (2009)</a> argue that when the assumptions of normality and homogeneity of variances are met, Welch's t-test performs equally well, but outperforms when the assumptions are not met. <a href=\"https://academic.oup.com/beheco/article/17/4/688/215960\" target=\"_blank\">Ruxton (2006)</a> argues that the <i>\"unequal variance t-test should always be used in preference to the Student's t-test\"</i> (Note: what he means by \"always\" is assuming normality of distribution)</p>    \n",
    "    <p style=\"padding-left: 1rem !important\">Also note that R uses Welch's t-test as the default for the <code>t.test()</code> function.</p>\n",
    "    <p><u>Independent (unpaired) or dependent (paired) samples?</u></p>\n",
    "    <p style=\"padding-left: 1rem !important\">Paired t-test compares the same subjects at 2 different times . Unpaired t-test compares two different subjects.</p>\n",
    "    <p style=\"padding-left: 1rem !important\">Samples are <i>independent (unpaired)</i> if one measurement is taken on different groups. For example in medical treament, group A is a control group, and is given a placebo with no medical effect. Group B is a test group, and receives a prescribed treatment with expected medical effect. Health check is applied on two groups, and the measurements are recorded. We say that the measurement from group A is independent from that of group B.<p>\n",
    "    <p style=\"padding-left: 1rem !important\">Samples are <i>dependent (paired)</i> when repeated measures are taken on the same or related subjects. For example, there may be instances of the same patients being tested repeatedly - before and after receiving a particular treatment. In such cases, each patient is being used as a control sample against themselves. This method also applies to cases where the samples are related in some manner or have matching characteristics, like a comparative analysis involving children, parents or siblings.</p>\n",
    "    <p style=\"padding-left: 1rem !important\">If you have a reason to believe that samples are correlated in any ways, it is recommended to use dependent test to reduce the effect of <a href=\"https://www.statisticshowto.datasciencecentral.com/experimental-design/confounding-variable/\" target=\"_blank\">confounding factors</a>.</p>\n",
    "</div>"
   ]
  },
  {
   "cell_type": "markdown",
   "metadata": {},
   "source": [
    "<div style=\"margin-top: 30px\" id=\"conf_int_of_var\"></div>\n",
    "\n",
    "### 4.3. Confidence interval of variance\n",
    "\n",
    "Confidence interval of variance is used to estimate the population variance from sample data and quantify the related uncertainty. C.I. of variance is seldom used by itself, but rather used in conjunction with <a href=\"https://newonlinecourses.science.psu.edu/stat414/node/225/\" target=\"_blank\">f-test</a>, which tests equality of variances of different populations. Similar to how the <a href=\"#conf_int_of_diff_in_mean\">confidence interval of difference in mean</a> forms the foundation of <a href=\"https://www.investopedia.com/terms/t/t-test.asp\" target=\"_blank\">t-test</a>, C.I. of variance forms the foundation of f-test. In the field of statistics and machine learning, the equality of variance is an important assumption when choosing which technique to use. For example, when comparing the means of two samples, <a href=\"#4.2.1.-Independent-(unpaired)-samples,-equal-variance---student's-t-interval\">student's t-test</a> should not be used when you have a reason to believe that the two samples have different variances. Personally, I found f-test to be useful for the purpose of reading and understanding scientific papers, as many of the papers I have read use f-test to test their hypothesis, or use a variation of f-test for more advanced techniques. \n",
    "\n",
    "I mentioned that different statistics exhibit different distributions <a href=\"#dist_stats\">above</a>. When a sample data set originates from a normal distribution, its sample means are normally distributed as shown in <a href=\"???\">figure 4</a>. On the other hand, its sample variances are chi-square ($\\chi^2$) distributed as shown in <a href=\"\">figure ???</a>. \n",
    "\n",
    "<div id=\"\" class=\"row\" style=\"margin-top: 15px;\">\n",
    "    <div class=\"col\"><img src=\"jupyter_images/conf_int_variance.png\"></div>\n",
    "    <div class=\"col-12\"><p class=\"image-description\">Figure ???: 95% confidence interval of variance.</p></div>\n",
    "</div>"
   ]
  },
  {
   "cell_type": "markdown",
   "metadata": {},
   "source": [
    "<div class=\"solution_panel closed\">\n",
    "    <div class=\"solution_title\">\n",
    "        <p class=\"solution_title_string\">Source Code For Figure (?)</p>\n",
    "        <ul class=\"nav navbar-right panel_toolbox\">\n",
    "            <li><a class=\"collapse-link\"><i class=\"fa fa-chevron-up\"></i></a></li>\n",
    "        </ul>\n",
    "    <div class=\"clearfix\"></div>\n",
    "    </div>\n",
    "    <div class=\"solution_content\">\n",
    "        <pre>\n",
    "            <code class=\"language-python\">\n",
    "                from scipy import stats\n",
    "                import matplotlib.pyplot as plt\n",
    "                import numpy as np\n",
    "\n",
    "                df = 9\n",
    "                x = np.linspace(-1, 28, 1000)\n",
    "                y = stats.chi2.pdf(x, df, loc=0, scale=1)\n",
    "                right_tail = stats.chi2.ppf(1 - 0.025, df) \n",
    "                left_tail = stats.chi2.ppf(1 - 0.975, df) \n",
    "\n",
    "                plt.style.use('seaborn-whitegrid')\n",
    "                fig, ax = plt.subplots(figsize=(12, 5))\n",
    "\n",
    "                ax.plot(x, y, c='black', label='Degrees of freedom = %d' % df)\n",
    "                ax.set_xlabel('$\\chi^2$', fontsize=17)\n",
    "                ax.set_ylabel(r'Probability', fontsize=17)\n",
    "                ax.set_title(r'$\\chi^2\\ \\mathrm{Distribution}$, df = %d' % df, fontsize=17)\n",
    "                ax.fill_between(x, 0, y, where=(np.array(x) > min(x)) & (np.array(x) <= left_tail), facecolor='grey')\n",
    "                ax.fill_between(x, 0, y, where=(np.array(x) > left_tail) & (np.array(x) &lt; right_tail), facecolor='lightgrey')\n",
    "                ax.fill_between(x, 0, y, where=(np.array(x) > right_tail) & (np.array(x) <= max(x)), facecolor='grey')\n",
    "                ax.grid(False)\n",
    "\n",
    "                ax.text(22, 0.008, '2.5% outlier', fontsize=13)\n",
    "                ax.text(-2, 0.008, '2.5% outlier', fontsize=13)\n",
    "                ax.text(0.5, 0.04, '$\\chi^2_{.975} = %.2f$' % left_tail, fontsize=14, bbox=dict(boxstyle='round', facecolor='white'))\n",
    "                ax.text(16.5, 0.015, '$\\chi^2_{.025} = %.2f$' % right_tail, fontsize=14, bbox=dict(boxstyle='round', facecolor='white'))\n",
    "                ax.text(20, 0.08, '$\\chi^2_{.975} \\leq \\chi^2 \\leq \\chi^2_{.025}$', fontsize=16)\n",
    "                ax.text(20, 0.06, '$2.70 \\leq \\chi^2 \\leq 19.02$', fontsize=16)\n",
    "                ax.text(6, 0.05, '95% confidence interval', fontsize=16)\n",
    "                ax.text(6, 0.04, 'of variance', fontsize=16);\n",
    "            </code>\n",
    "        </pre>\n",
    "    </div>\n",
    "</div>"
   ]
  },
  {
   "cell_type": "markdown",
   "metadata": {},
   "source": [
    "<div id=\"chi_square\"></div>\n",
    "<div class=\"alert alert-info\">\n",
    "    <h4>Notes: Chi-square $\\chi^2$ distribution</h4>\n",
    "    <p>Chi-square <span style=\"font-size: 90% !important\">$\\chi^2$</span> distribution is a function of degrees of freedom <span style=\"font-size: 90% !important\">$df$</span>. It is a special case of the gamma distribution and is one of the most widely used probability distributions in inferential statistics, notably in hypothesis testing or in construction of confidence intervals.</p>\n",
    "    <p>It is used in the common chi-square goodness of fit test of an observed data set to a theoretical one. Let's say that there's a company that prints baseball cards. The company claims that 30% of the cards are rookies, 60% veterans but not All-Stars, and 10% are veteran All-Stars. Suppose that you purchased a deck of 100 cards. You found out that the card deck has 50 rookies, 45 veterans, and 5 All-Stars. Is this consistent with the company's claim? An answer to this question is explained in detail <a href=\"https://stattrek.com/chi-square-test/goodness-of-fit.aspx\" target=\"_blank\">here</a> using the chi-squared goodness of fit test.</p>\n",
    "    <p>When samples have a normal distribution, some of their statistics can be described by <span style=\"font-size: 90% !important\">$\\chi^2$</span> distributions. For example, the <a href=\"https://www.machinelearningplus.com/statistics/mahalanobis-distance/\" target=\"_blank\">Mahalanobis distance</a> follows <span style=\"font-size: 90% !important\">$\\chi^2$</span> distribution when samples are normally distributed, and can be used for multivariate outlier detection using <span style=\"font-size: 90% !important\">$\\chi^2$</span> hypothesis test. Variance of samples also follows <span style=\"font-size: 90% !important\">$\\chi^2$</span> distributions when samples are normally distributed, and can be used to construct the confidence interval of variances with <a href=\"\">eq (???)</a>.</p>\n",
    "    <p>By the central limit theorem, a <span style=\"font-size: 90% !important\">$\\chi^2$</span> distribution converges to a normal distribution for large sample size <span style=\"font-size: 90% !important\">$n$</span>. For many practical purposes, for <span style=\"font-size: 90% !important\">$n$</span> > 50 the distribution is sufficiently close to a normal distribution for the difference to be ignored. Note that the sampling distribution of <span style=\"font-size: 90% !important\">$ln(\\chi^2)$</span> converges to normality much faster than the sampling distribution of <span style=\"font-size: 90% !important\">$\\chi^2$</span> as the logarithm removes much of the asymmetry. </p>    \n",
    "    <img class=\"admonition-image\" style=\"border: 1px solid #ddd;\" src=\"jupyter_images/chi_square.png\"/>\n",
    "    <div class=\"solution_panel closed\" style=\"margin-top: 20px;\">\n",
    "        <div class=\"solution_title solution_admonition\">\n",
    "            <p class=\"solution_title_string\">Source Code For The Figure</p>\n",
    "            <ul class=\"nav navbar-right panel_toolbox\">\n",
    "                <li><a class=\"collapse-link\"><i class=\"fa fa-chevron-up\"></i></a></li>\n",
    "            </ul>\n",
    "            <div class=\"clearfix\"></div>\n",
    "        </div>\n",
    "        <div class=\"solution_content\">\n",
    "            <pre>\n",
    "                <code class=\"language-python\">\n",
    "                    from scipy import stats\n",
    "                    import matplotlib.pyplot as plt\n",
    "                    import numpy as np\n",
    "\n",
    "                    df_values = [1, 2, 6, 9]\n",
    "                    linestyles = ['-', '--', ':', '-.']\n",
    "                    x = np.linspace(-1, 20, 1000)\n",
    "\n",
    "                    fig, ax = plt.subplots(figsize=(6.6666666, 5))\n",
    "                    fig.tight_layout()\n",
    "                    plt.subplots_adjust(left=0.09, right=0.96, bottom=0.12, top=0.93)\n",
    "\n",
    "                    for df, ls in zip(df_values, linestyles):\n",
    "                        ax.plot(x, stats.chi2.pdf(x, df, loc=0, scale=1), \n",
    "                                ls=ls, c='black', label=r'Degrees of freedom$=%i$' % df)\n",
    "\n",
    "                    ax.set_xlim(0, 10)\n",
    "                    ax.set_ylim(0, 0.5)\n",
    "                    ax.set_xlabel('$\\chi^2$', fontsize=14)\n",
    "                    ax.set_ylabel(r'Probability', fontsize=14)\n",
    "                    ax.set_title(r'$\\chi^2\\ \\mathrm{Distribution}$')\n",
    "                    ax.legend(loc='best', fontsize=11, framealpha=1, frameon=True)\n",
    "                </code>\n",
    "            </pre>\n",
    "        </div>\n",
    "    </div>\n",
    "</div>"
   ]
  },
  {
   "cell_type": "code",
   "execution_count": 116,
   "metadata": {},
   "outputs": [],
   "source": [
    "right_tail = stats.chi2.ppf(1 - 0.025, df) \n",
    "left_tail = stats.chi2.ppf(1 - 0.975, df) "
   ]
  },
  {
   "cell_type": "code",
   "execution_count": 117,
   "metadata": {},
   "outputs": [
    {
     "data": {
      "text/plain": [
       "19.02276779864163"
      ]
     },
     "execution_count": 117,
     "metadata": {},
     "output_type": "execute_result"
    }
   ],
   "source": [
    "right_tail"
   ]
  },
  {
   "cell_type": "code",
   "execution_count": 115,
   "metadata": {},
   "outputs": [],
   "source": [
    "left_tail_975 = stats.chi2.ppf(1 - 0.975, df) "
   ]
  },
  {
   "cell_type": "markdown",
   "metadata": {},
   "source": [
    "\n",
    "**Variance follows chi-squared distribution, if samples are normally distributed.**\n",
    "\n",
    "**P-value propagates toward left**\n",
    "\n",
    "**Equation, depends on alpha, degree of freedom**\n",
    "\n",
    "\n",
    "Means can be the same, but their std can be different. One team is pretty consistent from game to game, but the other team fluctuates a lot. Which team has the smaller score variance? -> plays a very important role in quality assurance and operations management\n",
    "\n",
    "Variance is chi-square distributed. But how is it related to the actual data we collect?\n",
    "\n",
    "$$\\chi^2 = \\frac{(n-1)s^2}{\\sigma^2}$$\n",
    "\n",
    "$$\\chi_{.975}^{2} < \\chi^2 < \\chi_{.025}^{2}$$\n",
    "\n",
    "$$ \\text{C.I.}_{\\text{variance}}: \\frac{(n-1)s^{2}}{\\chi^{2}_{\\frac{\\alpha}{2}}} \\leq \\sigma^2 \\leq \\frac{(n-1)s^{2}}{\\chi^{2}_{1-\\frac{\\alpha}{2}}}$$\n",
    "\n",
    "<code>stats.chi2.ppf(0.975, 11) = 21.92</code>\n",
    "\n",
    "We are estimating population variance. \n",
    "\n",
    "This volatility is one way of interpreting risk. The trade-off of risk vs. reward.\n",
    "\n",
    "Used in conjunction with more advanced tasks."
   ]
  },
  {
   "cell_type": "code",
   "execution_count": 2,
   "metadata": {},
   "outputs": [
    {
     "data": {
      "image/png": "[encoded data removed]",
      "text/plain": [
       "<Figure size 360x144 with 1 Axes>"
      ]
     },
     "metadata": {},
     "output_type": "display_data"
    }
   ],
   "source": [
    "import matplotlib.pyplot as plt\n",
    "from scipy import stats\n",
    "import numpy as np\n",
    "\n",
    "conf_pinkman = stats.t.interval(1 - 0.05, 18 - 1, loc=96.2, scale= 4 / np.sqrt(18))\n",
    "conf_white = stats.t.interval(1 - 0.05, 21 - 1, loc=99.1, scale= 3 / np.sqrt(21))\n",
    "\n",
    "plt.style.use('seaborn-whitegrid')\n",
    "fig, ax = plt.subplots(figsize=(5, 2))\n",
    "\n",
    "ax.errorbar(99.1, 1, xerr=(conf_white[1] - conf_white[0]) / 2,\n",
    "            fmt='o', markersize=8, capsize=5, label='Mr. White\\'s', color='grey')\n",
    "ax.errorbar(96.2, 0, xerr=(conf_pinkman[1] - conf_pinkman[0]) / 2,\n",
    "            fmt='o', markersize=8, capsize=5, label='Mr. Pinkman\\'s', color='k')\n",
    "ax.set_ylim(-0.6, 1.6)\n",
    "ax.fill_betweenx([1, 0], conf_white[0], conf_pinkman[1], facecolor='lightgrey', alpha=0.3)\n",
    "ax.legend(loc='best', fontsize=11, framealpha=1, frameon=True)\n",
    "ax.set_xlabel('Purity (%)', fontsize=12)\n",
    "ax.yaxis.set_major_formatter(plt.NullFormatter())\n",
    "fig.tight_layout();"
   ]
  },
  {
   "cell_type": "markdown",
   "metadata": {},
   "source": [
    "## Robustness of variance to non-normality\n",
    "\n",
    "Standard deviations are a bit more sensitive to outliers than means are -- when you put in an outlier, you tend to push the one-sample t-statistic toward 1 or -1.\n",
    "\n",
    "https://stats.stackexchange.com/questions/193117/why-is-high-positive-kurtosis-problematic-for-hypothesis-tests\n",
    "\n",
    "### Difference of the confidence interval constructed with t-test vs bootstrap for skewed data"
   ]
  },
  {
   "cell_type": "code",
   "execution_count": null,
   "metadata": {},
   "outputs": [],
   "source": []
  },
  {
   "cell_type": "markdown",
   "metadata": {},
   "source": [
    "## Robustness of confidence intervals to non-normality\n",
    "\n",
    "All of the discussions above assume normality of data set. Conclusions drawn from confidence intervals and hypothesis testing may be inaccurate, or completely wrong if the underlying assumptions are not met. This sections discusses why the assumption of normality is important, robustness of statistical estimations in regards to deviation from normality, and non-parametric alternatives."
   ]
  },
  {
   "cell_type": "markdown",
   "metadata": {},
   "source": [
    "<div id=\"central_tendency\"></div>\n",
    "\n",
    "### Measuring central tendency of distributions\n",
    "\n",
    "We discussed how to compute <a href=\"#conf_int_of_mean\">confidence interval of mean</a> and <a href=\"#conf_int_of_diff_in_mean\">confidence interval of difference in means.</a> But have you thought about why statisticians bother specifically about the means? Often times the ultimate goal is not to compute a <i>mean</i> of a distribution, but to compute a <i>measure of central tendency</i> of a distribution. \n",
    "\n",
    "A measure of central tendency is a single value that attempts to describe a set of data by identifying the central position within that set of data. The mean is the measure of central tendency that you are the most familiar with, but there are others, such as the median and the mode. \n",
    "\n",
    "<div><hr></div>\n",
    "\n",
    "**Point estimation**\n",
    "\n",
    "Mean is not a good measure of central tendency when there is a sign of deviation from normality, which can be characterized by skewness (asymmetry) and kurtosis (heavy-tails). Consider the following figures:\n",
    "\n",
    "<div id=\"\" class=\"row give-margin-inline-big-plot mobile_responsive_plot_full_width\" style=\"margin-top: 15px;\">\n",
    "    <div class=\"col\"><img src=\"jupyter_images/conf_int_non_norm_means.png\"></div>\n",
    "    <div class=\"col-12\"><p class=\"image-description\">Figure ??: Central tendency of distributions</p></div>\n",
    "</div>\n",
    "\n",
    "In <a href=\"#\">figure (??) (a)</a>, there is no skewness, making the distribution symmetric. In this case, mean is a good measure of central tendency, along with median and mode — they are all equivalent. You can compute its confidence interval of mean using <a href=\"#eq-1\">eq (1)</a>, and use it as a measure of central tendency, thanks to the symmetry of the distribution.\n",
    "\n",
    "However, when distributions have non-zero skewness, as in <a href=\"#\">figure (??) (b)</a>, the assumption of normality is violated. Depending on how bad the asymmetry is, you can still use <a href=\"#eq-1\">eq (1)</a>, because confidence interval of mean is robust to mild asymmetry. However, if a distribution has non-negligible skewness, interval computed with <a href=\"#eq-1\">eq (1)</a> introduces bias to one side of a distribution. \n",
    "\n",
    "Although there exists non-parametric alternatives like Bootstrap and credible interval, you may want to take a step back and reconsider the purpose of your estimation. Are you really interested in the <i>mean</i>, or the <i>central tendency</i> of your distribution? In a case like <a href=\"#\">figure (??) (b)</a>, perhaps you are more interested in the median, as it's a better measure of central tendency of asymmetric distributions. \n",
    "\n",
    "Visualize your distribution to see what your true interest is.\n",
    "\n",
    "<div><hr></div>\n",
    "\n",
    "**Comparison of distributions**\n",
    "\n",
    "Similar idea applies when you want to compare two distributions. Let's say that you want to decide if two samples came from the same population by comparing their confidence interval of means. Consider the following figure of two non-normal sample distributions:\n",
    "\n",
    "<div id=\"\" class=\"row full_screen_margin_md mobile_responsive_plot_full_width\" style=\"margin-top: 15px;\">\n",
    "    <div class=\"col\"><img src=\"jupyter_images/conf_int_non_norms_overlap.png\"></div>\n",
    "    <div class=\"col-12\"><p class=\"image-description\">Figure ??: Confidencen interval of means for non-normal distributions</p></div>\n",
    "</div>\n",
    "\n",
    "Note that the <span style=\"color: #385624; font-weight: 500;\">95% confidence interval of means</span> in <a href=\"#\">figure (??)</a> are asymmetric about their respective sample means, because they are computed with non-parametric alternatives. Since there is an overlap of the two intervals, you can conclude that the sample means are not significantly different. Furthermore, even the variances of the samples are the same; I generated the plots so that they have the same variances. \n",
    "\n",
    "Now, you know that the samples have equal means and variances within the range of uncertainty. Can you conclude that the two samples came from the same population? Clearly not, because their central locations are far apart from each other. Their central tendencies are better described by their medians than their means.\n",
    "\n",
    "In this case, if you are using confidence confidence interval of means and variances to check if two samples came from the same population, your approach is wrong. This kind of approach assumes normality of data. Any approach that makes a certain assumption of data fails when that assumption is violated. \n",
    "\n",
    "If your goal is to find out if the two samples originated from the same population, you may want to use non-parametric alternatives, such as Mann-Whitney test or Kruskall-Wallis test; they are geared towards comparing central tendency of distributions, not means or variances."
   ]
  },
  {
   "cell_type": "markdown",
   "metadata": {},
   "source": [
    "### Robustness of t-test\n",
    "\n",
    "T-test loses some of its statistical power when there is a sign of deviation from normality, which can be characterized by skewness (asymmetry) and kurtosis (heavy-tails). Why? It's because t-test is a test of means, and means are not good measures of central tendency of asymmetric distributions, as I explained <a href=\"#\">here</a>. \n",
    "\n",
    "Let's say that you want to decide if two samples came from different populations by comparing the confidence interval of means. Consider the following figure: \n",
    "\n",
    "-------- image --------\n",
    "\n",
    "\n",
    "\n",
    "T-test is fairly resistant to moderate deviations from normality — visualize your distribution to test this. \n",
    "\n",
    "\n",
    "\n",
    "\n",
    "\n",
    "\n",
    "To be specific, it is sensitive to asymmetry of the distribution, but not much to kurtosis. As a rule of thumb (not a law of nature), inference about means is sensitive to skewness and inference about variances is sensitive to kurtosis\n",
    "\n",
    "\n",
    "\n",
    "asymptotic expansion\n",
    "\n",
    "https://stats.stackexchange.com/questions/2492/is-normality-testing-essentially-useless/30053#30053\n",
    "\n",
    "\n",
    "\n",
    "T-test is fairly resistent to moderate deviations \n",
    "\n",
    "https://www.johndcook.com/blog/2018/05/11/two-sample-t-test/\n",
    "\n",
    "That said, the t-test can tolerate moderate skewness and heavy-tailedness (though in the latter case your actual significance levels will tend to be lower than the nominal 𝛼).\n",
    "\n",
    "Non-parametric alternatives are 95% powerful of t-test, when data are normal."
   ]
  },
  {
   "cell_type": "markdown",
   "metadata": {},
   "source": [
    "### Robustness of confidence interval of variance\n",
    "\n",
    "## Non-parametric alternatives"
   ]
  },
  {
   "cell_type": "code",
   "execution_count": 6,
   "metadata": {},
   "outputs": [
    {
     "data": {
      "text/plain": [
       "3.8157482522361"
      ]
     },
     "execution_count": 6,
     "metadata": {},
     "output_type": "execute_result"
    }
   ],
   "source": [
    "from scipy import stats\n",
    "%matplotlib inline\n",
    "\n",
    "stats.chi2.ppf(0.025, 11)"
   ]
  },
  {
   "cell_type": "code",
   "execution_count": null,
   "metadata": {},
   "outputs": [],
   "source": []
  },
  {
   "cell_type": "code",
   "execution_count": null,
   "metadata": {},
   "outputs": [],
   "source": []
  },
  {
   "cell_type": "code",
   "execution_count": 177,
   "metadata": {},
   "outputs": [
    {
     "data": {
      "text/plain": [
       "-0.49379818720606283"
      ]
     },
     "execution_count": 177,
     "metadata": {},
     "output_type": "execute_result"
    }
   ],
   "source": [
    "x1 = [12.9, 10.2, 7.4, 7.0, 10.5, 11.9, 7.1, 9.9, 14.4, 11.3]\n",
    "x2 = [10.2, 6.9, 10.9, 11.0, 10.1, 5.3, 7.5, 10.3, 9.2, 8.8]\n",
    "\n",
    "alpha = 0.05                                                       # significance level = 5%\n",
    "n1, n2 = len(x1), len(x2)                                          # sample sizes\n",
    "s1, s2 = np.var(x1, ddof=1), np.var(x2, ddof=1)                    # sample variances\n",
    "df = (s1/n1 + s2/n2)**2 / ((s1/n1)**2/(n1-1) + (s2/n2)**2/(n2-1))  # degrees of freedom\n",
    "t = stats.t.ppf(1 - alpha, df)   \n",
    "\n",
    "lower = (np.mean(x1) - np.mean(x2)) - t * np.sqrt(1 / len(x1) + 1 / len(x2)) * s\n",
    "\n",
    "lower"
   ]
  },
  {
   "cell_type": "code",
   "execution_count": 3,
   "metadata": {},
   "outputs": [],
   "source": [
    "from scipy.stats import skewnorm\n",
    "from matplotlib import pyplot as plt\n",
    "import numpy as np\n",
    "import scipy.stats\n",
    "a=100\n",
    "data= skewnorm.rvs(a, size=1000)"
   ]
  },
  {
   "cell_type": "code",
   "execution_count": 91,
   "metadata": {},
   "outputs": [
    {
     "name": "stdout",
     "output_type": "stream",
     "text": [
      "0.8381086010164204\n",
      "0.7177974832846665\n"
     ]
    },
    {
     "data": {
      "text/plain": [
       "<matplotlib.lines.Line2D at 0x1a2310f2e8>"
      ]
     },
     "execution_count": 91,
     "metadata": {},
     "output_type": "execute_result"
    },
    {
     "data": {
      "image/png": "[encoded data removed]",
      "text/plain": [
       "<Figure size 432x288 with 1 Axes>"
      ]
     },
     "metadata": {
      "needs_background": "light"
     },
     "output_type": "display_data"
    }
   ],
   "source": [
    "print(np.mean(data))\n",
    "print(np.median(data))\n",
    "\n",
    "fig, ax = plt.subplots()\n",
    "_ = ax.hist(data, bins=50, edgecolor='black');\n",
    "\n",
    "ax.axvline(1)"
   ]
  },
  {
   "cell_type": "code",
   "execution_count": 321,
   "metadata": {},
   "outputs": [
    {
     "data": {
      "text/plain": [
       "<matplotlib.lines.Line2D at 0x1a2fb65dd8>"
      ]
     },
     "execution_count": 321,
     "metadata": {},
     "output_type": "execute_result"
    },
    {
     "data": {
      "image/png": "[encoded data removed]",
      "text/plain": [
       "<Figure size 432x288 with 1 Axes>"
      ]
     },
     "metadata": {
      "needs_background": "light"
     },
     "output_type": "display_data"
    }
   ],
   "source": [
    "%matplotlib inline\n",
    "\n",
    "data = skewnorm.rvs(20, size=1000)\n",
    "density = stats.gaussian_kde(noise)\n",
    "mean = np.mean(data)\n",
    "median = np.median(data)\n",
    "\n",
    "fig, ax = plt.subplots()\n",
    "n, x, _ = ax.hist(data, bins=50, density=True, edgecolor='black')  \n",
    "ax.plot(x, density(x))\n",
    "ax.axvline(mean, color='red')\n",
    "ax.axvline(median, color='green')"
   ]
  },
  {
   "cell_type": "code",
   "execution_count": 322,
   "metadata": {},
   "outputs": [
    {
     "name": "stdout",
     "output_type": "stream",
     "text": [
      "(0.7714451906907809, 0.8480109036057044)\n",
      "0.8097280471482426\n"
     ]
    }
   ],
   "source": [
    "lower, upper = stats.t.interval(1 - 0.05, len(data) - 1, loc=np.mean(data), scale=stats.sem(data))\n",
    "mean = np.mean(data)\n",
    "\n",
    "print((lower, upper))\n",
    "print(mean)"
   ]
  },
  {
   "cell_type": "code",
   "execution_count": 323,
   "metadata": {},
   "outputs": [],
   "source": [
    "incre = 5\n",
    "temp, lmbda = stats.boxcox(data + incre)\n",
    "\n",
    "lower_b, upper_b = stats.t.interval(1 - 0.05, len(temp) - 1, loc=np.mean(temp), scale=stats.sem(temp))\n",
    "\n",
    "lower_b, upper_b = inv_boxcox(lower_b, lmbda), inv_boxcox(upper_b, lmbda)\n",
    "mean_b = inv_boxcox(mean, lmbda)"
   ]
  },
  {
   "cell_type": "code",
   "execution_count": 324,
   "metadata": {},
   "outputs": [
    {
     "name": "stdout",
     "output_type": "stream",
     "text": [
      "(0.6609200748348814, 0.7272585524637014)\n"
     ]
    }
   ],
   "source": [
    "print((lower_b - incre, upper_b - incre))"
   ]
  },
  {
   "cell_type": "code",
   "execution_count": 330,
   "metadata": {},
   "outputs": [
    {
     "data": {
      "image/png": "[encoded data removed]",
      "text/plain": [
       "<Figure size 432x288 with 1 Axes>"
      ]
     },
     "metadata": {
      "needs_background": "light"
     },
     "output_type": "display_data"
    },
    {
     "data": {
      "image/png": "[encoded data removed]",
      "text/plain": [
       "<Figure size 432x288 with 1 Axes>"
      ]
     },
     "metadata": {
      "needs_background": "light"
     },
     "output_type": "display_data"
    }
   ],
   "source": [
    "plt.hist(temp, density=True, bins='auto');\n",
    "fig, ax = plt.subplots()\n",
    "prob = stats.probplot(temp, dist=stats.norm, plot=ax)"
   ]
  },
  {
   "cell_type": "code",
   "execution_count": 290,
   "metadata": {},
   "outputs": [],
   "source": [
    "from scipy.special import inv_boxcox"
   ]
  },
  {
   "cell_type": "code",
   "execution_count": 292,
   "metadata": {},
   "outputs": [
    {
     "name": "stdout",
     "output_type": "stream",
     "text": [
      "0.7418236409304393 0.796416903031344\n",
      "0.7675645387929715\n"
     ]
    }
   ],
   "source": [
    "from sklearn.utils import resample\n",
    "\n",
    "boots = np.array([resample(data, replace=True) for _ in range(100)])\n",
    "a = sorted(np.mean(boots, axis=1))\n",
    "print(a[5], a[95])\n",
    "print(a[50])"
   ]
  },
  {
   "cell_type": "code",
   "execution_count": 331,
   "metadata": {},
   "outputs": [],
   "source": [
    "# sample data generation\n",
    "np.random.seed(42)\n",
    "data = sorted(stats.lognorm.rvs(s=0.5, loc=1, scale=1000, size=1000))\n",
    "\n",
    "# fit lognormal distribution\n",
    "shape, loc, scale = stats.lognorm.fit(data, loc=0)\n",
    "pdf_lognorm = stats.lognorm.pdf(data, shape, loc, scale)"
   ]
  },
  {
   "cell_type": "code",
   "execution_count": 333,
   "metadata": {},
   "outputs": [
    {
     "data": {
      "image/png": "[encoded data removed]",
      "text/plain": [
       "<Figure size 432x288 with 1 Axes>"
      ]
     },
     "metadata": {
      "needs_background": "light"
     },
     "output_type": "display_data"
    },
    {
     "data": {
      "image/png": "[encoded data removed]",
      "text/plain": [
       "<Figure size 432x288 with 1 Axes>"
      ]
     },
     "metadata": {
      "needs_background": "light"
     },
     "output_type": "display_data"
    }
   ],
   "source": [
    "plt.plot(data, pdf_lognorm)\n",
    "plt.hist(data, density=True, bins='auto');\n",
    "\n",
    "plt.hist(data, density=True, bins='auto');\n",
    "fig, ax = plt.subplots()\n",
    "prob = stats.probplot(data, dist=stats.norm, plot=ax)"
   ]
  },
  {
   "cell_type": "code",
   "execution_count": null,
   "metadata": {},
   "outputs": [],
   "source": []
  },
  {
   "cell_type": "code",
   "execution_count": 334,
   "metadata": {},
   "outputs": [
    {
     "name": "stdout",
     "output_type": "stream",
     "text": [
      "1117.553360410937 1168.6710419552019\n",
      "1142.8236697715936\n"
     ]
    }
   ],
   "source": [
    "from sklearn.utils import resample\n",
    "\n",
    "boots = np.array([resample(data, replace=True) for _ in range(100)])\n",
    "a = sorted(np.mean(boots, axis=1))\n",
    "print(a[5], a[95])\n",
    "print(a[50])"
   ]
  },
  {
   "cell_type": "code",
   "execution_count": 335,
   "metadata": {},
   "outputs": [
    {
     "name": "stdout",
     "output_type": "stream",
     "text": [
      "(1103.6610566132003, 1180.2601663391847)\n",
      "1141.9606114761925\n"
     ]
    }
   ],
   "source": [
    "lower, upper = stats.t.interval(1 - 0.05, len(data) - 1, loc=np.mean(data), scale=stats.sem(data))\n",
    "mean = np.mean(data)\n",
    "\n",
    "print((lower, upper))\n",
    "print(mean)"
   ]
  },
  {
   "cell_type": "code",
   "execution_count": null,
   "metadata": {},
   "outputs": [],
   "source": []
  },
  {
   "cell_type": "markdown",
   "metadata": {},
   "source": [
    "## Measure of central tendency\n",
    "\n",
    "The median is usually preferred to other measures of central tendency when your data set is skewed (i.e., forms a skewed distribution) or you are dealing with ordinal data.\n",
    "\n",
    "It is usually inappropriate to use the mean in such situations where your data is skewed. You would normally choose the median or mode, with the median usually preferred."
   ]
  },
  {
   "cell_type": "code",
   "execution_count": null,
   "metadata": {},
   "outputs": [],
   "source": []
  },
  {
   "cell_type": "code",
   "execution_count": null,
   "metadata": {},
   "outputs": [],
   "source": []
  },
  {
   "cell_type": "markdown",
   "metadata": {},
   "source": [
    "## Robustness of confidence interval to non-normality\n",
    "\n",
    "All of the discussions above assume normality of data set. Conclusions drawn from confidence intervals and hypothesis testing may be inaccurate, or completely wrong if the underlying assumptions are not met. This sections discusses why the assumption of normality is important, robustness of statistical estimations in regards to deviation from normality, and non-parametric alternatives.\n",
    "\n",
    "### Measuring central tendency of distributions\n",
    "\n",
    "We discussed how to compute <a href=\"#conf_int_of_mean\">confidence interval of mean</a> and <a href=\"#conf_int_of_diff_in_mean\">confidence interval of difference in means.</a> But have you thought about why statisticians bother specifically about the means? The ultimate goal is not to compute a <i>mean</i> of distributions, but to compute a <i>measure of central tendency</i> of distributions. \n",
    "\n",
    "A measure of central tendency is a single value that attempts to describe a set of data by identifying the central position within that set of data. As such, measures of central tendency are sometimes called measures of central location. The mean is the measure of central tendency that you are the most familiar with, but there are others, such as the median and the mode.\n",
    "\n",
    "\n",
    "### Robustness of confidence interval of mean\n",
    "### Robustness of confidence interval of variance\n",
    "\n",
    "## Non-parametric alternatives"
   ]
  },
  {
   "cell_type": "code",
   "execution_count": null,
   "metadata": {},
   "outputs": [],
   "source": []
  },
  {
   "cell_type": "code",
   "execution_count": null,
   "metadata": {},
   "outputs": [],
   "source": []
  },
  {
   "cell_type": "markdown",
   "metadata": {},
   "source": [
    "1. Is it for point estimation?\n",
    "    - \n",
    "2. Is it for hypothesis testing?\n",
    "3. \n",
    "\n",
    "The t tends to have reasonably good power relative to the Mann-Whitney for light-tailed distributions ... and can have really bad power for heavy-tailed ones. Skewness tends to be compounded with heavy tails\n",
    "\n",
    "T-test is robust to mild skewness, that is, mild non-normality. \n",
    "\n",
    " have to note that all of the knowledge I just imparted is somewhat obsolete; now that we have computers, we can do better than t-tests. As Frank notes, you probably want to use Wilcoxon tests anywhere you were taught to run a t-test."
   ]
  },
  {
   "cell_type": "markdown",
   "metadata": {},
   "source": [
    "\n",
    "<div id=\"\"></div>\n",
    "<div class=\"alert alert-info\">\n",
    "    <h4>Notes: Robustness of confidence interval to non-normality</h4>\n",
    "    <p>t-test is fairly resistent to moderate deviations from normality\n",
    "        \n",
    "        If distribution is unacceptably not normal, use confidence interval of median, but only if your goal is to compare central tendency. \n",
    "\n",
    "Overall, the two sample t-test is reasonably power-robust to symmetric non-normality\n",
    "\n",
    "When the two samples are mildly skew in the same direction, the one-tailed t-test is no longer unbiased.\n",
    "\n",
    "Confidence interval of mean can stand some violation of normality. But confidecne interval of variance is very susceptible. \n",
    "\n",
    "</p>\n",
    "    <p></p>\n",
    "</div>"
   ]
  },
  {
   "cell_type": "markdown",
   "metadata": {},
   "source": [
    "# Sample Sizes\n",
    "\n",
    "Illustrate confidence intervals of every stats, with previously given s, mu. "
   ]
  },
  {
   "cell_type": "markdown",
   "metadata": {},
   "source": [
    "This comparison helps to determine how likely the difference between the means occurred by chance or whether the data sets really have intrinsic differences. The t-test questions whether the difference between the groups represents a true difference in the study or if it is likely a meaningless statistical difference."
   ]
  },
  {
   "cell_type": "markdown",
   "metadata": {},
   "source": [
    "### Python confidence interval of difference in means\n",
    "\n",
    "https://stackoverflow.com/questions/31768464/confidence-interval-for-t-test-difference-between-means-in-python/34516534#34516534"
   ]
  },
  {
   "cell_type": "markdown",
   "metadata": {},
   "source": [
    "# Power of non-parametric methods on normal data\n",
    "\n"
   ]
  },
  {
   "cell_type": "markdown",
   "metadata": {},
   "source": [
    "# Bootstrapping\n",
    "\n",
    "CLT does not apply to how many resampling you do. It applied only on the original dataset. "
   ]
  },
  {
   "cell_type": "code",
   "execution_count": null,
   "metadata": {},
   "outputs": [],
   "source": []
  },
  {
   "cell_type": "code",
   "execution_count": 29,
   "metadata": {},
   "outputs": [
    {
     "data": {
      "text/plain": [
       "8.181868181125685e-05"
      ]
     },
     "execution_count": 29,
     "metadata": {},
     "output_type": "execute_result"
    }
   ],
   "source": [
    "np.var(y)"
   ]
  },
  {
   "cell_type": "code",
   "execution_count": 30,
   "metadata": {},
   "outputs": [
    {
     "data": {
      "text/plain": [
       "8.181868181125686e-05"
      ]
     },
     "execution_count": 30,
     "metadata": {},
     "output_type": "execute_result"
    }
   ],
   "source": [
    "np.var(y2)"
   ]
  },
  {
   "cell_type": "code",
   "execution_count": 22,
   "metadata": {},
   "outputs": [
    {
     "data": {
      "text/plain": [
       "[<matplotlib.lines.Line2D at 0x1116c29b0>,\n",
       " <matplotlib.lines.Line2D at 0x1a2562d198>]"
      ]
     },
     "execution_count": 22,
     "metadata": {},
     "output_type": "execute_result"
    },
    {
     "data": {
      "image/png": "[encoded data removed]",
      "text/plain": [
       "<Figure size 576x432 with 1 Axes>"
      ]
     },
     "metadata": {
      "needs_background": "light"
     },
     "output_type": "display_data"
    }
   ],
   "source": [
    "\n",
    "\n",
    "x = np.arange (0, 100, 0.1)\n",
    "y = stats.beta.pdf(x, a=2, b=5, loc=0, scale=100)\n",
    "\n",
    "x2 = np.arange (0, 100, 0.1)\n",
    "y2 = stats.beta.pdf(x, a=5, b=2, loc=0, scale=100)\n",
    "\n",
    "fig, ax = plt.subplots(figsize=(8, 6))\n",
    "\n",
    "ax.plot(x, y, x2, y2, linewidth=4)"
   ]
  },
  {
   "cell_type": "code",
   "execution_count": null,
   "metadata": {},
   "outputs": [],
   "source": []
  },
  {
   "cell_type": "code",
   "execution_count": null,
   "metadata": {},
   "outputs": [],
   "source": []
  },
  {
   "cell_type": "code",
   "execution_count": null,
   "metadata": {},
   "outputs": [],
   "source": []
  },
  {
   "cell_type": "markdown",
   "metadata": {},
   "source": [
    "# One-tail vs Two-tail\n",
    "\n",
    "Customer: wants at least 355 ml in water\n",
    "$$\\text{Quantity of water} \\geq 355 ml$$\n",
    "\n",
    "Manufacturer: exactly 355 ml\n",
    "$$\\text{Quantity of water} = 355 ml$$\n",
    "\n",
    "Collect 50 bottles, and test our assumption\n",
    "\n",
    "# 1 sample vs 2 samples\n",
    "\n",
    "Am I testing assumption, or the status quo that already exists? -> 1 sample?\n",
    "Am I testing new claim or assertion beyoned what I already know? -> 2 samples?"
   ]
  },
  {
   "cell_type": "markdown",
   "metadata": {},
   "source": [
    "# Frequently Asked Questions\n",
    "\n",
    "1. What is significance level?\n",
    "2. What is confidence level?\n",
    "3. What is standard error?\n",
    "4. What is distribution score?\n",
    "5. What should I do if the sample data is not normally distributed?\n",
    "\n",
    "### CI of lognormal distribution\n",
    "\n",
    "https://amstat.tandfonline.com/doi/full/10.1080/10691898.2005.11910638#.XQvVFtNKhQI"
   ]
  },
  {
   "cell_type": "code",
   "execution_count": 25,
   "metadata": {},
   "outputs": [],
   "source": [
    "x1 = [12.9, 10.2, 7.4, 7.0, 10.5, 11.9, 7.1, 9.9, 14.4, 11.3]\n",
    "x2 = [10.2, 6.9, 10.9, 11.0, 10.1, 5.3, 7.5, 10.3, 9.2, 8.8]"
   ]
  },
  {
   "cell_type": "code",
   "execution_count": 26,
   "metadata": {},
   "outputs": [
    {
     "data": {
      "text/plain": [
       "(8.461873578892417, 12.058126421107586)"
      ]
     },
     "execution_count": 26,
     "metadata": {},
     "output_type": "execute_result"
    }
   ],
   "source": [
    "stats.t.interval(1 - 0.05, len(x1) - 1, loc=np.mean(x1), scale=stats.sem(x1))"
   ]
  },
  {
   "cell_type": "code",
   "execution_count": 27,
   "metadata": {},
   "outputs": [
    {
     "data": {
      "text/plain": [
       "(7.663208497074507, 10.376791502925492)"
      ]
     },
     "execution_count": 27,
     "metadata": {},
     "output_type": "execute_result"
    }
   ],
   "source": [
    "stats.t.interval(1 - 0.05, len(x2) - 1, loc=np.mean(x2), scale=stats.sem(x2))"
   ]
  },
  {
   "cell_type": "code",
   "execution_count": 28,
   "metadata": {},
   "outputs": [
    {
     "data": {
      "text/plain": [
       "Ttest_indResult(statistic=1.245268949149111, pvalue=0.23018336828903668)"
      ]
     },
     "execution_count": 28,
     "metadata": {},
     "output_type": "execute_result"
    }
   ],
   "source": [
    "stats.ttest_ind(x1, x2, equal_var=False)"
   ]
  },
  {
   "cell_type": "markdown",
   "metadata": {},
   "source": [
    "A confidence interval's width is due entirely to sampling error. As the sample size approaches the entire population, the width of the confidence interval approaches zero."
   ]
  },
  {
   "cell_type": "markdown",
   "metadata": {},
   "source": [
    "\n",
    "<div><hr></div>\n",
    "\n",
    "Confidence interval has the following general form:\n",
    "\n",
    "<div id=\"eq-1\" style=\"font-size: 1rem;\">$$ \\text{C. I.} = \\text{point estimate} \\pm (\\text{distribution score} \\times \\text{Standard Error}) \\tag{1} $$</div>\n",
    "\n",
    "<div class=\"eq-terms\">\n",
    "    <div class=\"row eq-terms-where\">where</div>\n",
    "    <div class=\"row\">\n",
    "        <div class=\"col-3\"><p>-$D^2$<p></div>\n",
    "        <div class=\"col-9\"><p> description description description description description description description description description<p></div>\n",
    "    </div>\n",
    "    <div class=\"row\">\n",
    "        <div class=\"col-3\">-$D^2$</div>\n",
    "        <div class=\"col-9\">description</div>\n",
    "    </div>    \n",
    "</div>\n",
    "\n",
    "\n",
    "The decision makers always wants to know the uncertainty related to your estimation. \n",
    "\n",
    "This tutorial includes explanation of idea behind C.I., complications that arise when sample data is not normally distributed and solutions for them. For those who don't want to spend more than 2 minutes reading, I included a quick Python code snippets that can generate C.I. for any type of distribution for any type of statistic.\n",
    "\n",
    "**Central Limit Theorem may not always apply**\n",
    "\n",
    "2. Nonnormal data, variance known: If the population distribution is not normal and the sample is 'large enough', then X¯ is approximately normal and the same formula provides an approximate 95% CI. The rule that n≥30 is 'large enough' is unreliable here. If the population distribution is heavy-tailed, then X¯ may not have a distribution that is close to normal (even if n≥30). The 'Central Limit Theorem', often provides reasonable approximations for moderate values of n, but it is a limit theorem, with guaranteed results only as n→∞.\n",
    "\n",
    "Many statistical techniques assume that sample data is normally distributed or Gaussian-like (Ex: t-distribution), and different techniques should be considered for non-normal data set.\n",
    "\n",
    "**Correct vs. Wrong vs. Useful**"
   ]
  },
  {
   "cell_type": "code",
   "execution_count": 4,
   "metadata": {},
   "outputs": [
    {
     "name": "stdout",
     "output_type": "stream",
     "text": [
      "3.375\n",
      "1.4086784586980805\n"
     ]
    }
   ],
   "source": [
    "print(np.mean(a))\n",
    "print(np.std(a))"
   ]
  },
  {
   "cell_type": "markdown",
   "metadata": {},
   "source": [
    "### Extension of Confidence Interval with Bootstrapping"
   ]
  },
  {
   "cell_type": "code",
   "execution_count": 2,
   "metadata": {},
   "outputs": [],
   "source": [
    "from scipy.stats import bayes_mvs"
   ]
  },
  {
   "cell_type": "code",
   "execution_count": 4,
   "metadata": {},
   "outputs": [
    {
     "data": {
      "text/plain": [
       "(Mean(statistic=4.0, minmax=(2.39878883101482, 5.60121116898518)),\n",
       " Variance(statistic=8.0, minmax=(2.8435061229431486, 18.45571858443238)),\n",
       " Std_dev(statistic=2.691341356821504, minmax=(1.686269884372946, 4.296011939512317)))"
      ]
     },
     "execution_count": 4,
     "metadata": {},
     "output_type": "execute_result"
    }
   ],
   "source": [
    "bayes_mvs([1,2,3,5,6,8,5,2])"
   ]
  },
  {
   "cell_type": "code",
   "execution_count": 11,
   "metadata": {
    "scrolled": false
   },
   "outputs": [
    {
     "data": {
      "application/javascript": [
       "/* Put everything inside the global mpl namespace */\n",
       "window.mpl = {};\n",
       "\n",
       "\n",
       "mpl.get_websocket_type = function() {\n",
       "    if (typeof(WebSocket) !== 'undefined') {\n",
       "        return WebSocket;\n",
       "    } else if (typeof(MozWebSocket) !== 'undefined') {\n",
       "        return MozWebSocket;\n",
       "    } else {\n",
       "        alert('Your browser does not have WebSocket support.' +\n",
       "              'Please try Chrome, Safari or Firefox ≥ 6. ' +\n",
       "              'Firefox 4 and 5 are also supported but you ' +\n",
       "              'have to enable WebSockets in about:config.');\n",
       "    };\n",
       "}\n",
       "\n",
       "mpl.figure = function(figure_id, websocket, ondownload, parent_element) {\n",
       "    this.id = figure_id;\n",
       "\n",
       "    this.ws = websocket;\n",
       "\n",
       "    this.supports_binary = (this.ws.binaryType != undefined);\n",
       "\n",
       "    if (!this.supports_binary) {\n",
       "        var warnings = document.getElementById(\"mpl-warnings\");\n",
       "        if (warnings) {\n",
       "            warnings.style.display = 'block';\n",
       "            warnings.textContent = (\n",
       "                \"This browser does not support binary websocket messages. \" +\n",
       "                    \"Performance may be slow.\");\n",
       "        }\n",
       "    }\n",
       "\n",
       "    this.imageObj = new Image();\n",
       "\n",
       "    this.context = undefined;\n",
       "    this.message = undefined;\n",
       "    this.canvas = undefined;\n",
       "    this.rubberband_canvas = undefined;\n",
       "    this.rubberband_context = undefined;\n",
       "    this.format_dropdown = undefined;\n",
       "\n",
       "    this.image_mode = 'full';\n",
       "\n",
       "    this.root = $('<div/>');\n",
       "    this._root_extra_style(this.root)\n",
       "    this.root.attr('style', 'display: inline-block');\n",
       "\n",
       "    $(parent_element).append(this.root);\n",
       "\n",
       "    this._init_header(this);\n",
       "    this._init_canvas(this);\n",
       "    this._init_toolbar(this);\n",
       "\n",
       "    var fig = this;\n",
       "\n",
       "    this.waiting = false;\n",
       "\n",
       "    this.ws.onopen =  function () {\n",
       "            fig.send_message(\"supports_binary\", {value: fig.supports_binary});\n",
       "            fig.send_message(\"send_image_mode\", {});\n",
       "            if (mpl.ratio != 1) {\n",
       "                fig.send_message(\"set_dpi_ratio\", {'dpi_ratio': mpl.ratio});\n",
       "            }\n",
       "            fig.send_message(\"refresh\", {});\n",
       "        }\n",
       "\n",
       "    this.imageObj.onload = function() {\n",
       "            if (fig.image_mode == 'full') {\n",
       "                // Full images could contain transparency (where diff images\n",
       "                // almost always do), so we need to clear the canvas so that\n",
       "                // there is no ghosting.\n",
       "                fig.context.clearRect(0, 0, fig.canvas.width, fig.canvas.height);\n",
       "            }\n",
       "            fig.context.drawImage(fig.imageObj, 0, 0);\n",
       "        };\n",
       "\n",
       "    this.imageObj.onunload = function() {\n",
       "        fig.ws.close();\n",
       "    }\n",
       "\n",
       "    this.ws.onmessage = this._make_on_message_function(this);\n",
       "\n",
       "    this.ondownload = ondownload;\n",
       "}\n",
       "\n",
       "mpl.figure.prototype._init_header = function() {\n",
       "    var titlebar = $(\n",
       "        '<div class=\"ui-dialog-titlebar ui-widget-header ui-corner-all ' +\n",
       "        'ui-helper-clearfix\"/>');\n",
       "    var titletext = $(\n",
       "        '<div class=\"ui-dialog-title\" style=\"width: 100%; ' +\n",
       "        'text-align: center; padding: 3px;\"/>');\n",
       "    titlebar.append(titletext)\n",
       "    this.root.append(titlebar);\n",
       "    this.header = titletext[0];\n",
       "}\n",
       "\n",
       "\n",
       "\n",
       "mpl.figure.prototype._canvas_extra_style = function(canvas_div) {\n",
       "\n",
       "}\n",
       "\n",
       "\n",
       "mpl.figure.prototype._root_extra_style = function(canvas_div) {\n",
       "\n",
       "}\n",
       "\n",
       "mpl.figure.prototype._init_canvas = function() {\n",
       "    var fig = this;\n",
       "\n",
       "    var canvas_div = $('<div/>');\n",
       "\n",
       "    canvas_div.attr('style', 'position: relative; clear: both; outline: 0');\n",
       "\n",
       "    function canvas_keyboard_event(event) {\n",
       "        return fig.key_event(event, event['data']);\n",
       "    }\n",
       "\n",
       "    canvas_div.keydown('key_press', canvas_keyboard_event);\n",
       "    canvas_div.keyup('key_release', canvas_keyboard_event);\n",
       "    this.canvas_div = canvas_div\n",
       "    this._canvas_extra_style(canvas_div)\n",
       "    this.root.append(canvas_div);\n",
       "\n",
       "    var canvas = $('<canvas/>');\n",
       "    canvas.addClass('mpl-canvas');\n",
       "    canvas.attr('style', \"left: 0; top: 0; z-index: 0; outline: 0\")\n",
       "\n",
       "    this.canvas = canvas[0];\n",
       "    this.context = canvas[0].getContext(\"2d\");\n",
       "\n",
       "    var backingStore = this.context.backingStorePixelRatio ||\n",
       "\tthis.context.webkitBackingStorePixelRatio ||\n",
       "\tthis.context.mozBackingStorePixelRatio ||\n",
       "\tthis.context.msBackingStorePixelRatio ||\n",
       "\tthis.context.oBackingStorePixelRatio ||\n",
       "\tthis.context.backingStorePixelRatio || 1;\n",
       "\n",
       "    mpl.ratio = (window.devicePixelRatio || 1) / backingStore;\n",
       "\n",
       "    var rubberband = $('<canvas/>');\n",
       "    rubberband.attr('style', \"position: absolute; left: 0; top: 0; z-index: 1;\")\n",
       "\n",
       "    var pass_mouse_events = true;\n",
       "\n",
       "    canvas_div.resizable({\n",
       "        start: function(event, ui) {\n",
       "            pass_mouse_events = false;\n",
       "        },\n",
       "        resize: function(event, ui) {\n",
       "            fig.request_resize(ui.size.width, ui.size.height);\n",
       "        },\n",
       "        stop: function(event, ui) {\n",
       "            pass_mouse_events = true;\n",
       "            fig.request_resize(ui.size.width, ui.size.height);\n",
       "        },\n",
       "    });\n",
       "\n",
       "    function mouse_event_fn(event) {\n",
       "        if (pass_mouse_events)\n",
       "            return fig.mouse_event(event, event['data']);\n",
       "    }\n",
       "\n",
       "    rubberband.mousedown('button_press', mouse_event_fn);\n",
       "    rubberband.mouseup('button_release', mouse_event_fn);\n",
       "    // Throttle sequential mouse events to 1 every 20ms.\n",
       "    rubberband.mousemove('motion_notify', mouse_event_fn);\n",
       "\n",
       "    rubberband.mouseenter('figure_enter', mouse_event_fn);\n",
       "    rubberband.mouseleave('figure_leave', mouse_event_fn);\n",
       "\n",
       "    canvas_div.on(\"wheel\", function (event) {\n",
       "        event = event.originalEvent;\n",
       "        event['data'] = 'scroll'\n",
       "        if (event.deltaY < 0) {\n",
       "            event.step = 1;\n",
       "        } else {\n",
       "            event.step = -1;\n",
       "        }\n",
       "        mouse_event_fn(event);\n",
       "    });\n",
       "\n",
       "    canvas_div.append(canvas);\n",
       "    canvas_div.append(rubberband);\n",
       "\n",
       "    this.rubberband = rubberband;\n",
       "    this.rubberband_canvas = rubberband[0];\n",
       "    this.rubberband_context = rubberband[0].getContext(\"2d\");\n",
       "    this.rubberband_context.strokeStyle = \"#000000\";\n",
       "\n",
       "    this._resize_canvas = function(width, height) {\n",
       "        // Keep the size of the canvas, canvas container, and rubber band\n",
       "        // canvas in synch.\n",
       "        canvas_div.css('width', width)\n",
       "        canvas_div.css('height', height)\n",
       "\n",
       "        canvas.attr('width', width * mpl.ratio);\n",
       "        canvas.attr('height', height * mpl.ratio);\n",
       "        canvas.attr('style', 'width: ' + width + 'px; height: ' + height + 'px;');\n",
       "\n",
       "        rubberband.attr('width', width);\n",
       "        rubberband.attr('height', height);\n",
       "    }\n",
       "\n",
       "    // Set the figure to an initial 600x600px, this will subsequently be updated\n",
       "    // upon first draw.\n",
       "    this._resize_canvas(600, 600);\n",
       "\n",
       "    // Disable right mouse context menu.\n",
       "    $(this.rubberband_canvas).bind(\"contextmenu\",function(e){\n",
       "        return false;\n",
       "    });\n",
       "\n",
       "    function set_focus () {\n",
       "        canvas.focus();\n",
       "        canvas_div.focus();\n",
       "    }\n",
       "\n",
       "    window.setTimeout(set_focus, 100);\n",
       "}\n",
       "\n",
       "mpl.figure.prototype._init_toolbar = function() {\n",
       "    var fig = this;\n",
       "\n",
       "    var nav_element = $('<div/>')\n",
       "    nav_element.attr('style', 'width: 100%');\n",
       "    this.root.append(nav_element);\n",
       "\n",
       "    // Define a callback function for later on.\n",
       "    function toolbar_event(event) {\n",
       "        return fig.toolbar_button_onclick(event['data']);\n",
       "    }\n",
       "    function toolbar_mouse_event(event) {\n",
       "        return fig.toolbar_button_onmouseover(event['data']);\n",
       "    }\n",
       "\n",
       "    for(var toolbar_ind in mpl.toolbar_items) {\n",
       "        var name = mpl.toolbar_items[toolbar_ind][0];\n",
       "        var tooltip = mpl.toolbar_items[toolbar_ind][1];\n",
       "        var image = mpl.toolbar_items[toolbar_ind][2];\n",
       "        var method_name = mpl.toolbar_items[toolbar_ind][3];\n",
       "\n",
       "        if (!name) {\n",
       "            // put a spacer in here.\n",
       "            continue;\n",
       "        }\n",
       "        var button = $('<button/>');\n",
       "        button.addClass('ui-button ui-widget ui-state-default ui-corner-all ' +\n",
       "                        'ui-button-icon-only');\n",
       "        button.attr('role', 'button');\n",
       "        button.attr('aria-disabled', 'false');\n",
       "        button.click(method_name, toolbar_event);\n",
       "        button.mouseover(tooltip, toolbar_mouse_event);\n",
       "\n",
       "        var icon_img = $('<span/>');\n",
       "        icon_img.addClass('ui-button-icon-primary ui-icon');\n",
       "        icon_img.addClass(image);\n",
       "        icon_img.addClass('ui-corner-all');\n",
       "\n",
       "        var tooltip_span = $('<span/>');\n",
       "        tooltip_span.addClass('ui-button-text');\n",
       "        tooltip_span.html(tooltip);\n",
       "\n",
       "        button.append(icon_img);\n",
       "        button.append(tooltip_span);\n",
       "\n",
       "        nav_element.append(button);\n",
       "    }\n",
       "\n",
       "    var fmt_picker_span = $('<span/>');\n",
       "\n",
       "    var fmt_picker = $('<select/>');\n",
       "    fmt_picker.addClass('mpl-toolbar-option ui-widget ui-widget-content');\n",
       "    fmt_picker_span.append(fmt_picker);\n",
       "    nav_element.append(fmt_picker_span);\n",
       "    this.format_dropdown = fmt_picker[0];\n",
       "\n",
       "    for (var ind in mpl.extensions) {\n",
       "        var fmt = mpl.extensions[ind];\n",
       "        var option = $(\n",
       "            '<option/>', {selected: fmt === mpl.default_extension}).html(fmt);\n",
       "        fmt_picker.append(option)\n",
       "    }\n",
       "\n",
       "    // Add hover states to the ui-buttons\n",
       "    $( \".ui-button\" ).hover(\n",
       "        function() { $(this).addClass(\"ui-state-hover\");},\n",
       "        function() { $(this).removeClass(\"ui-state-hover\");}\n",
       "    );\n",
       "\n",
       "    var status_bar = $('<span class=\"mpl-message\"/>');\n",
       "    nav_element.append(status_bar);\n",
       "    this.message = status_bar[0];\n",
       "}\n",
       "\n",
       "mpl.figure.prototype.request_resize = function(x_pixels, y_pixels) {\n",
       "    // Request matplotlib to resize the figure. Matplotlib will then trigger a resize in the client,\n",
       "    // which will in turn request a refresh of the image.\n",
       "    this.send_message('resize', {'width': x_pixels, 'height': y_pixels});\n",
       "}\n",
       "\n",
       "mpl.figure.prototype.send_message = function(type, properties) {\n",
       "    properties['type'] = type;\n",
       "    properties['figure_id'] = this.id;\n",
       "    this.ws.send(JSON.stringify(properties));\n",
       "}\n",
       "\n",
       "mpl.figure.prototype.send_draw_message = function() {\n",
       "    if (!this.waiting) {\n",
       "        this.waiting = true;\n",
       "        this.ws.send(JSON.stringify({type: \"draw\", figure_id: this.id}));\n",
       "    }\n",
       "}\n",
       "\n",
       "\n",
       "mpl.figure.prototype.handle_save = function(fig, msg) {\n",
       "    var format_dropdown = fig.format_dropdown;\n",
       "    var format = format_dropdown.options[format_dropdown.selectedIndex].value;\n",
       "    fig.ondownload(fig, format);\n",
       "}\n",
       "\n",
       "\n",
       "mpl.figure.prototype.handle_resize = function(fig, msg) {\n",
       "    var size = msg['size'];\n",
       "    if (size[0] != fig.canvas.width || size[1] != fig.canvas.height) {\n",
       "        fig._resize_canvas(size[0], size[1]);\n",
       "        fig.send_message(\"refresh\", {});\n",
       "    };\n",
       "}\n",
       "\n",
       "mpl.figure.prototype.handle_rubberband = function(fig, msg) {\n",
       "    var x0 = msg['x0'] / mpl.ratio;\n",
       "    var y0 = (fig.canvas.height - msg['y0']) / mpl.ratio;\n",
       "    var x1 = msg['x1'] / mpl.ratio;\n",
       "    var y1 = (fig.canvas.height - msg['y1']) / mpl.ratio;\n",
       "    x0 = Math.floor(x0) + 0.5;\n",
       "    y0 = Math.floor(y0) + 0.5;\n",
       "    x1 = Math.floor(x1) + 0.5;\n",
       "    y1 = Math.floor(y1) + 0.5;\n",
       "    var min_x = Math.min(x0, x1);\n",
       "    var min_y = Math.min(y0, y1);\n",
       "    var width = Math.abs(x1 - x0);\n",
       "    var height = Math.abs(y1 - y0);\n",
       "\n",
       "    fig.rubberband_context.clearRect(\n",
       "        0, 0, fig.canvas.width, fig.canvas.height);\n",
       "\n",
       "    fig.rubberband_context.strokeRect(min_x, min_y, width, height);\n",
       "}\n",
       "\n",
       "mpl.figure.prototype.handle_figure_label = function(fig, msg) {\n",
       "    // Updates the figure title.\n",
       "    fig.header.textContent = msg['label'];\n",
       "}\n",
       "\n",
       "mpl.figure.prototype.handle_cursor = function(fig, msg) {\n",
       "    var cursor = msg['cursor'];\n",
       "    switch(cursor)\n",
       "    {\n",
       "    case 0:\n",
       "        cursor = 'pointer';\n",
       "        break;\n",
       "    case 1:\n",
       "        cursor = 'default';\n",
       "        break;\n",
       "    case 2:\n",
       "        cursor = 'crosshair';\n",
       "        break;\n",
       "    case 3:\n",
       "        cursor = 'move';\n",
       "        break;\n",
       "    }\n",
       "    fig.rubberband_canvas.style.cursor = cursor;\n",
       "}\n",
       "\n",
       "mpl.figure.prototype.handle_message = function(fig, msg) {\n",
       "    fig.message.textContent = msg['message'];\n",
       "}\n",
       "\n",
       "mpl.figure.prototype.handle_draw = function(fig, msg) {\n",
       "    // Request the server to send over a new figure.\n",
       "    fig.send_draw_message();\n",
       "}\n",
       "\n",
       "mpl.figure.prototype.handle_image_mode = function(fig, msg) {\n",
       "    fig.image_mode = msg['mode'];\n",
       "}\n",
       "\n",
       "mpl.figure.prototype.updated_canvas_event = function() {\n",
       "    // Called whenever the canvas gets updated.\n",
       "    this.send_message(\"ack\", {});\n",
       "}\n",
       "\n",
       "// A function to construct a web socket function for onmessage handling.\n",
       "// Called in the figure constructor.\n",
       "mpl.figure.prototype._make_on_message_function = function(fig) {\n",
       "    return function socket_on_message(evt) {\n",
       "        if (evt.data instanceof Blob) {\n",
       "            /* FIXME: We get \"Resource interpreted as Image but\n",
       "             * transferred with MIME type text/plain:\" errors on\n",
       "             * Chrome.  But how to set the MIME type?  It doesn't seem\n",
       "             * to be part of the websocket stream */\n",
       "            evt.data.type = \"image/png\";\n",
       "\n",
       "            /* Free the memory for the previous frames */\n",
       "            if (fig.imageObj.src) {\n",
       "                (window.URL || window.webkitURL).revokeObjectURL(\n",
       "                    fig.imageObj.src);\n",
       "            }\n",
       "\n",
       "            fig.imageObj.src = (window.URL || window.webkitURL).createObjectURL(\n",
       "                evt.data);\n",
       "            fig.updated_canvas_event();\n",
       "            fig.waiting = false;\n",
       "            return;\n",
       "        }\n",
       "        else if (typeof evt.data === 'string' && evt.data.slice(0, 21) == \"data:image/png;base64\") {\n",
       "            fig.imageObj.src = evt.data;\n",
       "            fig.updated_canvas_event();\n",
       "            fig.waiting = false;\n",
       "            return;\n",
       "        }\n",
       "\n",
       "        var msg = JSON.parse(evt.data);\n",
       "        var msg_type = msg['type'];\n",
       "\n",
       "        // Call the  \"handle_{type}\" callback, which takes\n",
       "        // the figure and JSON message as its only arguments.\n",
       "        try {\n",
       "            var callback = fig[\"handle_\" + msg_type];\n",
       "        } catch (e) {\n",
       "            console.log(\"No handler for the '\" + msg_type + \"' message type: \", msg);\n",
       "            return;\n",
       "        }\n",
       "\n",
       "        if (callback) {\n",
       "            try {\n",
       "                // console.log(\"Handling '\" + msg_type + \"' message: \", msg);\n",
       "                callback(fig, msg);\n",
       "            } catch (e) {\n",
       "                console.log(\"Exception inside the 'handler_\" + msg_type + \"' callback:\", e, e.stack, msg);\n",
       "            }\n",
       "        }\n",
       "    };\n",
       "}\n",
       "\n",
       "// from http://stackoverflow.com/questions/1114465/getting-mouse-location-in-canvas\n",
       "mpl.findpos = function(e) {\n",
       "    //this section is from http://www.quirksmode.org/js/events_properties.html\n",
       "    var targ;\n",
       "    if (!e)\n",
       "        e = window.event;\n",
       "    if (e.target)\n",
       "        targ = e.target;\n",
       "    else if (e.srcElement)\n",
       "        targ = e.srcElement;\n",
       "    if (targ.nodeType == 3) // defeat Safari bug\n",
       "        targ = targ.parentNode;\n",
       "\n",
       "    // jQuery normalizes the pageX and pageY\n",
       "    // pageX,Y are the mouse positions relative to the document\n",
       "    // offset() returns the position of the element relative to the document\n",
       "    var x = e.pageX - $(targ).offset().left;\n",
       "    var y = e.pageY - $(targ).offset().top;\n",
       "\n",
       "    return {\"x\": x, \"y\": y};\n",
       "};\n",
       "\n",
       "/*\n",
       " * return a copy of an object with only non-object keys\n",
       " * we need this to avoid circular references\n",
       " * http://stackoverflow.com/a/24161582/3208463\n",
       " */\n",
       "function simpleKeys (original) {\n",
       "  return Object.keys(original).reduce(function (obj, key) {\n",
       "    if (typeof original[key] !== 'object')\n",
       "        obj[key] = original[key]\n",
       "    return obj;\n",
       "  }, {});\n",
       "}\n",
       "\n",
       "mpl.figure.prototype.mouse_event = function(event, name) {\n",
       "    var canvas_pos = mpl.findpos(event)\n",
       "\n",
       "    if (name === 'button_press')\n",
       "    {\n",
       "        this.canvas.focus();\n",
       "        this.canvas_div.focus();\n",
       "    }\n",
       "\n",
       "    var x = canvas_pos.x * mpl.ratio;\n",
       "    var y = canvas_pos.y * mpl.ratio;\n",
       "\n",
       "    this.send_message(name, {x: x, y: y, button: event.button,\n",
       "                             step: event.step,\n",
       "                             guiEvent: simpleKeys(event)});\n",
       "\n",
       "    /* This prevents the web browser from automatically changing to\n",
       "     * the text insertion cursor when the button is pressed.  We want\n",
       "     * to control all of the cursor setting manually through the\n",
       "     * 'cursor' event from matplotlib */\n",
       "    event.preventDefault();\n",
       "    return false;\n",
       "}\n",
       "\n",
       "mpl.figure.prototype._key_event_extra = function(event, name) {\n",
       "    // Handle any extra behaviour associated with a key event\n",
       "}\n",
       "\n",
       "mpl.figure.prototype.key_event = function(event, name) {\n",
       "\n",
       "    // Prevent repeat events\n",
       "    if (name == 'key_press')\n",
       "    {\n",
       "        if (event.which === this._key)\n",
       "            return;\n",
       "        else\n",
       "            this._key = event.which;\n",
       "    }\n",
       "    if (name == 'key_release')\n",
       "        this._key = null;\n",
       "\n",
       "    var value = '';\n",
       "    if (event.ctrlKey && event.which != 17)\n",
       "        value += \"ctrl+\";\n",
       "    if (event.altKey && event.which != 18)\n",
       "        value += \"alt+\";\n",
       "    if (event.shiftKey && event.which != 16)\n",
       "        value += \"shift+\";\n",
       "\n",
       "    value += 'k';\n",
       "    value += event.which.toString();\n",
       "\n",
       "    this._key_event_extra(event, name);\n",
       "\n",
       "    this.send_message(name, {key: value,\n",
       "                             guiEvent: simpleKeys(event)});\n",
       "    return false;\n",
       "}\n",
       "\n",
       "mpl.figure.prototype.toolbar_button_onclick = function(name) {\n",
       "    if (name == 'download') {\n",
       "        this.handle_save(this, null);\n",
       "    } else {\n",
       "        this.send_message(\"toolbar_button\", {name: name});\n",
       "    }\n",
       "};\n",
       "\n",
       "mpl.figure.prototype.toolbar_button_onmouseover = function(tooltip) {\n",
       "    this.message.textContent = tooltip;\n",
       "};\n",
       "mpl.toolbar_items = [[\"Home\", \"Reset original view\", \"fa fa-home icon-home\", \"home\"], [\"Back\", \"Back to  previous view\", \"fa fa-arrow-left icon-arrow-left\", \"back\"], [\"Forward\", \"Forward to next view\", \"fa fa-arrow-right icon-arrow-right\", \"forward\"], [\"\", \"\", \"\", \"\"], [\"Pan\", \"Pan axes with left mouse, zoom with right\", \"fa fa-arrows icon-move\", \"pan\"], [\"Zoom\", \"Zoom to rectangle\", \"fa fa-square-o icon-check-empty\", \"zoom\"], [\"\", \"\", \"\", \"\"], [\"Download\", \"Download plot\", \"fa fa-floppy-o icon-save\", \"download\"]];\n",
       "\n",
       "mpl.extensions = [\"eps\", \"jpeg\", \"pdf\", \"png\", \"ps\", \"raw\", \"svg\", \"tif\"];\n",
       "\n",
       "mpl.default_extension = \"png\";var comm_websocket_adapter = function(comm) {\n",
       "    // Create a \"websocket\"-like object which calls the given IPython comm\n",
       "    // object with the appropriate methods. Currently this is a non binary\n",
       "    // socket, so there is still some room for performance tuning.\n",
       "    var ws = {};\n",
       "\n",
       "    ws.close = function() {\n",
       "        comm.close()\n",
       "    };\n",
       "    ws.send = function(m) {\n",
       "        //console.log('sending', m);\n",
       "        comm.send(m);\n",
       "    };\n",
       "    // Register the callback with on_msg.\n",
       "    comm.on_msg(function(msg) {\n",
       "        //console.log('receiving', msg['content']['data'], msg);\n",
       "        // Pass the mpl event to the overridden (by mpl) onmessage function.\n",
       "        ws.onmessage(msg['content']['data'])\n",
       "    });\n",
       "    return ws;\n",
       "}\n",
       "\n",
       "mpl.mpl_figure_comm = function(comm, msg) {\n",
       "    // This is the function which gets called when the mpl process\n",
       "    // starts-up an IPython Comm through the \"matplotlib\" channel.\n",
       "\n",
       "    var id = msg.content.data.id;\n",
       "    // Get hold of the div created by the display call when the Comm\n",
       "    // socket was opened in Python.\n",
       "    var element = $(\"#\" + id);\n",
       "    var ws_proxy = comm_websocket_adapter(comm)\n",
       "\n",
       "    function ondownload(figure, format) {\n",
       "        window.open(figure.imageObj.src);\n",
       "    }\n",
       "\n",
       "    var fig = new mpl.figure(id, ws_proxy,\n",
       "                           ondownload,\n",
       "                           element.get(0));\n",
       "\n",
       "    // Call onopen now - mpl needs it, as it is assuming we've passed it a real\n",
       "    // web socket which is closed, not our websocket->open comm proxy.\n",
       "    ws_proxy.onopen();\n",
       "\n",
       "    fig.parent_element = element.get(0);\n",
       "    fig.cell_info = mpl.find_output_cell(\"<div id='\" + id + \"'></div>\");\n",
       "    if (!fig.cell_info) {\n",
       "        console.error(\"Failed to find cell for figure\", id, fig);\n",
       "        return;\n",
       "    }\n",
       "\n",
       "    var output_index = fig.cell_info[2]\n",
       "    var cell = fig.cell_info[0];\n",
       "\n",
       "};\n",
       "\n",
       "mpl.figure.prototype.handle_close = function(fig, msg) {\n",
       "    var width = fig.canvas.width/mpl.ratio\n",
       "    fig.root.unbind('remove')\n",
       "\n",
       "    // Update the output cell to use the data from the current canvas.\n",
       "    fig.push_to_output();\n",
       "    var dataURL = fig.canvas.toDataURL();\n",
       "    // Re-enable the keyboard manager in IPython - without this line, in FF,\n",
       "    // the notebook keyboard shortcuts fail.\n",
       "    IPython.keyboard_manager.enable()\n",
       "    $(fig.parent_element).html('<img src=\"' + dataURL + '\" width=\"' + width + '\">');\n",
       "    fig.close_ws(fig, msg);\n",
       "}\n",
       "\n",
       "mpl.figure.prototype.close_ws = function(fig, msg){\n",
       "    fig.send_message('closing', msg);\n",
       "    // fig.ws.close()\n",
       "}\n",
       "\n",
       "mpl.figure.prototype.push_to_output = function(remove_interactive) {\n",
       "    // Turn the data on the canvas into data in the output cell.\n",
       "    var width = this.canvas.width/mpl.ratio\n",
       "    var dataURL = this.canvas.toDataURL();\n",
       "    this.cell_info[1]['text/html'] = '<img src=\"' + dataURL + '\" width=\"' + width + '\">';\n",
       "}\n",
       "\n",
       "mpl.figure.prototype.updated_canvas_event = function() {\n",
       "    // Tell IPython that the notebook contents must change.\n",
       "    IPython.notebook.set_dirty(true);\n",
       "    this.send_message(\"ack\", {});\n",
       "    var fig = this;\n",
       "    // Wait a second, then push the new image to the DOM so\n",
       "    // that it is saved nicely (might be nice to debounce this).\n",
       "    setTimeout(function () { fig.push_to_output() }, 1000);\n",
       "}\n",
       "\n",
       "mpl.figure.prototype._init_toolbar = function() {\n",
       "    var fig = this;\n",
       "\n",
       "    var nav_element = $('<div/>')\n",
       "    nav_element.attr('style', 'width: 100%');\n",
       "    this.root.append(nav_element);\n",
       "\n",
       "    // Define a callback function for later on.\n",
       "    function toolbar_event(event) {\n",
       "        return fig.toolbar_button_onclick(event['data']);\n",
       "    }\n",
       "    function toolbar_mouse_event(event) {\n",
       "        return fig.toolbar_button_onmouseover(event['data']);\n",
       "    }\n",
       "\n",
       "    for(var toolbar_ind in mpl.toolbar_items){\n",
       "        var name = mpl.toolbar_items[toolbar_ind][0];\n",
       "        var tooltip = mpl.toolbar_items[toolbar_ind][1];\n",
       "        var image = mpl.toolbar_items[toolbar_ind][2];\n",
       "        var method_name = mpl.toolbar_items[toolbar_ind][3];\n",
       "\n",
       "        if (!name) { continue; };\n",
       "\n",
       "        var button = $('<button class=\"btn btn-default\" href=\"#\" title=\"' + name + '\"><i class=\"fa ' + image + ' fa-lg\"></i></button>');\n",
       "        button.click(method_name, toolbar_event);\n",
       "        button.mouseover(tooltip, toolbar_mouse_event);\n",
       "        nav_element.append(button);\n",
       "    }\n",
       "\n",
       "    // Add the status bar.\n",
       "    var status_bar = $('<span class=\"mpl-message\" style=\"text-align:right; float: right;\"/>');\n",
       "    nav_element.append(status_bar);\n",
       "    this.message = status_bar[0];\n",
       "\n",
       "    // Add the close button to the window.\n",
       "    var buttongrp = $('<div class=\"btn-group inline pull-right\"></div>');\n",
       "    var button = $('<button class=\"btn btn-mini btn-primary\" href=\"#\" title=\"Stop Interaction\"><i class=\"fa fa-power-off icon-remove icon-large\"></i></button>');\n",
       "    button.click(function (evt) { fig.handle_close(fig, {}); } );\n",
       "    button.mouseover('Stop Interaction', toolbar_mouse_event);\n",
       "    buttongrp.append(button);\n",
       "    var titlebar = this.root.find($('.ui-dialog-titlebar'));\n",
       "    titlebar.prepend(buttongrp);\n",
       "}\n",
       "\n",
       "mpl.figure.prototype._root_extra_style = function(el){\n",
       "    var fig = this\n",
       "    el.on(\"remove\", function(){\n",
       "\tfig.close_ws(fig, {});\n",
       "    });\n",
       "}\n",
       "\n",
       "mpl.figure.prototype._canvas_extra_style = function(el){\n",
       "    // this is important to make the div 'focusable\n",
       "    el.attr('tabindex', 0)\n",
       "    // reach out to IPython and tell the keyboard manager to turn it's self\n",
       "    // off when our div gets focus\n",
       "\n",
       "    // location in version 3\n",
       "    if (IPython.notebook.keyboard_manager) {\n",
       "        IPython.notebook.keyboard_manager.register_events(el);\n",
       "    }\n",
       "    else {\n",
       "        // location in version 2\n",
       "        IPython.keyboard_manager.register_events(el);\n",
       "    }\n",
       "\n",
       "}\n",
       "\n",
       "mpl.figure.prototype._key_event_extra = function(event, name) {\n",
       "    var manager = IPython.notebook.keyboard_manager;\n",
       "    if (!manager)\n",
       "        manager = IPython.keyboard_manager;\n",
       "\n",
       "    // Check for shift+enter\n",
       "    if (event.shiftKey && event.which == 13) {\n",
       "        this.canvas_div.blur();\n",
       "        event.shiftKey = false;\n",
       "        // Send a \"J\" for go to next cell\n",
       "        event.which = 74;\n",
       "        event.keyCode = 74;\n",
       "        manager.command_mode();\n",
       "        manager.handle_keydown(event);\n",
       "    }\n",
       "}\n",
       "\n",
       "mpl.figure.prototype.handle_save = function(fig, msg) {\n",
       "    fig.ondownload(fig, null);\n",
       "}\n",
       "\n",
       "\n",
       "mpl.find_output_cell = function(html_output) {\n",
       "    // Return the cell and output element which can be found *uniquely* in the notebook.\n",
       "    // Note - this is a bit hacky, but it is done because the \"notebook_saving.Notebook\"\n",
       "    // IPython event is triggered only after the cells have been serialised, which for\n",
       "    // our purposes (turning an active figure into a static one), is too late.\n",
       "    var cells = IPython.notebook.get_cells();\n",
       "    var ncells = cells.length;\n",
       "    for (var i=0; i<ncells; i++) {\n",
       "        var cell = cells[i];\n",
       "        if (cell.cell_type === 'code'){\n",
       "            for (var j=0; j<cell.output_area.outputs.length; j++) {\n",
       "                var data = cell.output_area.outputs[j];\n",
       "                if (data.data) {\n",
       "                    // IPython >= 3 moved mimebundle to data attribute of output\n",
       "                    data = data.data;\n",
       "                }\n",
       "                if (data['text/html'] == html_output) {\n",
       "                    return [cell, data, j];\n",
       "                }\n",
       "            }\n",
       "        }\n",
       "    }\n",
       "}\n",
       "\n",
       "// Register the function which deals with the matplotlib target/channel.\n",
       "// The kernel may be null if the page has been refreshed.\n",
       "if (IPython.notebook.kernel != null) {\n",
       "    IPython.notebook.kernel.comm_manager.register_target('matplotlib', mpl.mpl_figure_comm);\n",
       "}\n"
      ],
      "text/plain": [
       "<IPython.core.display.Javascript object>"
      ]
     },
     "metadata": {},
     "output_type": "display_data"
    },
    {
     "data": {
      "text/html": [
       "<img src=\"data:image/png;base64,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\" width=\"800\">"
      ],
      "text/plain": [
       "<IPython.core.display.HTML object>"
      ]
     },
     "metadata": {},
     "output_type": "display_data"
    },
    {
     "data": {
      "text/plain": [
       "<matplotlib.collections.PolyCollection at 0x25efc5ea5c0>"
      ]
     },
     "execution_count": 11,
     "metadata": {},
     "output_type": "execute_result"
    }
   ],
   "source": [
    "from scipy.stats import truncnorm\n",
    "import matplotlib.pyplot as plt\n",
    "%matplotlib notebook\n",
    "\n",
    "def get_truncated_normal(mean=1, sd=1, low=-3, upp=7):\n",
    "    return truncnorm(\n",
    "        (low - mean) / sd, (upp - mean) / sd, loc=mean, scale=sd)\n",
    "\n",
    "\n",
    "X1 = sorted(get_truncated_normal().rvs(10000))\n",
    "mean, std = stats.norm.fit(X1, loc=0)\n",
    "pdf_norm = stats.norm.pdf(X1, mean, std)\n",
    "\n",
    "\n",
    "fig, ax = plt.subplots(figsize=(8, 4))\n",
    "ax.plot(X1, pdf_norm)\n",
    "\n",
    "ax.fill_between(X1, 0, pdf_norm, \n",
    "                where=(np.array(X1)>-1) & (np.array(X1)<=3), \n",
    "                facecolor='lightgrey')\n",
    "# ax.fill_betweenx(pdf_norm, 2, x2=7, interpolate=True)"
   ]
  },
  {
   "cell_type": "markdown",
   "metadata": {},
   "source": [
    "Note: This interval is only exact when the population distribution is normal. For large samples from other population distributions, the interval is approximately correct by the Central Limit Theorem."
   ]
  },
  {
   "cell_type": "markdown",
   "metadata": {},
   "source": [
    "### What is confidence level $1 - \\alpha$?\n",
    "\n",
    "Confidence level is the chance that the statistic value of your interest lies within the interval. A common choice of confidence level include "
   ]
  },
  {
   "cell_type": "markdown",
   "metadata": {},
   "source": [
    "# Simulation Ideas\n",
    "\n",
    "https://stats.stackexchange.com/questions/38967/how-robust-is-the-independent-samples-t-test-when-the-distributions-of-the-sampl"
   ]
  },
  {
   "cell_type": "markdown",
   "metadata": {},
   "source": [
    "## Practical Application - Bayes Approximation"
   ]
  },
  {
   "cell_type": "markdown",
   "metadata": {},
   "source": []
  },
  {
   "cell_type": "markdown",
   "metadata": {},
   "source": [
    "# Kruskal-Wallis\n",
    "\n",
    "Hence, in terms of original values, the Kruskal-Wallis is more general than a comparison of means: it tests whether the probability that a random observation from each group is equally likely to be above or below a random observation from another group. The real data quantity that underlies that comparison is neither the differences in means nor the difference in medians, (in the two sample case) it is actually the median of all pairwise differences - the between-sample Hodges-Lehmann difference."
   ]
  },
  {
   "cell_type": "markdown",
   "metadata": {},
   "source": [
    "# Non-Parametric Methods\n",
    "\n",
    "Very robust under normality too.\n",
    "\n",
    "Non-parametric tests (as Wilcoxon-Mann-Whitney) do not rely on a specific distiribution, but implicitly rely on equal variances: under H0 are all samples from the same population.\n",
    "\n",
    "# Mann-Whitney\n",
    "\n",
    "https://stats.stackexchange.com/questions/31361/some-questions-about-two-sample-comparisons\n",
    "\n",
    "scipy.stats.mannwhitneyu: It returns a \"One-sided p-value assuming a asymptotic normal distribution\" . Why is it assuming a normal distribution? Should't this test work on any underlying distribution?\n",
    "\n",
    "I think the sentence is referring to the large sample (asymptotic) distribution of the test statistic, not the data. As you can see here, the Mann-Whitney U test statistic has an approximate normal distribution when the sample size is large.\n",
    "\n",
    "There's a difference between Mann-Whiteny, and Wilcoxon\n",
    "\n",
    "Mann-Whitney U test works fine with continuous data, I would even say it works best with them because you would avoid ties.\n",
    "\n",
    "When you have heavier-tailed than normal data, it's also typically more powerful than the t-test\n",
    "\n",
    "The median is usually preferred to other measures of central tendency when your data set is skewed (i.e., forms a skewed distribution) or you are dealing with ordinal data.\n",
    "\n",
    "In no way will the difference in sample sizes adversely affect the Mann-Whitney-Wilcoxon test.\n",
    "\n",
    "Valid only when more than 20 samples\n",
    "\n",
    "FYI, Wikipedia adds that, for large samples, 𝑈 is approximately normally distributed. Given all these values, one can also calculate the effect size η2,\n",
    "\n",
    "https://stats.stackexchange.com/questions/67204/what-exactly-does-a-non-parametric-test-accomplish-what-do-you-do-with-the-res/67210#67210\n",
    "\n",
    "This link says that Welch t-test should always be used over Mann-Whitney if your goal is to compare central tendency of two distributions: \n",
    "\n",
    "https://stats.stackexchange.com/questions/313471/always-use-welch-t-test-unequal-variances-t-test-instead-of-student-t-or-mann\n",
    "\n",
    "# Hotelling's T stats\n",
    "\n",
    "https://courses.lumenlearning.com/boundless-statistics/chapter/the-t-test/"
   ]
  },
  {
   "cell_type": "markdown",
   "metadata": {},
   "source": [
    "# Normality testing\n",
    "\n",
    "take a test on the distribution, e.g. Kolmogorov-Smirnov-test. After that you know whether you have a normal or not. then you need to test neither skewness nor curtosis.\n",
    "\n",
    "The values for asymmetry and kurtosis between -2 and +2 are considered acceptable in order to prove normal univariate distribution (George & Mallery, 2010)"
   ]
  },
  {
   "cell_type": "markdown",
   "metadata": {},
   "source": [
    "# F-test\n",
    "\n",
    "For non-normal data, the distribution of the sample variance may deviate substantially from a χ2 distribution. However, if the sample size is large, Slutsky's theorem implies that the distribution of the sample variance has little effect on the distribution of the test statistic."
   ]
  },
  {
   "cell_type": "markdown",
   "metadata": {},
   "source": [
    "# Hypothesis Testing\n",
    "\n",
    " For the unequal variance t test, the null hypothesis is that the two population means are the same but the two population variances may differ. If the P value is large, you don't reject that null hypothesis, so conclude that the evidence does not persuade you that the two population means are different, even though you assume the two populations have (or may have) different standard deviations. What a strange set of assumptions. What would it mean for two populations to have the same mean but different standard deviations? Why would you want to test for that? Swailowsky points out that this situation simply doesn't often come up in science (1). \n",
    "\n",
    "I think the unequal variance t test is more useful when you think about it as a way to create a confidence interval. Your prime goal is not to ask whether two populations differ, but to quantify how far apart the two means are. The unequal variance t test reports a confidence interval for the difference between two means that is usable even if the standard deviations differ.\n",
    "\n",
    "**Single sample vs Two samples**\n",
    "\n",
    "**Two-tailed vs one-tailed**\n",
    "\n",
    "For example, we may wish to compare the mean of a sample to a given value x using a t-test.  Our null hypothesis is that the mean is equal to x. A two-tailed test will test both if the mean is significantly greater than x and if the mean significantly less than x. The mean is considered significantly different from x if the test statistic is in the top 2.5% or bottom 2.5% of its probability distribution, resulting in a p-value less than 0.05\n",
    "\n",
    " Our null hypothesis is that the mean is equal to x. A one-tailed test will test either if the mean is significantly greater than x or if the mean is significantly less than x, but not both. Then, depending on the chosen tail, the mean is significantly greater than or less than x if the test statistic is in the top 5% of its probability distribution or bottom 5% of its probability distribution, resulting in a p-value less than 0.05.  The one-tailed test provides more power to detect an effect in one direction by not testing the effect in the other direction\n",
    " \n",
    "**When is one-tailed appropriate?**\n",
    "\n",
    " Imagine you have developed a new drug that you believe is an improvement over an existing drug.  You wish to maximize your ability to detect the improvement, so you opt for a one-tailed test. In doing so, you fail to test for the possibility that the new drug is less effective than the existing drug. \n",
    " \n",
    " In testing this drug, you are only interested in testing if it less effective than the existing drug.  You do not care if it is significantly more effective.  You only wish to show that it is not less effective. In this scenario, a one-tailed test would be appropriate.\n",
    " \n",
    "https://stackoverflow.com/questions/15984221/how-to-perform-two-sample-one-tailed-t-test-with-numpy-scipy\n",
    "\n",
    "Unqual variance t-test\n",
    "\n",
    "https://www.graphpad.com/support/faqid/1568/\n",
    "\n",
    "https://towardsdatascience.com/kolmogorov-smirnov-test-84c92fb4158d\n",
    "\n",
    "There is an issue with Student’s T-Test, samples must be normal (shaped in a normal distribution). That is an issue for us because we do work a lot with Poisson distributions.\n",
    "\n",
    "# Really good t-test article\n",
    "\n",
    "https://www.investopedia.com/terms/t/t-test.asp\n",
    "\n",
    "# Paired vs unpaired t-test\n",
    "\n",
    "https://www.quora.com/What-is-the-difference-between-a-paired-and-unpaired-t-test\n",
    "\n",
    "\n",
    "# Different Sample Sizes\n",
    "\n",
    "https://stats.stackexchange.com/questions/31326/how-should-one-interpret-the-comparison-of-means-from-different-sample-sizes\n",
    "\n",
    " think of this by analogy. If you want to know the area of a rectangle, and the perimeter is fixed, then the area will be maximized if the length and width are equal (i.e., if the rectangle is a square). On the other hand, as the length and width diverge (as the rectangle becomes elongated), the area shrinks.\n",
    " \n",
    "\n",
    "# Levene's test\n",
    "\n",
    "It tests the null hypothesis that the population variances are equal (called homogeneity of variance or homoscedasticity)\n",
    " \n",
    "# K.S. test\n",
    "\n",
    "My instructor in this topic joked:\n",
    "Kolmogorov-Smirnov is a test for sample size. \n",
    "\n",
    "It has no power in small samples, and intense power, with no particular sensible acceptance of deviations from normal, in large samples.\n",
    "\n",
    "The Kolmogorov-Smirnov (KS) test is used in over 500 refereed papers each year in the astronomical literature.  It is a nonparametric hypothesis test that measures the probability that a chosen univariate dataset is drawn from the same parent population as a second dataset (the two-sample KS test) or a continuous model (the one-sample KS test).\n",
    "\n",
    "It measures the greatest distance between the two CDF's. The underlying population distribution is assumed to be continuous.\n",
    "\n",
    "https://asaip.psu.edu/Articles/beware-the-kolmogorov-smirnov-test\n",
    "\n",
    "*Question:* How good is KS test if sample size is small?\n",
    "\n",
    "even when valid to apply, it is often not very sensitive in establishing distances between two distributions, and a similar EDF-based test gives a better performance. \n",
    "\n",
    "https://stats.stackexchange.com/questions/57885/how-to-interpret-p-value-of-kolmogorov-smirnov-test-python\n",
    "\n",
    "he k-s test returns a D statistic and a p-value corresponding to the D statistic. The D statistic is the absolute max distance (supremum) between the CDFs of the two samples. The closer this number is to 0 the more likely it is that the two samples were drawn from the same distribution. The p-value returned by the k-s test has the same interpretation as other p-values. You reject the null hypothesis that the two samples were drawn from the same distribution if the p-value is less than your significance level.\n",
    "\n",
    "**Best when comparing two non-parametric samples**\n",
    "\n",
    "But less powerful when comparing to reference distribution, like normal distribution.\n",
    "\n",
    "Shapiro-Wilk is known to be bad with samples with many identical values.\n",
    "\n",
    "# Non-normal distribution\n",
    "\n",
    "Mann-Whitney U test, Bootstrapping, [lognormal](https://amstat.tandfonline.com/doi/full/10.1080/10691898.2005.11910638#.XQvVFtNKhQI), bayisean\n",
    "\n",
    "CI of medians\n",
    "\n",
    "\n",
    "Normality assumption of a t-test\n",
    "\n",
    "Consider a large population from which you could take many different samples of a particular size. (In a particular study, you generally collect just one of these samples.)\n",
    "\n",
    "By the central limit theorem, means of samples from a population with finite variance approach a normal distribution regardless of the distribution of the population. Rules of thumb say that the sample means are basically normally distributed as long as the sample size is at least 20 or 30. For a t-test to be valid on a sample of smaller size, the population distribution would have to be approximately normal.\n",
    "\n",
    "https://stats.stackexchange.com/questions/9573/t-test-for-non-normal-when-n50\n",
    "\n",
    "T-test is fine on non-normal data, as long as the deviation from normality isn't large. Visualize your distributions to test this.\n",
    "\n",
    "The advice must be modified somewhat when the distributions are both strongly skewed and very discrete, such as Likert scale items where most of the observations are in one of the end categories. Then the Wilcoxon-Mann-Whitney isn’t necessarily a better choice than the t-test.\n",
    "\n",
    "Nonparametric t-Tests\n",
    "The Mann–Whitney U test is the true nonparametric counterpart of the t-test and gives the most accurate estimates of significance, especially when sample sizes are small and/or when the data do not approximate a normal distribution.\n",
    "\n",
    "However, there is something familiar and comforting about using t-tests! When one has a large sample size (N ≫ 30) but the data are skewed, it is worth examining log- or square root-transformed values of the data to see if they become more quasinormal (see Chapter 7). If the data pass a test for normality (included in most statistical software), it is then OK to perform a t-test using the transformed datapoints.\n",
    "\n",
    "When the normality assumption does not hold, a non-parametric alternative to the t-test can often have better statistical power.\n",
    "\n",
    "In the presence of an outlier, the t-test is not robust. For example, for two independent samples when the data distributions are asymmetric (that is, the distributions are skewed) or the distributions have large tails, then the Wilcoxon rank-sum test (also known as the Mann–Whitney U test) can have three to four times higher power than the t-test.[14][15][16] The nonparametric counterpart to the paired samples t-test is the Wilcoxon signed-rank test for paired samples. For a discussion on choosing between the t-test and nonparametric alternatives, see Sawilowsky (2005\n",
    "\n",
    "\n",
    "https://stats.stackexchange.com/questions/49465/mann-whitney-for-non-normal-distributions-with-n20?rq=1\n",
    "\n",
    "In Moore, McCabe, Craig's Introduction to the Practice of Statistics (6th ed., pg. 432): For sample sizes 15≤ n ≤39, \"t procedures can be used except in the presence of outliers or strong skewness.\" For samples sizes ≥40, \"t procedures can be used even for clearly skewed distributions.\"\n",
    "\n",
    "The t tends to have reasonably good power relative to the MW for light-tailed distributions ... and can have really bad power for heavy-tailed ones. Skewness tends to be compounded with heavy tails - if power is your main motivation for using the t-test, you should probably avoid it in this case.\n",
    "\n",
    "There's also the possibility of a permutation test rather than either of the choices you mention - it would allow you to test a difference in means and have it be valid when the assumptions of the t-test are not satisfied.\n",
    "\n",
    "# Different distribution distances\n",
    "\n",
    "https://statweb.stanford.edu/~souravc/Lecture2.pdf\n",
    "\n",
    "# Normality testing in extremely large sample sizes\n",
    "\n",
    "https://stats.stackexchange.com/questions/2492/is-normality-testing-essentially-useless\n",
    "\n",
    "The question normality tests answer: Is there convincing evidence of any deviation from the Gaussian ideal? With moderately large real data sets, the answer is almost always yes.\n",
    "\n",
    "The question scientists often expect the normality test to answer: Do the data deviate enough from the Gaussian ideal to \"forbid\" use of a test that assumes a Gaussian distribution? Scientists often want the normality test to be the referee that decides when to abandon conventional (ANOVA, etc.) tests and instead analyze transformed data or use a rank-based nonparametric test or a resampling or bootstrap approach. For this purpose, normality tests are not very useful.\n",
    "\n",
    "**Use skewness or kurtosis as a to test normality instead**\n",
    "\n",
    "t can be verified using simulations that this is true for small 𝑛 as well. Thus Student's t-test is sensitive to skewness but relatively robust against heavy tails, and it is reasonable to use a test for normality that is directed towards skew alternatives before applying the t-test.\n",
    "\n",
    "As a rule of thumb (not a law of nature), inference about means is sensitive to skewness and inference about variances is sensitive to kurtosis. - **you can use bootstrap in conjuction with normality test to get threshold value of good kurtosis and skewness**\n",
    "\n",
    "On large samples, things like the T-test and ANOVA are pretty robust to non-normality.\n",
    "\n",
    "The t-test assumes that the means of the different samples are normally distributed; it does not assume that the population is normally distributed.\n",
    "\n",
    "By the central limit theorem, means of samples from a population with finite variance approach a normal distribution regardless of the distribution of the population. \n",
    "\n",
    "A confidence interval's width is due entirely to sampling error. As the sample size approaches the entire population, the width of the confidence interval approaches zero."
   ]
  },
  {
   "cell_type": "markdown",
   "metadata": {},
   "source": [
    "### Examples\n",
    "\n",
    "Example\n",
    "Suppose a student measuring the boiling temperature of a certain liquid observes the readings (in degrees Celsius) 102.5, 101.7, 103.1, 100.9, 100.5, and 102.2 on 6 different samples of the liquid. He calculates the sample mean to be 101.82. If he knows that the standard deviation for this procedure is 1.2 degrees, what is the confidence interval for the population mean at a 95% confidence level?\n",
    "\n",
    "In other words, the student wishes to estimate the true mean boiling temperature of the liquid using the results of his measurements. If the measurements follow a normal distribution, then the sample mean will have the distribution N(,). Since the sample size is 6, the standard deviation of the sample mean is equal to 1.2/sqrt(6) = 0.49."
   ]
  },
  {
   "cell_type": "markdown",
   "metadata": {},
   "source": [
    "# Outliers\n",
    "\n",
    "T-test is sensitive to outliers. Outliers are important, because they affect the shape of normal distribution. Add one outlier, and run saphiro-wilk normality test, and the result will be significantly different. Using IQR outlier detection might not be good too, because the IQR themselves have outliers in them"
   ]
  },
  {
   "cell_type": "code",
   "execution_count": 5,
   "metadata": {},
   "outputs": [
    {
     "data": {
      "text/plain": [
       "(2.39885356840566, 4.35114643159434)"
      ]
     },
     "execution_count": 5,
     "metadata": {},
     "output_type": "execute_result"
    }
   ],
   "source": [
    "from scipy import stats\n",
    "import numpy as np\n",
    "\n",
    "a = [4,3,6,4,1,2,3,4]\n",
    "\n",
    "stats.norm.interval(0.95, loc=np.mean(a), scale=np.std(a)/np.sqrt(len(a)))\n"
   ]
  },
  {
   "cell_type": "code",
   "execution_count": 7,
   "metadata": {},
   "outputs": [
    {
     "data": {
      "text/plain": [
       "(2.11600213750892, 4.63399786249108)"
      ]
     },
     "execution_count": 7,
     "metadata": {},
     "output_type": "execute_result"
    }
   ],
   "source": [
    "import numpy as np, scipy.stats as st\n",
    "\n",
    "st.t.interval(0.95, len(a)-1, loc=np.mean(a), scale=st.sem(a))"
   ]
  },
  {
   "cell_type": "code",
   "execution_count": null,
   "metadata": {},
   "outputs": [],
   "source": [
    "Many statistical techniques assume that sample data is normally distributed or Gaussian-like (Ex: t-distribution), and different techniques should be considered for non-normal data set."
   ]
  },
  {
   "cell_type": "code",
   "execution_count": null,
   "metadata": {},
   "outputs": [],
   "source": []
  },
  {
   "cell_type": "code",
   "execution_count": null,
   "metadata": {},
   "outputs": [],
   "source": []
  },
  {
   "cell_type": "markdown",
   "metadata": {},
   "source": [
    "## Similarity of distributions\n",
    "\n",
    "https://stats.stackexchange.com/questions/77888/similarity-between-two-sets-of-random-values\n"
   ]
  },
  {
   "cell_type": "markdown",
   "metadata": {},
   "source": [
    "## Smart Gas Lift\n",
    "\n",
    "gas lift - use external high pressure gas, well has gas in it, but not enough. Inject in through the casing, tubing, and lift hydrocarbons up with the gas. High pressure compression makes the lifespan of machine short. \n",
    "\n",
    "Inject too little gas - don't lift enough. Doesn't flow all the way\n",
    "Inject too much gas - you are gonna lift it all, but you add extra friction, and you waste gas that you can sell.\n",
    "\n",
    "GOR affects how much gas you need to inject.\n",
    "\n",
    "Based on experience, opt injection rate seems to always round about 500, 600, 700 mcfd. \n",
    "\n",
    "Key features\n",
    "- self-optimization, maximizing runtime. We have 95% runtime, but others have 60-70% runtime.\n",
    "- you can't manually determin BHP, but the algo does it automatically with iterations.\n",
    "\n",
    "# Mahalanobis distance\n",
    "\n",
    "https://stats.stackexchange.com/questions/62092/bottom-to-top-explanation-of-the-mahalanobis-distance"
   ]
  },
  {
   "cell_type": "markdown",
   "metadata": {},
   "source": [
    "*Distribution score* depends on the type of distribution (Ex: normal, lognormal, chi-squared, weibull), and the equations for *standard error* depends on the type of statistic (Ex: mean, proportion, std, variance). The sample data is assumed to be normally distributed, allowing you to use <a href=\"#\">z-score</a> to lookup values related to any confidence level (Ex: 99%, 95%, 90%). Since you are trying to compute confidence interval of a mean ($\\overline{x}$), you use $SE_{\\overline{x}} = s\\,/\\sqrt{N}$ to compute standard error for a mean."
   ]
  },
  {
   "cell_type": "markdown",
   "metadata": {},
   "source": []
  },
  {
   "cell_type": "markdown",
   "metadata": {},
   "source": []
  }
 ],
 "metadata": {
  "kernelspec": {
   "display_name": "Python 3",
   "language": "python",
   "name": "python3"
  },
  "language_info": {
   "codemirror_mode": {
    "name": "ipython",
    "version": 3
   },
   "file_extension": ".py",
   "mimetype": "text/x-python",
   "name": "python",
   "nbconvert_exporter": "python",
   "pygments_lexer": "ipython3",
   "version": "3.6.5"
  }
 },
 "nbformat": 4,
 "nbformat_minor": 2
}
