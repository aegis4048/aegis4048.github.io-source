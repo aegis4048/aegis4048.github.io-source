{
 "cells": [
  {
   "cell_type": "markdown",
   "metadata": {},
   "source": [
    "> **Confidence interval** is uncertainty in summary statistic represented as a range. In the other words, it is a range of values we are fairly sure our true value lies in. For example: I am 95% confident that the population mean falls between 8.76 and 15.88 $\\rightarrow$ (12.32 $\\pm$ 3.56)\n",
    "\n",
    "Confidence interval tells you how confident you can be that the results from a poll or survey reflect what you would expect to find if it were possible to survey the entire population. It is difficult to obtain measurement data of an entire data set (*population*) due to limited resource & time. Your best shot is to survey a small fraction (*samples*) of the entire data set, and pray that your sample data represents the population reasonably well. \n",
    "\n",
    "Sample data may not be a good representation of a population by numerous factors (Ex: bias), and as a result, uncertainty is always introduced in any estimations derived from sample data. **Due to the uncertainty involved with sample data, any statistical estimation needs to be delivered in a range, not in a point estimate**.\n",
    "\n",
    "How well a sample statistic estimates an underlying population parameter is always an issue (<a href=\"#population_vs_samples\">Population vs. Samples</a>). A confidence interval addresses this issue by providing a range of values, which is likely to contain the population parameter of interest."
   ]
  },
  {
   "cell_type": "markdown",
   "metadata": {},
   "source": [
    "<div id=\"toc_container\">\n",
    "    <p class=\"toc_title\">Contents</p>\n",
    "    <ul class=\"toc_list\">\n",
    "        <li>\n",
    "            <a href=\"#Understanding confidence interval with analogy\"><span class=\"toc_label\">1</span>Understanding\n",
    "                confidence interval with analogy</a>\n",
    "            <ul>\n",
    "                <li><a href=\"#Uncertainty in rock porosity\"><span class=\"toc_label\">Example 1:</span>Uncertainty in rock\n",
    "                    porosity</a></li>\n",
    "                <li><a href=\"#Purity of methamphetamine (crystal) in Breaking Bad\"><span\n",
    "                        class=\"toc_label\">Example 2:</span>Purity of methamphetamine (crystal) in Breaking Bad</a></li>\n",
    "            </ul>\n",
    "        </li>\n",
    "        <li><a href=\"#quick-highlights\"><span class=\"toc_label\">2</span>Key takeaways</a></li>\n",
    "        <li><a href=\"#population_vs_samples\"><span class=\"toc_label\">3</span>Population vs Samples</a></li>\n",
    "        <ul>\n",
    "            <li><a href=\"#sample_pop_var\"><span class=\"toc_label\">Notes:</span>Population variance ($\\sigma^2$) vs.\n",
    "                Sample variance ($s^2$)</a></li>\n",
    "            <li><a href=\"#python_variance\"><span class=\"toc_label\">Pythonic Tip:</span>Difference between Numpy variance\n",
    "                and Pandas variance</a></li>\n",
    "        </ul>\n",
    "        <li><a href=\"#Confidence interval of different statistics\"><span class=\"toc_label\">4</span>Confidence interval\n",
    "            of normal distribution</a></li>\n",
    "        <ul>\n",
    "            <li><a href=\"#conf_int_of_mean\"><span class=\"toc_label\">4.1</span>Confidence interval of mean</a></li>\n",
    "            <ul>\n",
    "                <li><a href=\"#dist_stats\"><span class=\"toc_label\">Notes:</span>Distribution of various statistics</a>\n",
    "                </li>\n",
    "                <li><a href=\"#t_vs_z\"><span class=\"toc_label\">Notes:</span>z-score vs t-score</a></li>\n",
    "                <li><a href=\"#python_ci_mean\"><span class=\"toc_label\">Pythonic Tip:</span>Computing confidence interval of mean with SciPy</a></li>\n",
    "            </ul>\n",
    "            <li><a href=\"#conf_int_of_diff_in_mean\"><span class=\"toc_label\">4.2</span>Confidence interval of difference\n",
    "                in mean</a></li>\n",
    "            <ul>\n",
    "                <li><a href=\"#anova\"><span class=\"toc_label\">Notes:</span>Comparing means of more than two samples with ANOVA</a></li>\n",
    "                <li><a href=\"#ind_equal\"><span class=\"toc_label\">4.2.1</span>Independent (unpaired) samples, equal\n",
    "                    variance - Student's t-interval</a></li>\n",
    "                <ul>\n",
    "                    <li><a href=\"#python_ind_equal\"><span class=\"toc_label\">Pythonic Tip:</span>Computing student's t-interval</a></li>\n",
    "                </ul>\n",
    "                <li><a href=\"#ind_unequal\"><span class=\"toc_label\">4.2.2</span>Independent (unpaired) samples, unequal variance - Welch's t-interval</a></li>\n",
    "                <ul>\n",
    "                    <li><a href=\"#python_ind_unequal\"><span class=\"toc_label\">Pythonic Tip:</span>Computing Welch's t-interval</a></li>\n",
    "                </ul>\n",
    "                <li><a href=\"#dep\"><span class=\"toc_label\">4.2.3</span>Dependent (paired) samples - Paired t-interval</a></li>\n",
    "                <ul>\n",
    "                    <li><a href=\"#python_dep\"><span class=\"toc_label\">Pythonic Tip:</span>Computing paired t-interval</a></li>\n",
    "                </ul>\n",
    "                <li><a href=\"#which_to_use\"><span class=\"toc_label\">Notes:</span>Deciding which t-test to use</a></li>\n",
    "            </ul>\n",
    "            <li><a href=\"#conf_int_of_var\"><span class=\"toc_label\">4.3</span>Confidence interval of variance</a></li>\n",
    "            <li><a href=\"#\"><span class=\"toc_label\">4.4</span>Confidence interval of other statistics: Bootstrap</a></li>\n",
    "            <li><a href=\"#\"><span class=\"toc_label\">4.5</span>Estimating sample size needed</a></li>\n",
    "            <li><a href=\"#\"><span class=\"toc_label\">4.6</span>Two-tailed vs one-tailed interval</a></li>\n",
    "            <li><a href=\"#robustness\"><span class=\"toc_label\">Notes:</span>Robustness of confidence interval to non-normality</a></li>\n",
    "        </ul>\n",
    "        <li><a href=\"#conf_int_non_normal\"><span class=\"toc_label\">5</span>Confidence interval of non-normal\n",
    "            distribution</a></li>\n",
    "        <ul>\n",
    "            <li><a href=\"#\"><span class=\"toc_label\">5.1</span>Comparing central tendency of populations</a></li>\n",
    "                <ul>\n",
    "                    <li><a href=\"#\"><span class=\"toc_label\">5.1.1</span>Confidence interval of median: Mann-Whitney U test</a></li>\n",
    "                </ul>\n",
    "            <li><a href=\"#\"><span class=\"toc_label\">5.2</span>Credible interval</a></li>\n",
    "            <li><a href=\"#\"><span class=\"toc_label\">5.3</span>Transform to normal distribution with Box-Cox</a></li>\n",
    "            <li><a href=\"#\"><span class=\"toc_label\">5.4</span>Bootstrapping</a></li>\n",
    "                <ul>\n",
    "                    <li><a href=\"#\"><span class=\"toc_label\">5.4.1</span>Bootstrap CI of statistics</a></li>\n",
    "                    <li><a href=\"#\"><span class=\"toc_label\">5.4.1</span>Bootstrap CI of difference in statistics</a></li>\n",
    "                </ul>\n",
    "        </ul>\n",
    "        <li><a href=\"#\"><span class=\"toc_label\">6</span>FAQ's</a></li>\n",
    "        <ul>\n",
    "            <li><a href=\"#\"><span class=\"toc_label\">6.1</span>What is confidence level?</a></li>\n",
    "            <li><a href=\"#\"><span class=\"toc_label\">6.2</span>What is significance level?</a></li>\n",
    "            <li><a href=\"#\"><span class=\"toc_label\">6.3</span>What is margin of error?</a></li>\n",
    "            <li><a href=\"#\"><span class=\"toc_label\">6.4</span>What is degrees of freedom?</a></li>\n",
    "            <li><a href=\"#\"><span class=\"toc_label\">6.5</span>Non-normality and outliers</a></li>\n",
    "            <li><a href=\"#\"><span class=\"toc_label\">6.6</span>kurtosis</a></li>\n",
    "        </ul>\n",
    "        <li><a href=\"#\"><span class=\"toc_label\">7</span>Worked Python examples</a></li>\n",
    "    </ul>\n",
    "</div>\n",
    "\n",
    "## Distribution of various statistics\n",
    "\n",
    "Put this in the first section 4.1 (normal distribution of population on top, and image of normal for mean, and chi-squared for variance, connected by arrows coming from top normal population distribution)"
   ]
  },
  {
   "cell_type": "markdown",
   "metadata": {},
   "source": [
    "<div id=\"Understanding confidence interval with analogy\"></div>\n",
    "\n",
    "## Understanding confidence interval with analogy\n",
    "\n",
    "If you've taken a science class with lab reports in your highschool or college, you probably had to include measurement error in your lab reports. For example, if you were asked to measure the length of a paper clip with a ruler, you have to include $\\pm0.5 \\,\\text{cm}$ or $\\pm0.05\\,\\text{cm}$ (depending on the spacing of tick marks) to account for the measurement error that shows the precision of your measuring tool. \n",
    "\n",
    "Based on <a href=\"#fig2\">figure (2)</a>, the paper clip seems to be about 2.7 cm long, but we don't know for sure because the tickmarks in the ruler is not precise enough to measure decimal length. However, I can tell with 100% confidence that the paper clip has a length between 2 ~ 3 cm, because the clip is between 2cm and 3cm tickmarks. You record the length of the paper clip in a *range*, instead of a *point estimate*, to account for the uncertainty introduced by the spacing of the tickmarks.\n",
    "\n",
    "<div id=\"fig2\" class=\"row give-margin-inline-big-plot mobile_responsive_plot_full_width\" style=\"margin-top: 15px;\">\n",
    "    <div class=\"col\"><img src=\"jupyter_images/conf_int_ruler.png\"></div>\n",
    "    <div class=\"col-12\"><p class=\"image-description\">Figure 2: Measurement error in ruler</p></div>\n",
    "</div>\n",
    "\n",
    "Similar idea can be applied to a <a href=\"#conf_int_of_mean\">confidence interval of mean</a>. You want to obtain a mean of a whole data set (*population*), but you can measure values of only a small fraction (*samples*) of the whole data set. This boils down to the traditional issue of <a href=\"#population_vs_samples\">Sample vs Population</a>, due to the cost of obtaining measurement data of a large data set. Uncertainty is introduced in your samples, because you don't know if your samples are 100% representative of the population, free of bias. Therefore, you deliver your conclusion in a range, not in a point estimate, to account for the uncertainty."
   ]
  },
  {
   "cell_type": "markdown",
   "metadata": {},
   "source": [
    "<div><hr></div>\n",
    "\n",
    "<div id=\"Uncertainty in rock porosity\"></div>\n",
    "<p style=\"color: #666\"><b>Example 1:</b> Uncertainty in rock porosity<p>\n",
    "\n",
    "A reservoir engineer in the oil & gas industry takes 12 rock core samples and measures their porosity to estimate the total oil reserve underground. He obtains 14.5% average rock porosity with 4.3% standard deviation. Obtaining rock core samples from ~10,000 ft underground is expensive, and as a result, the uncertainty related to the average porosity is not negligible. Executives in the company wants to know the worst-case scenario (P10, 10th percentile) and the best-case scenario (P90, 90th percentile) to make business decisions. How do you convey your estimation of average porosity with uncertainty?\n",
    "\n",
    "Assuming that you have a reason to believe that the rock porosity follows normal distribution, you can construct 80% confidence interval, with the procedure described <a href=\"#python_ci_mean\"> below</a>:\n",
    "\n",
    "<div style=\"margin-bottom: -20px\"></div>"
   ]
  },
  {
   "cell_type": "code",
   "execution_count": 133,
   "metadata": {},
   "outputs": [
    {
     "data": {
      "text/plain": [
       "(12.807569748569543, 16.19243025143046)"
      ]
     },
     "execution_count": 133,
     "metadata": {},
     "output_type": "execute_result"
    }
   ],
   "source": [
    "stats.t.interval(1 - 0.2, 12 - 1, loc=14.5, scale= 4.3 / np.sqrt(12))"
   ]
  },
  {
   "cell_type": "markdown",
   "metadata": {},
   "source": [
    "<div style=\"margin-top: -20px\"></div>\n",
    "\n",
    "In the worst-case scenario, the oil reservoir has 12.8% porosity. In best-case scenario, the oil reservoir has 16.2% porosity. The uncertainty in mean can be quantified by constructing <a href=\"#conf_int_of_mean\">confidence interval of mean</a>.\n",
    "\n",
    "Add a plot.\n",
    "\n",
    "Add introduction to estimating sample size needed\n",
    "\n",
    "To have 95% of our sample means contain population mean, we need a sample size of 78."
   ]
  },
  {
   "cell_type": "markdown",
   "metadata": {},
   "source": [
    "<div><hr></div>\n",
    "\n",
    "<div id=\"Purity of methamphetamine (crystal) in Breaking Bad\"></div>\n",
    "<p style=\"color: #666\"><b>Example 2:</b> Purity of methamphetamine (crystal) in Breaking Bad<p>\n",
    "\n",
    "21 batches of crystal cooked by Mr. White shows 99.1% average purity with 3% standard deviation. 18 batches of crystal cooked by Mr. Pinkman shows 96.2% average purity with 4% standard deviation. Does Mr. White always cook better crystal than Mr. Pinkman, or is it possible for Mr. Pinkman to beat Mr. White in purity of cooked crystals, by luck?\n",
    "\n",
    "We can construct 95% confidence interval assuming normal distribution, with the procedure described <a href=\"#python_ci_mean\"> below</a>:\n",
    "\n",
    "<div style=\"margin-bottom: -20px\"></div>"
   ]
  },
  {
   "cell_type": "code",
   "execution_count": 78,
   "metadata": {},
   "outputs": [
    {
     "data": {
      "text/plain": [
       "(97.73441637228476, 100.46558362771523)"
      ]
     },
     "execution_count": 78,
     "metadata": {},
     "output_type": "execute_result"
    }
   ],
   "source": [
    "# Mr. White's\n",
    "\n",
    "stats.t.interval(1 - 0.05, 21 - 1, loc=99.1, scale= 3 / np.sqrt(21))"
   ]
  },
  {
   "cell_type": "code",
   "execution_count": 79,
   "metadata": {},
   "outputs": [
    {
     "data": {
      "text/plain": [
       "(94.21084679714819, 98.18915320285181)"
      ]
     },
     "execution_count": 79,
     "metadata": {},
     "output_type": "execute_result"
    }
   ],
   "source": [
    "# Mr. Pinkman's\n",
    "\n",
    "stats.t.interval(1 - 0.05, 18 - 1, loc=96.2, scale= 4 / np.sqrt(18))"
   ]
  },
  {
   "cell_type": "markdown",
   "metadata": {},
   "source": [
    "<div style=\"margin-top: -20px\"></div>\n",
    "\n",
    "There's a small overlap between the confidence intervals of Mr. White's and Mr. Pinkman's. Although it is true that Mr. White is a better cooker, Mr. Pinkman can cook a purer batch of crystals by a small chance, if he has the luck. Comparing the means of two sample data sets is closely related to constructing <a href=\"#conf_int_of_diff_in_mean\">confidence interval of difference in mean</a>."
   ]
  },
  {
   "cell_type": "markdown",
   "metadata": {},
   "source": [
    "<div id=\"quick-highlights\"></div>\n",
    "\n",
    "## Key takeaways\n",
    "\n",
    "<div class=\"highlights\">\n",
    "    <div class=\"highlights-title\">1. Confidence interval quantifies uncertainty of statistical estimation</div>\n",
    "    <div class=\"highlights-content\">Confidence interval qunatifies the uncertainty related to a statistical estimation to mitigate the issue of <a href=\"#population_vs_samples\">Population vs. Samples</a>. It is always expressed in a range like — $\\text{C.I.}: \\quad x \\pm 3.43$ or $-51.4 < x < -43.2$</div>\n",
    "</div>\n",
    "\n",
    "<div class=\"highlights\">\n",
    "    <div class=\"highlights-title\">2. Confidence interval is the basis of parametric hypothesis tests</div>\n",
    "    <div class=\"highlights-content\">Confidence interval is the basis of parametric hypothesis tests. For example, <a href=\"https://www.investopedia.com/terms/t/t-test.asp\" target=\"_blank\">t-test</a> computes its p-value using the <a href=\"#conf_int_of_diff_in_mean\">confidence interval of difference in mean</a>. When used in conjunction with hypothesis testing, confidence interval compares the <a href=\"#\">centeral tendency of distributions</a>. By comparing their central tendency, you can conclude if two distributions are significantly different from each other. \n",
    "        <p>When samples of your interest have are multivariate vectors, it enables you to do something that machine learning can't do; you can run automated classification on samples, when you don't have enough sample data to run logistic regression or neural nets. A good example of this is <a href=\"http://mccormickml.com/2014/07/22/mahalanobis-distance/\" target=\"_blank\">mahalanobis distance</a>.</p></div>\n",
    "</div>\n",
    "\n",
    "<div class=\"highlights\">\n",
    "    <div class=\"highlights-title\">3. Formula for confidence interval varies with statistics</div>\n",
    "    <div class=\"highlights-content\">\n",
    "        <p>For <a href=\"#conf_int_of_mean\">confidence interval of mean</a></p>\n",
    "        <p><div style=\"font-size: 1rem; margin-top: 20px;\">$$ \\text{C.I.}_{\\text{mean}}: \\quad \\mu \\pm (t_{\\frac{\\alpha}{2},df} \\times \\frac{s}{\\sqrt{n}})$$</div></p>\n",
    "        <p>For <a href=\"#conf_int_of_diff_in_mean\">confidence interval of difference in mean</a></p>\n",
    "        <p><div style=\"font-size: 1rem; margin-top: 20px;\">$$ \\text{C.I.}_{\\Delta \\text{mean}}: \\quad (\\mu_{1}- \\mu_{2}) \\pm (t_{1-\\frac{\\alpha}{2},df} \\times \\sqrt{\\frac{s_1^2}{n_1}+\\frac{s_2^2}{n_2}})$$</div></p>    \n",
    "        <p>For confidence interval of proportion</p>\n",
    "        <p><div style=\"font-size: 1rem; margin-top: 20px;\">$$ \\text{C.I.}_{\\text{proportion}}: \\quad \\hat{p} \\pm (t_{\\frac{\\alpha}{2},df} \\times \\sqrt{\\frac{\\hat{p}(1-\\hat{p})}{n}} )$$</div></p>\n",
    "        <p>For <a href=\"#\">confidence interval of variance</a></p>\n",
    "        <p><div style=\"font-size: 1rem; margin-top: 20px;\">$$ \\text{C.I.}_{\\text{variance}}: \\frac{(n-1)s^{2}}{\\chi^{2}_{\\frac{\\alpha}{2}}} \\leq \\sigma^2 \\leq \\frac{(n-1)s^{2}}{\\chi^{2}_{1-\\frac{\\alpha}{2}}}$$</div></p>\n",
    "        <p>For confidence interval of standard deviation</p>\n",
    "        <p><div style=\"font-size: 1rem; margin-top: 20px;\">$$ \\text{C.I.}_{\\text{standard deviation}}: \\sqrt{\\frac{(n-1)s^{2}}{\\chi^{2}_{\\frac{\\alpha}{2}}}} \\leq \\sigma \\leq \\sqrt{\\frac{(n-1)s^{2}}{\\chi^{2}_{1-\\frac{\\alpha}{2}}}}$$</div></p>\n",
    "        <p>Different analytical solutions exist for different statistics. However, confidence interval for many other statistics cannot be analytically solved, simply because there are no formulas for them. If the statistic of your interest does not have an analytical solution for its confidence interval, or you simply don't know it, numerical methods like <a href=\"https://aegis4048.github.io/non-parametric-confidence-interval-with-bootstrap\" target=\"_blank\">boostrapping</a> can be a good alternative (and its powerful).</p>\n",
    "    </div>\n",
    "</div>\n",
    "\n",
    "<div class=\"highlights\">\n",
    "    <div class=\"highlights-title\">4. Things are VERY different if sample data set is not normally distributed</div>\n",
    "    <div class=\"highlights-content\">The equations listed above <b>are not valid if sample data set is not normally distributed</b>. In case of non-normally distributed data, its confidence interval can be obatined with non-parametric methods like <a href=\"https://aegis4048.github.io/non-parametric-confidence-interval-with-bootstrap\" target=\"_blank\">boostrapping</a>, or instead use <a href=\"#\">credible interval</a>, which is a Baysian equivalent of confidence interval. Or you can transform your data into normal distribution using <a href=\"https://aegis4048.github.io/transforming-non-normal-distribution-to-normal-distribution\" target=\"_blank\">Box-Cox transformation</a>.</div>\n",
    "</div>\n",
    "\n",
    "<div class=\"highlights\">\n",
    "    <div class=\"highlights-title\">5. 95% C.I. does not mean 95% of the sample data lie within the interval.</div>\n",
    "    <div class=\"highlights-content\">It means that there's 95% chance that the estimated statistic falls within the interval. 95% confidence interval relates to the reliability of the estimation procedure. Ex: How reliable is your estimation of population variance?</div>\n",
    "</div>\n",
    "\n",
    "<div class=\"highlights\">\n",
    "    <div class=\"highlights-title\">6. Always use t-score instead of z-score</div>\n",
    "    <div class=\"highlights-content\">This is described <a href=\"#t_vs_z\">below</a>.</div>\n",
    "</div>"
   ]
  },
  {
   "cell_type": "markdown",
   "metadata": {},
   "source": [
    "<div id=\"population_vs_samples\"></div>\n",
    "\n",
    "## Population vs. samples\n",
    "\n",
    "Confidence interval describes the amount of uncertainty associated with a sample estimate of a population parameter. One needs to have a good understanding of the difference between samples and population to understand the necessity of delivering statistical estimations in a range, a.k.a. confidence interval.\n",
    "\n",
    "<div id=\"fig1\" class=\"row give-margin-inline-big-plot mobile_responsive_plot_full_width\" style=\"\n",
    "    margin-top: 10px;\n",
    "\">\n",
    "    <div class=\"col\"><img src=\"jupyter_images/conf_int_sample_pops.png\"></div>\n",
    "    <div class=\"col-12\"><p class=\"image-description\">Figure 1: Population vs samples</p></div>\n",
    "</div>\n",
    "\n",
    "> **Population**: data set that contains all members of a specified group. Ex: ALL people living in the US.\n",
    "\n",
    "> **Samples**: data set that contains a part, or a subset, of a population Ex: SOME people living in the US.\n",
    "\n",
    "<div><hr></div>\n",
    "\n",
    "Let's say that you are conducting a phone-call survey to investigate the society's perception of The Affordable Care Act (“Obamacare”). Since you can't call all 327.2 million people (*population*) in the US, you call about 1,000 people (*samples*). Your poll showed that 59% of the registered voters support Obamacare. This does not agree with the actual survey conducted in 2018; 53% favorable, 42% unfavorable (<a href=\"http://www.msnbc.com/rachel-maddow-show/poll-shows-support-obamacare-reaching-all-time-high\" target=\"_blank\">source</a>). What could be the source of error? \n",
    "\n",
    "Since (formal) president Obama is a member of the Democratic Party, the voters' response can be affected by their political preference. How could you tell that the 1,000 people you called happened to be mostly Democrats, who's more likely to support Obama's policy, because they share similar political view? The samples you collected could have been *biased*, but you don't that know for sure. Of course, the voters' response could be affected by many other factors like race, age, place of residence, or financial status. The idea is that, there will always be uncertainty involved with your estimation, because you don't have an access to the entire population.  \n",
    "\n",
    "Confidence interval is a technique that quantifies the uncertainty when estimating a population parameter from samples.\n",
    "\n",
    "<div id=\"sample_pop_var\"></div>\n",
    "\n",
    "<div class=\"alert alert-info\">\n",
    "    <h4>Notes: Population variance ($\\sigma^2$) vs. Sample variance ($s^2$)</h4>\n",
    "    <p>Distinction between population parameter and sample parameter is important. In statistics, it is a common practice to denote population variance as $\\sigma^2$, and sample variance as $s^2$. The distinction is important because different equations are used for each.</p>\n",
    "    <p>For population:</p>\n",
    "    <p><div style=\"font-size: 1rem; margin-top: 20px;\">$$ \\text{variance} = \\sigma^2 = \\frac{\\sum(x - \\bar{x})^2}{n} $$</div></p>\n",
    "    <p>For samples:</p>\n",
    "    <p><div style=\"font-size: 1rem; margin-top: 20px;\">$$ \\text{variance} = s^2 = \\frac{\\sum(x - \\bar{x})^2}{n-1} $$</div></p>\n",
    "    <p>The divisor $n-1$ is a correction factor for bias. Note that the correction has a larger proportional effect when $n$ is small than when $n$ is large, which is what we want because the more samples we have, the better the estimation. This idea is well explained on this <a href=\"https://stats.stackexchange.com/questions/3931/intuitive-explanation-for-dividing-by-n-1-when-calculating-standard-deviation\" target=\"_blank\">StackExchange thread</a>.</p>\n",
    "</div>\n",
    "\n",
    "<div><hr></div>\n",
    "\n",
    "<div id=\"python_variance\"></div>\n",
    "<p style=\"color: #666\"><b>Pythonic Tip:</b> Difference between Numpy variance and Pandas variance<p>\n",
    "\n",
    "Different libraries make different assumption about an input array. The default value of <code>ddof</code> is different for Pandas and Numpy, resulting in different variance. <code>ddof</code> represent degrees of freedom, and setting <code>ddof=True</code> or <code>ddof=1</code> tells the variance function to calculate sample variance by accounting for the bias factor $n-1$ (recall that in Python, <code>True==1</code>.) Remember that there is a distinction between <a href=\"#sample_pop_var\">Population variance ($\\sigma^2$) vs. Sample variance ($s^2$).</a>\n",
    "\n",
    "If you are confused which library is computing which variance (sample or population), just remember this. Whatever library you are using, use <code>ddof=True</code> to compute sample variance, and use <code>ddof=False</code> to compute population variance.\n",
    "<div style=\"margin: -20px\"></div>"
   ]
  },
  {
   "cell_type": "code",
   "execution_count": 1,
   "metadata": {},
   "outputs": [],
   "source": [
    "import numpy as np\n",
    "import pandas as pd\n",
    "\n",
    "arr = pd.DataFrame([5,3,1,6])"
   ]
  },
  {
   "cell_type": "code",
   "execution_count": 7,
   "metadata": {
    "scrolled": true
   },
   "outputs": [
    {
     "data": {
      "text/plain": [
       "3.6875"
      ]
     },
     "execution_count": 7,
     "metadata": {},
     "output_type": "execute_result"
    }
   ],
   "source": [
    "# numpy, population\n",
    "arr.values.var()"
   ]
  },
  {
   "cell_type": "code",
   "execution_count": 8,
   "metadata": {},
   "outputs": [
    {
     "data": {
      "text/plain": [
       "4.916666666666667"
      ]
     },
     "execution_count": 8,
     "metadata": {},
     "output_type": "execute_result"
    }
   ],
   "source": [
    "# numpy, sample\n",
    "arr.values.var(ddof=1)"
   ]
  },
  {
   "cell_type": "code",
   "execution_count": 10,
   "metadata": {},
   "outputs": [
    {
     "data": {
      "text/plain": [
       "0    3.6875\n",
       "dtype: float64"
      ]
     },
     "execution_count": 10,
     "metadata": {},
     "output_type": "execute_result"
    }
   ],
   "source": [
    "# pandas, population\n",
    "arr.var(ddof=0)"
   ]
  },
  {
   "cell_type": "code",
   "execution_count": 99,
   "metadata": {
    "scrolled": true
   },
   "outputs": [
    {
     "data": {
      "text/plain": [
       "0    4.916667\n",
       "dtype: float64"
      ]
     },
     "execution_count": 99,
     "metadata": {},
     "output_type": "execute_result"
    }
   ],
   "source": [
    "# pandas, sample\n",
    "arr.var()"
   ]
  },
  {
   "cell_type": "markdown",
   "metadata": {},
   "source": [
    "<div id=\"Confidence interval of different statistics\"></div>\n",
    "\n",
    "## Confidence interval of normal distribution\n",
    "\n",
    "Computing confidence interval of a statistic depends on two factors: type of statistic, and type of sample distribution. As explained <a href=\"#quick-highlights\">above</a>, different formulas exist for different type of statistics (Ex: mean, std, variance), and different methods (Ex: <a href=\"https://aegis4048.github.io/non-parametric-confidence-interval-with-bootstrap\" target=\"_blank\">boostrapping</a>, <a href=\"#\">credible interval</a>, <a href=\"https://aegis4048.github.io/transforming-non-normal-distribution-to-normal-distribution\" target=\"_blank\">Box-Cox transformation</a>) are used for non-normal data set. \n",
    "\n",
    "We will cover confidence interval of mean, difference in mean and variance."
   ]
  },
  {
   "cell_type": "markdown",
   "metadata": {},
   "source": [
    "<div id=\"conf_int_of_mean\"></div>\n",
    "\n",
    "### 1. Confidence interval of mean\n",
    "\n",
    "Confidence interval of mean is used to estimate the population mean from sample data and quantify the related uncertainty. Consider the following figure:\n",
    "\n",
    "<div id=\"fig3\" class=\"row give-margin-inline-big-plot mobile_responsive_plot_full_width\" style=\"margin-top: 15px;\">\n",
    "    <div class=\"col\"><img src=\"jupyter_images/conf_pop_dist.png\"></div>\n",
    "    <div class=\"col-12\"><p class=\"image-description\">Figure 3: Distribution of population and C.I. of mean</p></div>\n",
    "</div>\n",
    "\n",
    "In <a href=\"#fig3\">figure (3)</a>, assume that the population is normally distributed. Since we don't have an excess to the entire population, we have to guess the <span style=\"color: #ed7d32; font-weight: 500;\">population mean (unknown)</span> to the best of our ability using sample data set. We do this by computing the <span style=\"color: #70ad47; font-weight: 500;\">sample mean</span> and constructing its <span style=\"color: #385624; font-weight: 500;\">95% confidence interval</span>. Note that the popular choices of <a href=\"#\">confidence levels</a> are: 90%, 95%, and 99%\n",
    "\n",
    "Assuming normality of population, its sample means are also normally distributed. Let's say that you have a population, and you draw small fractions of it $N$ times. Then, the computed means of $N$ sample sets ($\\mu_1 \\cdots \\mu_N$) is normally distributed as shown in <a href=\"#fig4\">figure (4)</a>. Their confidence intervals are represented as the black horizontal arrows:.\n",
    "\n",
    "<div id=\"fig4\" class=\"row give-margin-inline-big-plot mobile_responsive_plot_full_width\" style=\"margin-top: 15px;\">\n",
    "    <div class=\"col\"><img src=\"jupyter_images/conf_int_mean.png\"></div>\n",
    "    <div class=\"col-12\"><p class=\"image-description\">Figure 4: Distribution of sample mean and its C.I.</p></div>\n",
    "</div>\n",
    "\n",
    "You can see that the confidence interval of <span style=\"color: red; font-weight: 500;\">$\\mu_5$</span> does NOT include the <span style=\"color: #70ad47; font-weight: 500;\">green vertical dashed line</span>, 12.31. Let's assume that 12.31 is the true population mean (we never know if this is the actual population mean or not, but let's assume). If we get <span style=\"color: red; font-weight: 500;\">$\\mu_5$</span> and its confidence interval as our estimation of the population mean, then our estimation is wrong. There is a 5% chance of this happening, because we set our confidence level as 95%. Note that the width of the confidence intervals (black horizontal arrows) depend on the sample size, as shown in <a href=\"#eq-1\">eq (1)</a>\n",
    "\n",
    "The grey area of <a href=\"#fig3\">figure (3)</a> is essentially equivalent to the grey area of <a href=\"#fig4\">figure (4)</a>. $\\mu_1$ = 12.32 is the sample mean, and $\\pm$ 3.56 is the uncertainty related to the sample mean with 95% confidence. The uncertainty is a product of distribution score and standard error of mean. Distribution score essentially tells how many standard error are the limits (8.76 and 15.88) away from the center (12.32). Choosing larger confidence level results in larger confidence interval. This increases the grey area in <a href=\"#fig3\">figure (3)</a> and <a href=\"#fig4\">figure (4)</a>. \n",
    "\n",
    "We convey 95% confidence interval of mean like this:\n",
    "\n",
    "> I am 95% confident that the population mean falls between 8.76 and 15.88. If I sample data 20 times, 19 times the sample mean will fall between 8.76 ~ 15.88, but expect that I will be wrong 1 time.\n",
    "\n",
    "<div id=\"dist_stats\"></div>\n",
    "<div class=\"alert alert-info\">\n",
    "    <h4>Notes: Distribution of various statistics</h4>\n",
    "    <p>Different statistics exhibit different distributions. Normality of data set does not guarantee normality of its statistics. Assume that the samples are normally distributed. Then, the distribution of means follow normal distribution: <a href=\"#fig4\">figure (4)</a>. However, the distribution of variance follow chi-squared distribution: <a href=\"#fig???\">figure (???)</a></p>\n",
    "</div>"
   ]
  },
  {
   "cell_type": "markdown",
   "metadata": {},
   "source": [
    "If sample data is normal or normal-like distributed, we almost always assume t-distribution to compute confidence interval, as explained <a href=\"#t_vs_z\">below</a>. Then, the confidence interval of mean has the following analytical solution:\n",
    "\n",
    "<div id=\"eq-1\" style=\"font-size: 1rem;\">\n",
    "$$ \\text{C.I.}_{\\text{mean}}: \\quad \\mu \\pm (t_{1-\\frac{\\alpha}{2},df} \\times \\frac{s}{\\sqrt{n}}) \\tag{1}$$\n",
    "</div>\n",
    "\n",
    "<div class=\"eq-terms\">\n",
    "    <div class=\"row eq-terms-where\">where</div>\n",
    "    <div class=\"row\">\n",
    "        <div class=\"col-3\"><p>$\\mu$<p></div>\n",
    "        <div class=\"col-9\"><p>: sample mean<p></div>\n",
    "    </div>\n",
    "    <div class=\"row\">\n",
    "        <div class=\"col-3\">$\\alpha$</div>\n",
    "        <div class=\"col-9\">: <a href=\"#\">significance level</a></div>\n",
    "    </div>    \n",
    "    <div class=\"row\">\n",
    "        <div class=\"col-3\"><p>$n$<p></div>\n",
    "        <div class=\"col-9\"><p>: number of samples<p></div>\n",
    "    </div>\n",
    "    <div class=\"row\">\n",
    "        <div class=\"col-3\"><p>$df$<p></div>\n",
    "        <div class=\"col-9\"><p>: degrees of freedom. In this example, df = $n$ - 1<p></div>\n",
    "    </div>    \n",
    "    <div class=\"row\">\n",
    "        <div class=\"col-3\">$s$</div>\n",
    "        <div class=\"col-9\">: sample standard deviation</div>\n",
    "    </div>   \n",
    "    <div class=\"row\">\n",
    "        <div class=\"col-3\">$t$</div>\n",
    "        <div class=\"col-9\">: t-score. depends on $\\alpha$ and $df$</div>\n",
    "    </div>   \n",
    "</div>\n",
    "\n",
    "Recall that when computing $s$, correction factor ($n-1$) is applied to account for sample bias, as explained <a href=\"#sample_pop_var\">above</a>. Pay close attention to the standard error $\\frac{s}{\\sqrt{(n)}}$. As the sample size $n$ increases, the standard error decreases, reducing the range of confidence interval. This is intuitive in a sense that, the more samples we have, the less uncertainty we have with our statistical estimation. The length of the black horizontal arrows in <a href=\"#fig4\">figure (4)</a> depends on the sample size. The larger the sample size, the narrower the width of arrows, and vice versa.\n",
    "\n",
    "<div id=\"t_vs_z\"></div>\n",
    "<div class=\"alert alert-info\">\n",
    "    <h4>Notes: z-score vs t-score</h4>\n",
    "    <p>You've probably seen mixed use of z-score and t-score for confidence interval during your studies. Long story short, it is safe and almost always better to use t-score than z-score.</p>\n",
    "    <p>Z-score ($z_{\\frac{\\alpha}{2}}$) is used for normal distribution, and t-score ($t_{\\frac{\\alpha}{2},df}$) is used for t-distribution. You use z-score if you know the population variance $\\sigma^2$. If not, you use t-score. Since the population variance $\\sigma^2$ is almost never known, you almost always use t-score for confidence interval. After all, the purpose of using confidence interval is to mitigate the issue of <a href=\"#population_vs_samples\">Population vs. Samples</a> when estimating population parameter ($\\sigma^2$) from samples. If you know the population parameters, you probably don't need confidence interval in the first place.</p>\n",
    "    <p>A natural question is, \"how is it safe to use t-score instead of z-score? Shouldn't I be using z-score since I know that the population is normally distributed, from previous knowledge?\" It is safe to do so because t-distribution converges to normal distribution according to the Centeral Limit Theorem. Recall that t-distribution behaves more and more like a normal distribution as the sample size increases.</p>\n",
    "    <p>Google <i>\"95% confidence z-score\"</i> and you will see $z$ = 1.96 at 95% confidence level. On the other hand, t-score approaches  1.96 as its degrees of freedom increases: $\\lim_{df \\to \\infty}t$ = 1.96. For 95% confidence level, $t$ = 2.228 when $n$ - 1 = 10 and $t$ = 2.086 when $n$ - 1 = 20. This is why it is safe to always replace z-score with t-score when computing confidence interval.</p>\n",
    "</div>"
   ]
  },
  {
   "cell_type": "markdown",
   "metadata": {},
   "source": [
    "<div style=\"margin: -20px\"></div>\n",
    "<div><hr></div>\n",
    "\n",
    "<div id=\"python_ci_mean\"></div>\n",
    "<p style=\"color: #666\"><b>Pythonic Tip:</b> Computing confidence interval of mean with SciPy<p>\n",
    "\n",
    "We can compute confidence interval of mean directly from using <a href=\"#eq-1\">eq (1)</a>. Recall to pass <code>ddof=1</code> to make sure to compute sample standard deviation $s$, not population standard deviation $\\sigma$, as explained <a href=\"#python_variance\">above</a>. \n",
    "\n",
    "We will draw random samples from normal distribution using <a href=\"https://docs.scipy.org/doc/numpy/reference/generated/numpy.random.normal.html\" target=\"_blank\">np.random.normal().</a> Note that <code>loc</code> is for population mean, and <code>scale</code> is for population standard deviation, and <code>size</code> is for number of samples to draw.\n",
    "\n",
    "<div style=\"margin: -20px\"></div>"
   ]
  },
  {
   "cell_type": "code",
   "execution_count": 5,
   "metadata": {},
   "outputs": [],
   "source": [
    "from scipy import stats\n",
    "import numpy as np\n",
    "\n",
    "np.random.seed(42)\n",
    "\n",
    "arr = np.random.normal(loc=74, scale=4.3, size=20)\n",
    "\n",
    "alpha = 0.05                       # significance level = 5%\n",
    "df = len(arr) - 1                  # degress of freedom = 20\n",
    "t = stats.t.ppf(1 - alpha/2, df)   # two-tailed 95% confidence t-score = 2.086\n",
    "s = np.std(arr, ddof=1)            # sample standard deviation = 2.502\n",
    "n = len(arr)\n",
    "\n",
    "lower = np.mean(arr) - (t * s / np.sqrt(n))\n",
    "upper = np.mean(arr) + (t * s / np.sqrt(n))"
   ]
  },
  {
   "cell_type": "code",
   "execution_count": 6,
   "metadata": {},
   "outputs": [
    {
     "data": {
      "text/plain": [
       "(71.33139551903422, 75.19543685256606)"
      ]
     },
     "execution_count": 6,
     "metadata": {},
     "output_type": "execute_result"
    }
   ],
   "source": [
    "(lower, upper)"
   ]
  },
  {
   "cell_type": "markdown",
   "metadata": {},
   "source": [
    "<div style=\"margin-top: -20px\"></div>\n",
    "\n",
    "Or we can compute with <a href=\"https://docs.scipy.org/doc/scipy/reference/generated/scipy.stats.t.html\" arget=\"_blank\">scipy.stats.t.interval().</a> Note that you don't divide <code>alpha</code> by 2, because the function does that for you. Also note that the standard error $\\frac{s}{\\sqrt{n}}$ can be computed with <a href=\"https://docs.scipy.org/doc/scipy/reference/generated/scipy.stats.sem.html\" target=\"_blank\">scipy.stats.sem()</a>"
   ]
  },
  {
   "cell_type": "code",
   "execution_count": 7,
   "metadata": {},
   "outputs": [
    {
     "data": {
      "text/plain": [
       "(71.33139551903422, 75.19543685256606)"
      ]
     },
     "execution_count": 7,
     "metadata": {},
     "output_type": "execute_result"
    }
   ],
   "source": [
    "stats.t.interval(1 - alpha, len(arr) - 1, loc=np.mean(arr), scale=stats.sem(arr))"
   ]
  },
  {
   "cell_type": "markdown",
   "metadata": {},
   "source": [
    "<div style=\"margin-top: -20px\"></div>\n",
    "\n",
    "Note the default value of <code>loc=0</code> and <code>scale=1</code>. This will assume sample mean $\\mu$ to be 0, and standard error $\\frac{s}{\\sqrt{n}}$ to be 1, which assumes standard normal distribution of mean = 0 and standard deviation = 1. <u>This is NOT what we want.</u>"
   ]
  },
  {
   "cell_type": "code",
   "execution_count": 8,
   "metadata": {},
   "outputs": [
    {
     "data": {
      "text/plain": [
       "(-2.093024054408263, 2.093024054408263)"
      ]
     },
     "execution_count": 8,
     "metadata": {},
     "output_type": "execute_result"
    }
   ],
   "source": [
    "stats.t.interval(1 - alpha, len(arr) - 1)"
   ]
  },
  {
   "cell_type": "markdown",
   "metadata": {},
   "source": [
    "<div style=\"margin-top: 30px\" id=\"conf_int_of_diff_in_mean\"></div>\n",
    "\n",
    "### 2. Confidence interval of difference in mean\n",
    "\n",
    "Confidence interval of difference in mean is not very useful by itself. But it is important to understand how it works, because it forms the basis of one of the most widely used hypothesis test: <a href=\"https://www.investopedia.com/terms/t/t-test.asp\" target=\"_blank\">t-test</a>. \n",
    "\n",
    "Often we are interested in knowing if two distributions are significantly different. In the other words, we want to know if two sample data sets came from the same population by <a href=\"#\">comparing central tendency of populations</a>. A standard approach is to check if the sample means are different. However, this is a misleading approach in a sense that the means of samples are almost always different, even if the difference is microscopic. More useful would be to estimate the difference in a <i>range</i> to account for uncertainty, and compute probability that it is big enough to be of practical importance. T-test checks if the difference is \"close enough\" to zero by computing the confidence interval of difference in means.\n",
    "\n",
    "<u>T-test hypothesis</u>\n",
    "\n",
    "<div  style=\"font-size: 1rem;\">\n",
    "$$ H_0: \\mu_1 - \\mu_2 = 0 \\tag{2}$$\n",
    "</div>\n",
    "<div  style=\"font-size: 1rem;\">\n",
    "$$ H_1: \\mu_1 - \\mu_2 \\neq 0 \\tag{3}$$\n",
    "</div>\n",
    "\n",
    "<div class=\"eq-terms\">\n",
    "    <div class=\"row eq-terms-where\">where</div>\n",
    "    <div class=\"row\">\n",
    "        <div class=\"col-3\"><p>$\\mu$<p></div>\n",
    "        <div class=\"col-9\"><p>: sample mean<p></div>\n",
    "    </div> \n",
    "    <div class=\"row\">\n",
    "        <div class=\"col-3\"><p>$H_0$<p></div>\n",
    "        <div class=\"col-9\"><p>: null hypothesis — sample means are the same \"enough\"<p></div>\n",
    "    </div>\n",
    "    <div class=\"row\">\n",
    "        <div class=\"col-3\">$H_1$</div>\n",
    "        <div class=\"col-9\"><p>: alternate hypothesis — sample means are \"significantly\" different</p></div>\n",
    "    </div>    \n",
    "</div>\n",
    "\n",
    "Note that the above hypothesis tests whether the mean of one group is significantly DIFFERENT from the mean of the other group; we are using two-tailed test. This does not check if the mean of one group is significantly GREATER than the mean of the other group, which uses one-tailed test.\n",
    "\n",
    "<div id=\"anova\"></div>\n",
    "<div class=\"alert alert-info\">\n",
    "    <h4>Notes: Comparing means of more than two samples with ANOVA</h4>\n",
    "    <p>Analysis of variance (ANOVA) checks if the means of two or more samples are significantly different from each other. Using t-test is not reliable in cases where there are more than 2 samples. If we conduct multiple t-tests for comparing more than two samples, it will have a compounded effect on the error rate of the result.</p>\n",
    "    <p>ANOVA has the following hypothesis:</p>\n",
    "    <p><div style=\"font-size: 1rem; margin-top: 20px;\">$$ H_0: \\mu_1 = \\mu_2 = \\, \\cdots \\, =\\mu_L $$</div></p>\n",
    "    <p><div style=\"font-size: 1rem; margin-top: 20px;\">$$ H_1: \\mu_a \\neq \\mu_b $$</div></p>\n",
    "    <p>where $L$ is the number of groups, and $\\mu_a$ and $\\mu_b$ belong to any two sample means of any groups. <a href=\"https://www.analyticsvidhya.com/blog/2018/01/anova-analysis-of-variance/\" target=\"_blank\">This article</a> illustrates the concept of ANOVA very well.</p>\n",
    "</div>"
   ]
  },
  {
   "cell_type": "markdown",
   "metadata": {},
   "source": [
    "<div id=\"fig5\" class=\"row\" style=\"margin-top: 15px;\">\n",
    "    <div class=\"col\"><img src=\"jupyter_images/conf_int_diff_means.png\"></div>\n",
    "    <div class=\"col-12\"><p class=\"image-description\">Figure 5: Distributions of samples</p></div>\n",
    "</div>\n",
    "\n",
    "In <a href=\"#fig5\">figure (5)</a>, $\\mu$ represents the sample mean. If two sample data sets are from the same population, the distribution of means will be similar \"enough\". If not, they will be \"significantly\" different. It can be visually inspected by the area of overlap. The larger the overlap, the bigger the chance of the two distributions originating from the same population.\n",
    "\n",
    "The more robust way to compare sample means would be to construct the confidence interval of difference in means. If the two samples came from the same population, they should have the similar \"enough\" means. Their difference should be close to zero and satisfy (or fail to reject) the null hypothesis <span style=\"color: #ed7d32; font-weight: 500;\">$H_0: \\mu_1 - \\mu_2 = 0$</span> within a range of uncertainty. Consider the following figure:\n",
    "\n",
    "<div id=\"fig6\" class=\"row\" style=\"margin-top: 15px;\">\n",
    "    <div class=\"col\"><img src=\"jupyter_images/conf_int_diff_means_dist.png\"></div>\n",
    "    <div class=\"col-12\"><p class=\"image-description\">Figure 6: Distribution of difference in means</p></div>\n",
    "</div>\n",
    "\n",
    "In <a href=\"#fig6\">figure (6)</a>, the calculated difference in sample means is <span style=\"color: #70ad47; font-weight: 500;\">$\\mu_1 - \\mu_2 = 1.00$</span>. We deliver the uncertainty related to our estimation of difference in sample means by constructing its <span style=\"color: #385624; font-weight: 500;\">95% confidence interval $[$-1.31 ~ 3.31$]$</span>. Since the null hypothesis <span style=\"color: #ed7d32; font-weight: 500;\">$H_0: \\mu_1 - \\mu_2 = 0$</span> is within the 95% confidence interval (<span style=\"color: #929292; font-weight: 500;\">grey shaded area</span>), we accept the null hypothesis; we conclude that the samples have the same means within the uncertainty.\n",
    "\n",
    "However, if the null hypothesis is not within the confidence interval and falls in the **2.5% outliers** zone, we reject the null hypothesis and accept the alternate hypothesis <span style=\"color: #030303; font-weight: 500;\">$H_1: \\mu_1 - \\mu_2 \\neq 0$</span>. In the other words, we conclude that the sample means are significantly different."
   ]
  },
  {
   "cell_type": "markdown",
   "metadata": {},
   "source": [
    "<div style=\"margin: -20px\"></div>\n",
    "<div><hr></div>\n",
    "\n",
    "<div id=\"\"></div>\n",
    "<p style=\"color: #666\"><b>Three variations of confidence interval of difference in means</b><p>\n",
    "\n",
    "There are three variations of t-test, and therefore there are three variations of confidence interval of difference in means. The difference & application of the three variations are really well-explained in <a href=\"https://en.wikipedia.org/wiki/Student%27s_t-test\" target=\"_blank\">Wikipedia</a> (one of the few that are actually easy to understand, with minimum jargons.)\n",
    "\n",
    "<ol class=\"rounded-list\" style=\"margin-bottom: 40px !important; margin-top: 40px! important;\">\n",
    "    <li><a href=\"#ind_equal\">Independent (unpaired) samples, equal variance - Student's t-interval</a></li>\n",
    "    <li><a href=\"#ind_unequal\">Independent (unpaired) samples, unequal variance - Welch's t-interval</a></li>\n",
    "    <li><a href=\"#dep\">Dependent (paired) samples</a></li>\n",
    "</ol>\n",
    "\n",
    "Recall that all t-tests assume normality of data. However, they are pretty robust to non-normality as long as the deviation from normality isn't large. Visualize your distributions to test this. Robustness of t-test to non-normality is discussed in detail <a href=\"robustness\">below</a>."
   ]
  },
  {
   "cell_type": "markdown",
   "metadata": {},
   "source": [
    "<div id=\"ind_equal\"></div>\n",
    "\n",
    "#### A. Independent (unpaired) samples, equal variance - student's t-interval\n",
    "\n",
    "When you have a reason to believe that samples have nearly equal variances, you can use student's t-test to check if difference in means are significantly different. Note that student's t-test works pretty well even with unequal variances as long as sample sample sizes are equal or nearly equal, and sample sizes are not tiny. \n",
    "\n",
    "However, it is recommended to always use Welch's t-test by assuming unequal variances, as explained <a href=\"#which_to_use\">below</a>. Use student's t-test if you are ABSOLUTELY sure that the population variances are nearly equal. \n",
    "\n",
    "Confidence interval of difference in mean assuming equal variance (student's t-interval) can be calculated as follows:\n",
    "\n",
    "<div id=\"eq-4\" style=\"font-size: 1rem;\">\n",
    "$$ \\text{C.I.}_{\\Delta \\text{mean}}: \\quad (\\mu_{1}- \\mu_{2}) \\pm (t_{1-\\frac{\\alpha}{2},df} \\times s_p\\sqrt{\\frac{1}{n_1}+\\frac{1}{n_2}})\\,, \\quad s_p = \\sqrt{\\frac{(n_1-1)s_{1}^2 + (n_2-1)s_{2}^2}{n_1+n_2-2}} \\tag{4}$$\n",
    "</div>\n",
    "\n",
    "<div class=\"eq-terms\">\n",
    "    <div class=\"row eq-terms-where\">where</div>\n",
    "    <div class=\"row\">\n",
    "        <div class=\"col-3\"><p>$\\mu$<p></div>\n",
    "        <div class=\"col-9\"><p>: sample mean<p></div>\n",
    "    </div>\n",
    "    <div class=\"row\">\n",
    "        <div class=\"col-3\">$\\alpha$</div>\n",
    "        <div class=\"col-9\">: <a href=\"#\">significance level</a></div>\n",
    "    </div>    \n",
    "    <div class=\"row\">\n",
    "        <div class=\"col-3\"><p>$n$<p></div>\n",
    "        <div class=\"col-9\"><p>: number of samples<p></div>\n",
    "    </div>\n",
    "    <div class=\"row\">\n",
    "        <div class=\"col-3\"><p>$df$<p></div>\n",
    "        <div class=\"col-9\"><p>: degrees of freedom<p></div>\n",
    "    </div>    \n",
    "    <div class=\"row\">\n",
    "        <div class=\"col-3\">$s_p$</div>\n",
    "        <div class=\"col-9\">: pooled standard deviation</div>\n",
    "    </div>  \n",
    "    <div class=\"row\">\n",
    "        <div class=\"col-3\">$s$</div>\n",
    "        <div class=\"col-9\">: sample standard deviation</div>\n",
    "    </div>   \n",
    "    <div class=\"row\">\n",
    "        <div class=\"col-3\">$t$</div>\n",
    "        <div class=\"col-9\">: t-score. depends on $\\alpha$ and degrees of freedom $n-1$</div>\n",
    "    </div>   \n",
    "</div>\n",
    "\n",
    "The formula for the pooled standard deviation $s_p$ looks a bit overwhelming, but its just an weighted average standard deviation of two samples, with <a href=\"#sample_pop_var\">bias correction factor</a> $n_i-1$ for each sample. Recall that student's t-test assumes equal variances of two samples. You calculate what is assumed to be the common variance (=pooled variance, $s_p^2$) by computing the weighted average from each sample's variance.\n",
    "\n",
    "In <a href=\"#eq-4\">eq (4)</a>, $t$-score depends on significance level $\\alpha$ and degrees of freedom $df$. In student's t-test, which assumes equal variance:\n",
    "\n",
    "<div id=\"eq-5\" style=\"font-size: 1rem;\">\n",
    "$$ df = n_1 + n_2 -2 \\tag{5}$$\n",
    "</div>"
   ]
  },
  {
   "cell_type": "markdown",
   "metadata": {},
   "source": [
    "<div><hr></div>\n",
    "\n",
    "<div id=\"python_ind_equal\"></div>\n",
    "<p style=\"color: #666\"><b>Pythonic Tip:</b> Computing student's t-interval<p>\n",
    "\n",
    "Unfortunately, SciPy doesn't support computing confidence intereval of difference in mean separately. It is incorporated into computing t-statistic and p-value of t-test, but users can't access its underlying confidence interval. Note that in R, users have access to the CI of difference in means.\n",
    "\n",
    "We can compute CI of difference in means assuming equal variance with <a href=\"eq-4\">eq (4)</a>. Don't forget to compute sample variance, instead of population variance by setting <code>ddof=1</code> as explained <a href=\"#python_variance\">above</a>.\n",
    "    \n",
    "<div style=\"margin-bottom: -20px\"></div>"
   ]
  },
  {
   "cell_type": "code",
   "execution_count": 182,
   "metadata": {},
   "outputs": [],
   "source": [
    "from scipy import stats\n",
    "import numpy as np\n",
    "\n",
    "np.random.seed(42)"
   ]
  },
  {
   "cell_type": "code",
   "execution_count": 183,
   "metadata": {},
   "outputs": [],
   "source": [
    "x1 = [12.9, 10.2, 7.4, 7.0, 10.5, 11.9, 7.1, 9.9, 14.4, 11.3]\n",
    "x2 = [10.2, 6.9, 10.9, 11.0, 10.1, 5.3, 7.5, 10.3, 9.2, 8.8]\n",
    "\n",
    "alpha = 0.05                                                 # significance level = 5%\n",
    "n1, n2 = len(x1), len(x2)                                    # sample sizes\n",
    "s1, s2 = np.var(x1, ddof=1), np.var(x2, ddof=1)              # sample variances\n",
    "s = np.sqrt(((n1 - 1) * s1 + (n2 - 1) * s2) / (n1 + n2 - 2)) # pooled standard deviation\n",
    "df = n1 + n2 - 2                                             # degrees of freedom\n",
    "t = stats.t.ppf(1 - alpha/2, df)                             # two-tailed 95% confidence t-score\n",
    "\n",
    "lower = (np.mean(x1) - np.mean(x2)) - t * np.sqrt(1 / len(x1) + 1 / len(x2)) * s\n",
    "upper = (np.mean(x1) - np.mean(x2)) + t * np.sqrt(1 / len(x1) + 1 / len(x2)) * s"
   ]
  },
  {
   "cell_type": "code",
   "execution_count": 184,
   "metadata": {},
   "outputs": [
    {
     "data": {
      "text/plain": [
       "(-0.8520326742900641, 3.332032674290068)"
      ]
     },
     "execution_count": 184,
     "metadata": {},
     "output_type": "execute_result"
    }
   ],
   "source": [
    "(lower, upper)"
   ]
  },
  {
   "cell_type": "markdown",
   "metadata": {},
   "source": [
    "<div style=\"margin-top: -20px\"></div>\n",
    "\n",
    "The 95% confidence interval of difference in means has 0 within its interval. This means that the null hypothesis, <span style=\"color: #ed7d32; font-weight: 500; font-size: 0.85rem;\">$H_0: \\mu_1 - \\mu_2 = 0$</span> in <a href=\"#fig6\">figure (6)</a>, falls within the interval and we fail to reject the null hypothesis. We conclude that the sample means are not significantly different.\n",
    "\n",
    "We can confirm this by running a formal hypothesis testing with <a href=\"https://docs.scipy.org/doc/scipy/reference/generated/scipy.stats.ttest_ind.html\" target=\"_blank\">scipy.stats.ttest_ind()</a>, and setting <code>equal_var=True</code>. Note that this assumes independent t-test with pooled variance, which is equivalent to student's t-test."
   ]
  },
  {
   "cell_type": "code",
   "execution_count": 185,
   "metadata": {},
   "outputs": [
    {
     "data": {
      "text/plain": [
       "Ttest_indResult(statistic=1.2452689491491107, pvalue=0.22900078577218805)"
      ]
     },
     "execution_count": 185,
     "metadata": {},
     "output_type": "execute_result"
    }
   ],
   "source": [
    "stats.ttest_ind(x1, x2, equal_var=True)"
   ]
  },
  {
   "cell_type": "markdown",
   "metadata": {},
   "source": [
    "<div style=\"margin-top: -20px\"></div>\n",
    "\n",
    "The computed <code>pvalue=0.229</code> is bigger than the significance level of <code>alpha = 0.05</code>, and therefore we fail to reject the null hypothesis, which is consistent with the conclusion drawn from the confidence interval of difference in mean.\n",
    "\n",
    "<div><hr></div>\n",
    "\n",
    "<p><u>Checking results with R</u>:</p>\n",
    "<pre>\n",
    "    <code class=\"language-python\">\n",
    "        a <- c(12.9, 10.2, 7.4, 7.0, 10.5, 11.9, 7.1, 9.9, 14.4, 11.3)\n",
    "\n",
    "        b <- c(10.2, 6.9, 10.9, 11.0, 10.1, 5.3, 7.5, 10.3, 9.2, 8.8)\n",
    "\n",
    "        t.test(a, b, var.equal = TRUE)\n",
    "         \n",
    "        # \tTwo Sample t-test\n",
    "\n",
    "        # data:  a and b\n",
    "        # t = 1.2453, df = 18, p-value = 0.229\n",
    "        # 95 percent confidence interval:\n",
    "        #  -0.8520327  3.3320327\n",
    "        # sample estimates:\n",
    "        # mean of x mean of y \n",
    "        #     10.26      9.02 \n",
    "    </code>\n",
    "</pre>\n"
   ]
  },
  {
   "cell_type": "markdown",
   "metadata": {},
   "source": [
    "<div id=\"ind_unequal\"></div>\n",
    "\n",
    "#### B. Independent (unpaired) samples, unequal variance - Welch's t-interval\n",
    "\n",
    "When comparing central tendency of normal distributions, it is safer, and therefore recommended to always use Welch's t-test, which assumes unequal variances of samples, as explained <a href=\"#which_to_use\">below</a>. Equal variance t-test is not robust when population variances are different, but unequal variances are robust even when population variances are equal. \n",
    "\n",
    "Confidence interval of difference in mean assuming unequal variance (Welch's t-interval) can be calculated as follows:\n",
    "\n",
    "<div id=\"eq-6\" style=\"font-size: 1rem;\">\n",
    "$$ \\text{C.I.}_{\\Delta \\text{mean}}: \\quad (\\mu_{1}- \\mu_{2}) \\pm (t_{1-\\frac{\\alpha}{2},df} \\times \\sqrt{\\frac{s_1^2}{n_1}+\\frac{s_2^2}{n_2}}) \\tag{6}$$\n",
    "</div>\n",
    "\n",
    "<div class=\"eq-terms\">\n",
    "    <div class=\"row eq-terms-where\">where</div>\n",
    "    <div class=\"row\">\n",
    "        <div class=\"col-3\"><p>$\\mu$<p></div>\n",
    "        <div class=\"col-9\"><p>: sample mean<p></div>\n",
    "    </div>\n",
    "    <div class=\"row\">\n",
    "        <div class=\"col-3\">$\\alpha$</div>\n",
    "        <div class=\"col-9\">: <a href=\"#\">significance level</a></div>\n",
    "    </div>    \n",
    "    <div class=\"row\">\n",
    "        <div class=\"col-3\"><p>$n$<p></div>\n",
    "        <div class=\"col-9\"><p>: number of samples<p></div>\n",
    "    </div>\n",
    "    <div class=\"row\">\n",
    "        <div class=\"col-3\"><p>$df$<p></div>\n",
    "        <div class=\"col-9\"><p>: degrees of freedom<p></div>\n",
    "    </div>    \n",
    "    <div class=\"row\">\n",
    "        <div class=\"col-3\">$s$</div>\n",
    "        <div class=\"col-9\">: sample standard deviation</div>\n",
    "    </div>   \n",
    "    <div class=\"row\">\n",
    "        <div class=\"col-3\">$t$</div>\n",
    "        <div class=\"col-9\">: t-score. depends on $\\alpha$ and degrees of freedom $n-1$</div>\n",
    "    </div>   \n",
    "</div>\n",
    "\n",
    "The formula is very similar to student's t-interval. There are two main differences:\n",
    "\n",
    "<p style=\"padding-left: 20px;\">1.  We use each sample's own variance $s_1^2$ and $s_2^2$, instead of pooled (weighted average) variance $s_p^2$.</p>\n",
    "<p style=\"padding-left: 20px;\">2.  Degrees of freedom <span style=\"font-size: 0.85rem;\">$df$</span> is computed with <a href=\"#eq-7\">eq (7).</a></p>\n",
    "\n",
    "<div id=\"eq-7\" style=\"font-size: 1rem;\">\n",
    "$$ df = \\frac{(\\frac{s^2_1}{n_1} + \\frac{s^2_2}{n_2})^2}{\\frac{(s^2_1/n_1)^2}{n_1-1} + \\frac{(s^2_2/n_2)^2}{n_2-1}} \\tag{7}$$\n",
    "</div>"
   ]
  },
  {
   "cell_type": "markdown",
   "metadata": {},
   "source": [
    "<div><hr></div>\n",
    "\n",
    "<div id=\"python_ind_unequal\"></div>\n",
    "<p style=\"color: #666\"><b>Pythonic Tip:</b> Computing Welch's t-interval<p>\n",
    "\n",
    "The procedure is very similar to <a href=\"#python_ind_equal\">Computing student's t-interval</a>. We will compute confidence interval of difference in mean assuming unequal variance, with <a href=\"#eq-6\">eq (6).</a> Although Scipy supports computing t-statistic for Welch's t-test, it doesn't support a function that allows us to compute Welch's t-interval. We will have to write our own codes to compute it. \n",
    "\n",
    "Don't forget to compute sample variance, instead of population variance by setting <code>ddof=1</code> as explained <a href=\"#python_variance\">above</a>.\n",
    "    \n",
    "<div style=\"margin-bottom: -20px\"></div>"
   ]
  },
  {
   "cell_type": "code",
   "execution_count": 186,
   "metadata": {},
   "outputs": [],
   "source": [
    "from scipy import stats\n",
    "import numpy as np\n",
    "\n",
    "np.random.seed(42)"
   ]
  },
  {
   "cell_type": "code",
   "execution_count": 187,
   "metadata": {},
   "outputs": [],
   "source": [
    "x1 = [12.9, 10.2, 7.4, 7.0, 10.5, 11.9, 7.1, 9.9, 14.4, 11.3]\n",
    "x2 = [10.2, 6.9, 10.9, 11.0, 10.1, 5.3, 7.5, 10.3, 9.2, 8.8]\n",
    "\n",
    "alpha = 0.05                                                       # significance level = 5%\n",
    "n1, n2 = len(x1), len(x2)                                          # sample sizes\n",
    "s1, s2 = np.var(x1, ddof=1), np.var(x2, ddof=1)                    # sample variances\n",
    "df = (s1/n1 + s2/n2)**2 / ((s1/n1)**2/(n1-1) + (s2/n2)**2/(n2-1))  # degrees of freedom\n",
    "t = stats.t.ppf(1 - alpha/2, df)                                   # two-tailed 95% confidence t-score\n",
    "\n",
    "lower = (np.mean(x1) - np.mean(x2)) - t * np.sqrt(1 / len(x1) + 1 / len(x2)) * s\n",
    "upper = (np.mean(x1) - np.mean(x2)) + t * np.sqrt(1 / len(x1) + 1 / len(x2)) * s"
   ]
  },
  {
   "cell_type": "code",
   "execution_count": 188,
   "metadata": {},
   "outputs": [
    {
     "data": {
      "text/plain": [
       "(-0.8633815129922358, 3.3433815129922397)"
      ]
     },
     "execution_count": 188,
     "metadata": {},
     "output_type": "execute_result"
    }
   ],
   "source": [
    "(lower, upper)"
   ]
  },
  {
   "cell_type": "markdown",
   "metadata": {},
   "source": [
    "<div style=\"margin-top: -20px\"></div>\n",
    "\n",
    "The 95% confidence interval of difference in means has 0 within its interval. This means that the null hypothesis, <span style=\"color: #ed7d32; font-weight: 500; font-size: 0.85rem;\">$H_0: \\mu_1 - \\mu_2 = 0$</span> in <a href=\"#fig6\">figure (6)</a>, falls within the interval and we fail to reject the null hypothesis. We conclude that the sample means are not significantly different.\n",
    "\n",
    "We can confirm this by running a formal hypothesis testing with <a href=\"https://docs.scipy.org/doc/scipy/reference/generated/scipy.stats.ttest_ind.html\" target=\"_blank\">scipy.stats.ttest_ind()</a>, and setting <code>equal_var=False</code>. Note that this assumes independent t-test with pooled variance, which is equivalent to student's t-test."
   ]
  },
  {
   "cell_type": "code",
   "execution_count": 189,
   "metadata": {},
   "outputs": [
    {
     "data": {
      "text/plain": [
       "Ttest_indResult(statistic=1.245268949149111, pvalue=0.23018336828903668)"
      ]
     },
     "execution_count": 189,
     "metadata": {},
     "output_type": "execute_result"
    }
   ],
   "source": [
    "stats.ttest_ind(x1, x2, equal_var=False)"
   ]
  },
  {
   "cell_type": "markdown",
   "metadata": {},
   "source": [
    "<div style=\"margin-top: -20px\"></div>\n",
    "\n",
    "The computed <code>pvalue=0.230</code> is bigger than the significance level of <code>alpha = 0.05</code>, and therefore we fail to reject the null hypothesis, which is consistent with the conclusion drawn from the confidence interval of difference in mean.\n",
    "\n",
    "\n",
    "<div><hr></div>\n",
    "\n",
    "<p><u>Checking results with R</u>:</p>\n",
    "<pre>\n",
    "    <code class=\"language-python\">\n",
    "        a <- c(12.9, 10.2, 7.4, 7.0, 10.5, 11.9, 7.1, 9.9, 14.4, 11.3)\n",
    "\n",
    "        b <- c(10.2, 6.9, 10.9, 11.0, 10.1, 5.3, 7.5, 10.3, 9.2, 8.8)\n",
    "\n",
    "        t.test(a, b, var.equal = FALSE)\n",
    "\n",
    "        # \tWelch Two Sample t-test\n",
    "\n",
    "        # data:  a and b\n",
    "        # t = 1.2453, df = 16.74, p-value = 0.2302\n",
    "        # alternative hypothesis: true difference in means is not equal to 0\n",
    "        # 95 percent confidence interval:\n",
    "        #  -0.8633815  3.3433815\n",
    "        # sample estimates:\n",
    "        # mean of x mean of y \n",
    "        #     10.26      9.02 \n",
    "\n",
    "    </code>\n",
    "</pre>"
   ]
  },
  {
   "cell_type": "markdown",
   "metadata": {},
   "source": [
    "<div id=\"dep\"></div>\n",
    "\n",
    "#### C. Dependent (paired) samples - Paired t-interval\n",
    "\n",
    "This test is used when the samples are dependent; that is, when there is only one sample that has been tested twice (repeated measures) or when there are two samples that have been matched or \"paired\" (paired or unpaired? read <a href=\"#which_to_use\">below.</a>)\n",
    "\n",
    "Confidence interval of difference in means assuming paired samples can be calculated as follows:\n",
    "\n",
    "<div id=\"eq-8\" style=\"font-size: 1rem;\">\n",
    "$$ \\text{C.I.}_{\\Delta \\text{mean}}: \\quad \\bar{d} \\pm (t_{1-\\frac{\\alpha}{2}, df} \\times \\frac{s_d}{\\sqrt{n}})\\tag{8}$$\n",
    "</div>\n",
    "\n",
    "<div class=\"eq-terms\">\n",
    "    <div class=\"row eq-terms-where\">where</div>\n",
    "    <div class=\"row\">\n",
    "        <div class=\"col-3\"><p>$\\bar{d}$<p></div>\n",
    "        <div class=\"col-9\"><p>: average of sample differences<p></div>\n",
    "    </div>\n",
    "    <div class=\"row\">\n",
    "        <div class=\"col-3\">$\\alpha$</div>\n",
    "        <div class=\"col-9\">: <a href=\"#\">significance level</a></div>\n",
    "    </div>    \n",
    "    <div class=\"row\">\n",
    "        <div class=\"col-3\"><p>$n$<p></div>\n",
    "        <div class=\"col-9\"><p>: number of samples<p></div>\n",
    "    </div>\n",
    "    <div class=\"row\">\n",
    "        <div class=\"col-3\"><p>$df$<p></div>\n",
    "        <div class=\"col-9\"><p>: degrees of freedom<p></div>\n",
    "    </div>    \n",
    "    <div class=\"row\">\n",
    "        <div class=\"col-3\">$s$</div>\n",
    "        <div class=\"col-9\">: standard deviation of sample differences</div>\n",
    "    </div>   \n",
    "    <div class=\"row\">\n",
    "        <div class=\"col-3\">$t$</div>\n",
    "        <div class=\"col-9\">: t-score. depends on $\\alpha$ and degrees of freedom $n-1$</div>\n",
    "    </div>   \n",
    "</div>\n",
    "\n",
    "The equation is very similar to <a href=\"#eq-1\">eq (1)</a>, except that we are computing mean and standard deviation of differences between before & after state of test subjects. Let's try to understand this with an example.\n",
    "\n",
    "A school develops a tutoring program to improve the SAT scores of high school students. A school requires students to take tests before & after tutoring, and checks if the tutoring had a significant impact on the SAT scores of students. Because the test subjects are compared to themselves, not anyone elses, the measurements taken before & after the training are not independent.\n",
    "\n",
    "To compute dependent t-interval, we compute differences of test scores before & after tutoring:\n",
    "\n",
    "<table>\n",
    "    <thead>\n",
    "        <tr>\n",
    "            <th>Student #</th>\n",
    "            <th>$X_1$</th>\n",
    "            <th>$X_2$</th>\n",
    "            <th>$X_1$ - $X_2$</th>\n",
    "        </tr>\n",
    "    </thead>\n",
    "    <tbody>\n",
    "        <tr>\n",
    "            <td>1</td>\n",
    "            <td>1480</td>\n",
    "            <td>1510</td>\n",
    "            <td>-30</td>\n",
    "        </tr>\n",
    "        <tr>\n",
    "            <td>2</td>\n",
    "            <td>1280</td>\n",
    "            <td>1460</td>\n",
    "            <td>-180</td>\n",
    "        </tr>\n",
    "        <tr>\n",
    "            <td>3</td>\n",
    "            <td>890</td>\n",
    "            <td>1320</td>\n",
    "            <td>-430</td>\n",
    "        </tr>\n",
    "        <tr>\n",
    "            <td>4</td>\n",
    "            <td>340</td>\n",
    "            <td>700</td>\n",
    "            <td>-360</td>\n",
    "        </tr>\n",
    "        <tr>\n",
    "            <td>5</td>\n",
    "            <td>1550</td>\n",
    "            <td>1550</td>\n",
    "            <td>0</td>\n",
    "        </tr>\n",
    "        <tr>\n",
    "            <td>6</td>\n",
    "            <td>1230</td>\n",
    "            <td>1420</td>\n",
    "            <td>-190</td>\n",
    "        </tr>\n",
    "        <tr>\n",
    "            <td>7</td>\n",
    "            <td>1010</td>\n",
    "            <td>1340</td>\n",
    "            <td>-330</td>\n",
    "        </tr>\n",
    "        <tr>\n",
    "            <td>8</td>\n",
    "            <td>1590</td>\n",
    "            <td>1570</td>\n",
    "            <td>20</td>\n",
    "        </tr>\n",
    "        <tr>\n",
    "            <td>9</td>\n",
    "            <td>1390</td>\n",
    "            <td>1500</td>\n",
    "            <td>-110</td>\n",
    "        </tr>\n",
    "        <tr>\n",
    "            <td>10</td>\n",
    "            <td>980</td>\n",
    "            <td>1300</td>\n",
    "            <td>-320</td>\n",
    "        </tr>       \n",
    "    </tbody>\n",
    "</table>\n",
    "\n",
    "We find $\\bar{d}$ = -193.0, and $s_d$ = 161.7. These values are plugged into <a href=\"#eq-8\">eq (8).</a> Degrees of freedom $df$ for dependent t-interval can be computed with:\n",
    "\n",
    "<div id=\"eq-9\" style=\"font-size: 1rem;\">\n",
    "$$ df = n - 1 \\tag{9}$$\n",
    "</div>\n",
    "\n",
    "Unlike independent t-test, in which two samples can have different sample sizes $n_1$ and $n_2$, depedent t-test has only one sample size, because the test subjects are compared to themselves.\n",
    "\n",
    "Also note that dependent t-test assumes difference of test scores to be normally distributed, not test scores of students themselves. But as long as the test scores are normally distributed, the difference of test scores will also be normally distributed due to the property of normal distributions."
   ]
  },
  {
   "cell_type": "markdown",
   "metadata": {},
   "source": [
    "<div><hr></div>\n",
    "\n",
    "<div id=\"python_dep\"></div>\n",
    "<p style=\"color: #666\"><b>Pythonic Tip:</b> Computing paired t-interval<p>\n",
    "    \n",
    "Although Scipy supports computing t-statistic for dependent t-test, it doesn't support a function that allows us to compute dependent t-interval. We will have to write our own codes to compute it.\n",
    "\n",
    "Don't forget to compute sample standard devaition, instead of population standard deviation by setting <code>ddof=1</code> as explained <a href=\"#python_variance\">above</a>.\n",
    "\n",
    "<div style=\"margin-bottom: -20px\"></div>"
   ]
  },
  {
   "cell_type": "code",
   "execution_count": 190,
   "metadata": {},
   "outputs": [],
   "source": [
    "from scipy import stats\n",
    "import numpy as np\n",
    "\n",
    "np.random.seed(42)"
   ]
  },
  {
   "cell_type": "code",
   "execution_count": 191,
   "metadata": {},
   "outputs": [],
   "source": [
    "x1 = np.array([1480, 1280, 890, 340, 1550, 1230, 1010, 1590, 1390, 980])\n",
    "x2 = np.array([1510, 1460, 1320, 700, 1550, 1420, 1340, 1570, 1500, 1300])\n",
    "\n",
    "alpha = 0.05                        # significance level = 5%\n",
    "d_bar = np.mean(x1 - x2)            # average of sample differences\n",
    "s_d = np.std(x1 - x2, ddof=1)       # sample standard deviation of sample differences\n",
    "n = len(x1)                         # sample size\n",
    "df = n - 1                          # degrees of freedom\n",
    "t = stats.t.ppf(1 - alpha/2, df)    # two-tailed 95% confidence t-score\n",
    "\n",
    "lower = d_bar - t * s_d / np.sqrt(n)\n",
    "upper = d_bar + t * s_d / np.sqrt(n)"
   ]
  },
  {
   "cell_type": "code",
   "execution_count": 192,
   "metadata": {},
   "outputs": [
    {
     "data": {
      "text/plain": [
       "(-308.64567899681356, -77.35432100318641)"
      ]
     },
     "execution_count": 192,
     "metadata": {},
     "output_type": "execute_result"
    }
   ],
   "source": [
    "(lower, upper)"
   ]
  },
  {
   "cell_type": "markdown",
   "metadata": {},
   "source": [
    "<div style=\"margin-top: -20px\"></div>\n",
    "\n",
    "The 95% confidence interval of difference in means for dependent samples does not have 0 within its interval. This means that the null hypothesis, <span style=\"color: #ed7d32; font-weight: 500; font-size: 0.85rem;\">$H_0: \\mu_1 - \\mu_2 = 0$</span> in <a href=\"#fig6\">figure (6)</a>, does not fall within the interval. Instead, our estimation falls within the 2.5% outlier zone on the left, <span style=\"color: black; font-weight: 500; font-size: 0.85rem;\">$H_1: \\mu_1 - \\mu_2 \\neq 0$</span>. We reject the null hypothesis $H_0$, and accept the alternate hypothesis $H_1$. We conclude that the sample means are significantly different.\n",
    "\n",
    "We can confirm this by running a formal hypothesis testing with <a href=\"https://docs.scipy.org/doc/scipy/reference/generated/scipy.stats.ttest_rel.html\" target=\"_blank\">scipy.stats.ttest_rel().</a> Note that this assumes dependent t-test."
   ]
  },
  {
   "cell_type": "code",
   "execution_count": 193,
   "metadata": {},
   "outputs": [
    {
     "data": {
      "text/plain": [
       "Ttest_relResult(statistic=-3.7752930865755987, pvalue=0.004380623368522125)"
      ]
     },
     "execution_count": 193,
     "metadata": {},
     "output_type": "execute_result"
    }
   ],
   "source": [
    "stats.ttest_rel(x1, x2)"
   ]
  },
  {
   "cell_type": "markdown",
   "metadata": {},
   "source": [
    "<div style=\"margin-top: -20px\"></div>\n",
    "\n",
    "The computed <code>pvalue=0.004</code> is smaller than the significance level of <code>alpha = 0.05</code>, and therefore we reject the null hypothesis and accept the alternate hypothesis, which is consistent with the conclusion drawn from the confidence interval of difference in mean.\n",
    "\n",
    "**Notes**: The above hypothesis testing answers the question of \"Did this tutoring program had a significant impact on the SAT scores of students?\". However, in cases like this, a more intuitive question is \"Did this tutoring program significantly <i>improve</i> the SAT scores of students?\" The former uses two-tailed test, and the latter uses one-tailed test, and the procedures for them are a different. They are a little confusing. More explanation of one-tailed test vs two-tailed test is covered <a href=\"#\">below</a>.\n",
    "\n",
    "<div><hr></div>\n",
    "\n",
    "<p><u>Checking results with R</u>:</p>\n",
    "<pre>\n",
    "    <code class=\"language-python\">\n",
    "        x1 = c(1480, 1280, 890, 340, 1550, 1230, 1010, 1590, 1390, 980)\n",
    "        x2 = c(1510, 1460, 1320, 700, 1550, 1420, 1340, 1570, 1500, 1300)\n",
    "\n",
    "        t.test(x1, x2, paired=TRUE)  \n",
    "\n",
    "        #     Paired t-test\n",
    "\n",
    "        # data:  x1 and x2\n",
    "        # t = -3.7753, df = 9, p-value = 0.004381\n",
    "        # alternative hypothesis: true difference in means is not equal to 0\n",
    "        # 95 percent confidence interval:\n",
    "        #  -308.64568  -77.35432\n",
    "        # sample estimates:\n",
    "        # mean of the differences \n",
    "        #                    -193 \n",
    "    </code>\n",
    "</pre>"
   ]
  },
  {
   "cell_type": "markdown",
   "metadata": {},
   "source": [
    "<div id=\"which_to_use\"></div>\n",
    "<div class=\"alert alert-info\">\n",
    "    <h4>Notes: Deciding which t-test to use</h4>\n",
    "    <p><u>Equal or unequal variance?</u></p>\n",
    "    <p style=\"padding-left: 1rem !important\">Long story short, always assume unequal variance of samples when using t-test or constructing confidence interval of difference in means.</p>\n",
    "    <p style=\"padding-left: 1rem !important\">Student's t-test is used for samples of equal variance, and Welch's t-test is used for samples of unequal variance. A natural question is, how do you know which test to use? While there exist techniques to check homogeneity of variances (f-test, Barlett's test, Levene's test), it is dangerous to run hypothesis testing for equality of variances to decide which t-test to use (student's t-test or Welch's t-test), because it increases Type I error (asserting something that is absent, false positive). This is shown by <a href=\"https://www.jstor.org/stable/2684403?seq=1#page_scan_tab_contents\" target=\"_blank\">Moser and Stevens (1992)</a> and <a href=\"https://onlinelibrary.wiley.com/doi/abs/10.1348/000711005X62576\" target=\"_blank\">Hayes and Cai (2010).</a></p>\n",
    "    <p style=\"padding-left: 1rem !important\"><a href=\"https://link.springer.com/article/10.1007/s00362-009-0224-x\" target=\"_blank\">Kubinger, Rasch and Moder (2009)</a> argue that when the assumptions of normality and homogeneity of variances are met, Welch's t-test performs equally well, but outperforms when the assumptions are not met. <a href=\"https://academic.oup.com/beheco/article/17/4/688/215960\" target=\"_blank\">Ruxton (2006)</a> argues that the <i>\"unequal variance t-test should always be used in preference to the Student's t-test\"</i> (Note: what he means by \"always\" is assuming normality of distribution)</p>    \n",
    "    <p style=\"padding-left: 1rem !important\">Also note that R uses Welch's t-test as the default for the <code>t.test()</code> function.</p>\n",
    "    <p><u>Independent (unpaired) or dependent (paired) samples?</u></p>\n",
    "    <p style=\"padding-left: 1rem !important\">Paired t-test compares the same subjects at 2 different times . Unpaired t-test compares two different subjects.</p>\n",
    "    <p style=\"padding-left: 1rem !important\">Samples are <i>independent (unpaired)</i> if one measurement is taken on different groups. For example in medical treament, group A is a control group, and is given a placebo with no medical effect. Group B is a test group, and receives a prescribed treatment with expected medical effect. Health check is applied on two groups, and the measurements are recorded. We say that the measurement from group A is independent from that of group B.<p>\n",
    "    <p style=\"padding-left: 1rem !important\">Samples are <i>dependent (paired)</i> when repeated measures are taken on the same or related subjects. For example, there may be instances of the same patients being tested repeatedly - before and after receiving a particular treatment. In such cases, each patient is being used as a control sample against themselves. This method also applies to cases where the samples are related in some manner or have matching characteristics, like a comparative analysis involving children, parents or siblings.</p>\n",
    "    <p style=\"padding-left: 1rem !important\">If you have a reason to believe that samples are correlated in any ways, it is recommended to use dependent test to reduce the effect of <a href=\"https://www.statisticshowto.datasciencecentral.com/experimental-design/confounding-variable/\" target=\"_blank\">confounding factors</a>.</p>\n",
    "</div>"
   ]
  },
  {
   "cell_type": "markdown",
   "metadata": {},
   "source": [
    "<div style=\"margin-top: 30px\" id=\"#conf_int_of_var\"></div>\n",
    "\n",
    "### 3. Confidence interval of variance\n",
    "\n",
    "Means can be the same, but their std can be different. One team is pretty consistent from game to game, but the other team fluctuates a lot. Which team has the smaller score variance? -> plays a very important role in quality assurance and operations management\n",
    "\n",
    "Variance is chi-square distributed. But how is it related to the actual data we collect?\n",
    "\n",
    "$$\\chi^2 = \\frac{(n-1)s^2}{\\sigma^2}$$\n",
    "\n",
    "$$\\chi_{.975}^{2} < \\chi^2 < \\chi_{.025}^{2}$$\n",
    "\n",
    "$$ \\text{C.I.}_{\\text{variance}}: \\frac{(n-1)s^{2}}{\\chi^{2}_{\\frac{\\alpha}{2}}} \\leq \\sigma^2 \\leq \\frac{(n-1)s^{2}}{\\chi^{2}_{1-\\frac{\\alpha}{2}}}$$\n",
    "\n",
    "<code>stats.chi2.ppf(0.975, 11) = 21.92</code>\n",
    "\n",
    "We are estimating population variance. \n",
    "\n",
    "This volatility is one way of interpreting risk. The trade-off of risk vs. reward."
   ]
  },
  {
   "cell_type": "markdown",
   "metadata": {},
   "source": [
    "## Robustness of variance to non-normality\n",
    "\n",
    "Standard deviations are a bit more sensitive to outliers than means are -- when you put in an outlier, you tend to push the one-sample t-statistic toward 1 or -1.\n",
    "\n",
    "https://stats.stackexchange.com/questions/193117/why-is-high-positive-kurtosis-problematic-for-hypothesis-tests"
   ]
  },
  {
   "cell_type": "code",
   "execution_count": null,
   "metadata": {},
   "outputs": [],
   "source": []
  },
  {
   "cell_type": "markdown",
   "metadata": {},
   "source": [
    "## Robustness of confidence intervals to non-normality\n",
    "\n",
    "All of the discussions above assume normality of data set. Conclusions drawn from confidence intervals and hypothesis testing may be inaccurate, or completely wrong if the underlying assumptions are not met. This sections discusses why the assumption of normality is important, robustness of statistical estimations in regards to deviation from normality, and non-parametric alternatives."
   ]
  },
  {
   "cell_type": "markdown",
   "metadata": {},
   "source": [
    "### Measuring central tendency of distributions\n",
    "\n",
    "We discussed how to compute <a href=\"#conf_int_of_mean\">confidence interval of mean</a> and <a href=\"#conf_int_of_diff_in_mean\">confidence interval of difference in means.</a> But have you thought about why statisticians bother specifically about the means? Often times the ultimate goal is not to compute a <i>mean</i> of a distribution, but to compute a <i>measure of central tendency</i> of a distribution. \n",
    "\n",
    "A measure of central tendency is a single value that attempts to describe a set of data by identifying the central position within that set of data. The mean is the measure of central tendency that you are the most familiar with, but there are others, such as the median and the mode. \n",
    "\n",
    "<div><hr></div>\n",
    "\n",
    "**Point estimation**\n",
    "\n",
    "Mean is not a good measure of central tendency when there is a sign of deviation from normality, which can be characterized by skewness (asymmetry) and kurtosis (heavy-tails). Consider the following figures:\n",
    "\n",
    "<div id=\"\" class=\"row give-margin-inline-big-plot mobile_responsive_plot_full_width\" style=\"margin-top: 15px;\">\n",
    "    <div class=\"col\"><img src=\"jupyter_images/conf_int_non_norm_means.png\"></div>\n",
    "    <div class=\"col-12\"><p class=\"image-description\">Figure ??: Central tendency of distributions</p></div>\n",
    "</div>\n",
    "\n",
    "In <a href=\"#\">figure (??) (a)</a>, there is no skewness, making the distribution symmetric. In this case, mean is a good measure of central tendency, along with median and mode — they are all equivalent. You can compute its confidence interval of mean using <a href=\"#eq-1\">eq (1)</a>, and use it as a measure of central tendency, thanks to the symmetry of the distribution.\n",
    "\n",
    "However, when distributions have non-zero skewness, as in <a href=\"#\">figure (??) (b)</a>, the assumption of normality is violated. Depending on how bad the asymmetry is, you can still use <a href=\"#eq-1\">eq (1)</a>, because confidence interval of mean is robust to mild asymmetry. However, if a distribution has non-negligible skewness, interval computed with <a href=\"#eq-1\">eq (1)</a> introduces bias to one side of a distribution. \n",
    "\n",
    "Although there exists non-parametric alternatives like Bootstrap and credible interval, you may want to take a step back and reconsider the purpose of your estimation. Are you really interested in the <i>mean</i>, or the <i>central tendency</i> of your distribution? In a case like <a href=\"#\">figure (??) (b)</a>, perhaps you are more interested in the median, as it's a better measure of central tendency of asymmetric distributions. \n",
    "\n",
    "Visualize your distribution to see what your true interest is.\n",
    "\n",
    "<div><hr></div>\n",
    "\n",
    "**Comparison of distributions**\n",
    "\n",
    "Similar idea applies when you want to compare two distributions. Let's say that you want to decide if two samples came from the same population by comparing their confidence interval of means. Consider the following figure of two non-normal sample distributions:\n",
    "\n",
    "<div id=\"\" class=\"row full_screen_margin_md mobile_responsive_plot_full_width\" style=\"margin-top: 15px;\">\n",
    "    <div class=\"col\"><img src=\"jupyter_images/conf_int_non_norms_overlap.png\"></div>\n",
    "    <div class=\"col-12\"><p class=\"image-description\">Figure ??: Confidencen interval of means for non-normal distributions</p></div>\n",
    "</div>\n",
    "\n",
    "Note that the <span style=\"color: #385624; font-weight: 500;\">95% confidence interval of means</span> in <a href=\"#\">figure (??)</a> are asymmetric about their respective sample means, because they are computed with non-parametric alternatives. Since there is an overlap of the two intervals, you can conclude that the sample means are not significantly different. Furthermore, even the variances of the samples are the same; I generated the plots so that they have the same variances. \n",
    "\n",
    "Now, you know that the samples have equal means and variances within the range of uncertainty. Can you conclude that the two samples came from the same population? Clearly not, because their central locations are far apart from each other. \n",
    "\n",
    "In this case, if you are using confidence confidence interval of means and variances to check if two samples came from the same population, your approach is wrong. This kind of approach assumes normality of data. Any approach that makes a certain assumption of data fails when that assumption is violated. \n",
    "\n",
    "Perhaps you want to use non-parametric methods, such as Mann-Whitney test or Kruskall-Wallis test; they are geared towards comparing central tendency of distributions, not means or variances."
   ]
  },
  {
   "cell_type": "markdown",
   "metadata": {},
   "source": [
    "### Robustness of t-test\n",
    "\n",
    "T-test loses some of its statistical power when there is a sign of deviation from normality, which can be characterized by skewness (asymmetry) and kurtosis (heavy-tails). Why? It's because t-test is a test of means, and means are not good measures of central tendency of asymmetric distributions, as I explained <a href=\"#\">here</a>. \n",
    "\n",
    "Let's say that you want to decide if two samples came from different populations by comparing the confidence interval of means. Consider the following figure: \n",
    "\n",
    "-------- image --------\n",
    "\n",
    "\n",
    "\n",
    "T-test is fairly resistant to moderate deviations from normality — visualize your distribution to test this. \n",
    "\n",
    "\n",
    "\n",
    "\n",
    "\n",
    "\n",
    "To be specific, it is sensitive to asymmetry of the distribution, but not much to kurtosis. As a rule of thumb (not a law of nature), inference about means is sensitive to skewness and inference about variances is sensitive to kurtosis\n",
    "\n",
    "\n",
    "\n",
    "asymptotic expansion\n",
    "\n",
    "https://stats.stackexchange.com/questions/2492/is-normality-testing-essentially-useless/30053#30053\n",
    "\n",
    "\n",
    "\n",
    "T-test is fairly resistent to moderate deviations \n",
    "\n",
    "https://www.johndcook.com/blog/2018/05/11/two-sample-t-test/\n",
    "\n",
    "That said, the t-test can tolerate moderate skewness and heavy-tailedness (though in the latter case your actual significance levels will tend to be lower than the nominal 𝛼).\n",
    "\n",
    "Non-parametric alternatives are 95% powerful of t-test, when data are normal."
   ]
  },
  {
   "cell_type": "markdown",
   "metadata": {},
   "source": [
    "### Robustness of confidence interval of variance\n",
    "\n",
    "## Non-parametric alternatives"
   ]
  },
  {
   "cell_type": "code",
   "execution_count": 6,
   "metadata": {},
   "outputs": [
    {
     "data": {
      "text/plain": [
       "3.8157482522361"
      ]
     },
     "execution_count": 6,
     "metadata": {},
     "output_type": "execute_result"
    }
   ],
   "source": [
    "from scipy import stats\n",
    "%matplotlib inline\n",
    "\n",
    "stats.chi2.ppf(0.025, 11)"
   ]
  },
  {
   "cell_type": "code",
   "execution_count": null,
   "metadata": {},
   "outputs": [],
   "source": []
  },
  {
   "cell_type": "code",
   "execution_count": null,
   "metadata": {},
   "outputs": [],
   "source": []
  },
  {
   "cell_type": "code",
   "execution_count": 177,
   "metadata": {},
   "outputs": [
    {
     "data": {
      "text/plain": [
       "-0.49379818720606283"
      ]
     },
     "execution_count": 177,
     "metadata": {},
     "output_type": "execute_result"
    }
   ],
   "source": [
    "x1 = [12.9, 10.2, 7.4, 7.0, 10.5, 11.9, 7.1, 9.9, 14.4, 11.3]\n",
    "x2 = [10.2, 6.9, 10.9, 11.0, 10.1, 5.3, 7.5, 10.3, 9.2, 8.8]\n",
    "\n",
    "alpha = 0.05                                                       # significance level = 5%\n",
    "n1, n2 = len(x1), len(x2)                                          # sample sizes\n",
    "s1, s2 = np.var(x1, ddof=1), np.var(x2, ddof=1)                    # sample variances\n",
    "df = (s1/n1 + s2/n2)**2 / ((s1/n1)**2/(n1-1) + (s2/n2)**2/(n2-1))  # degrees of freedom\n",
    "t = stats.t.ppf(1 - alpha, df)   \n",
    "\n",
    "lower = (np.mean(x1) - np.mean(x2)) - t * np.sqrt(1 / len(x1) + 1 / len(x2)) * s\n",
    "\n",
    "lower"
   ]
  },
  {
   "cell_type": "code",
   "execution_count": 3,
   "metadata": {},
   "outputs": [],
   "source": [
    "from scipy.stats import skewnorm\n",
    "from matplotlib import pyplot as plt\n",
    "import numpy as np\n",
    "import scipy.stats\n",
    "a=100\n",
    "data= skewnorm.rvs(a, size=1000)"
   ]
  },
  {
   "cell_type": "code",
   "execution_count": 91,
   "metadata": {},
   "outputs": [
    {
     "name": "stdout",
     "output_type": "stream",
     "text": [
      "0.8381086010164204\n",
      "0.7177974832846665\n"
     ]
    },
    {
     "data": {
      "text/plain": [
       "<matplotlib.lines.Line2D at 0x1a2310f2e8>"
      ]
     },
     "execution_count": 91,
     "metadata": {},
     "output_type": "execute_result"
    },
    {
     "data": {
      "image/png": "[encoded data removed]",
      "text/plain": [
       "<Figure size 432x288 with 1 Axes>"
      ]
     },
     "metadata": {
      "needs_background": "light"
     },
     "output_type": "display_data"
    }
   ],
   "source": [
    "print(np.mean(data))\n",
    "print(np.median(data))\n",
    "\n",
    "fig, ax = plt.subplots()\n",
    "_ = ax.hist(data, bins=50, edgecolor='black');\n",
    "\n",
    "ax.axvline(1)"
   ]
  },
  {
   "cell_type": "code",
   "execution_count": 321,
   "metadata": {},
   "outputs": [
    {
     "data": {
      "text/plain": [
       "<matplotlib.lines.Line2D at 0x1a2fb65dd8>"
      ]
     },
     "execution_count": 321,
     "metadata": {},
     "output_type": "execute_result"
    },
    {
     "data": {
      "image/png": "[encoded data removed]",
      "text/plain": [
       "<Figure size 432x288 with 1 Axes>"
      ]
     },
     "metadata": {
      "needs_background": "light"
     },
     "output_type": "display_data"
    }
   ],
   "source": [
    "%matplotlib inline\n",
    "\n",
    "data = skewnorm.rvs(20, size=1000)\n",
    "density = stats.gaussian_kde(noise)\n",
    "mean = np.mean(data)\n",
    "median = np.median(data)\n",
    "\n",
    "fig, ax = plt.subplots()\n",
    "n, x, _ = ax.hist(data, bins=50, density=True, edgecolor='black')  \n",
    "ax.plot(x, density(x))\n",
    "ax.axvline(mean, color='red')\n",
    "ax.axvline(median, color='green')"
   ]
  },
  {
   "cell_type": "code",
   "execution_count": 322,
   "metadata": {},
   "outputs": [
    {
     "name": "stdout",
     "output_type": "stream",
     "text": [
      "(0.7714451906907809, 0.8480109036057044)\n",
      "0.8097280471482426\n"
     ]
    }
   ],
   "source": [
    "lower, upper = stats.t.interval(1 - 0.05, len(data) - 1, loc=np.mean(data), scale=stats.sem(data))\n",
    "mean = np.mean(data)\n",
    "\n",
    "print((lower, upper))\n",
    "print(mean)"
   ]
  },
  {
   "cell_type": "code",
   "execution_count": 323,
   "metadata": {},
   "outputs": [],
   "source": [
    "incre = 5\n",
    "temp, lmbda = stats.boxcox(data + incre)\n",
    "\n",
    "lower_b, upper_b = stats.t.interval(1 - 0.05, len(temp) - 1, loc=np.mean(temp), scale=stats.sem(temp))\n",
    "\n",
    "lower_b, upper_b = inv_boxcox(lower_b, lmbda), inv_boxcox(upper_b, lmbda)\n",
    "mean_b = inv_boxcox(mean, lmbda)"
   ]
  },
  {
   "cell_type": "code",
   "execution_count": 324,
   "metadata": {},
   "outputs": [
    {
     "name": "stdout",
     "output_type": "stream",
     "text": [
      "(0.6609200748348814, 0.7272585524637014)\n"
     ]
    }
   ],
   "source": [
    "print((lower_b - incre, upper_b - incre))"
   ]
  },
  {
   "cell_type": "code",
   "execution_count": 330,
   "metadata": {},
   "outputs": [
    {
     "data": {
      "image/png": "[encoded data removed]",
      "text/plain": [
       "<Figure size 432x288 with 1 Axes>"
      ]
     },
     "metadata": {
      "needs_background": "light"
     },
     "output_type": "display_data"
    },
    {
     "data": {
      "image/png": "[encoded data removed]",
      "text/plain": [
       "<Figure size 432x288 with 1 Axes>"
      ]
     },
     "metadata": {
      "needs_background": "light"
     },
     "output_type": "display_data"
    }
   ],
   "source": [
    "plt.hist(temp, density=True, bins='auto');\n",
    "fig, ax = plt.subplots()\n",
    "prob = stats.probplot(temp, dist=stats.norm, plot=ax)"
   ]
  },
  {
   "cell_type": "code",
   "execution_count": 290,
   "metadata": {},
   "outputs": [],
   "source": [
    "from scipy.special import inv_boxcox"
   ]
  },
  {
   "cell_type": "code",
   "execution_count": 292,
   "metadata": {},
   "outputs": [
    {
     "name": "stdout",
     "output_type": "stream",
     "text": [
      "0.7418236409304393 0.796416903031344\n",
      "0.7675645387929715\n"
     ]
    }
   ],
   "source": [
    "from sklearn.utils import resample\n",
    "\n",
    "boots = np.array([resample(data, replace=True) for _ in range(100)])\n",
    "a = sorted(np.mean(boots, axis=1))\n",
    "print(a[5], a[95])\n",
    "print(a[50])"
   ]
  },
  {
   "cell_type": "code",
   "execution_count": 331,
   "metadata": {},
   "outputs": [],
   "source": [
    "# sample data generation\n",
    "np.random.seed(42)\n",
    "data = sorted(stats.lognorm.rvs(s=0.5, loc=1, scale=1000, size=1000))\n",
    "\n",
    "# fit lognormal distribution\n",
    "shape, loc, scale = stats.lognorm.fit(data, loc=0)\n",
    "pdf_lognorm = stats.lognorm.pdf(data, shape, loc, scale)"
   ]
  },
  {
   "cell_type": "code",
   "execution_count": 333,
   "metadata": {},
   "outputs": [
    {
     "data": {
      "image/png": "[encoded data removed]",
      "text/plain": [
       "<Figure size 432x288 with 1 Axes>"
      ]
     },
     "metadata": {
      "needs_background": "light"
     },
     "output_type": "display_data"
    },
    {
     "data": {
      "image/png": "[encoded data removed]",
      "text/plain": [
       "<Figure size 432x288 with 1 Axes>"
      ]
     },
     "metadata": {
      "needs_background": "light"
     },
     "output_type": "display_data"
    }
   ],
   "source": [
    "plt.plot(data, pdf_lognorm)\n",
    "plt.hist(data, density=True, bins='auto');\n",
    "\n",
    "plt.hist(data, density=True, bins='auto');\n",
    "fig, ax = plt.subplots()\n",
    "prob = stats.probplot(data, dist=stats.norm, plot=ax)"
   ]
  },
  {
   "cell_type": "code",
   "execution_count": null,
   "metadata": {},
   "outputs": [],
   "source": []
  },
  {
   "cell_type": "code",
   "execution_count": 334,
   "metadata": {},
   "outputs": [
    {
     "name": "stdout",
     "output_type": "stream",
     "text": [
      "1117.553360410937 1168.6710419552019\n",
      "1142.8236697715936\n"
     ]
    }
   ],
   "source": [
    "from sklearn.utils import resample\n",
    "\n",
    "boots = np.array([resample(data, replace=True) for _ in range(100)])\n",
    "a = sorted(np.mean(boots, axis=1))\n",
    "print(a[5], a[95])\n",
    "print(a[50])"
   ]
  },
  {
   "cell_type": "code",
   "execution_count": 335,
   "metadata": {},
   "outputs": [
    {
     "name": "stdout",
     "output_type": "stream",
     "text": [
      "(1103.6610566132003, 1180.2601663391847)\n",
      "1141.9606114761925\n"
     ]
    }
   ],
   "source": [
    "lower, upper = stats.t.interval(1 - 0.05, len(data) - 1, loc=np.mean(data), scale=stats.sem(data))\n",
    "mean = np.mean(data)\n",
    "\n",
    "print((lower, upper))\n",
    "print(mean)"
   ]
  },
  {
   "cell_type": "code",
   "execution_count": null,
   "metadata": {},
   "outputs": [],
   "source": []
  },
  {
   "cell_type": "markdown",
   "metadata": {},
   "source": [
    "## Measure of central tendency\n",
    "\n",
    "The median is usually preferred to other measures of central tendency when your data set is skewed (i.e., forms a skewed distribution) or you are dealing with ordinal data.\n",
    "\n",
    "It is usually inappropriate to use the mean in such situations where your data is skewed. You would normally choose the median or mode, with the median usually preferred."
   ]
  },
  {
   "cell_type": "code",
   "execution_count": null,
   "metadata": {},
   "outputs": [],
   "source": []
  },
  {
   "cell_type": "code",
   "execution_count": null,
   "metadata": {},
   "outputs": [],
   "source": []
  },
  {
   "cell_type": "markdown",
   "metadata": {},
   "source": [
    "## Robustness of confidence interval to non-normality\n",
    "\n",
    "All of the discussions above assume normality of data set. Conclusions drawn from confidence intervals and hypothesis testing may be inaccurate, or completely wrong if the underlying assumptions are not met. This sections discusses why the assumption of normality is important, robustness of statistical estimations in regards to deviation from normality, and non-parametric alternatives.\n",
    "\n",
    "### Measuring central tendency of distributions\n",
    "\n",
    "We discussed how to compute <a href=\"#conf_int_of_mean\">confidence interval of mean</a> and <a href=\"#conf_int_of_diff_in_mean\">confidence interval of difference in means.</a> But have you thought about why statisticians bother specifically about the means? The ultimate goal is not to compute a <i>mean</i> of distributions, but to compute a <i>measure of central tendency</i> of distributions. \n",
    "\n",
    "A measure of central tendency is a single value that attempts to describe a set of data by identifying the central position within that set of data. As such, measures of central tendency are sometimes called measures of central location. The mean is the measure of central tendency that you are the most familiar with, but there are others, such as the median and the mode.\n",
    "\n",
    "\n",
    "### Robustness of confidence interval of mean\n",
    "### Robustness of confidence interval of variance\n",
    "\n",
    "## Non-parametric alternatives"
   ]
  },
  {
   "cell_type": "code",
   "execution_count": null,
   "metadata": {},
   "outputs": [],
   "source": []
  },
  {
   "cell_type": "code",
   "execution_count": null,
   "metadata": {},
   "outputs": [],
   "source": []
  },
  {
   "cell_type": "markdown",
   "metadata": {},
   "source": [
    "1. Is it for point estimation?\n",
    "    - \n",
    "2. Is it for hypothesis testing?\n",
    "3. \n",
    "\n",
    "The t tends to have reasonably good power relative to the Mann-Whitney for light-tailed distributions ... and can have really bad power for heavy-tailed ones. Skewness tends to be compounded with heavy tails\n",
    "\n",
    "T-test is robust to mild skewness, that is, mild non-normality. \n",
    "\n",
    " have to note that all of the knowledge I just imparted is somewhat obsolete; now that we have computers, we can do better than t-tests. As Frank notes, you probably want to use Wilcoxon tests anywhere you were taught to run a t-test."
   ]
  },
  {
   "cell_type": "markdown",
   "metadata": {},
   "source": [
    "\n",
    "<div id=\"\"></div>\n",
    "<div class=\"alert alert-info\">\n",
    "    <h4>Notes: Robustness of confidence interval to non-normality</h4>\n",
    "    <p>t-test is fairly resistent to moderate deviations from normality\n",
    "        \n",
    "        If distribution is unacceptably not normal, use confidence interval of median, but only if your goal is to compare central tendency. \n",
    "\n",
    "Overall, the two sample t-test is reasonably power-robust to symmetric non-normality\n",
    "\n",
    "When the two samples are mildly skew in the same direction, the one-tailed t-test is no longer unbiased.\n",
    "\n",
    "Confidence interval of mean can stand some violation of normality. But confidecne interval of variance is very susceptible. \n",
    "\n",
    "</p>\n",
    "    <p></p>\n",
    "</div>"
   ]
  },
  {
   "cell_type": "markdown",
   "metadata": {},
   "source": [
    "# Sample Sizes\n",
    "\n",
    "Illustrate confidence intervals of every stats, with previously given s, mu. "
   ]
  },
  {
   "cell_type": "markdown",
   "metadata": {},
   "source": [
    "This comparison helps to determine how likely the difference between the means occurred by chance or whether the data sets really have intrinsic differences. The t-test questions whether the difference between the groups represents a true difference in the study or if it is likely a meaningless statistical difference."
   ]
  },
  {
   "cell_type": "markdown",
   "metadata": {},
   "source": [
    "### Python confidence interval of difference in means\n",
    "\n",
    "https://stackoverflow.com/questions/31768464/confidence-interval-for-t-test-difference-between-means-in-python/34516534#34516534"
   ]
  },
  {
   "cell_type": "markdown",
   "metadata": {},
   "source": [
    "# Power of non-parametric methods on normal data\n",
    "\n"
   ]
  },
  {
   "cell_type": "markdown",
   "metadata": {},
   "source": [
    "# Bootstrapping\n",
    "\n",
    "CLT does not apply to how many resampling you do. It applied only on the original dataset. "
   ]
  },
  {
   "cell_type": "code",
   "execution_count": null,
   "metadata": {},
   "outputs": [],
   "source": []
  },
  {
   "cell_type": "code",
   "execution_count": 29,
   "metadata": {},
   "outputs": [
    {
     "data": {
      "text/plain": [
       "8.181868181125685e-05"
      ]
     },
     "execution_count": 29,
     "metadata": {},
     "output_type": "execute_result"
    }
   ],
   "source": [
    "np.var(y)"
   ]
  },
  {
   "cell_type": "code",
   "execution_count": 30,
   "metadata": {},
   "outputs": [
    {
     "data": {
      "text/plain": [
       "8.181868181125686e-05"
      ]
     },
     "execution_count": 30,
     "metadata": {},
     "output_type": "execute_result"
    }
   ],
   "source": [
    "np.var(y2)"
   ]
  },
  {
   "cell_type": "code",
   "execution_count": 22,
   "metadata": {},
   "outputs": [
    {
     "data": {
      "text/plain": [
       "[<matplotlib.lines.Line2D at 0x1116c29b0>,\n",
       " <matplotlib.lines.Line2D at 0x1a2562d198>]"
      ]
     },
     "execution_count": 22,
     "metadata": {},
     "output_type": "execute_result"
    },
    {
     "data": {
      "image/png": "[encoded data removed]",
      "text/plain": [
       "<Figure size 576x432 with 1 Axes>"
      ]
     },
     "metadata": {
      "needs_background": "light"
     },
     "output_type": "display_data"
    }
   ],
   "source": [
    "\n",
    "\n",
    "x = np.arange (0, 100, 0.1)\n",
    "y = stats.beta.pdf(x, a=2, b=5, loc=0, scale=100)\n",
    "\n",
    "x2 = np.arange (0, 100, 0.1)\n",
    "y2 = stats.beta.pdf(x, a=5, b=2, loc=0, scale=100)\n",
    "\n",
    "fig, ax = plt.subplots(figsize=(8, 6))\n",
    "\n",
    "ax.plot(x, y, x2, y2, linewidth=4)"
   ]
  },
  {
   "cell_type": "code",
   "execution_count": null,
   "metadata": {},
   "outputs": [],
   "source": []
  },
  {
   "cell_type": "code",
   "execution_count": null,
   "metadata": {},
   "outputs": [],
   "source": []
  },
  {
   "cell_type": "code",
   "execution_count": null,
   "metadata": {},
   "outputs": [],
   "source": []
  },
  {
   "cell_type": "markdown",
   "metadata": {},
   "source": [
    "# One-tail vs Two-tail\n",
    "\n",
    "Customer: wants at least 355 ml in water\n",
    "$$\\text{Quantity of water} \\geq 355 ml$$\n",
    "\n",
    "Manufacturer: exactly 355 ml\n",
    "$$\\text{Quantity of water} = 355 ml$$\n",
    "\n",
    "Collect 50 bottles, and test our assumption\n",
    "\n",
    "# 1 sample vs 2 samples\n",
    "\n",
    "Am I testing assumption, or the status quo that already exists? -> 1 sample?\n",
    "Am I testing new claim or assertion beyoned what I already know? -> 2 samples?"
   ]
  },
  {
   "cell_type": "markdown",
   "metadata": {},
   "source": [
    "# Frequently Asked Questions\n",
    "\n",
    "1. What is significance level?\n",
    "2. What is confidence level?\n",
    "3. What is standard error?\n",
    "4. What is distribution score?\n",
    "5. What should I do if the sample data is not normally distributed?\n",
    "\n",
    "### CI of lognormal distribution\n",
    "\n",
    "https://amstat.tandfonline.com/doi/full/10.1080/10691898.2005.11910638#.XQvVFtNKhQI"
   ]
  },
  {
   "cell_type": "code",
   "execution_count": 25,
   "metadata": {},
   "outputs": [],
   "source": [
    "x1 = [12.9, 10.2, 7.4, 7.0, 10.5, 11.9, 7.1, 9.9, 14.4, 11.3]\n",
    "x2 = [10.2, 6.9, 10.9, 11.0, 10.1, 5.3, 7.5, 10.3, 9.2, 8.8]"
   ]
  },
  {
   "cell_type": "code",
   "execution_count": 26,
   "metadata": {},
   "outputs": [
    {
     "data": {
      "text/plain": [
       "(8.461873578892417, 12.058126421107586)"
      ]
     },
     "execution_count": 26,
     "metadata": {},
     "output_type": "execute_result"
    }
   ],
   "source": [
    "stats.t.interval(1 - 0.05, len(x1) - 1, loc=np.mean(x1), scale=stats.sem(x1))"
   ]
  },
  {
   "cell_type": "code",
   "execution_count": 27,
   "metadata": {},
   "outputs": [
    {
     "data": {
      "text/plain": [
       "(7.663208497074507, 10.376791502925492)"
      ]
     },
     "execution_count": 27,
     "metadata": {},
     "output_type": "execute_result"
    }
   ],
   "source": [
    "stats.t.interval(1 - 0.05, len(x2) - 1, loc=np.mean(x2), scale=stats.sem(x2))"
   ]
  },
  {
   "cell_type": "code",
   "execution_count": 28,
   "metadata": {},
   "outputs": [
    {
     "data": {
      "text/plain": [
       "Ttest_indResult(statistic=1.245268949149111, pvalue=0.23018336828903668)"
      ]
     },
     "execution_count": 28,
     "metadata": {},
     "output_type": "execute_result"
    }
   ],
   "source": [
    "stats.ttest_ind(x1, x2, equal_var=False)"
   ]
  },
  {
   "cell_type": "markdown",
   "metadata": {},
   "source": [
    "A confidence interval's width is due entirely to sampling error. As the sample size approaches the entire population, the width of the confidence interval approaches zero."
   ]
  },
  {
   "cell_type": "markdown",
   "metadata": {},
   "source": [
    "\n",
    "<div><hr></div>\n",
    "\n",
    "Confidence interval has the following general form:\n",
    "\n",
    "<div id=\"eq-1\" style=\"font-size: 1rem;\">$$ \\text{C. I.} = \\text{point estimate} \\pm (\\text{distribution score} \\times \\text{Standard Error}) \\tag{1} $$</div>\n",
    "\n",
    "<div class=\"eq-terms\">\n",
    "    <div class=\"row eq-terms-where\">where</div>\n",
    "    <div class=\"row\">\n",
    "        <div class=\"col-3\"><p>-$D^2$<p></div>\n",
    "        <div class=\"col-9\"><p> description description description description description description description description description<p></div>\n",
    "    </div>\n",
    "    <div class=\"row\">\n",
    "        <div class=\"col-3\">-$D^2$</div>\n",
    "        <div class=\"col-9\">description</div>\n",
    "    </div>    \n",
    "</div>\n",
    "\n",
    "\n",
    "The decision makers always wants to know the uncertainty related to your estimation. \n",
    "\n",
    "This tutorial includes explanation of idea behind C.I., complications that arise when sample data is not normally distributed and solutions for them. For those who don't want to spend more than 2 minutes reading, I included a quick Python code snippets that can generate C.I. for any type of distribution for any type of statistic.\n",
    "\n",
    "**Central Limit Theorem may not always apply**\n",
    "\n",
    "2. Nonnormal data, variance known: If the population distribution is not normal and the sample is 'large enough', then X¯ is approximately normal and the same formula provides an approximate 95% CI. The rule that n≥30 is 'large enough' is unreliable here. If the population distribution is heavy-tailed, then X¯ may not have a distribution that is close to normal (even if n≥30). The 'Central Limit Theorem', often provides reasonable approximations for moderate values of n, but it is a limit theorem, with guaranteed results only as n→∞.\n",
    "\n",
    "Many statistical techniques assume that sample data is normally distributed or Gaussian-like (Ex: t-distribution), and different techniques should be considered for non-normal data set.\n",
    "\n",
    "**Correct vs. Wrong vs. Useful**"
   ]
  },
  {
   "cell_type": "code",
   "execution_count": 4,
   "metadata": {},
   "outputs": [
    {
     "name": "stdout",
     "output_type": "stream",
     "text": [
      "3.375\n",
      "1.4086784586980805\n"
     ]
    }
   ],
   "source": [
    "print(np.mean(a))\n",
    "print(np.std(a))"
   ]
  },
  {
   "cell_type": "markdown",
   "metadata": {},
   "source": [
    "### Extension of Confidence Interval with Bootstrapping"
   ]
  },
  {
   "cell_type": "code",
   "execution_count": 2,
   "metadata": {},
   "outputs": [],
   "source": [
    "from scipy.stats import bayes_mvs"
   ]
  },
  {
   "cell_type": "code",
   "execution_count": 4,
   "metadata": {},
   "outputs": [
    {
     "data": {
      "text/plain": [
       "(Mean(statistic=4.0, minmax=(2.39878883101482, 5.60121116898518)),\n",
       " Variance(statistic=8.0, minmax=(2.8435061229431486, 18.45571858443238)),\n",
       " Std_dev(statistic=2.691341356821504, minmax=(1.686269884372946, 4.296011939512317)))"
      ]
     },
     "execution_count": 4,
     "metadata": {},
     "output_type": "execute_result"
    }
   ],
   "source": [
    "bayes_mvs([1,2,3,5,6,8,5,2])"
   ]
  },
  {
   "cell_type": "code",
   "execution_count": 24,
   "metadata": {
    "scrolled": false
   },
   "outputs": [
    {
     "data": {
      "application/javascript": [
       "/* Put everything inside the global mpl namespace */\n",
       "window.mpl = {};\n",
       "\n",
       "\n",
       "mpl.get_websocket_type = function() {\n",
       "    if (typeof(WebSocket) !== 'undefined') {\n",
       "        return WebSocket;\n",
       "    } else if (typeof(MozWebSocket) !== 'undefined') {\n",
       "        return MozWebSocket;\n",
       "    } else {\n",
       "        alert('Your browser does not have WebSocket support.' +\n",
       "              'Please try Chrome, Safari or Firefox ≥ 6. ' +\n",
       "              'Firefox 4 and 5 are also supported but you ' +\n",
       "              'have to enable WebSockets in about:config.');\n",
       "    };\n",
       "}\n",
       "\n",
       "mpl.figure = function(figure_id, websocket, ondownload, parent_element) {\n",
       "    this.id = figure_id;\n",
       "\n",
       "    this.ws = websocket;\n",
       "\n",
       "    this.supports_binary = (this.ws.binaryType != undefined);\n",
       "\n",
       "    if (!this.supports_binary) {\n",
       "        var warnings = document.getElementById(\"mpl-warnings\");\n",
       "        if (warnings) {\n",
       "            warnings.style.display = 'block';\n",
       "            warnings.textContent = (\n",
       "                \"This browser does not support binary websocket messages. \" +\n",
       "                    \"Performance may be slow.\");\n",
       "        }\n",
       "    }\n",
       "\n",
       "    this.imageObj = new Image();\n",
       "\n",
       "    this.context = undefined;\n",
       "    this.message = undefined;\n",
       "    this.canvas = undefined;\n",
       "    this.rubberband_canvas = undefined;\n",
       "    this.rubberband_context = undefined;\n",
       "    this.format_dropdown = undefined;\n",
       "\n",
       "    this.image_mode = 'full';\n",
       "\n",
       "    this.root = $('<div/>');\n",
       "    this._root_extra_style(this.root)\n",
       "    this.root.attr('style', 'display: inline-block');\n",
       "\n",
       "    $(parent_element).append(this.root);\n",
       "\n",
       "    this._init_header(this);\n",
       "    this._init_canvas(this);\n",
       "    this._init_toolbar(this);\n",
       "\n",
       "    var fig = this;\n",
       "\n",
       "    this.waiting = false;\n",
       "\n",
       "    this.ws.onopen =  function () {\n",
       "            fig.send_message(\"supports_binary\", {value: fig.supports_binary});\n",
       "            fig.send_message(\"send_image_mode\", {});\n",
       "            if (mpl.ratio != 1) {\n",
       "                fig.send_message(\"set_dpi_ratio\", {'dpi_ratio': mpl.ratio});\n",
       "            }\n",
       "            fig.send_message(\"refresh\", {});\n",
       "        }\n",
       "\n",
       "    this.imageObj.onload = function() {\n",
       "            if (fig.image_mode == 'full') {\n",
       "                // Full images could contain transparency (where diff images\n",
       "                // almost always do), so we need to clear the canvas so that\n",
       "                // there is no ghosting.\n",
       "                fig.context.clearRect(0, 0, fig.canvas.width, fig.canvas.height);\n",
       "            }\n",
       "            fig.context.drawImage(fig.imageObj, 0, 0);\n",
       "        };\n",
       "\n",
       "    this.imageObj.onunload = function() {\n",
       "        fig.ws.close();\n",
       "    }\n",
       "\n",
       "    this.ws.onmessage = this._make_on_message_function(this);\n",
       "\n",
       "    this.ondownload = ondownload;\n",
       "}\n",
       "\n",
       "mpl.figure.prototype._init_header = function() {\n",
       "    var titlebar = $(\n",
       "        '<div class=\"ui-dialog-titlebar ui-widget-header ui-corner-all ' +\n",
       "        'ui-helper-clearfix\"/>');\n",
       "    var titletext = $(\n",
       "        '<div class=\"ui-dialog-title\" style=\"width: 100%; ' +\n",
       "        'text-align: center; padding: 3px;\"/>');\n",
       "    titlebar.append(titletext)\n",
       "    this.root.append(titlebar);\n",
       "    this.header = titletext[0];\n",
       "}\n",
       "\n",
       "\n",
       "\n",
       "mpl.figure.prototype._canvas_extra_style = function(canvas_div) {\n",
       "\n",
       "}\n",
       "\n",
       "\n",
       "mpl.figure.prototype._root_extra_style = function(canvas_div) {\n",
       "\n",
       "}\n",
       "\n",
       "mpl.figure.prototype._init_canvas = function() {\n",
       "    var fig = this;\n",
       "\n",
       "    var canvas_div = $('<div/>');\n",
       "\n",
       "    canvas_div.attr('style', 'position: relative; clear: both; outline: 0');\n",
       "\n",
       "    function canvas_keyboard_event(event) {\n",
       "        return fig.key_event(event, event['data']);\n",
       "    }\n",
       "\n",
       "    canvas_div.keydown('key_press', canvas_keyboard_event);\n",
       "    canvas_div.keyup('key_release', canvas_keyboard_event);\n",
       "    this.canvas_div = canvas_div\n",
       "    this._canvas_extra_style(canvas_div)\n",
       "    this.root.append(canvas_div);\n",
       "\n",
       "    var canvas = $('<canvas/>');\n",
       "    canvas.addClass('mpl-canvas');\n",
       "    canvas.attr('style', \"left: 0; top: 0; z-index: 0; outline: 0\")\n",
       "\n",
       "    this.canvas = canvas[0];\n",
       "    this.context = canvas[0].getContext(\"2d\");\n",
       "\n",
       "    var backingStore = this.context.backingStorePixelRatio ||\n",
       "\tthis.context.webkitBackingStorePixelRatio ||\n",
       "\tthis.context.mozBackingStorePixelRatio ||\n",
       "\tthis.context.msBackingStorePixelRatio ||\n",
       "\tthis.context.oBackingStorePixelRatio ||\n",
       "\tthis.context.backingStorePixelRatio || 1;\n",
       "\n",
       "    mpl.ratio = (window.devicePixelRatio || 1) / backingStore;\n",
       "\n",
       "    var rubberband = $('<canvas/>');\n",
       "    rubberband.attr('style', \"position: absolute; left: 0; top: 0; z-index: 1;\")\n",
       "\n",
       "    var pass_mouse_events = true;\n",
       "\n",
       "    canvas_div.resizable({\n",
       "        start: function(event, ui) {\n",
       "            pass_mouse_events = false;\n",
       "        },\n",
       "        resize: function(event, ui) {\n",
       "            fig.request_resize(ui.size.width, ui.size.height);\n",
       "        },\n",
       "        stop: function(event, ui) {\n",
       "            pass_mouse_events = true;\n",
       "            fig.request_resize(ui.size.width, ui.size.height);\n",
       "        },\n",
       "    });\n",
       "\n",
       "    function mouse_event_fn(event) {\n",
       "        if (pass_mouse_events)\n",
       "            return fig.mouse_event(event, event['data']);\n",
       "    }\n",
       "\n",
       "    rubberband.mousedown('button_press', mouse_event_fn);\n",
       "    rubberband.mouseup('button_release', mouse_event_fn);\n",
       "    // Throttle sequential mouse events to 1 every 20ms.\n",
       "    rubberband.mousemove('motion_notify', mouse_event_fn);\n",
       "\n",
       "    rubberband.mouseenter('figure_enter', mouse_event_fn);\n",
       "    rubberband.mouseleave('figure_leave', mouse_event_fn);\n",
       "\n",
       "    canvas_div.on(\"wheel\", function (event) {\n",
       "        event = event.originalEvent;\n",
       "        event['data'] = 'scroll'\n",
       "        if (event.deltaY < 0) {\n",
       "            event.step = 1;\n",
       "        } else {\n",
       "            event.step = -1;\n",
       "        }\n",
       "        mouse_event_fn(event);\n",
       "    });\n",
       "\n",
       "    canvas_div.append(canvas);\n",
       "    canvas_div.append(rubberband);\n",
       "\n",
       "    this.rubberband = rubberband;\n",
       "    this.rubberband_canvas = rubberband[0];\n",
       "    this.rubberband_context = rubberband[0].getContext(\"2d\");\n",
       "    this.rubberband_context.strokeStyle = \"#000000\";\n",
       "\n",
       "    this._resize_canvas = function(width, height) {\n",
       "        // Keep the size of the canvas, canvas container, and rubber band\n",
       "        // canvas in synch.\n",
       "        canvas_div.css('width', width)\n",
       "        canvas_div.css('height', height)\n",
       "\n",
       "        canvas.attr('width', width * mpl.ratio);\n",
       "        canvas.attr('height', height * mpl.ratio);\n",
       "        canvas.attr('style', 'width: ' + width + 'px; height: ' + height + 'px;');\n",
       "\n",
       "        rubberband.attr('width', width);\n",
       "        rubberband.attr('height', height);\n",
       "    }\n",
       "\n",
       "    // Set the figure to an initial 600x600px, this will subsequently be updated\n",
       "    // upon first draw.\n",
       "    this._resize_canvas(600, 600);\n",
       "\n",
       "    // Disable right mouse context menu.\n",
       "    $(this.rubberband_canvas).bind(\"contextmenu\",function(e){\n",
       "        return false;\n",
       "    });\n",
       "\n",
       "    function set_focus () {\n",
       "        canvas.focus();\n",
       "        canvas_div.focus();\n",
       "    }\n",
       "\n",
       "    window.setTimeout(set_focus, 100);\n",
       "}\n",
       "\n",
       "mpl.figure.prototype._init_toolbar = function() {\n",
       "    var fig = this;\n",
       "\n",
       "    var nav_element = $('<div/>')\n",
       "    nav_element.attr('style', 'width: 100%');\n",
       "    this.root.append(nav_element);\n",
       "\n",
       "    // Define a callback function for later on.\n",
       "    function toolbar_event(event) {\n",
       "        return fig.toolbar_button_onclick(event['data']);\n",
       "    }\n",
       "    function toolbar_mouse_event(event) {\n",
       "        return fig.toolbar_button_onmouseover(event['data']);\n",
       "    }\n",
       "\n",
       "    for(var toolbar_ind in mpl.toolbar_items) {\n",
       "        var name = mpl.toolbar_items[toolbar_ind][0];\n",
       "        var tooltip = mpl.toolbar_items[toolbar_ind][1];\n",
       "        var image = mpl.toolbar_items[toolbar_ind][2];\n",
       "        var method_name = mpl.toolbar_items[toolbar_ind][3];\n",
       "\n",
       "        if (!name) {\n",
       "            // put a spacer in here.\n",
       "            continue;\n",
       "        }\n",
       "        var button = $('<button/>');\n",
       "        button.addClass('ui-button ui-widget ui-state-default ui-corner-all ' +\n",
       "                        'ui-button-icon-only');\n",
       "        button.attr('role', 'button');\n",
       "        button.attr('aria-disabled', 'false');\n",
       "        button.click(method_name, toolbar_event);\n",
       "        button.mouseover(tooltip, toolbar_mouse_event);\n",
       "\n",
       "        var icon_img = $('<span/>');\n",
       "        icon_img.addClass('ui-button-icon-primary ui-icon');\n",
       "        icon_img.addClass(image);\n",
       "        icon_img.addClass('ui-corner-all');\n",
       "\n",
       "        var tooltip_span = $('<span/>');\n",
       "        tooltip_span.addClass('ui-button-text');\n",
       "        tooltip_span.html(tooltip);\n",
       "\n",
       "        button.append(icon_img);\n",
       "        button.append(tooltip_span);\n",
       "\n",
       "        nav_element.append(button);\n",
       "    }\n",
       "\n",
       "    var fmt_picker_span = $('<span/>');\n",
       "\n",
       "    var fmt_picker = $('<select/>');\n",
       "    fmt_picker.addClass('mpl-toolbar-option ui-widget ui-widget-content');\n",
       "    fmt_picker_span.append(fmt_picker);\n",
       "    nav_element.append(fmt_picker_span);\n",
       "    this.format_dropdown = fmt_picker[0];\n",
       "\n",
       "    for (var ind in mpl.extensions) {\n",
       "        var fmt = mpl.extensions[ind];\n",
       "        var option = $(\n",
       "            '<option/>', {selected: fmt === mpl.default_extension}).html(fmt);\n",
       "        fmt_picker.append(option)\n",
       "    }\n",
       "\n",
       "    // Add hover states to the ui-buttons\n",
       "    $( \".ui-button\" ).hover(\n",
       "        function() { $(this).addClass(\"ui-state-hover\");},\n",
       "        function() { $(this).removeClass(\"ui-state-hover\");}\n",
       "    );\n",
       "\n",
       "    var status_bar = $('<span class=\"mpl-message\"/>');\n",
       "    nav_element.append(status_bar);\n",
       "    this.message = status_bar[0];\n",
       "}\n",
       "\n",
       "mpl.figure.prototype.request_resize = function(x_pixels, y_pixels) {\n",
       "    // Request matplotlib to resize the figure. Matplotlib will then trigger a resize in the client,\n",
       "    // which will in turn request a refresh of the image.\n",
       "    this.send_message('resize', {'width': x_pixels, 'height': y_pixels});\n",
       "}\n",
       "\n",
       "mpl.figure.prototype.send_message = function(type, properties) {\n",
       "    properties['type'] = type;\n",
       "    properties['figure_id'] = this.id;\n",
       "    this.ws.send(JSON.stringify(properties));\n",
       "}\n",
       "\n",
       "mpl.figure.prototype.send_draw_message = function() {\n",
       "    if (!this.waiting) {\n",
       "        this.waiting = true;\n",
       "        this.ws.send(JSON.stringify({type: \"draw\", figure_id: this.id}));\n",
       "    }\n",
       "}\n",
       "\n",
       "\n",
       "mpl.figure.prototype.handle_save = function(fig, msg) {\n",
       "    var format_dropdown = fig.format_dropdown;\n",
       "    var format = format_dropdown.options[format_dropdown.selectedIndex].value;\n",
       "    fig.ondownload(fig, format);\n",
       "}\n",
       "\n",
       "\n",
       "mpl.figure.prototype.handle_resize = function(fig, msg) {\n",
       "    var size = msg['size'];\n",
       "    if (size[0] != fig.canvas.width || size[1] != fig.canvas.height) {\n",
       "        fig._resize_canvas(size[0], size[1]);\n",
       "        fig.send_message(\"refresh\", {});\n",
       "    };\n",
       "}\n",
       "\n",
       "mpl.figure.prototype.handle_rubberband = function(fig, msg) {\n",
       "    var x0 = msg['x0'] / mpl.ratio;\n",
       "    var y0 = (fig.canvas.height - msg['y0']) / mpl.ratio;\n",
       "    var x1 = msg['x1'] / mpl.ratio;\n",
       "    var y1 = (fig.canvas.height - msg['y1']) / mpl.ratio;\n",
       "    x0 = Math.floor(x0) + 0.5;\n",
       "    y0 = Math.floor(y0) + 0.5;\n",
       "    x1 = Math.floor(x1) + 0.5;\n",
       "    y1 = Math.floor(y1) + 0.5;\n",
       "    var min_x = Math.min(x0, x1);\n",
       "    var min_y = Math.min(y0, y1);\n",
       "    var width = Math.abs(x1 - x0);\n",
       "    var height = Math.abs(y1 - y0);\n",
       "\n",
       "    fig.rubberband_context.clearRect(\n",
       "        0, 0, fig.canvas.width, fig.canvas.height);\n",
       "\n",
       "    fig.rubberband_context.strokeRect(min_x, min_y, width, height);\n",
       "}\n",
       "\n",
       "mpl.figure.prototype.handle_figure_label = function(fig, msg) {\n",
       "    // Updates the figure title.\n",
       "    fig.header.textContent = msg['label'];\n",
       "}\n",
       "\n",
       "mpl.figure.prototype.handle_cursor = function(fig, msg) {\n",
       "    var cursor = msg['cursor'];\n",
       "    switch(cursor)\n",
       "    {\n",
       "    case 0:\n",
       "        cursor = 'pointer';\n",
       "        break;\n",
       "    case 1:\n",
       "        cursor = 'default';\n",
       "        break;\n",
       "    case 2:\n",
       "        cursor = 'crosshair';\n",
       "        break;\n",
       "    case 3:\n",
       "        cursor = 'move';\n",
       "        break;\n",
       "    }\n",
       "    fig.rubberband_canvas.style.cursor = cursor;\n",
       "}\n",
       "\n",
       "mpl.figure.prototype.handle_message = function(fig, msg) {\n",
       "    fig.message.textContent = msg['message'];\n",
       "}\n",
       "\n",
       "mpl.figure.prototype.handle_draw = function(fig, msg) {\n",
       "    // Request the server to send over a new figure.\n",
       "    fig.send_draw_message();\n",
       "}\n",
       "\n",
       "mpl.figure.prototype.handle_image_mode = function(fig, msg) {\n",
       "    fig.image_mode = msg['mode'];\n",
       "}\n",
       "\n",
       "mpl.figure.prototype.updated_canvas_event = function() {\n",
       "    // Called whenever the canvas gets updated.\n",
       "    this.send_message(\"ack\", {});\n",
       "}\n",
       "\n",
       "// A function to construct a web socket function for onmessage handling.\n",
       "// Called in the figure constructor.\n",
       "mpl.figure.prototype._make_on_message_function = function(fig) {\n",
       "    return function socket_on_message(evt) {\n",
       "        if (evt.data instanceof Blob) {\n",
       "            /* FIXME: We get \"Resource interpreted as Image but\n",
       "             * transferred with MIME type text/plain:\" errors on\n",
       "             * Chrome.  But how to set the MIME type?  It doesn't seem\n",
       "             * to be part of the websocket stream */\n",
       "            evt.data.type = \"image/png\";\n",
       "\n",
       "            /* Free the memory for the previous frames */\n",
       "            if (fig.imageObj.src) {\n",
       "                (window.URL || window.webkitURL).revokeObjectURL(\n",
       "                    fig.imageObj.src);\n",
       "            }\n",
       "\n",
       "            fig.imageObj.src = (window.URL || window.webkitURL).createObjectURL(\n",
       "                evt.data);\n",
       "            fig.updated_canvas_event();\n",
       "            fig.waiting = false;\n",
       "            return;\n",
       "        }\n",
       "        else if (typeof evt.data === 'string' && evt.data.slice(0, 21) == \"data:image/png;base64\") {\n",
       "            fig.imageObj.src = evt.data;\n",
       "            fig.updated_canvas_event();\n",
       "            fig.waiting = false;\n",
       "            return;\n",
       "        }\n",
       "\n",
       "        var msg = JSON.parse(evt.data);\n",
       "        var msg_type = msg['type'];\n",
       "\n",
       "        // Call the  \"handle_{type}\" callback, which takes\n",
       "        // the figure and JSON message as its only arguments.\n",
       "        try {\n",
       "            var callback = fig[\"handle_\" + msg_type];\n",
       "        } catch (e) {\n",
       "            console.log(\"No handler for the '\" + msg_type + \"' message type: \", msg);\n",
       "            return;\n",
       "        }\n",
       "\n",
       "        if (callback) {\n",
       "            try {\n",
       "                // console.log(\"Handling '\" + msg_type + \"' message: \", msg);\n",
       "                callback(fig, msg);\n",
       "            } catch (e) {\n",
       "                console.log(\"Exception inside the 'handler_\" + msg_type + \"' callback:\", e, e.stack, msg);\n",
       "            }\n",
       "        }\n",
       "    };\n",
       "}\n",
       "\n",
       "// from http://stackoverflow.com/questions/1114465/getting-mouse-location-in-canvas\n",
       "mpl.findpos = function(e) {\n",
       "    //this section is from http://www.quirksmode.org/js/events_properties.html\n",
       "    var targ;\n",
       "    if (!e)\n",
       "        e = window.event;\n",
       "    if (e.target)\n",
       "        targ = e.target;\n",
       "    else if (e.srcElement)\n",
       "        targ = e.srcElement;\n",
       "    if (targ.nodeType == 3) // defeat Safari bug\n",
       "        targ = targ.parentNode;\n",
       "\n",
       "    // jQuery normalizes the pageX and pageY\n",
       "    // pageX,Y are the mouse positions relative to the document\n",
       "    // offset() returns the position of the element relative to the document\n",
       "    var x = e.pageX - $(targ).offset().left;\n",
       "    var y = e.pageY - $(targ).offset().top;\n",
       "\n",
       "    return {\"x\": x, \"y\": y};\n",
       "};\n",
       "\n",
       "/*\n",
       " * return a copy of an object with only non-object keys\n",
       " * we need this to avoid circular references\n",
       " * http://stackoverflow.com/a/24161582/3208463\n",
       " */\n",
       "function simpleKeys (original) {\n",
       "  return Object.keys(original).reduce(function (obj, key) {\n",
       "    if (typeof original[key] !== 'object')\n",
       "        obj[key] = original[key]\n",
       "    return obj;\n",
       "  }, {});\n",
       "}\n",
       "\n",
       "mpl.figure.prototype.mouse_event = function(event, name) {\n",
       "    var canvas_pos = mpl.findpos(event)\n",
       "\n",
       "    if (name === 'button_press')\n",
       "    {\n",
       "        this.canvas.focus();\n",
       "        this.canvas_div.focus();\n",
       "    }\n",
       "\n",
       "    var x = canvas_pos.x * mpl.ratio;\n",
       "    var y = canvas_pos.y * mpl.ratio;\n",
       "\n",
       "    this.send_message(name, {x: x, y: y, button: event.button,\n",
       "                             step: event.step,\n",
       "                             guiEvent: simpleKeys(event)});\n",
       "\n",
       "    /* This prevents the web browser from automatically changing to\n",
       "     * the text insertion cursor when the button is pressed.  We want\n",
       "     * to control all of the cursor setting manually through the\n",
       "     * 'cursor' event from matplotlib */\n",
       "    event.preventDefault();\n",
       "    return false;\n",
       "}\n",
       "\n",
       "mpl.figure.prototype._key_event_extra = function(event, name) {\n",
       "    // Handle any extra behaviour associated with a key event\n",
       "}\n",
       "\n",
       "mpl.figure.prototype.key_event = function(event, name) {\n",
       "\n",
       "    // Prevent repeat events\n",
       "    if (name == 'key_press')\n",
       "    {\n",
       "        if (event.which === this._key)\n",
       "            return;\n",
       "        else\n",
       "            this._key = event.which;\n",
       "    }\n",
       "    if (name == 'key_release')\n",
       "        this._key = null;\n",
       "\n",
       "    var value = '';\n",
       "    if (event.ctrlKey && event.which != 17)\n",
       "        value += \"ctrl+\";\n",
       "    if (event.altKey && event.which != 18)\n",
       "        value += \"alt+\";\n",
       "    if (event.shiftKey && event.which != 16)\n",
       "        value += \"shift+\";\n",
       "\n",
       "    value += 'k';\n",
       "    value += event.which.toString();\n",
       "\n",
       "    this._key_event_extra(event, name);\n",
       "\n",
       "    this.send_message(name, {key: value,\n",
       "                             guiEvent: simpleKeys(event)});\n",
       "    return false;\n",
       "}\n",
       "\n",
       "mpl.figure.prototype.toolbar_button_onclick = function(name) {\n",
       "    if (name == 'download') {\n",
       "        this.handle_save(this, null);\n",
       "    } else {\n",
       "        this.send_message(\"toolbar_button\", {name: name});\n",
       "    }\n",
       "};\n",
       "\n",
       "mpl.figure.prototype.toolbar_button_onmouseover = function(tooltip) {\n",
       "    this.message.textContent = tooltip;\n",
       "};\n",
       "mpl.toolbar_items = [[\"Home\", \"Reset original view\", \"fa fa-home icon-home\", \"home\"], [\"Back\", \"Back to previous view\", \"fa fa-arrow-left icon-arrow-left\", \"back\"], [\"Forward\", \"Forward to next view\", \"fa fa-arrow-right icon-arrow-right\", \"forward\"], [\"\", \"\", \"\", \"\"], [\"Pan\", \"Pan axes with left mouse, zoom with right\", \"fa fa-arrows icon-move\", \"pan\"], [\"Zoom\", \"Zoom to rectangle\", \"fa fa-square-o icon-check-empty\", \"zoom\"], [\"\", \"\", \"\", \"\"], [\"Download\", \"Download plot\", \"fa fa-floppy-o icon-save\", \"download\"]];\n",
       "\n",
       "mpl.extensions = [\"eps\", \"jpeg\", \"pdf\", \"png\", \"ps\", \"raw\", \"svg\", \"tif\"];\n",
       "\n",
       "mpl.default_extension = \"png\";var comm_websocket_adapter = function(comm) {\n",
       "    // Create a \"websocket\"-like object which calls the given IPython comm\n",
       "    // object with the appropriate methods. Currently this is a non binary\n",
       "    // socket, so there is still some room for performance tuning.\n",
       "    var ws = {};\n",
       "\n",
       "    ws.close = function() {\n",
       "        comm.close()\n",
       "    };\n",
       "    ws.send = function(m) {\n",
       "        //console.log('sending', m);\n",
       "        comm.send(m);\n",
       "    };\n",
       "    // Register the callback with on_msg.\n",
       "    comm.on_msg(function(msg) {\n",
       "        //console.log('receiving', msg['content']['data'], msg);\n",
       "        // Pass the mpl event to the overridden (by mpl) onmessage function.\n",
       "        ws.onmessage(msg['content']['data'])\n",
       "    });\n",
       "    return ws;\n",
       "}\n",
       "\n",
       "mpl.mpl_figure_comm = function(comm, msg) {\n",
       "    // This is the function which gets called when the mpl process\n",
       "    // starts-up an IPython Comm through the \"matplotlib\" channel.\n",
       "\n",
       "    var id = msg.content.data.id;\n",
       "    // Get hold of the div created by the display call when the Comm\n",
       "    // socket was opened in Python.\n",
       "    var element = $(\"#\" + id);\n",
       "    var ws_proxy = comm_websocket_adapter(comm)\n",
       "\n",
       "    function ondownload(figure, format) {\n",
       "        window.open(figure.imageObj.src);\n",
       "    }\n",
       "\n",
       "    var fig = new mpl.figure(id, ws_proxy,\n",
       "                           ondownload,\n",
       "                           element.get(0));\n",
       "\n",
       "    // Call onopen now - mpl needs it, as it is assuming we've passed it a real\n",
       "    // web socket which is closed, not our websocket->open comm proxy.\n",
       "    ws_proxy.onopen();\n",
       "\n",
       "    fig.parent_element = element.get(0);\n",
       "    fig.cell_info = mpl.find_output_cell(\"<div id='\" + id + \"'></div>\");\n",
       "    if (!fig.cell_info) {\n",
       "        console.error(\"Failed to find cell for figure\", id, fig);\n",
       "        return;\n",
       "    }\n",
       "\n",
       "    var output_index = fig.cell_info[2]\n",
       "    var cell = fig.cell_info[0];\n",
       "\n",
       "};\n",
       "\n",
       "mpl.figure.prototype.handle_close = function(fig, msg) {\n",
       "    var width = fig.canvas.width/mpl.ratio\n",
       "    fig.root.unbind('remove')\n",
       "\n",
       "    // Update the output cell to use the data from the current canvas.\n",
       "    fig.push_to_output();\n",
       "    var dataURL = fig.canvas.toDataURL();\n",
       "    // Re-enable the keyboard manager in IPython - without this line, in FF,\n",
       "    // the notebook keyboard shortcuts fail.\n",
       "    IPython.keyboard_manager.enable()\n",
       "    $(fig.parent_element).html('<img src=\"' + dataURL + '\" width=\"' + width + '\">');\n",
       "    fig.close_ws(fig, msg);\n",
       "}\n",
       "\n",
       "mpl.figure.prototype.close_ws = function(fig, msg){\n",
       "    fig.send_message('closing', msg);\n",
       "    // fig.ws.close()\n",
       "}\n",
       "\n",
       "mpl.figure.prototype.push_to_output = function(remove_interactive) {\n",
       "    // Turn the data on the canvas into data in the output cell.\n",
       "    var width = this.canvas.width/mpl.ratio\n",
       "    var dataURL = this.canvas.toDataURL();\n",
       "    this.cell_info[1]['text/html'] = '<img src=\"' + dataURL + '\" width=\"' + width + '\">';\n",
       "}\n",
       "\n",
       "mpl.figure.prototype.updated_canvas_event = function() {\n",
       "    // Tell IPython that the notebook contents must change.\n",
       "    IPython.notebook.set_dirty(true);\n",
       "    this.send_message(\"ack\", {});\n",
       "    var fig = this;\n",
       "    // Wait a second, then push the new image to the DOM so\n",
       "    // that it is saved nicely (might be nice to debounce this).\n",
       "    setTimeout(function () { fig.push_to_output() }, 1000);\n",
       "}\n",
       "\n",
       "mpl.figure.prototype._init_toolbar = function() {\n",
       "    var fig = this;\n",
       "\n",
       "    var nav_element = $('<div/>')\n",
       "    nav_element.attr('style', 'width: 100%');\n",
       "    this.root.append(nav_element);\n",
       "\n",
       "    // Define a callback function for later on.\n",
       "    function toolbar_event(event) {\n",
       "        return fig.toolbar_button_onclick(event['data']);\n",
       "    }\n",
       "    function toolbar_mouse_event(event) {\n",
       "        return fig.toolbar_button_onmouseover(event['data']);\n",
       "    }\n",
       "\n",
       "    for(var toolbar_ind in mpl.toolbar_items){\n",
       "        var name = mpl.toolbar_items[toolbar_ind][0];\n",
       "        var tooltip = mpl.toolbar_items[toolbar_ind][1];\n",
       "        var image = mpl.toolbar_items[toolbar_ind][2];\n",
       "        var method_name = mpl.toolbar_items[toolbar_ind][3];\n",
       "\n",
       "        if (!name) { continue; };\n",
       "\n",
       "        var button = $('<button class=\"btn btn-default\" href=\"#\" title=\"' + name + '\"><i class=\"fa ' + image + ' fa-lg\"></i></button>');\n",
       "        button.click(method_name, toolbar_event);\n",
       "        button.mouseover(tooltip, toolbar_mouse_event);\n",
       "        nav_element.append(button);\n",
       "    }\n",
       "\n",
       "    // Add the status bar.\n",
       "    var status_bar = $('<span class=\"mpl-message\" style=\"text-align:right; float: right;\"/>');\n",
       "    nav_element.append(status_bar);\n",
       "    this.message = status_bar[0];\n",
       "\n",
       "    // Add the close button to the window.\n",
       "    var buttongrp = $('<div class=\"btn-group inline pull-right\"></div>');\n",
       "    var button = $('<button class=\"btn btn-mini btn-primary\" href=\"#\" title=\"Stop Interaction\"><i class=\"fa fa-power-off icon-remove icon-large\"></i></button>');\n",
       "    button.click(function (evt) { fig.handle_close(fig, {}); } );\n",
       "    button.mouseover('Stop Interaction', toolbar_mouse_event);\n",
       "    buttongrp.append(button);\n",
       "    var titlebar = this.root.find($('.ui-dialog-titlebar'));\n",
       "    titlebar.prepend(buttongrp);\n",
       "}\n",
       "\n",
       "mpl.figure.prototype._root_extra_style = function(el){\n",
       "    var fig = this\n",
       "    el.on(\"remove\", function(){\n",
       "\tfig.close_ws(fig, {});\n",
       "    });\n",
       "}\n",
       "\n",
       "mpl.figure.prototype._canvas_extra_style = function(el){\n",
       "    // this is important to make the div 'focusable\n",
       "    el.attr('tabindex', 0)\n",
       "    // reach out to IPython and tell the keyboard manager to turn it's self\n",
       "    // off when our div gets focus\n",
       "\n",
       "    // location in version 3\n",
       "    if (IPython.notebook.keyboard_manager) {\n",
       "        IPython.notebook.keyboard_manager.register_events(el);\n",
       "    }\n",
       "    else {\n",
       "        // location in version 2\n",
       "        IPython.keyboard_manager.register_events(el);\n",
       "    }\n",
       "\n",
       "}\n",
       "\n",
       "mpl.figure.prototype._key_event_extra = function(event, name) {\n",
       "    var manager = IPython.notebook.keyboard_manager;\n",
       "    if (!manager)\n",
       "        manager = IPython.keyboard_manager;\n",
       "\n",
       "    // Check for shift+enter\n",
       "    if (event.shiftKey && event.which == 13) {\n",
       "        this.canvas_div.blur();\n",
       "        event.shiftKey = false;\n",
       "        // Send a \"J\" for go to next cell\n",
       "        event.which = 74;\n",
       "        event.keyCode = 74;\n",
       "        manager.command_mode();\n",
       "        manager.handle_keydown(event);\n",
       "    }\n",
       "}\n",
       "\n",
       "mpl.figure.prototype.handle_save = function(fig, msg) {\n",
       "    fig.ondownload(fig, null);\n",
       "}\n",
       "\n",
       "\n",
       "mpl.find_output_cell = function(html_output) {\n",
       "    // Return the cell and output element which can be found *uniquely* in the notebook.\n",
       "    // Note - this is a bit hacky, but it is done because the \"notebook_saving.Notebook\"\n",
       "    // IPython event is triggered only after the cells have been serialised, which for\n",
       "    // our purposes (turning an active figure into a static one), is too late.\n",
       "    var cells = IPython.notebook.get_cells();\n",
       "    var ncells = cells.length;\n",
       "    for (var i=0; i<ncells; i++) {\n",
       "        var cell = cells[i];\n",
       "        if (cell.cell_type === 'code'){\n",
       "            for (var j=0; j<cell.output_area.outputs.length; j++) {\n",
       "                var data = cell.output_area.outputs[j];\n",
       "                if (data.data) {\n",
       "                    // IPython >= 3 moved mimebundle to data attribute of output\n",
       "                    data = data.data;\n",
       "                }\n",
       "                if (data['text/html'] == html_output) {\n",
       "                    return [cell, data, j];\n",
       "                }\n",
       "            }\n",
       "        }\n",
       "    }\n",
       "}\n",
       "\n",
       "// Register the function which deals with the matplotlib target/channel.\n",
       "// The kernel may be null if the page has been refreshed.\n",
       "if (IPython.notebook.kernel != null) {\n",
       "    IPython.notebook.kernel.comm_manager.register_target('matplotlib', mpl.mpl_figure_comm);\n",
       "}\n"
      ],
      "text/plain": [
       "<IPython.core.display.Javascript object>"
      ]
     },
     "metadata": {},
     "output_type": "display_data"
    },
    {
     "data": {
      "text/html": [
       "<img src=\"data:image/png;base64,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\" width=\"799.4444656224904\">"
      ],
      "text/plain": [
       "<IPython.core.display.HTML object>"
      ]
     },
     "metadata": {},
     "output_type": "display_data"
    },
    {
     "data": {
      "text/plain": [
       "<matplotlib.collections.PolyCollection at 0x1a2090ca20>"
      ]
     },
     "execution_count": 24,
     "metadata": {},
     "output_type": "execute_result"
    }
   ],
   "source": [
    "from scipy.stats import truncnorm\n",
    "import matplotlib.pyplot as plt\n",
    "%matplotlib notebook\n",
    "\n",
    "def get_truncated_normal(mean=1, sd=1, low=-3, upp=7):\n",
    "    return truncnorm(\n",
    "        (low - mean) / sd, (upp - mean) / sd, loc=mean, scale=sd)\n",
    "\n",
    "\n",
    "X1 = sorted(get_truncated_normal().rvs(10000))\n",
    "mean, std = stats.norm.fit(X1, loc=0)\n",
    "pdf_norm = stats.norm.pdf(X1, mean, std)\n",
    "\n",
    "\n",
    "fig, ax = plt.subplots(figsize=(8, 4))\n",
    "ax.plot(X1, pdf_norm)\n",
    "\n",
    "ax.fill_between(X1, 0, pdf_norm, \n",
    "                where=(np.array(X1)>-1) & (np.array(X1)<=3), \n",
    "                facecolor='lightgrey')\n",
    "# ax.fill_betweenx(pdf_norm, 2, x2=7, interpolate=True)"
   ]
  },
  {
   "cell_type": "markdown",
   "metadata": {},
   "source": [
    "Note: This interval is only exact when the population distribution is normal. For large samples from other population distributions, the interval is approximately correct by the Central Limit Theorem."
   ]
  },
  {
   "cell_type": "markdown",
   "metadata": {},
   "source": [
    "### What is confidence level $1 - \\alpha$?\n",
    "\n",
    "Confidence level is the chance that the statistic value of your interest lies within the interval. A common choice of confidence level include "
   ]
  },
  {
   "cell_type": "markdown",
   "metadata": {},
   "source": [
    "# Simulation Ideas\n",
    "\n",
    "https://stats.stackexchange.com/questions/38967/how-robust-is-the-independent-samples-t-test-when-the-distributions-of-the-sampl"
   ]
  },
  {
   "cell_type": "markdown",
   "metadata": {},
   "source": [
    "## Practical Application - Bayes Approximation"
   ]
  },
  {
   "cell_type": "markdown",
   "metadata": {},
   "source": []
  },
  {
   "cell_type": "markdown",
   "metadata": {},
   "source": [
    "# Kruskal-Wallis\n",
    "\n",
    "Hence, in terms of original values, the Kruskal-Wallis is more general than a comparison of means: it tests whether the probability that a random observation from each group is equally likely to be above or below a random observation from another group. The real data quantity that underlies that comparison is neither the differences in means nor the difference in medians, (in the two sample case) it is actually the median of all pairwise differences - the between-sample Hodges-Lehmann difference."
   ]
  },
  {
   "cell_type": "markdown",
   "metadata": {},
   "source": [
    "# Non-Parametric Methods\n",
    "\n",
    "Very robust under normality too.\n",
    "\n",
    "Non-parametric tests (as Wilcoxon-Mann-Whitney) do not rely on a specific distiribution, but implicitly rely on equal variances: under H0 are all samples from the same population.\n",
    "\n",
    "# Mann-Whitney\n",
    "\n",
    "https://stats.stackexchange.com/questions/31361/some-questions-about-two-sample-comparisons\n",
    "\n",
    "scipy.stats.mannwhitneyu: It returns a \"One-sided p-value assuming a asymptotic normal distribution\" . Why is it assuming a normal distribution? Should't this test work on any underlying distribution?\n",
    "\n",
    "I think the sentence is referring to the large sample (asymptotic) distribution of the test statistic, not the data. As you can see here, the Mann-Whitney U test statistic has an approximate normal distribution when the sample size is large.\n",
    "\n",
    "There's a difference between Mann-Whiteny, and Wilcoxon\n",
    "\n",
    "Mann-Whitney U test works fine with continuous data, I would even say it works best with them because you would avoid ties.\n",
    "\n",
    "When you have heavier-tailed than normal data, it's also typically more powerful than the t-test\n",
    "\n",
    "The median is usually preferred to other measures of central tendency when your data set is skewed (i.e., forms a skewed distribution) or you are dealing with ordinal data.\n",
    "\n",
    "In no way will the difference in sample sizes adversely affect the Mann-Whitney-Wilcoxon test.\n",
    "\n",
    "Valid only when more than 20 samples\n",
    "\n",
    "FYI, Wikipedia adds that, for large samples, 𝑈 is approximately normally distributed. Given all these values, one can also calculate the effect size η2,\n",
    "\n",
    "https://stats.stackexchange.com/questions/67204/what-exactly-does-a-non-parametric-test-accomplish-what-do-you-do-with-the-res/67210#67210\n",
    "\n",
    "This link says that Welch t-test should always be used over Mann-Whitney if your goal is to compare central tendency of two distributions: \n",
    "\n",
    "https://stats.stackexchange.com/questions/313471/always-use-welch-t-test-unequal-variances-t-test-instead-of-student-t-or-mann\n",
    "\n",
    "# Hotelling's T stats\n",
    "\n",
    "https://courses.lumenlearning.com/boundless-statistics/chapter/the-t-test/"
   ]
  },
  {
   "cell_type": "markdown",
   "metadata": {},
   "source": [
    "# Normality testing\n",
    "\n",
    "take a test on the distribution, e.g. Kolmogorov-Smirnov-test. After that you know whether you have a normal or not. then you need to test neither skewness nor curtosis.\n",
    "\n",
    "The values for asymmetry and kurtosis between -2 and +2 are considered acceptable in order to prove normal univariate distribution (George & Mallery, 2010)"
   ]
  },
  {
   "cell_type": "markdown",
   "metadata": {},
   "source": [
    "# F-test\n",
    "\n",
    "For non-normal data, the distribution of the sample variance may deviate substantially from a χ2 distribution. However, if the sample size is large, Slutsky's theorem implies that the distribution of the sample variance has little effect on the distribution of the test statistic."
   ]
  },
  {
   "cell_type": "markdown",
   "metadata": {},
   "source": [
    "# Hypothesis Testing\n",
    "\n",
    " For the unequal variance t test, the null hypothesis is that the two population means are the same but the two population variances may differ. If the P value is large, you don't reject that null hypothesis, so conclude that the evidence does not persuade you that the two population means are different, even though you assume the two populations have (or may have) different standard deviations. What a strange set of assumptions. What would it mean for two populations to have the same mean but different standard deviations? Why would you want to test for that? Swailowsky points out that this situation simply doesn't often come up in science (1). \n",
    "\n",
    "I think the unequal variance t test is more useful when you think about it as a way to create a confidence interval. Your prime goal is not to ask whether two populations differ, but to quantify how far apart the two means are. The unequal variance t test reports a confidence interval for the difference between two means that is usable even if the standard deviations differ.\n",
    "\n",
    "**Single sample vs Two samples**\n",
    "\n",
    "**Two-tailed vs one-tailed**\n",
    "\n",
    "For example, we may wish to compare the mean of a sample to a given value x using a t-test.  Our null hypothesis is that the mean is equal to x. A two-tailed test will test both if the mean is significantly greater than x and if the mean significantly less than x. The mean is considered significantly different from x if the test statistic is in the top 2.5% or bottom 2.5% of its probability distribution, resulting in a p-value less than 0.05\n",
    "\n",
    " Our null hypothesis is that the mean is equal to x. A one-tailed test will test either if the mean is significantly greater than x or if the mean is significantly less than x, but not both. Then, depending on the chosen tail, the mean is significantly greater than or less than x if the test statistic is in the top 5% of its probability distribution or bottom 5% of its probability distribution, resulting in a p-value less than 0.05.  The one-tailed test provides more power to detect an effect in one direction by not testing the effect in the other direction\n",
    " \n",
    "**When is one-tailed appropriate?**\n",
    "\n",
    " Imagine you have developed a new drug that you believe is an improvement over an existing drug.  You wish to maximize your ability to detect the improvement, so you opt for a one-tailed test. In doing so, you fail to test for the possibility that the new drug is less effective than the existing drug. \n",
    " \n",
    " In testing this drug, you are only interested in testing if it less effective than the existing drug.  You do not care if it is significantly more effective.  You only wish to show that it is not less effective. In this scenario, a one-tailed test would be appropriate.\n",
    " \n",
    "https://stackoverflow.com/questions/15984221/how-to-perform-two-sample-one-tailed-t-test-with-numpy-scipy\n",
    "\n",
    "Unqual variance t-test\n",
    "\n",
    "https://www.graphpad.com/support/faqid/1568/\n",
    "\n",
    "https://towardsdatascience.com/kolmogorov-smirnov-test-84c92fb4158d\n",
    "\n",
    "There is an issue with Student’s T-Test, samples must be normal (shaped in a normal distribution). That is an issue for us because we do work a lot with Poisson distributions.\n",
    "\n",
    "# Really good t-test article\n",
    "\n",
    "https://www.investopedia.com/terms/t/t-test.asp\n",
    "\n",
    "# Paired vs unpaired t-test\n",
    "\n",
    "https://www.quora.com/What-is-the-difference-between-a-paired-and-unpaired-t-test\n",
    "\n",
    "\n",
    "# Different Sample Sizes\n",
    "\n",
    "https://stats.stackexchange.com/questions/31326/how-should-one-interpret-the-comparison-of-means-from-different-sample-sizes\n",
    "\n",
    " think of this by analogy. If you want to know the area of a rectangle, and the perimeter is fixed, then the area will be maximized if the length and width are equal (i.e., if the rectangle is a square). On the other hand, as the length and width diverge (as the rectangle becomes elongated), the area shrinks.\n",
    " \n",
    "\n",
    "# Levene's test\n",
    "\n",
    "It tests the null hypothesis that the population variances are equal (called homogeneity of variance or homoscedasticity)\n",
    " \n",
    "# K.S. test\n",
    "\n",
    "My instructor in this topic joked:\n",
    "Kolmogorov-Smirnov is a test for sample size. \n",
    "\n",
    "It has no power in small samples, and intense power, with no particular sensible acceptance of deviations from normal, in large samples.\n",
    "\n",
    "The Kolmogorov-Smirnov (KS) test is used in over 500 refereed papers each year in the astronomical literature.  It is a nonparametric hypothesis test that measures the probability that a chosen univariate dataset is drawn from the same parent population as a second dataset (the two-sample KS test) or a continuous model (the one-sample KS test).\n",
    "\n",
    "It measures the greatest distance between the two CDF's. The underlying population distribution is assumed to be continuous.\n",
    "\n",
    "https://asaip.psu.edu/Articles/beware-the-kolmogorov-smirnov-test\n",
    "\n",
    "*Question:* How good is KS test if sample size is small?\n",
    "\n",
    "even when valid to apply, it is often not very sensitive in establishing distances between two distributions, and a similar EDF-based test gives a better performance. \n",
    "\n",
    "https://stats.stackexchange.com/questions/57885/how-to-interpret-p-value-of-kolmogorov-smirnov-test-python\n",
    "\n",
    "he k-s test returns a D statistic and a p-value corresponding to the D statistic. The D statistic is the absolute max distance (supremum) between the CDFs of the two samples. The closer this number is to 0 the more likely it is that the two samples were drawn from the same distribution. The p-value returned by the k-s test has the same interpretation as other p-values. You reject the null hypothesis that the two samples were drawn from the same distribution if the p-value is less than your significance level.\n",
    "\n",
    "**Best when comparing two non-parametric samples**\n",
    "\n",
    "But less powerful when comparing to reference distribution, like normal distribution.\n",
    "\n",
    "Shapiro-Wilk is known to be bad with samples with many identical values.\n",
    "\n",
    "# Non-normal distribution\n",
    "\n",
    "Mann-Whitney U test, Bootstrapping, [lognormal](https://amstat.tandfonline.com/doi/full/10.1080/10691898.2005.11910638#.XQvVFtNKhQI), bayisean\n",
    "\n",
    "CI of medians\n",
    "\n",
    "\n",
    "Normality assumption of a t-test\n",
    "\n",
    "Consider a large population from which you could take many different samples of a particular size. (In a particular study, you generally collect just one of these samples.)\n",
    "\n",
    "By the central limit theorem, means of samples from a population with finite variance approach a normal distribution regardless of the distribution of the population. Rules of thumb say that the sample means are basically normally distributed as long as the sample size is at least 20 or 30. For a t-test to be valid on a sample of smaller size, the population distribution would have to be approximately normal.\n",
    "\n",
    "https://stats.stackexchange.com/questions/9573/t-test-for-non-normal-when-n50\n",
    "\n",
    "T-test is fine on non-normal data, as long as the deviation from normality isn't large. Visualize your distributions to test this.\n",
    "\n",
    "The advice must be modified somewhat when the distributions are both strongly skewed and very discrete, such as Likert scale items where most of the observations are in one of the end categories. Then the Wilcoxon-Mann-Whitney isn’t necessarily a better choice than the t-test.\n",
    "\n",
    "Nonparametric t-Tests\n",
    "The Mann–Whitney U test is the true nonparametric counterpart of the t-test and gives the most accurate estimates of significance, especially when sample sizes are small and/or when the data do not approximate a normal distribution.\n",
    "\n",
    "However, there is something familiar and comforting about using t-tests! When one has a large sample size (N ≫ 30) but the data are skewed, it is worth examining log- or square root-transformed values of the data to see if they become more quasinormal (see Chapter 7). If the data pass a test for normality (included in most statistical software), it is then OK to perform a t-test using the transformed datapoints.\n",
    "\n",
    "When the normality assumption does not hold, a non-parametric alternative to the t-test can often have better statistical power.\n",
    "\n",
    "In the presence of an outlier, the t-test is not robust. For example, for two independent samples when the data distributions are asymmetric (that is, the distributions are skewed) or the distributions have large tails, then the Wilcoxon rank-sum test (also known as the Mann–Whitney U test) can have three to four times higher power than the t-test.[14][15][16] The nonparametric counterpart to the paired samples t-test is the Wilcoxon signed-rank test for paired samples. For a discussion on choosing between the t-test and nonparametric alternatives, see Sawilowsky (2005\n",
    "\n",
    "\n",
    "https://stats.stackexchange.com/questions/49465/mann-whitney-for-non-normal-distributions-with-n20?rq=1\n",
    "\n",
    "In Moore, McCabe, Craig's Introduction to the Practice of Statistics (6th ed., pg. 432): For sample sizes 15≤ n ≤39, \"t procedures can be used except in the presence of outliers or strong skewness.\" For samples sizes ≥40, \"t procedures can be used even for clearly skewed distributions.\"\n",
    "\n",
    "The t tends to have reasonably good power relative to the MW for light-tailed distributions ... and can have really bad power for heavy-tailed ones. Skewness tends to be compounded with heavy tails - if power is your main motivation for using the t-test, you should probably avoid it in this case.\n",
    "\n",
    "There's also the possibility of a permutation test rather than either of the choices you mention - it would allow you to test a difference in means and have it be valid when the assumptions of the t-test are not satisfied.\n",
    "\n",
    "# Different distribution distances\n",
    "\n",
    "https://statweb.stanford.edu/~souravc/Lecture2.pdf\n",
    "\n",
    "# Normality testing in extremely large sample sizes\n",
    "\n",
    "https://stats.stackexchange.com/questions/2492/is-normality-testing-essentially-useless\n",
    "\n",
    "The question normality tests answer: Is there convincing evidence of any deviation from the Gaussian ideal? With moderately large real data sets, the answer is almost always yes.\n",
    "\n",
    "The question scientists often expect the normality test to answer: Do the data deviate enough from the Gaussian ideal to \"forbid\" use of a test that assumes a Gaussian distribution? Scientists often want the normality test to be the referee that decides when to abandon conventional (ANOVA, etc.) tests and instead analyze transformed data or use a rank-based nonparametric test or a resampling or bootstrap approach. For this purpose, normality tests are not very useful.\n",
    "\n",
    "**Use skewness or kurtosis as a to test normality instead**\n",
    "\n",
    "t can be verified using simulations that this is true for small 𝑛 as well. Thus Student's t-test is sensitive to skewness but relatively robust against heavy tails, and it is reasonable to use a test for normality that is directed towards skew alternatives before applying the t-test.\n",
    "\n",
    "As a rule of thumb (not a law of nature), inference about means is sensitive to skewness and inference about variances is sensitive to kurtosis. - **you can use bootstrap in conjuction with normality test to get threshold value of good kurtosis and skewness**\n",
    "\n",
    "On large samples, things like the T-test and ANOVA are pretty robust to non-normality.\n",
    "\n",
    "The t-test assumes that the means of the different samples are normally distributed; it does not assume that the population is normally distributed.\n",
    "\n",
    "By the central limit theorem, means of samples from a population with finite variance approach a normal distribution regardless of the distribution of the population. \n",
    "\n",
    "A confidence interval's width is due entirely to sampling error. As the sample size approaches the entire population, the width of the confidence interval approaches zero."
   ]
  },
  {
   "cell_type": "markdown",
   "metadata": {},
   "source": [
    "### Examples\n",
    "\n",
    "Example\n",
    "Suppose a student measuring the boiling temperature of a certain liquid observes the readings (in degrees Celsius) 102.5, 101.7, 103.1, 100.9, 100.5, and 102.2 on 6 different samples of the liquid. He calculates the sample mean to be 101.82. If he knows that the standard deviation for this procedure is 1.2 degrees, what is the confidence interval for the population mean at a 95% confidence level?\n",
    "\n",
    "In other words, the student wishes to estimate the true mean boiling temperature of the liquid using the results of his measurements. If the measurements follow a normal distribution, then the sample mean will have the distribution N(,). Since the sample size is 6, the standard deviation of the sample mean is equal to 1.2/sqrt(6) = 0.49."
   ]
  },
  {
   "cell_type": "markdown",
   "metadata": {},
   "source": [
    "# Outliers\n",
    "\n",
    "T-test is sensitive to outliers. Outliers are important, because they affect the shape of normal distribution. Add one outlier, and run saphiro-wilk normality test, and the result will be significantly different. Using IQR outlier detection might not be good too, because the IQR themselves have outliers in them"
   ]
  },
  {
   "cell_type": "code",
   "execution_count": 5,
   "metadata": {},
   "outputs": [
    {
     "data": {
      "text/plain": [
       "(2.39885356840566, 4.35114643159434)"
      ]
     },
     "execution_count": 5,
     "metadata": {},
     "output_type": "execute_result"
    }
   ],
   "source": [
    "from scipy import stats\n",
    "import numpy as np\n",
    "\n",
    "a = [4,3,6,4,1,2,3,4]\n",
    "\n",
    "stats.norm.interval(0.95, loc=np.mean(a), scale=np.std(a)/np.sqrt(len(a)))\n"
   ]
  },
  {
   "cell_type": "code",
   "execution_count": 7,
   "metadata": {},
   "outputs": [
    {
     "data": {
      "text/plain": [
       "(2.11600213750892, 4.63399786249108)"
      ]
     },
     "execution_count": 7,
     "metadata": {},
     "output_type": "execute_result"
    }
   ],
   "source": [
    "import numpy as np, scipy.stats as st\n",
    "\n",
    "st.t.interval(0.95, len(a)-1, loc=np.mean(a), scale=st.sem(a))"
   ]
  },
  {
   "cell_type": "code",
   "execution_count": null,
   "metadata": {},
   "outputs": [],
   "source": [
    "Many statistical techniques assume that sample data is normally distributed or Gaussian-like (Ex: t-distribution), and different techniques should be considered for non-normal data set."
   ]
  },
  {
   "cell_type": "code",
   "execution_count": null,
   "metadata": {},
   "outputs": [],
   "source": []
  },
  {
   "cell_type": "code",
   "execution_count": null,
   "metadata": {},
   "outputs": [],
   "source": []
  },
  {
   "cell_type": "markdown",
   "metadata": {},
   "source": [
    "## Similarity of distributions\n",
    "\n",
    "https://stats.stackexchange.com/questions/77888/similarity-between-two-sets-of-random-values\n"
   ]
  },
  {
   "cell_type": "markdown",
   "metadata": {},
   "source": [
    "## Smart Gas Lift\n",
    "\n",
    "gas lift - use external high pressure gas, well has gas in it, but not enough. Inject in through the casing, tubing, and lift hydrocarbons up with the gas. High pressure compression makes the lifespan of machine short. \n",
    "\n",
    "Inject too little gas - don't lift enough. Doesn't flow all the way\n",
    "Inject too much gas - you are gonna lift it all, but you add extra friction, and you waste gas that you can sell.\n",
    "\n",
    "GOR affects how much gas you need to inject.\n",
    "\n",
    "Based on experience, opt injection rate seems to always round about 500, 600, 700 mcfd. \n",
    "\n",
    "Key features\n",
    "- self-optimization, maximizing runtime. We have 95% runtime, but others have 60-70% runtime.\n",
    "- you can't manually determin BHP, but the algo does it automatically with iterations.\n",
    "\n",
    "# Mahalanobis distance\n",
    "\n",
    "https://stats.stackexchange.com/questions/62092/bottom-to-top-explanation-of-the-mahalanobis-distance"
   ]
  },
  {
   "cell_type": "markdown",
   "metadata": {},
   "source": [
    "*Distribution score* depends on the type of distribution (Ex: normal, lognormal, chi-squared, weibull), and the equations for *standard error* depends on the type of statistic (Ex: mean, proportion, std, variance). The sample data is assumed to be normally distributed, allowing you to use <a href=\"#\">z-score</a> to lookup values related to any confidence level (Ex: 99%, 95%, 90%). Since you are trying to compute confidence interval of a mean ($\\overline{x}$), you use $SE_{\\overline{x}} = s\\,/\\sqrt{N}$ to compute standard error for a mean."
   ]
  },
  {
   "cell_type": "markdown",
   "metadata": {},
   "source": []
  },
  {
   "cell_type": "markdown",
   "metadata": {},
   "source": []
  }
 ],
 "metadata": {
  "kernelspec": {
   "display_name": "Python 3",
   "language": "python",
   "name": "python3"
  },
  "language_info": {
   "codemirror_mode": {
    "name": "ipython",
    "version": 3
   },
   "file_extension": ".py",
   "mimetype": "text/x-python",
   "name": "python",
   "nbconvert_exporter": "python",
   "pygments_lexer": "ipython3",
   "version": "3.7.3"
  }
 },
 "nbformat": 4,
 "nbformat_minor": 2
}
