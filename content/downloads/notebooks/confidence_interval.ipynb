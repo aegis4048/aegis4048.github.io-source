{
 "cells": [
  {
   "cell_type": "markdown",
   "metadata": {},
   "source": [
    "> **Confidence interval** is uncertainty in summary statistic represented as a range. In the other words, it is a range of values we are fairly sure our true value lies in. For example: I am 95% confident that the population mean falls between 8.76 and 15.88 $\\rightarrow$ (12.32 $\\pm$ 3.56)\n",
    "\n",
    "Confidence interval tells you how confident you can be that the results from a poll or survey reflect what you would expect to find if it were possible to survey the entire population. It is difficult to obtain measurement data of an entire data set (*population*) due to limited resource & time. Your best shot is to survey a small fraction (*samples*) of the entire data set, and pray that your sample data represents the population reasonably well. \n",
    "\n",
    "Sample data may not be a good representation of a population by numerous factors (Ex: bias), and as a result, uncertainty is always introduced in any estimations derived from sample data. **Due to the uncertainty involved with sample data, any statistical estimation needs to be delivered in a range, not in a point estimate**.\n",
    "\n",
    "How well a sample statistic estimates an underlying population parameter is always an issue. A confidence interval addresses this issue because it provides a range of values which is likely to contain the population parameter of interest."
   ]
  },
  {
   "cell_type": "markdown",
   "metadata": {},
   "source": [
    "<div id=\"population_vs_samples\"></div>\n",
    "\n",
    "## Population vs. Samples\n",
    "\n",
    "Confidence interval describes the amount of uncertainty associated with a sample estimate of a population parameter. One needs to have a good understanding of the difference between samples and population to understand the necessity of delivering statistical estimations in a range, a.k.a. confidence interval.\n",
    "\n",
    "<div id=\"fig1\" class=\"row give-margin-inline-big-plot mobile_responsive_plot_full_width\" style=\"\n",
    "    margin-top: 10px;\n",
    "\">\n",
    "    <div class=\"col\"><img src=\"jupyter_images/conf_int_sample_vs_population.png\"></div>\n",
    "    <div class=\"col-12\"><p class=\"image-description\">Figure 1: Population vs samples</p></div>\n",
    "</div>\n",
    "\n",
    "**Population**: data set that contains all members of a specified group. Ex: ALL people living in the US.\n",
    "\n",
    "**Samples**: data set that contains a part, or a subset, of a population Ex: SOME people living in the US."
   ]
  },
  {
   "cell_type": "markdown",
   "metadata": {},
   "source": [
    "## Understanding Confidence Interval with analogy\n",
    "\n",
    "If you've taken a science class with lab reports in your highschool or college, you probably had to include measurement error in your lab reports. For example, if you were asked to measure the length of a paper clip with a ruler, you have to include $\\pm0.5 \\,\\text{cm}$ or $\\pm0.05\\,\\text{cm}$ (depending on the spacing of tick marks) to account for the measurement error that shows the precision of your measuring tool. \n",
    "\n",
    "Based on <a href=\"#fig2\">figure (2)</a>, the paper clip seems to be about 2.7 cm long, but we don't know for sure because the tickmarks in the ruler is not precise enough to measure decimal length. However, I can tell with 100% confidence that the paper clip has a length between 2 ~ 3 cm, because the clip is between 2cm and 3cm tickmarks. You record the length of the paper clip in a *range*, instead of a *point estimate*, to account for the uncertainty introduced by the spacing of the tickmarks.\n",
    "\n",
    "<div id=\"fig2\" class=\"row give-margin-inline-big-plot mobile_responsive_plot_full_width\" style=\"margin-top: 15px;\">\n",
    "    <div class=\"col\"><img src=\"jupyter_images/conf_int_ruler.png\"></div>\n",
    "    <div class=\"col-12\"><p class=\"image-description\">Figure 2: Measurement error in ruler</p></div>\n",
    "</div>\n",
    "\n",
    "Similar idea can be applied to a <a href=\"#\">confidence interval of a sample mean</a>. You want to obtain a mean of a whole data set (*population*), but you can measure values of only a small fraction (*samples*) of the whole data set. This boils down to the traditional issue of <a href=\"#\">Sample vs Population</a>, due to the cost of obtaining measurement data of a large data set. Uncertainty is introduced in your samples, because you don't know if your samples are 100% representative of the population, free of bias. Therefore, you deliver your conclusion in a range, not in a point estimate, to account for the uncertainty.\n",
    "\n",
    "<div id=\"fig3\" class=\"row\" style=\"margin-top: 20px\">\n",
    "    <div class=\"col\"><img src=\"jupyter_images/conf_int_dist_formula.png\"></div>\n",
    "    <div class=\"col-12\"><p class=\"image-description\">Figure 3: Confidence interval of sample mean</p></div>\n",
    "</div>\n",
    "\n",
    "In <a href=\"#fig3\">figure (3)</a>, the calculated sample mean is $12.32$. This is a *point estimate*. Since you don't have an access to the entire population data, you quantify the uncertainty related to the computed mean of $12.32$ using <a href=\"#\">eq (???)</a>. You choose 95% <a href=\"#\">confidence level</a>, and obtain the uncertainty to be $\\pm3.56$. Then, you deliver your conclusion as: **I am 95% confident that the population mean falls between 8.76 and 15.88 $\\rightarrow$ (12.32 $\\pm$ 3.56)**\n",
    "\n",
    "The details of computing confidence interval of mean is described <a href=\"#\">below</a>.\n",
    "\n",
    "<div style=\"display: none\">\n",
    "from scipy.stats import truncnorm\n",
    "\n",
    "def get_truncated_normal(mean=1, sd=1, low=0, upp=10):\n",
    "    return truncnorm(\n",
    "        (low - mean) / sd, (upp - mean) / sd, loc=mean, scale=sd)\n",
    "\n",
    "\n",
    "X1 = sorted(get_truncated_normal(mean=5, sd=1, low=1, upp=10).rvs(10000))\n",
    "\n",
    "mean, std = stats.norm.fit(X1, loc=0)\n",
    "pdf_norm = stats.norm.pdf(X1, mean, std)\n",
    "\n",
    "fig, ax = plt.subplots(figsize=(8, 4))\n",
    "ax.plot(X1, pdf_norm)\n",
    "ax.fill_between(X1, 0, pdf_norm, facecolor='lightgrey')\n",
    "</div>"
   ]
  },
  {
   "cell_type": "markdown",
   "metadata": {},
   "source": []
  },
  {
   "cell_type": "markdown",
   "metadata": {},
   "source": [
    "The selection of a confidence level for an interval determines the probability that the confidence interval produced will contain the true parameter value. Common choices for the confidence level C are 0.90, 0.95, and 0.99. These levels correspond to percentages of the area of the normal density curve. For example, a 95% confidence interval covers 95% of the normal curve -- the probability of observing a value outside of this area is less than 0.05.\n",
    "\n",
    "\n",
    "Note: This interval is only exact when the population distribution is normal. For large samples from other population distributions, the interval is approximately correct by the Central Limit Theorem.\n",
    "\n",
    "<div class=\"alert alert-info\">\n",
    "    <h4>Notes: Confidence interval for non-normal distributions</h4>\n",
    "    <p></p>\n",
    "</div>\n"
   ]
  },
  {
   "cell_type": "markdown",
   "metadata": {},
   "source": [
    "### What is confidence level $1 - \\alpha$?\n",
    "\n",
    "Confidence level is the chance that the statistic value of your interest lies within the interval. A common choice of confidence level include \n",
    "\n",
    "<div id=\"fig6\" class=\"row give-margin-inline-big-plot mobile_responsive_plot_full_width\">\n",
    "    <div class=\"col\"><img src=\"jupyter_images/conf_int_norm_curve.png\"></div>\n",
    "    <div class=\"col-12\"><p class=\"image-description\">Figure ???: Normal curve of confidence interval</p></div>\n",
    "</div>\n",
    "\n"
   ]
  },
  {
   "cell_type": "markdown",
   "metadata": {},
   "source": [
    "confidence interval = uncertainty in summary statistic represented as a range\n",
    "\n",
    "<div class=\"row\" id=\"fig1\">\n",
    "    <div class=\"col\"><img src=\"jupyter_images/conf_int_1.png\" style=\"margin: 0;\"></div>\n",
    "</div>\n",
    "\n",
    "* Language of uncertainty is important.\n",
    "* Decision makers need to know:\n",
    "    - significance of your results\n",
    "    - uncertainty in results\n",
    "\n",
    "95% confidence interval does not mean that 95% of sample data lie within the interval. It means that there's 95% chance that the sample mean falls within the interval. 95% confidence interval relates to the reliability of the estimation procedure -> how reliable is your estimation of population mean?\n",
    "\n",
    "**Pitfalls**\n",
    "\n",
    "95% doesn't mean 95% of the sample data lie within the interval.\n",
    "\n",
    "Prediction vs Confidence interval\n",
    "\n",
    "Normal vs non-normal distribution\n",
    "\n",
    "Standard Error\n",
    "\n",
    "**Explain that the below plot is different from true population distribution plot**\n",
    "\n",
    "<div id=\"fig6\" class=\"row give-margin-inline-big-plot mobile_responsive_plot_full_width\">\n",
    "    <div class=\"col\"><img src=\"jupyter_images/conf_int_5.png\"></div>\n",
    "    <div class=\"col-12\"><p class=\"image-description\">Figure ???: Measurement error in ruler</p></div>\n",
    "</div>\n",
    "\n",
    "\n",
    "### Convey your conclusion in a range, instead of point estimate"
   ]
  },
  {
   "cell_type": "markdown",
   "metadata": {},
   "source": [
    "### Analogy with measurement error\n",
    "\n",
    "If you've taken a science class with lab reports in your highschool or college, you probably had to include measurement error in your lab reports. For example, if you were asked to measure the length of a paper clip with a ruler, you have to include $\\pm0.5 \\,\\text{cm}$ or $\\pm0.05\\,\\text{cm}$ (depending on the spacing of tick marks) to account for the measurement error that shows the precision of your measuring tool. \n",
    "\n",
    "Based on <a href=\"#\">figure (???)</a>, the paper clip seems to be about 2.7 cm long, but we don't know for sure because the tickmarks in the ruler is not precise enough to measure decimal length. However, I can tell with 100% confidence that the paper clip has a length between 2 ~ 3 cm, because the clip is between 2cm and 3cm tickmarks. You record the length of the paper clip in a *range*, instead of a *point estimate*, to account for the uncertainty introduced by the spacing of the tickmarks.\n",
    "\n",
    "<div id=\"fig6\" class=\"row give-margin-inline-big-plot mobile_responsive_plot_full_width\" style=\"margin-top: 15px;\">\n",
    "    <div class=\"col\"><img src=\"jupyter_images/conf_int_ruler.png\"></div>\n",
    "    <div class=\"col-12\"><p class=\"image-description\">Figure ???: Measurement error in ruler</p></div>\n",
    "</div>\n",
    "\n",
    "Similar idea can be applied to a <a href=\"#\">confidence interval of a sample mean</a>. You want to obtain a mean of a whole data set (*population*), but you can measure values of only a small fraction (*samples*) of the whole data set. This boils down to the traditional issue of <a href=\"#\">Sample vs Population</a>, due to the cost of obtaining measurement data of a large data set. Uncertainty is introduced in your samples, because you don't know if your samples are 100% representative of the population, free of bias. Therefore, you deliver your conclusion in a range, not in a point estimate, to account for the uncertainty.\n",
    "\n",
    "<div id=\"fig6\" class=\"row\" style=\"margin-top: 20px\">\n",
    "    <div class=\"col\"><img src=\"jupyter_images/conf_int_dist_formula.png\"></div>\n",
    "    <div class=\"col-12\"><p class=\"image-description\">Figure ???: Confidence interval of sample mean</p></div>\n",
    "</div>\n",
    "\n",
    "In <a href=\"#\">figure (???)</a>, the calculated sample mean is $12.32$. This is a *point estimate*. Since you don't have an access to the entire population data, you quantify the uncertainty related to the computed mean of $12.32$ using <a href=\"#\">eq (???)</a>. You choose 95% <a href=\"#\">confidence level</a>, and obtain the uncertainty to be $\\pm3.56$. Then, you deliver your conclusion as: **I am 95% confident that the population mean falls between 8.76 and 15.88 $\\rightarrow$ (12.32 $\\pm$ 3.56)**\n",
    "\n",
    "The details of computing confidence interval of mean is described <a href=\"#\">below</a>.\n",
    "\n",
    "<div style=\"display: none\">\n",
    "from scipy.stats import truncnorm\n",
    "\n",
    "def get_truncated_normal(mean=1, sd=1, low=0, upp=10):\n",
    "    return truncnorm(\n",
    "        (low - mean) / sd, (upp - mean) / sd, loc=mean, scale=sd)\n",
    "\n",
    "\n",
    "X1 = sorted(get_truncated_normal(mean=5, sd=1, low=1, upp=10).rvs(10000))\n",
    "\n",
    "mean, std = stats.norm.fit(X1, loc=0)\n",
    "pdf_norm = stats.norm.pdf(X1, mean, std)\n",
    "\n",
    "fig, ax = plt.subplots(figsize=(8, 4))\n",
    "ax.plot(X1, pdf_norm)\n",
    "ax.fill_between(X1, 0, pdf_norm, facecolor='lightgrey')\n",
    "</div>"
   ]
  },
  {
   "cell_type": "markdown",
   "metadata": {},
   "source": [
    "**Why do we need CI?**\n",
    "\n",
    "We need to know confidence interval because we don't have the true representation of the population. We only have samples. \n",
    "\n",
    "<div class=\"row\" id=\"fig1\">\n",
    "    <div class=\"col\"><img src=\"jupyter_images/conf_int_2.png\" style=\"margin: 0;\"></div>\n",
    "</div>\n",
    "\n",
    "\n",
    "**How to compute?**\n",
    "\n",
    "Obtained by taking a single estimate (mean) and $\\pm$ margin of error\n",
    "\n",
    "$$\\text{statistic} \\pm \\text{distribution score} \\times \\text{standard error}$$\n",
    "\n",
    "distribution score is how much std it requires to capture 95% of data???\n",
    "\n",
    "#### What is standard error?\n",
    "\n",
    "estimation of standard deviation of a statistic. Standard error is used in computing \n",
    "\n",
    "#### Terminalogy\n",
    "\n",
    "Statistic: statistical value of data. Ex: mean, standard deviation, kurtosis, IQR, skewness, proportion, etc..\n",
    "\n",
    "Population: data set that contains all members of a specified group. Ex: ALL people living in the US. \n",
    "\n",
    "Sample: data set that contains a part, or a subset, of a population Ex: SOME people living in the US.\n",
    "\n",
    "Sample statistic: statistic based on a fraction of a population. Can be biased.\n",
    "\n",
    "Population Parameter: statistic based on the entire population. Is free of bias.\n",
    "\n",
    "$\\sigma$: standard deviation of a population\n",
    "\n",
    "$s$: estimate of population standrd deviation ($\\sigma$) from samples\n",
    "\n",
    "### Confidence interval vs Prediction interval\n",
    "\n",
    "<div class=\"row\" id=\"fig1\">\n",
    "    <div class=\"col\"><img src=\"jupyter_images/conf_int_6.png\" style=\"margin: 0;\"></div>\n",
    "</div>\n",
    "\n",
    "\n",
    "\n",
    "## Why do we care about an interval of a statistic?\n",
    "\n",
    "### Sample vs Population\n",
    "\n",
    "--> Standard Error vs Standard Deviation\n",
    "\n",
    "\"Statisticians use sample statistics to estimate population parameters. Naturally, the value of a statistic may vary from one sample to the next\"\n",
    "\n",
    "Unfortunately, true value of population parameters are difficult to compute because of sampling limitations. For example, if the US Census Bureau wants to know the true average body weight of US male citizens in their 20's, they will have to measure body weights of every 23 million males in the US (<a href=\"https://www.statista.com/statistics/241488/population-of-the-us-by-sex-and-age/\" target=\"_blank\">source</a>), which is unrealistic. So they sample a small fraction of the entire population, and use it to estimate a population parameter. For example, they take body weights of 10,000 males and call it good for the estimation of the average body weight of all 23 million. \n",
    "\n",
    "Figure: 원안에 남자 사람 아이콘 100개, 원안에 사람 2개 동그라미 쳐서 밖에 조그만 원에다가 두기. \n",
    "\n",
    "\n",
    "\n",
    "**Sampling Bias**\n",
    "\n",
    "### Notations\n",
    "\n",
    "<div class=\"row\" id=\"fig1\">\n",
    "    <div class=\"col\"><img src=\"jupyter_images/conf_int_3.png\" style=\"margin: 0;\"></div>\n",
    "</div>"
   ]
  },
  {
   "cell_type": "markdown",
   "metadata": {},
   "source": []
  },
  {
   "cell_type": "markdown",
   "metadata": {},
   "source": []
  },
  {
   "cell_type": "markdown",
   "metadata": {},
   "source": []
  },
  {
   "cell_type": "markdown",
   "metadata": {},
   "source": [
    "Different equatoins fot standard error\n",
    "\n",
    "https://stattrek.com/estimation/standard-error.aspx"
   ]
  },
  {
   "cell_type": "markdown",
   "metadata": {},
   "source": [
    "### Examples\n",
    "\n",
    "Example\n",
    "Suppose a student measuring the boiling temperature of a certain liquid observes the readings (in degrees Celsius) 102.5, 101.7, 103.1, 100.9, 100.5, and 102.2 on 6 different samples of the liquid. He calculates the sample mean to be 101.82. If he knows that the standard deviation for this procedure is 1.2 degrees, what is the confidence interval for the population mean at a 95% confidence level?\n",
    "\n",
    "In other words, the student wishes to estimate the true mean boiling temperature of the liquid using the results of his measurements. If the measurements follow a normal distribution, then the sample mean will have the distribution N(,). Since the sample size is 6, the standard deviation of the sample mean is equal to 1.2/sqrt(6) = 0.49."
   ]
  },
  {
   "cell_type": "code",
   "execution_count": null,
   "metadata": {},
   "outputs": [],
   "source": []
  },
  {
   "cell_type": "code",
   "execution_count": null,
   "metadata": {},
   "outputs": [],
   "source": []
  },
  {
   "cell_type": "markdown",
   "metadata": {},
   "source": [
    "## Smart Gas Lift\n",
    "\n",
    "gas lift - use external high pressure gas, well has gas in it, but not enough. Inject in through the casing, tubing, and lift hydrocarbons up with the gas. High pressure compression makes the lifespan of machine short. \n",
    "\n",
    "Inject too little gas - don't lift enough. Doesn't flow all the way\n",
    "Inject too much gas - you are gonna lift it all, but you add extra friction, and you waste gas that you can sell.\n",
    "\n",
    "GOR affects how much gas you need to inject.\n",
    "\n",
    "Based on experience, opt injection rate seems to always round about 500, 600, 700 mcfd. \n",
    "\n",
    "Key features\n",
    "- self-optimization, maximizing runtime. We have 95% runtime, but others have 60-70% runtime.\n",
    "- you can't manually determin BHP, but the algo does it automatically with iterations.\n",
    "\n"
   ]
  },
  {
   "cell_type": "markdown",
   "metadata": {},
   "source": [
    "*Distribution score* depends on the type of distribution (Ex: normal, lognormal, chi-squared, weibull), and the equations for *standard error* depends on the type of statistic (Ex: mean, proportion, std, variance). The sample data is assumed to be normally distributed, allowing you to use <a href=\"#\">z-score</a> to lookup values related to any confidence level (Ex: 99%, 95%, 90%). Since you are trying to compute confidence interval of a mean ($\\overline{x}$), you use $SE_{\\overline{x}} = s\\,/\\sqrt{N}$ to compute standard error for a mean."
   ]
  },
  {
   "cell_type": "markdown",
   "metadata": {},
   "source": []
  },
  {
   "cell_type": "markdown",
   "metadata": {},
   "source": []
  }
 ],
 "metadata": {
  "kernelspec": {
   "display_name": "Python 3",
   "language": "python",
   "name": "python3"
  },
  "language_info": {
   "codemirror_mode": {
    "name": "ipython",
    "version": 3
   },
   "file_extension": ".py",
   "mimetype": "text/x-python",
   "name": "python",
   "nbconvert_exporter": "python",
   "pygments_lexer": "ipython3",
   "version": "3.6.5"
  }
 },
 "nbformat": 4,
 "nbformat_minor": 2
}
