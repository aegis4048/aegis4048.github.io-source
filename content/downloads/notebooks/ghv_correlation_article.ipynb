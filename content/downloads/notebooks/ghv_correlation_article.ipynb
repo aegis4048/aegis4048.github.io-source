{
 "cells": [
  {
   "cell_type": "markdown",
   "id": "ff53357f",
   "metadata": {},
   "source": [
    "This article "
   ]
  },
  {
   "cell_type": "markdown",
   "id": "f63ba083",
   "metadata": {},
   "source": [
    "## 0. Sample Data\n",
    "\n",
    "GPA Table\n"
   ]
  },
  {
   "cell_type": "markdown",
   "id": "da44943e",
   "metadata": {},
   "source": [
    "## 1. Motivation\n",
    "\n",
    "Laboratory composition analysis of natural gas always includes \"Plus\" fractions, typically denoted as \"Hexanes+ (C6+)\" or \"Heptanes+ (C7+),\" representing all compounds equal to or heavier than hexane or heptane. For extended chromatograph analysis, labs might report compounds up to n-Decane (C10H22) and group heavier fractions as \"Decanes+ (C10+).\" The use of plus fractions stems from the limitations of chromatograph devices, which detect only a predefined set of pure compounds. Given the presence of potentially more than 100 different compounds, each with less than 0.1% mole fraction, it is impractical to determine the exact mole fractions of all compounds and convenient to input them into equation-of-state (EOS) software. Hence, the plus fractions are used. However, because a plus fraction is a pseudo-compound, it has no designated values for molecular weight ($MW$), critical pressure ($P_c$) and temperature ($T_c$), density ($\\rho$), viscosity ($\\mu$), or acentric factor ($\\omega$), which are some of the required parameters for EOS modeling. *Characterization* of the plus fraction is needed to assign such properties for EOS modling. \n",
    "\n",
    "In <a href=\"https://www.bre.com/ProMax-Upstream.aspx\" target=\"_blank\">BRE ProMax</a>, a leading process simulation software in the upstream oil and gas industry, characterizing a plus fraction requires at least the normal boiling point or a combination of both molecular weight and liquid specific (or API) gravity (<a href=\"#fig-2\" class=\"internal-link\">Figure 2</a>). Although the normal boiling point is preferred for characterizing plus fractions<sup><a class=\"internal-link\" href=\"#id1\" id=\"id11\">[1]</a> pg.144</sup>, distillation data is seldom reported for surface facility modeling (this may be different for PVT sims for downhole reservoir simulation). Thus, for tasks such as C6+ or C7+ characterization, both molecular weight and liquid specific gravity are necessary. Unfortunately, real life lab reports don't always come with both $MW$ and liquid specific gravity data for the plus fractions. <u><strong>However, they always report gross heating values (GHV), which can be empircially correlated to calculate $MW$ and liquid density. </strong></u>"
   ]
  },
  {
   "cell_type": "markdown",
   "id": "74fd06bc",
   "metadata": {},
   "source": [
    "<div class=\"row full_screen_margin_70 mobile_responsive_plot_full_width\" style=\"\" id=\"fig-2\">\n",
    "<div class=\"col\"><img src=\"jupyter_images/ghv_promax_screenshot_1.png\"></div></div> \n",
    "\n",
    "<div class=\"col-12 fig-title\"><p class=\"image-description\"><strong>Figure 2:</strong> Screenshot of <a href=\"https://www.bre.com/ProMax-Upstream.aspx\" target=_blank>BRE ProMax</a> illustrating the characterization of the Heptanes+ (C7+) fraction. The software necessitates either the normal boiling point or a combination of molecular weight and specific (or API) gravity for component characterization. Cells highlighted in blue indicate user inputs, while those in black display calculated values.</p></div>\n",
    "<div><hr></div>"
   ]
  },
  {
   "cell_type": "markdown",
   "id": "09b45e42",
   "metadata": {},
   "source": [
    "<a href=\"#fig-3\" class=\"internal-link\">Figure 3</a> below presents real-life gas sample analyses obtained from atmospheric tanks (Type 1 and 4), a high-pressure separator at 690 psig (Type 2), and a gas salesline operating at 58 psig (Type 3). Types 1 and 2 do not report liquid density, as the original samples were in a gaseous phase. Typically, gas samples report gas specific gravity, while liquid samples report liquid specific (or API) gravity. Since process simulation software requires liquid specific gravity, it can be correlated from the GHV values, discussed in more detail <a href=\"#\" class=\"internal-link\">below</a>. Additionally, Type 2 lacks properties of the plus fractions, which can be computed using the molecular weighted average of known compounds. Type 3 includes calculated $MW$ and liquid specific gravity, suitable for direct input for C7+ characterization, although these values are not measured but computed by making assumptions about the compositions of the plus fractions. For C7+, it's reasonable to assume a 50% mix of n-hexane (C6H14) and n-heptane (C7H16) for natural gas samples. Type 4 explicitly outlines assumptions for the composition of the plus fraction. In this scenario, explicit characterization of the plus fraction is unnecessary; users can redistribute the mole fraction of the plus fraction (1.472%) based on the ratio of assumed compounds (C6-60%, C7-30%, C8-10%)."
   ]
  },
  {
   "cell_type": "markdown",
   "id": "a90857bb",
   "metadata": {},
   "source": [
    "<div class=\"row full_screen_margin_80 mobile_responsive_plot_full_width\" style=\"\" id=\"fig-3\">\n",
    "<div class=\"col\"><img src=\"jupyter_images/gas_sample_types.png\"></div></div>    \n",
    "<div class=\"col-12 fig-title\"><p class=\"image-description\"><strong>Figure 3:</strong> Examples of gas sample analyses. <u>Type 1</u> reports gas specific gravity, as the sample was taken in a gaseous phase. Process simulation software requires liquid specific gravity, which can be calculated using empirical correlation with the GHV value. <u>Type 2</u> does not report properties of the Hexane+ fraction separately, but rather for the entire sample. The properties of the plus fraction can be derived by back-solving with the molecular-weighted average of known compounds. <u>Type 3</u> includes both molecular weight and liquid density values (highlighted in orange). However, it is important to note that laboratories providing these values typically make assumptions about the compositions of the plus fractions, such as a distribution of C6-60%, C7-30%, and C8-10%, as illustrated in <u>Type 4</u>. Although not the most accurate method for characterizing the plus fraction, it offers convenience.</p></div>"
   ]
  },
  {
   "cell_type": "markdown",
   "id": "972ed161",
   "metadata": {},
   "source": [
    "## 2. Understanding GHVs\n",
    "\n",
    "### 2.1. Impact of PNA composition on GHV "
   ]
  },
  {
   "cell_type": "markdown",
   "id": "ac3f60a9",
   "metadata": {},
   "source": [
    "## 3. Correlations\n",
    "\n",
    "### 3.1. Gas GHV to molecular weight\n",
    "\n",
    "### 3.2. Gas GHV to gas specific gravity\n",
    "\n",
    "#### 3.2.1. Comparison to API method\n",
    "\n",
    "### 3.3. Gas GHV to liquid GHV\n",
    "\n",
    "### 3.4. Liquid GHV to liquid specific gravity\n",
    "\n",
    "#### 3.4.1. Riazi's method\n",
    "#### 3.4.2. Regression on GPA data\n",
    "#### 3.4.3. API method\n",
    "#### 3.4.4. Riazi-Daubert method with Tb and MW"
   ]
  },
  {
   "cell_type": "markdown",
   "id": "8e25aa72",
   "metadata": {},
   "source": [
    "## 4. Excercises"
   ]
  },
  {
   "cell_type": "markdown",
   "id": "2fa91552",
   "metadata": {},
   "source": [
    "Think about the order of the rest of the article. \n",
    "\n",
    "Overlay Riazi's method to the GPA table data linear regression\n",
    "\n",
    "Replace with sg_liq and sg_gas"
   ]
  },
  {
   "cell_type": "markdown",
   "id": "d09c0c5f",
   "metadata": {},
   "source": [
    "## 6. References\n",
    "\n",
    "<span><strong>[1](<a class=\"internal-link\" href=\"#id11\" id=\"id1\" style=\"content: none;\">1</a>, 2, 3)</strong></span> Riazi, M. R.: \"Characterization and Properties of Petroleum Fractions,\" first edition (1985), West Conshohocken, Pennsylvania: ASTM International`\n"
   ]
  },
  {
   "cell_type": "markdown",
   "id": "e2d18e0c",
   "metadata": {},
   "source": []
  },
  {
   "cell_type": "code",
   "execution_count": null,
   "id": "e4bf3c0b",
   "metadata": {},
   "outputs": [],
   "source": []
  }
 ],
 "metadata": {
  "kernelspec": {
   "display_name": "Python 3 (ipykernel)",
   "language": "python",
   "name": "python3"
  },
  "language_info": {
   "codemirror_mode": {
    "name": "ipython",
    "version": 3
   },
   "file_extension": ".py",
   "mimetype": "text/x-python",
   "name": "python",
   "nbconvert_exporter": "python",
   "pygments_lexer": "ipython3",
   "version": "3.9.18"
  }
 },
 "nbformat": 4,
 "nbformat_minor": 5
}
