{
 "cells": [
  {
   "cell_type": "markdown",
   "id": "ff53357f",
   "metadata": {},
   "source": [
    "This article "
   ]
  },
  {
   "cell_type": "markdown",
   "id": "f63ba083",
   "metadata": {},
   "source": [
    "## 0. Sample Data\n",
    "\n",
    "GPA Table\n"
   ]
  },
  {
   "cell_type": "markdown",
   "id": "da44943e",
   "metadata": {},
   "source": [
    "## 1. Motivation\n",
    "\n",
    "Laboratory composition analysis of natural gas always includes \"Plus\" fractions, typically denoted as \"Hexanes+ (C6+)\" or \"Heptanes+ (C7+),\" representing all compounds equal to or heavier than hexane or heptane. For extended chromatograph analysis, labs might report compounds up to n-Decane (C10H22) and group heavier fractions as \"Decanes+ (C10+).\" The use of plus fractions stems from the limitations of chromatograph devices, which detect only a predefined set of pure compounds. Given the presence of potentially more than 100 different compounds, each with less than 0.1% mole fraction, it is impractical to determine the exact mole fractions of all compounds and convenient to input them into equation-of-state (EOS) software. Hence, the plus fractions are used. However, because a plus fraction is a pseudo-compound, it has no designated values for molecular weight ($MW$), critical pressure ($P_c$) and temperature ($T_c$), density ($\\rho$), viscosity ($\\mu$), or acentric factor ($\\omega$), which are some of the required parameters for EOS modeling. *Characterization* of the plus fraction is needed to assign such properties for EOS modling. \n",
    "\n",
    "In <a href=\"https://www.bre.com/ProMax-Upstream.aspx\" target=\"_blank\">BRE ProMax</a>, a leading process simulation software in the upstream oil and gas industry, <strong>characterizing a plus fraction requires at least the normal boiling point or a combination of both molecular weight and liquid specific (or API) gravity</strong> (<a href=\"#fig-2\" class=\"internal-link\">Figure 2</a>). Although the normal boiling point is preferred for characterizing plus fractions<sup><a class=\"internal-link\" href=\"#id1\" id=\"id11\">[1]</a> pg.144</sup>, distillation data is seldom reported for surface facility modeling (this may be different for PVT sims for downhole reservoir simulation). Thus, for tasks such as C6+ or C7+ characterization, both molecular weight and liquid specific gravity are necessary. Unfortunately, real life lab reports don't always come with both $MW$ and liquid specific gravity data for the plus fractions. <u><strong>However, they always report gross heating values (GHV), which can be empircially correlated to calculate $MW$ and liquid density. </strong></u>"
   ]
  },
  {
   "cell_type": "markdown",
   "id": "74fd06bc",
   "metadata": {},
   "source": [
    "<div class=\"row full_screen_margin_70 mobile_responsive_plot_full_width\" style=\"\" id=\"fig-2\">\n",
    "<div class=\"col\"><img src=\"jupyter_images/ghv_promax_screenshot_1.png\"></div></div> \n",
    "\n",
    "<div class=\"col-12 fig-title\"><p class=\"image-description\"><strong>Figure 2:</strong> Screenshot of <a href=\"https://www.bre.com/ProMax-Upstream.aspx\" target=_blank>BRE ProMax</a> illustrating the characterization of the Heptanes+ (C7+) fraction. The software necessitates either the normal boiling point or a combination of molecular weight and specific (or API) gravity for component characterization. Cells highlighted in blue indicate user inputs, while those in black display calculated values.</p></div>\n",
    "<div><hr></div>"
   ]
  },
  {
   "cell_type": "markdown",
   "id": "09b45e42",
   "metadata": {},
   "source": [
    "<a href=\"#fig-3\" class=\"internal-link\">Figure 3</a> below presents real-life gas sample analyses obtained from atmospheric tanks (Type 1 and 4), a high-pressure separator at 690 psig (Type 2), and a gas salesline operating at 58 psig (Type 3). Types 1 and 2 do not report liquid density, as the original samples were in a gaseous phase. Typically, gas samples report gas specific gravity, while liquid samples report liquid specific (or API) gravity. Since process simulation software requires liquid specific gravity, it can be correlated from the GHV values, discussed in more detail <a href=\"#\" class=\"internal-link\">below</a>. Additionally, Type 2 lacks properties of the plus fractions, which can be computed using the molecular weighted average of known compounds. Type 3 includes calculated $MW$ and liquid specific gravity, suitable for direct input for C7+ characterization, although these values are not measured but computed by making assumptions about the compositions of the plus fractions. For C7+, it's reasonable to assume a 50% mix of n-hexane (C6H14) and n-heptane (C7H16) for natural gas samples. Type 4 explicitly outlines assumptions for the composition of the plus fraction. In this scenario, explicit characterization of the plus fraction is unnecessary; users can redistribute the mole fraction of the plus fraction (1.472%) based on the ratio of assumed compounds (C6-60%, C7-30%, C8-10%)."
   ]
  },
  {
   "cell_type": "markdown",
   "id": "a90857bb",
   "metadata": {},
   "source": [
    "<div class=\"row full_screen_margin_80 mobile_responsive_plot_full_width\" style=\"\" id=\"fig-3\">\n",
    "<div class=\"col\"><img src=\"jupyter_images/gas_sample_types.png\"></div></div>    \n",
    "<div class=\"col-12 fig-title\"><p class=\"image-description\"><strong>Figure 3:</strong> Examples of gas sample analyses. <u>Type 1</u> reports gas specific gravity, as the sample was taken in a gaseous phase. Process simulation software requires liquid specific gravity, which can be calculated using empirical correlation with the GHV value. <u>Type 2</u> does not report properties of the Hexane+ fraction separately, but rather for the entire sample. The properties of the plus fraction can be derived by back-solving with the molecular-weighted average of known compounds. <u>Type 3</u> includes both molecular weight and liquid density values (highlighted in orange). However, it is important to note that laboratories providing these values typically make assumptions about the compositions of the plus fractions, such as a distribution of C6-60%, C7-30%, and C8-10%, as illustrated in <u>Type 4</u>. Although not the most accurate method for characterizing the plus fraction, it offers convenience.</p></div>"
   ]
  },
  {
   "cell_type": "markdown",
   "id": "fbb86592",
   "metadata": {},
   "source": [
    "## 2. Understanding types of GHVs reported in lab analysis\n",
    "\n",
    "There are 6 types of heating values you will see on lab reports: 1) gross heating value, 2) net heating value, 3) dry basis, 4) wet (saturated) basis, 5) ideal-gas heating value, and 6) real-gas heating value.\n",
    "\n",
    "<div><hr></div>\n",
    "\n",
    "<strong>Gross Heating Value:</strong> GHV includes the total amount of heat released when a fuel is burned completely and the combustion products are returned to a pre-combustion temperature, typically 60°F. Crucially, GHV accounts for the latent heat of vaporization of water produced during combustion. This means that if water vapor is produced as a combustion product, the heat required to condense it back into liquid water is included in the GHV. The water here refers to a product of a combustion reaction, such as in: $CH_4 + O_2 \\rightarrow CO_2 + H_2O$. It is not the water moisture content present in the original sample before combustion.\n",
    "\n",
    "<strong>Net Heating Value:</strong> This is GHV minus the latent heat of vaporization of water produced during combustion. This is a theoretical value because the amount of post-combustion water cannot be measured.\n",
    "\n",
    "<strong>Dry basis:</strong> This is a measurement of the fuel's heating value after all moisture has been removed. Accuracy of most chromatograph devices for mole fraction determination of known compounds drops in the presence of water, so it's a common practice to remove any water content prior to running the sample into the chromatograph devices. This is the reason that mole fractions of the lab reports do not include water fraction. Dry basis gross heating value can be measured by a bomb calorimeter if the sample is oven dried.\n",
    "\n",
    "<strong>Wet (saturated) basis:</strong> Wet basis gross heating value can be measured by a bomb calorimeter using the sample as is.\n",
    "\n",
    "<strong>Ideal-gas heating value:</strong> Calculated assuming the gas follows the ideal gas law, where the gas compressibility factor (Z) is considered to be 1. This simplification is useful for theoretical calculations and scenarios where gas behaves nearly ideally, typically at standard conditions of temperature and pressure.\n",
    "\n",
    "<strong>Real-gas heating value:</strong> This is GHV divided by a Z-factor. For practical purposes, one could always assume Z=0.99 for all lab reports since most labs operate at standard conditions.\n",
    "\n",
    "<div><hr></div>\n",
    "\n",
    "It should be noted that the GHV figures reported in laboratory analyses are generally computed rather than directly measured through methods such as bomb calorimetry. In most lab reports, the GHVs of identified compounds are derived from values listed in the GPA 2145-16 compound property data table<sup><a class=\"internal-link\" href=\"#id2\" id=\"id21\">[2]</a></sup>. For the GHV estimation of unknown (plus) fractions, a specific composition ratio is typically presumed (ex: 60% C6, 30% C7, and 10% C8 for Hexanes+). The GPA 2145 standard uses dry-basis ideal gas gross heating value. Consequently, <u><strong>the dry-basis ideal gas gross heating value is the preferred metric for correlating GHV with molecular weight and specific gravity.</strong></u>"
   ]
  },
  {
   "cell_type": "markdown",
   "id": "d88af68d",
   "metadata": {},
   "source": [
    "### 3. Impact of PNA composition on GHV\n",
    "\n",
    "Paraffin-Naphthene-Aromatic (PNA) composition refers to ratio of each hydrocarbon groups that make up compositions of unrefined natural gas and crude oil. It matters for the purposes of correlating GHV of C6+ or C7+ fractions to molecular weight due to different energy-mass density bewtween paraffins vs. aromatics. Consider <a href=\"#fig-4\" class=\"internal-link\">Figure 4</a>, which demonstrates a strong linear correlation with GHVs and molecular weight of hydrocarbon compounds. Notably, this figure illustrates the difference in energy density per molar mass between aromatic (green) vs. paraffinic (blue) compounds, with paraffinic compounds displaying a higher energy density per mass than aromatics. This discrepancy is attributed to paraffins having a higher hydrogen to carbon ratio compared to aromatics. The GHV of a carbon atom is approximately 32.8kJ/g, whereas for a hydrogen atom, it is 141.8kJ/g; hydrogen possesses 4.32 times more energy per mass than carbon. <strong><u>Consequently, natural gas or crude oil with a lower proportion of paraffinic composition will exhibit reduced energy density per molar mass due to their decreased hydrogen to carbon ratio.</u></strong>\n",
    "\n",
    "<div class=\"row full_screen_margin_90 mobile_responsive_plot_full_width\" style=\"\" id=\"fig-4\">\n",
    "<div class=\"col\"><img src=\"jupyter_images/ghvs_vs_mws.png\"></div></div>    \n",
    "<div class=\"col-12 fig-title\"><p class=\"image-description\"><strong>Figure 4:</strong> Scatter plot of known compounds upto n-hexadecane (C16H34) listed in the GPA 2145 table<sup><a class=\"internal-link\" href=\"#id2\" id=\"id22\">[2]</a></sup>. Compounds that have \"cyclo\" in their compound name are identified as naphthenic. Compounds that follow chemical formula of $C_nH_{2n + 2}$ are idenfitied as paraffins. Compounds that have \"toluene\", \"benzene\", and \"xylene\" are identified as aromatics (styrene and napthalene are also identified as aromatics). Compounds that have $-OH$ in their chemical formula as hydroxlys. Compounds that contain $C$ and $H$ atoms in their formula are identified as other hydrocarbons.</p></div>"
   ]
  },
  {
   "cell_type": "markdown",
   "id": "3e4476dd",
   "metadata": {},
   "source": [
    "<div class=\"solution_panel closed\">\n",
    "    <div class=\"solution_title\">\n",
    "        <p class=\"solution_title_string\">Source Code For Figure (4)</p>\n",
    "        <ul class=\"nav navbar-right panel_toolbox\">\n",
    "            <li><a class=\"collapse-link\"><i class=\"fa fa-chevron-down\"></i></a></li>\n",
    "        </ul>\n",
    "    <div class=\"clearfix\"></div>\n",
    "    </div>\n",
    "    <div class=\"solution_content\">\n",
    "        <pre>\n",
    "            <code class=\"language-python\">\n",
    "import pandas as pd\n",
    "import matplotlib.pyplot as plt\n",
    "\n",
    "df = pd.read_csv('GPA 2145-16 Compound Properties Table - English - Truncated and PNA Identified.csv')\n",
    "\n",
    "# Labeling for displaying texts\n",
    "labels = ['methane', 'propane', 'n-butane', 'n-heptane', 'n-octane', 'n-decane', 'cyclohexane', 'cyclopentane', 'ethane',\n",
    "'n-dodecane','n-tetradecane','n-hexadecane', 'methanol', 'ethanol', 'naphthalene', 'isobutylcyclopentane', 'hydrogen',\n",
    " 'sulfur dioxide', 'hydrogen sulfide', 'toluene', 'benzene', 'm-xylene', 'pentylbenzene', 'hexylbenzene',\n",
    "         'propylene', '1-butene'\n",
    "         ]\n",
    "df['Display Text'] = df['Compound'].isin(labels)\n",
    "\n",
    "BTEX_idx = df[df['Is BTEX'] == True].index\n",
    "aromatic_idx = df[df['Is Aromatic'] == True].index\n",
    "non_HC_idx = df[df['Is Hydrocarbon'] == False].index\n",
    "hydroxyl_idx = df[df['Is Hydroxyl'] == True].index\n",
    "paraffinic_idx = df[df['Is Paraffinic'] == True].index\n",
    "naphethenic_idx = df[df['Is Naphthenic'] == True].index\n",
    "other_idx = df[df['Others'] == True].index\n",
    "whole_idx = list(df.index)\n",
    "\n",
    "x = df['Molar Mass [g/mol]']\n",
    "y = df['Gross Heating Value Ideal Gas [Btu/ft^3]']\n",
    "\n",
    "##################################### Plotting #######################################\n",
    "\n",
    "fig, ax = plt.subplots(figsize=(8, 4.5))\n",
    "\n",
    "alpha = 1\n",
    "_1 = ax.scatter(x.loc[paraffinic_idx], y.loc[paraffinic_idx], s=50, edgecolor='k', alpha=alpha, label='Paraffinic')\n",
    "_2 = ax.scatter(x.loc[naphethenic_idx], y.loc[naphethenic_idx], s=50, edgecolor='k', alpha=alpha, label='Naphthenic')\n",
    "_3 = ax.scatter(x.loc[aromatic_idx], y.loc[aromatic_idx], s=50, edgecolor='k', alpha=alpha, label='Aromatic/BTEX')\n",
    "_4 = ax.scatter(x.loc[hydroxyl_idx], y.loc[hydroxyl_idx], s=50, edgecolor='k', alpha=alpha, label='Hydroxylic')\n",
    "_5 = ax.scatter(x.loc[non_HC_idx], y.loc[non_HC_idx], s=50, edgecolor='k', alpha=alpha, label='Non-HCs')\n",
    "_6 = ax.scatter(x.loc[other_idx], y.loc[other_idx], s=50, edgecolor='k', alpha=alpha, label='Other-HCs')\n",
    "\n",
    "c1 = _1.get_facecolor()[0]\n",
    "c2 = _2.get_facecolor()[0]\n",
    "c3 = _3.get_facecolor()[0]\n",
    "c4 = _4.get_facecolor()[0]\n",
    "c5 = _5.get_facecolor()[0]\n",
    "c6 = _6.get_facecolor()[0]\n",
    "\n",
    "ax.legend(fontsize=9, ncol=3)\n",
    "\n",
    "texts = df['Compound']\n",
    "for i, txt in enumerate(texts):\n",
    "    if df['Display Text'].loc[i]:\n",
    "        c = c5\n",
    "        ha ='left'\n",
    "        va = 'top'\n",
    "        \n",
    "        if df['Is Paraffinic'].loc[i]: \n",
    "            c = c1\n",
    "            ha ='right'\n",
    "            va = 'bottom'\n",
    "        if df['Is Naphthenic'].loc[i]:\n",
    "            c = c2\n",
    "            ha ='right'\n",
    "            va = 'bottom'\n",
    "        if df['Is Aromatic'].loc[i]:\n",
    "            c = c3\n",
    "            va = 'top'\n",
    "            ha = 'left'\n",
    "        if df['Is Hydroxyl'].loc[i]:\n",
    "            c = c4\n",
    "            va = 'bottom'\n",
    "            ha = 'left'\n",
    "        if df['Others'].loc[i]:\n",
    "            c = c6\n",
    "            va = 'top'\n",
    "            ha = 'left'\n",
    "        \n",
    "        if ha == 'left':\n",
    "            icr = 3\n",
    "        else:\n",
    "            icr= -3\n",
    "        \n",
    "        ax.annotate(txt, (x.loc[i] + icr, y.iloc[i]), fontsize=10, c=c, ha=ha, va=va)\n",
    "\n",
    "ax.minorticks_on()\n",
    "ax.grid(axis='y', which='major', linestyle='--', color='grey', alpha=0.5)\n",
    "#ax.grid(axis='y', which='minor', linestyle='--', color='grey', alpha=0.2)\n",
    "#ax.grid(axis='x', which='minor', color='grey', linestyle='--', alpha=0.2)\n",
    "ax.grid(axis='x', which='major', color='grey', linestyle='--', alpha=0.5)\n",
    "ax.spines['top'].set_visible(False)\n",
    "ax.spines['right'].set_visible(False)\n",
    "\n",
    "ax.set_xlabel('Molecular Weight [g/mol]', fontsize=11)\n",
    "ax.set_ylabel('Gross Heating Value [Btu/scf]', fontsize=11)\n",
    "ax.text(0.99, 0.1, 'aegis4048.github.io', fontsize=12, ha='right', va='center',\n",
    "    transform=ax.transAxes, color='grey', alpha=0.5)\n",
    "\n",
    "#ax.set_xlim(0, 1)\n",
    "#ax.set_ylim(10000, 30000)\n",
    "\n",
    "def setbold(txt):\n",
    "    return ' '.join([r\"$\\bf{\" + item + \"}$\" for item in txt.split(' ')])\n",
    "\n",
    "bold_txt = setbold('Gross Heating Value vs. Molecular Weight')\n",
    "plain_txt = r', For different compound groups'\n",
    "fig.suptitle(bold_txt + plain_txt, verticalalignment='top', x=0, horizontalalignment='left', fontsize=12, y=0.96)\n",
    "yloc = 0.88\n",
    "ax.annotate('', xy=(0.01, yloc + 0.01), xycoords='figure fraction', xytext=(1.02, yloc + 0.01),\n",
    "            arrowprops=dict(arrowstyle=\"-\", color='k', lw=0.7))\n",
    "\n",
    "ax.annotate('Data source: GPA 2145-16', xy=(-0.11, -.12), xycoords='axes fraction', fontsize=9)\n",
    "\n",
    "fig.tight_layout()\n",
    "            </code>\n",
    "        </pre>\n",
    "    </div>\n",
    "</div>"
   ]
  },
  {
   "cell_type": "markdown",
   "id": "25a12f1e",
   "metadata": {},
   "source": [
    "<div class=\"alert alert-info\">\n",
    "    <h4>Notes: What are paraffins, naphthenes, and aromatics?</h4>\n",
    "    <p>Paraffins, naphtehens, and aromatics are the primary hydrocarbon groups \n",
    "        that make up compositions of the naturally occuring crude oil and gas. The below is a brief on each of them: </p>    \n",
    "    <p><strong>Paraffins:</strong> Known as alkanes, paraffins follow the general formula $C_nH_{2n+2}$. This group is characterized by its high hydrogen to carbon ratio, contributing to their higher energy density per mass compared to other hydrocarbon types. Examples include Methane (CH₄), Ethane (C₂H₆), Propane (C₃H₈), Butane (C₄H₁₀), Pentane (C₅H₁₂), Hexane (C₆H₁₄), Heptane (C₇H₁₆), Octane (C₈H₁₈), Nonane (C₉H₂₀), and Decane (C₁₀H₂₂).</p>\n",
    "    <p><strong>Naphthenes:</strong> Also known as cycloalkanes, naphthenes are very similar to paraffins and follow the general chemical formula $C_nH_{2n}$. Compounds typically containing \"cyclo\" in their names are considered naphthenic. Examples are Cyclopropane (C₃H₆), Cyclobutane (C₄H₈), Cyclopentane (C₅H₁₀), Cyclohexane (C₆H₁₂), Cycloheptane (C₇H₁₄), Cyclooctane (C₈H₁₆), Cyclononane (C₉H₁₈), Cyclodecane (C₁₀H₂₀), Methylcyclopentane (C₆H₁₂), and Ethylcyclohexane (C₈H₁₆).</p>\n",
    "    <p><strong>Aromatics:</strong> This class of hydrocarbons is characterized by one or more benzene rings in their molecular structure. The simplest aromatic compound, benzene, has the chemical formula $C_6H_6$. Aromatic compounds generally follow the formula $C_nH_n$ for monocyclic aromatics, but the presence of multiple rings and substituents can alter this formula. The carbon to hydrogen ratio for aromatics is generally 1:1, less than half of paraffins, explaining aromatics' lower energy density per mass. BTEX compounds fall within this class. Examples include Benzene (C₆H₆), Toluene (C₇H₈), Ethylbenzene (C₈H₁₀), o-Xylene (C₈H₁₀), m-Xylene (C₈H₁₀), p-Xylene (C₈H₁₀), Styrene (C₈H₈), Naphthalene (C₁₀H₈), Phenol (C₆H₅OH), and Aniline (C₆H₅NH₂).</p>\n",
    "</div>"
   ]
  },
  {
   "cell_type": "markdown",
   "id": "8024bc9b",
   "metadata": {},
   "source": [
    "<div id=\"ghv-demonstration\"></div>\n",
    "\n",
    "<a href=\"#fig-5\" class=\"internal-link\">Figure 5</a> presents linear regression models for paraffins and aromatics, showing identical slopes but differing intercepts. The higher intercept for aromatics suggests a larger molar mass for the same GHV compared to paraffins. The Hexanes+ properties in <a href=\"#fig-6\" class=\"internal-link\">Figure 6</a> help verify the models' accuracy. Assuming a purely paraffinic composition, the model estimates the molecular weight (MW) as MW = 0.0188 x (4849 Btu/scf) - 2.758 = 88.4 g/mol, given the Hexanes+ GHV of 4849 Btu/scf. Under the unrealistic assumption of a 100% aromatic composition, the prediction adjusts to MW = 0.0186 x (4849 Btu/scf) + 10.326 = 100.5 g/mol. Thus, the actual molecular weight is determined to lie within these predictions: 88.4 < 90.161 < 100.5 g/mol. Accurate prediction of molecular weight from GHV requires fraction of aromatics. If your sample is known to have 20% aromatic fraction, weighted-average value of the intercepts of the aromatic and paraffinic models can be used: MW = 0.0186 x (4849 Btu/scf) + [(0.8 x -2.758) + (0.2 x 10.326)] = 90.05 g/mol. The determination of the PNA composition of your sample is further explored in <a href=\"#3.1.-Approximation-of-PNA-composition-from-specific-gravity\" class=\"internal-link\">Section 3.1.</a>. \n",
    "\n",
    "<div class=\"row full_screen_margin_100 mobile_responsive_plot_full_width\" style=\"\" id=\"fig-5\">\n",
    "<div class=\"col\"><img src=\"jupyter_images/mws_vs_ghv_pna.png\"></div></div>    \n",
    "<div class=\"col-12 fig-title\"><p class=\"image-description\"><strong>Figure 5:</strong> Linear regression on molecular weight vs. GHV for paraffins (left) and aromatics (right). They both have the same slope, but the linear model for aromatics has a bigger intercept, which translates to a bigger molar mass for the same GHV value compared to that of paraffins. </p></div>"
   ]
  },
  {
   "cell_type": "markdown",
   "id": "2bd4d2cd",
   "metadata": {},
   "source": [
    "<div class=\"solution_panel closed\">\n",
    "    <div class=\"solution_title\">\n",
    "        <p class=\"solution_title_string\">Source Code For Figure (5)</p>\n",
    "        <ul class=\"nav navbar-right panel_toolbox\">\n",
    "            <li><a class=\"collapse-link\"><i class=\"fa fa-chevron-down\"></i></a></li>\n",
    "        </ul>\n",
    "    <div class=\"clearfix\"></div>\n",
    "    </div>\n",
    "    <div class=\"solution_content\">\n",
    "        <pre>\n",
    "            <code class=\"language-python\">\n",
    "import pandas as pd\n",
    "import numpy as np\n",
    "import matplotlib.pyplot as plt\n",
    "from sklearn.linear_model import LinearRegression\n",
    "\n",
    "df = pd.read_csv('GPA 2145-16 Compound Properties Table - English - Truncated and PNA Identified.csv')\n",
    "\n",
    "# Labeling for displaying texts\n",
    "labels = ['methane', 'propane', 'n-butane', 'n-heptane', 'n-octane', 'n-decane', 'cyclohexane', 'cyclopentane', 'ethane',\n",
    "'n-dodecane','n-tetradecane','n-hexadecane', 'methanol', 'ethanol', 'naphthalene', 'isobutylcyclopentane', 'hydrogen',\n",
    " 'sulfur dioxide', 'hydrogen sulfide', 'toluene', 'benzene', 'm-xylene', 'pentylbenzene', 'hexylbenzene',\n",
    "         'propylene', '1-butene'\n",
    "         ]\n",
    "df['Display Text'] = df['Compound'].isin(labels)\n",
    "\n",
    "BTEX_idx = df[df['Is BTEX'] == True].index\n",
    "aromatic_idx = df[df['Is Aromatic'] == True].index\n",
    "non_HC_idx = df[df['Is Hydrocarbon'] == False].index\n",
    "hydroxyl_idx = df[df['Is Hydroxyl'] == True].index\n",
    "paraffinic_idx = df[df['Is Paraffinic'] == True].index\n",
    "naphethenic_idx = df[df['Is Naphthenic'] == True].index\n",
    "other_idx = df[df['Others'] == True].index\n",
    "whole_idx = list(df.index)\n",
    "\n",
    "y = df['Molar Mass [g/mol]']\n",
    "x = df['Gross Heating Value Ideal Gas [Btu/ft^3]']\n",
    "\n",
    "\n",
    "y1 = df[df['Is Paraffinic'] == True]['Molar Mass [g/mol]'].values\n",
    "x1 = df[df['Is Paraffinic'] == True]['Gross Heating Value Ideal Gas [Btu/ft^3]'].values\n",
    "combined = np.array(sorted(zip(y1.flatten(), x1), key=lambda pair: pair[1]))\n",
    "y1 = combined[:, 0]\n",
    "x1 = combined[:, 1].reshape(-1, 1)\n",
    "\n",
    "ols_1 = LinearRegression().fit(x1, y1)\n",
    "y_pred_1 = ols_1.predict(x1)\n",
    "coefs_1 = ols_1.coef_\n",
    "intercept_1 = ols_1.intercept_\n",
    "\n",
    "\n",
    "y2 = df[df['Is Aromatic'] == True]['Molar Mass [g/mol]'].values\n",
    "x2 = df[df['Is Aromatic'] == True]['Gross Heating Value Ideal Gas [Btu/ft^3]'].values\n",
    "combined = np.array(sorted(zip(y2.flatten(), x2), key=lambda pair: pair[1]))\n",
    "y2 = combined[:, 0]\n",
    "x2 = combined[:, 1].reshape(-1, 1)\n",
    "\n",
    "ols_2 = LinearRegression().fit(x2, y2)\n",
    "y_pred_2 = ols_2.predict(x2)\n",
    "coefs_2 = ols_2.coef_\n",
    "intercept_2 = ols_2.intercept_\n",
    "\n",
    "\n",
    "fig, axes = plt.subplots(1, 2, figsize=(11, 5))\n",
    "\n",
    "axes[0].axline(xy1=(0, intercept_1), slope=coefs_1[0], linestyle='--', alpha=1, c='#1f77b4')\n",
    "axes[1].axline(xy1=(0, intercept_2), slope=coefs_2[0], linestyle='--', alpha=1, c='#2ca02c')\n",
    "\n",
    "\n",
    "axes[0].text(0, 205, '$MW = %.4f GHV %.3f$' % (coefs_1[0], intercept_1), fontsize=14, ha='left', va='center', color='#1f77b4')\n",
    "axes[1].text(0, 205, '$MW = %.4f GHV + %.3f$' % (coefs_2[0], intercept_2), fontsize=14, ha='left', va='center', color='#2ca02c')\n",
    "\n",
    "\n",
    "alpha = 0.15\n",
    "_1 = axes[0].scatter(x.loc[paraffinic_idx], y.loc[paraffinic_idx], s=50, edgecolor='k', alpha=1, label='Paraffinic')\n",
    "_2 = axes[0].scatter(x.loc[naphethenic_idx], y.loc[naphethenic_idx], s=50, edgecolor='k', alpha=alpha)\n",
    "_3 = axes[0].scatter(x.loc[aromatic_idx], y.loc[aromatic_idx], s=50, edgecolor='k', alpha=0.05)\n",
    "_4 = axes[0].scatter(x.loc[hydroxyl_idx], y.loc[hydroxyl_idx], s=50, edgecolor='k', alpha=alpha)\n",
    "_5 = axes[0].scatter(x.loc[non_HC_idx], y.loc[non_HC_idx], s=50, edgecolor='k', alpha=alpha)\n",
    "_6 = axes[0].scatter(x.loc[other_idx], y.loc[other_idx], s=50, edgecolor='k', alpha=alpha)\n",
    "\n",
    "alpha = 0.15\n",
    "_1 = axes[1].scatter(x.loc[paraffinic_idx], y.loc[paraffinic_idx], s=50, edgecolor='k', alpha=0.05)\n",
    "_2 = axes[1].scatter(x.loc[naphethenic_idx], y.loc[naphethenic_idx], s=50, edgecolor='k', alpha=0.05)\n",
    "_3 = axes[1].scatter(x.loc[aromatic_idx], y.loc[aromatic_idx], s=50, edgecolor='k', alpha=1, label='Aromatic/BTEX')\n",
    "_4 = axes[1].scatter(x.loc[hydroxyl_idx], y.loc[hydroxyl_idx], s=50, edgecolor='k', alpha=alpha)\n",
    "_5 = axes[1].scatter(x.loc[non_HC_idx], y.loc[non_HC_idx], s=50, edgecolor='k', alpha=alpha)\n",
    "_6 = axes[1].scatter(x.loc[other_idx], y.loc[other_idx], s=50, edgecolor='k', alpha=alpha)\n",
    "\n",
    "\n",
    "for ax in axes:\n",
    "    ax.minorticks_on()\n",
    "    ax.grid(axis='y', which='major', linestyle='--', color='grey', alpha=0.5)\n",
    "    #ax.grid(axis='y', which='minor', linestyle='--', color='grey', alpha=0.2)\n",
    "    #ax.grid(axis='x', which='minor', color='grey', linestyle='--', alpha=0.2)\n",
    "    ax.grid(axis='x', which='major', color='grey', linestyle='--', alpha=0.5)\n",
    "    ax.spines['top'].set_visible(False)\n",
    "    ax.spines['right'].set_visible(False)\n",
    "\n",
    "    ax.set_ylabel('Molecular Weight [g/mol]', fontsize=11)\n",
    "    ax.set_xlabel('Gross Heating Value [Btu/scf]', fontsize=11)\n",
    "    ax.text(0.99, 0.15, 'aegis4048.github.io', fontsize=10, ha='right', va='center',\n",
    "        transform=ax.transAxes, color='grey', alpha=0.5)\n",
    "    ax.legend(loc='lower right', fontsize=12)\n",
    "    \n",
    "def setbold(txt):\n",
    "    return ' '.join([r\"$\\bf{\" + item + \"}$\" for item in txt.split(' ')])\n",
    "\n",
    "bold_txt = setbold('Molecular Weight and GHV correlation, ')\n",
    "plain_txt = r'comparison for paraffins vs. aromatics'\n",
    "fig.suptitle(bold_txt + plain_txt, verticalalignment='top', x=0.0, horizontalalignment='left', fontsize=13, y=0.965)\n",
    "yloc = 0.885\n",
    "ax.annotate('', xy=(0.01, yloc + 0.01), xycoords='figure fraction', xytext=(1.01, yloc + 0.01),\n",
    "            arrowprops=dict(arrowstyle=\"-\", color='k', lw=0.7))\n",
    "\n",
    "axes[0].annotate('Data source: GPA 2145-16', xy=(-.13, -.16), xycoords='axes fraction', fontsize=9)\n",
    "\n",
    "fig.tight_layout()\n",
    "            </code>\n",
    "        </pre>\n",
    "    </div>\n",
    "</div>"
   ]
  },
  {
   "cell_type": "markdown",
   "id": "83303689",
   "metadata": {},
   "source": [
    "<div class=\"row full_screen_margin_70 mobile_responsive_plot_full_width\" style=\"\" id=\"fig-6\">\n",
    "<div class=\"col\"><img src=\"jupyter_images/mw_btu_validation.png\" style=\"margin-bottom: 10px;\"></div></div>    \n",
    "<div class=\"col-12 fig-title\"><p class=\"image-description\"><strong>Figure 6:</strong> Partial screenshot of a gas sample analysis shown in Type 3 of <a href=\"#fig-3\" class=\"internal-link\">Figure 3</a>. Note that this particular lab report computed the properties of the Hexanes Plus by making certain assumptions about the composition of the plus fraction. Generally, it's a common practice to assume 60% C6, 30% C7, and 10% C8 for C6+ fractions, but the exact assumptions made for this particular sample analysis are unknown.</p></div>"
   ]
  },
  {
   "cell_type": "markdown",
   "id": "f3504748",
   "metadata": {},
   "source": [
    "#### 3.1. Approximation of PNA composition from specific gravity \n",
    "\n",
    "<div class=\"highlights red-theme\" id=\"warning-PNA\">\n",
    "    <div class=\"highlights-title red-theme\">BEFORE YOU READ...</div>\n",
    "    <div class=\"highlights-content red-theme\">\n",
    "        <p>Determination of PNA composition is realistically irrelevant for most natural gas or natural gas liquid (NGL) samples taken from surface for the following three reasons:</p>\n",
    "        <p><strong>1)</strong> Mole fractions of C6+ are usually &lt; 2%.<br> <strong>2)</strong> Fractions lighter than C6 have a near-zero ratio of aromatics.<br> <strong>3)</strong> Fractions heavier than C6 typically have their average molecular weight and specific gravity limited to those of n-nonanes (MW&lt;128.2 and sg<sub>liq</sub> &lt;0.72224) for natural gas, indicating that the aromatic composition of the C6+ fractions usually cannot exceed 23.2% (<a href=\"#table-1\" class=\"internal-link\">Table 1</a>). This value is not significant enough to have substantial impact in MW predictions from GHVs, as demonstrated in the <a href=\"#ghv-demonstration\" class=\"internal-link\">above</a> sample calculateion - the MW correlation from GHV increased only by 1.6 g/mol despite factoring in 20% aromatic fraction compared to 0%.</p>\n",
    "        <p>These are because most heavier-ends (C6+) are knocked out into a liquid phase inside separator vessels and are not discharged into the gas outlet. However, PNA composition may have significant impact in the following scenarios:</p>\n",
    "        <p><strong>1)</strong> The sample is crude oil liquid.<br> <strong>2)</strong> The natural gas sample originates from a separator vessel operating at elevated temperatures (&gt; 120F), such as in a heater treater or from oil tank vapors on a hot summer day. At higher temperatures, more heavier fractions vaporize, increasing the MW, sg<sub>liq</sub>, and aromatic fractions.</p>\n",
    "    </div>\n",
    "</div>\n",
    "\n",
    "PNA composition can be approximated using Single-Carbon-Number (SCN) groups, serving as the best-possible representation of plus fractions under conditions where detailed information is unavailable. For instance, a C6+ fraction with a molecular weight (MW) of 98 and a liquid specific gravity (sg<sub>liq</sub>) of 0.67 closely matches SCN=7, mirrored by n-heptane (C7H16) with an MW of 100.21 and sg<sub>liq</sub> of 0.68, due to their near-identical physical properties. <a href=\"#table-1\" class=\"internal-link\">Table 1</a> lists recommended physical properties and PNA compositions for different SCN groups, with SCNs between 6 to 9 being suitable for most surface natural gas samples, corresponding to an aromatic composition range of 7% to 23.2%.\n",
    "\n",
    "However, identifying the most representative SCN group for a sample can be challenging, when T<sub>b</sub>, MW, or sg<sub>liq</sub> are unknown. A practical approach involves estimating based on the gas's source: lean gas from high-pressure vesels (ex: primary HP separators) or treated gas saleslines suggest using SCNs of 6 or 7 (0.070 < x<sub>a</sub> < 0.145), whereas gas from lower pressure settings (ex: low pressure heater treaters, VRTs, or atmospheric tanks) likely indicates a richer vapor, pointing to SCNs of 8 or 9 (0.192 < x<sub>a</sub> < 0.232). <strong><u>My recommendation is to assume aromatic fraction of x<sub>a</sub>=10% for lean gas, and x<sub>a</sub>=20% for rich gas.</u></strong>"
   ]
  },
  {
   "cell_type": "markdown",
   "id": "6dc09b23",
   "metadata": {},
   "source": [
    "<div class=\"row full_screen_margin_90 mobile_responsive_plot_full_width\" id=\"table-1\">\n",
    "<div class=\"col\"><img src=\"jupyter_images/SCN_table.png\" style=\"margin-bottom: 10px;\"></div></div>    \n",
    "<div class=\"col-12 fig-title\"><p class=\"image-description\"><strong>Table 1:</strong> Recommended values for T<sub>b</sub>, sg<sub>liq</sub>, MW, and PNA compositions for SCN groups<sup><a class=\"internal-link\" href=\"#id3\" id=\"id31\">[3]</a></sup></strong> </p></div>"
   ]
  },
  {
   "cell_type": "markdown",
   "id": "ec1a2d43",
   "metadata": {},
   "source": [
    "#### 3.2. Linear prediction of specific gravity from GHV with PNA composition"
   ]
  },
  {
   "cell_type": "code",
   "execution_count": null,
   "id": "2fb2e486",
   "metadata": {},
   "outputs": [],
   "source": []
  },
  {
   "cell_type": "code",
   "execution_count": null,
   "id": "047f048a",
   "metadata": {},
   "outputs": [],
   "source": []
  },
  {
   "cell_type": "code",
   "execution_count": null,
   "id": "addad405",
   "metadata": {},
   "outputs": [],
   "source": []
  },
  {
   "cell_type": "code",
   "execution_count": null,
   "id": "f6229744",
   "metadata": {},
   "outputs": [],
   "source": []
  },
  {
   "cell_type": "code",
   "execution_count": null,
   "id": "11bc75f5",
   "metadata": {},
   "outputs": [],
   "source": []
  },
  {
   "cell_type": "code",
   "execution_count": null,
   "id": "10c96dda",
   "metadata": {},
   "outputs": [],
   "source": []
  },
  {
   "cell_type": "code",
   "execution_count": null,
   "id": "df5a1a3e",
   "metadata": {},
   "outputs": [],
   "source": []
  },
  {
   "cell_type": "code",
   "execution_count": null,
   "id": "a507c571",
   "metadata": {},
   "outputs": [],
   "source": []
  },
  {
   "cell_type": "code",
   "execution_count": null,
   "id": "6a490db6",
   "metadata": {},
   "outputs": [],
   "source": []
  },
  {
   "cell_type": "markdown",
   "id": "afab8040",
   "metadata": {},
   "source": [
    "#### 3.1. Approximation of PNA composition from specific gravity "
   ]
  },
  {
   "cell_type": "markdown",
   "id": "b3b44d7a",
   "metadata": {},
   "source": [
    "#### 3.2. Linear prediction of specific gravity from GHV with PNA composition"
   ]
  },
  {
   "cell_type": "code",
   "execution_count": null,
   "id": "04662cb0",
   "metadata": {},
   "outputs": [],
   "source": []
  },
  {
   "cell_type": "code",
   "execution_count": null,
   "id": "e32cbced",
   "metadata": {},
   "outputs": [],
   "source": []
  },
  {
   "cell_type": "code",
   "execution_count": null,
   "id": "2e6cbe5f",
   "metadata": {},
   "outputs": [],
   "source": []
  },
  {
   "cell_type": "markdown",
   "id": "ac3f60a9",
   "metadata": {},
   "source": [
    "## 3. Correlations\n",
    "\n",
    "### 3.1. Gas GHV to molecular weight\n",
    "\n",
    "### 3.2. Gas GHV to gas specific gravity\n",
    "\n",
    "#### 3.2.1. Comparison to API method\n",
    "\n",
    "### 3.3. Gas GHV to liquid GHV\n",
    "\n",
    "### 3.4. Liquid GHV to liquid specific gravity\n",
    "\n",
    "#### 3.4.1. Riazi's method\n",
    "#### 3.4.2. Regression on GPA data\n",
    "#### 3.4.3. API method\n",
    "#### 3.4.4. Riazi-Daubert method with Tb and MW"
   ]
  },
  {
   "cell_type": "markdown",
   "id": "8e25aa72",
   "metadata": {},
   "source": [
    "## 4. Excercises"
   ]
  },
  {
   "cell_type": "markdown",
   "id": "2fa91552",
   "metadata": {},
   "source": [
    "Think about the order of the rest of the article. \n",
    "\n",
    "Overlay Riazi's method to the GPA table data linear regression\n",
    "\n",
    "Replace with sg_liq and sg_gas"
   ]
  },
  {
   "cell_type": "markdown",
   "id": "d09c0c5f",
   "metadata": {},
   "source": [
    "## 6. References\n",
    "\n",
    "<span id=\"id1\" ><strong>[1](<a class=\"internal-link\" href=\"#id11\" style=\"content: none;\">1</a>, 2, 3)</strong></span> Riazi, M. R.: \"Characterization and Properties of Petroleum Fractions,\" first edition (1985), West Conshohocken, Pennsylvania: ASTM International\n",
    "\n",
    "<span id=\"id2\"><strong>[2](<a class=\"internal-link\" href=\"#id21\" style=\"content: none;\">1</a>, <a class=\"internal-link\" href=\"#id22\" style=\"content: none;\">2</a>, 3)</strong></span> GPA Mistream Association: \"GPA Midstream Standard 2145-16, Table of Physical Properties for Hydrocarbons and Other Compounds of Interest to the Natural Gas and Natural Gas Liquids Industries\" (2016)\n"
   ]
  },
  {
   "cell_type": "markdown",
   "id": "da62e34b",
   "metadata": {},
   "source": [
    "<span id=\"id3\"><strong>[3](<a class=\"internal-link\" href=\"#id31\" style=\"content: none;\">1</a>)</strong></span> Riazi, M.R., and Al-Sahhaf, T.A.: \"Physical Properties of Heavy Petroleum Fractions and Crude Oils\" (1996), Fluid Phase Equilibria 117."
   ]
  },
  {
   "cell_type": "code",
   "execution_count": null,
   "id": "44989632",
   "metadata": {},
   "outputs": [],
   "source": []
  },
  {
   "cell_type": "markdown",
   "id": "e2d18e0c",
   "metadata": {},
   "source": []
  },
  {
   "cell_type": "code",
   "execution_count": 3,
   "id": "dfc4169f",
   "metadata": {},
   "outputs": [],
   "source": [
    "import pandas as pd\n",
    "import matplotlib.pyplot as plt"
   ]
  },
  {
   "cell_type": "code",
   "execution_count": 2,
   "id": "091f1530",
   "metadata": {},
   "outputs": [
    {
     "data": {
      "text/plain": [
       "'2.2.0'"
      ]
     },
     "execution_count": 2,
     "metadata": {},
     "output_type": "execute_result"
    }
   ],
   "source": [
    "pd.__version__"
   ]
  },
  {
   "cell_type": "code",
   "execution_count": null,
   "id": "14a32423",
   "metadata": {},
   "outputs": [],
   "source": []
  },
  {
   "cell_type": "code",
   "execution_count": null,
   "id": "e7783991",
   "metadata": {},
   "outputs": [],
   "source": []
  },
  {
   "cell_type": "code",
   "execution_count": 7,
   "id": "b53d14fd",
   "metadata": {},
   "outputs": [
    {
     "data": {
      "text/plain": [
       "(192, 17)"
      ]
     },
     "execution_count": 7,
     "metadata": {},
     "output_type": "execute_result"
    }
   ],
   "source": [
    "df.shape"
   ]
  },
  {
   "cell_type": "code",
   "execution_count": null,
   "id": "d31f4a52",
   "metadata": {},
   "outputs": [],
   "source": []
  },
  {
   "cell_type": "code",
   "execution_count": null,
   "id": "33ab4a3f",
   "metadata": {},
   "outputs": [],
   "source": []
  },
  {
   "cell_type": "code",
   "execution_count": null,
   "id": "797c204b",
   "metadata": {},
   "outputs": [],
   "source": []
  },
  {
   "cell_type": "code",
   "execution_count": null,
   "id": "6430ccfc",
   "metadata": {},
   "outputs": [],
   "source": []
  }
 ],
 "metadata": {
  "kernelspec": {
   "display_name": "Python 3 (ipykernel)",
   "language": "python",
   "name": "python3"
  },
  "language_info": {
   "codemirror_mode": {
    "name": "ipython",
    "version": 3
   },
   "file_extension": ".py",
   "mimetype": "text/x-python",
   "name": "python",
   "nbconvert_exporter": "python",
   "pygments_lexer": "ipython3",
   "version": "3.9.18"
  }
 },
 "nbformat": 4,
 "nbformat_minor": 5
}
